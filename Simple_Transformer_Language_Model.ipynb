{
  "nbformat": 4,
  "nbformat_minor": 0,
  "metadata": {
    "colab": {
      "provenance": [],
      "include_colab_link": true
    },
    "kernelspec": {
      "name": "python3",
      "display_name": "Python 3"
    },
    "widgets": {
      "application/vnd.jupyter.widget-state+json": {
        "1fc40cef1ea44859a0652d29917df15e": {
          "model_module": "@jupyter-widgets/controls",
          "model_name": "HBoxModel",
          "model_module_version": "1.5.0",
          "state": {
            "_dom_classes": [],
            "_model_module": "@jupyter-widgets/controls",
            "_model_module_version": "1.5.0",
            "_model_name": "HBoxModel",
            "_view_count": null,
            "_view_module": "@jupyter-widgets/controls",
            "_view_module_version": "1.5.0",
            "_view_name": "HBoxView",
            "box_style": "",
            "children": [
              "IPY_MODEL_43016786c3224549bb4c2f4c3e3670dd",
              "IPY_MODEL_7708bd5eb8104cf198927a83e75e44ae",
              "IPY_MODEL_2ae8f23640b8416bb99b22df39da1724"
            ],
            "layout": "IPY_MODEL_ff9fa3ab04f04c7ba9f557fda5809fc4"
          }
        },
        "43016786c3224549bb4c2f4c3e3670dd": {
          "model_module": "@jupyter-widgets/controls",
          "model_name": "HTMLModel",
          "model_module_version": "1.5.0",
          "state": {
            "_dom_classes": [],
            "_model_module": "@jupyter-widgets/controls",
            "_model_module_version": "1.5.0",
            "_model_name": "HTMLModel",
            "_view_count": null,
            "_view_module": "@jupyter-widgets/controls",
            "_view_module_version": "1.5.0",
            "_view_name": "HTMLView",
            "description": "",
            "description_tooltip": null,
            "layout": "IPY_MODEL_31ae55e74ccf4768925a8ab8b1585812",
            "placeholder": "​",
            "style": "IPY_MODEL_5c3dadc90bae41ef88d7e280663423e3",
            "value": "Downloading (…)olve/main/vocab.json: 100%"
          }
        },
        "7708bd5eb8104cf198927a83e75e44ae": {
          "model_module": "@jupyter-widgets/controls",
          "model_name": "FloatProgressModel",
          "model_module_version": "1.5.0",
          "state": {
            "_dom_classes": [],
            "_model_module": "@jupyter-widgets/controls",
            "_model_module_version": "1.5.0",
            "_model_name": "FloatProgressModel",
            "_view_count": null,
            "_view_module": "@jupyter-widgets/controls",
            "_view_module_version": "1.5.0",
            "_view_name": "ProgressView",
            "bar_style": "success",
            "description": "",
            "description_tooltip": null,
            "layout": "IPY_MODEL_cdc5a1bfa53f459e847abd41542a14f2",
            "max": 1042301,
            "min": 0,
            "orientation": "horizontal",
            "style": "IPY_MODEL_e3c6778aaacb45b4badc4b6787c0230b",
            "value": 1042301
          }
        },
        "2ae8f23640b8416bb99b22df39da1724": {
          "model_module": "@jupyter-widgets/controls",
          "model_name": "HTMLModel",
          "model_module_version": "1.5.0",
          "state": {
            "_dom_classes": [],
            "_model_module": "@jupyter-widgets/controls",
            "_model_module_version": "1.5.0",
            "_model_name": "HTMLModel",
            "_view_count": null,
            "_view_module": "@jupyter-widgets/controls",
            "_view_module_version": "1.5.0",
            "_view_name": "HTMLView",
            "description": "",
            "description_tooltip": null,
            "layout": "IPY_MODEL_37e938e507314c4d85c333f22081ae2a",
            "placeholder": "​",
            "style": "IPY_MODEL_268fdb64f1084be791919e0f9402d9ce",
            "value": " 1.04M/1.04M [00:00&lt;00:00, 2.80MB/s]"
          }
        },
        "ff9fa3ab04f04c7ba9f557fda5809fc4": {
          "model_module": "@jupyter-widgets/base",
          "model_name": "LayoutModel",
          "model_module_version": "1.2.0",
          "state": {
            "_model_module": "@jupyter-widgets/base",
            "_model_module_version": "1.2.0",
            "_model_name": "LayoutModel",
            "_view_count": null,
            "_view_module": "@jupyter-widgets/base",
            "_view_module_version": "1.2.0",
            "_view_name": "LayoutView",
            "align_content": null,
            "align_items": null,
            "align_self": null,
            "border": null,
            "bottom": null,
            "display": null,
            "flex": null,
            "flex_flow": null,
            "grid_area": null,
            "grid_auto_columns": null,
            "grid_auto_flow": null,
            "grid_auto_rows": null,
            "grid_column": null,
            "grid_gap": null,
            "grid_row": null,
            "grid_template_areas": null,
            "grid_template_columns": null,
            "grid_template_rows": null,
            "height": null,
            "justify_content": null,
            "justify_items": null,
            "left": null,
            "margin": null,
            "max_height": null,
            "max_width": null,
            "min_height": null,
            "min_width": null,
            "object_fit": null,
            "object_position": null,
            "order": null,
            "overflow": null,
            "overflow_x": null,
            "overflow_y": null,
            "padding": null,
            "right": null,
            "top": null,
            "visibility": null,
            "width": null
          }
        },
        "31ae55e74ccf4768925a8ab8b1585812": {
          "model_module": "@jupyter-widgets/base",
          "model_name": "LayoutModel",
          "model_module_version": "1.2.0",
          "state": {
            "_model_module": "@jupyter-widgets/base",
            "_model_module_version": "1.2.0",
            "_model_name": "LayoutModel",
            "_view_count": null,
            "_view_module": "@jupyter-widgets/base",
            "_view_module_version": "1.2.0",
            "_view_name": "LayoutView",
            "align_content": null,
            "align_items": null,
            "align_self": null,
            "border": null,
            "bottom": null,
            "display": null,
            "flex": null,
            "flex_flow": null,
            "grid_area": null,
            "grid_auto_columns": null,
            "grid_auto_flow": null,
            "grid_auto_rows": null,
            "grid_column": null,
            "grid_gap": null,
            "grid_row": null,
            "grid_template_areas": null,
            "grid_template_columns": null,
            "grid_template_rows": null,
            "height": null,
            "justify_content": null,
            "justify_items": null,
            "left": null,
            "margin": null,
            "max_height": null,
            "max_width": null,
            "min_height": null,
            "min_width": null,
            "object_fit": null,
            "object_position": null,
            "order": null,
            "overflow": null,
            "overflow_x": null,
            "overflow_y": null,
            "padding": null,
            "right": null,
            "top": null,
            "visibility": null,
            "width": null
          }
        },
        "5c3dadc90bae41ef88d7e280663423e3": {
          "model_module": "@jupyter-widgets/controls",
          "model_name": "DescriptionStyleModel",
          "model_module_version": "1.5.0",
          "state": {
            "_model_module": "@jupyter-widgets/controls",
            "_model_module_version": "1.5.0",
            "_model_name": "DescriptionStyleModel",
            "_view_count": null,
            "_view_module": "@jupyter-widgets/base",
            "_view_module_version": "1.2.0",
            "_view_name": "StyleView",
            "description_width": ""
          }
        },
        "cdc5a1bfa53f459e847abd41542a14f2": {
          "model_module": "@jupyter-widgets/base",
          "model_name": "LayoutModel",
          "model_module_version": "1.2.0",
          "state": {
            "_model_module": "@jupyter-widgets/base",
            "_model_module_version": "1.2.0",
            "_model_name": "LayoutModel",
            "_view_count": null,
            "_view_module": "@jupyter-widgets/base",
            "_view_module_version": "1.2.0",
            "_view_name": "LayoutView",
            "align_content": null,
            "align_items": null,
            "align_self": null,
            "border": null,
            "bottom": null,
            "display": null,
            "flex": null,
            "flex_flow": null,
            "grid_area": null,
            "grid_auto_columns": null,
            "grid_auto_flow": null,
            "grid_auto_rows": null,
            "grid_column": null,
            "grid_gap": null,
            "grid_row": null,
            "grid_template_areas": null,
            "grid_template_columns": null,
            "grid_template_rows": null,
            "height": null,
            "justify_content": null,
            "justify_items": null,
            "left": null,
            "margin": null,
            "max_height": null,
            "max_width": null,
            "min_height": null,
            "min_width": null,
            "object_fit": null,
            "object_position": null,
            "order": null,
            "overflow": null,
            "overflow_x": null,
            "overflow_y": null,
            "padding": null,
            "right": null,
            "top": null,
            "visibility": null,
            "width": null
          }
        },
        "e3c6778aaacb45b4badc4b6787c0230b": {
          "model_module": "@jupyter-widgets/controls",
          "model_name": "ProgressStyleModel",
          "model_module_version": "1.5.0",
          "state": {
            "_model_module": "@jupyter-widgets/controls",
            "_model_module_version": "1.5.0",
            "_model_name": "ProgressStyleModel",
            "_view_count": null,
            "_view_module": "@jupyter-widgets/base",
            "_view_module_version": "1.2.0",
            "_view_name": "StyleView",
            "bar_color": null,
            "description_width": ""
          }
        },
        "37e938e507314c4d85c333f22081ae2a": {
          "model_module": "@jupyter-widgets/base",
          "model_name": "LayoutModel",
          "model_module_version": "1.2.0",
          "state": {
            "_model_module": "@jupyter-widgets/base",
            "_model_module_version": "1.2.0",
            "_model_name": "LayoutModel",
            "_view_count": null,
            "_view_module": "@jupyter-widgets/base",
            "_view_module_version": "1.2.0",
            "_view_name": "LayoutView",
            "align_content": null,
            "align_items": null,
            "align_self": null,
            "border": null,
            "bottom": null,
            "display": null,
            "flex": null,
            "flex_flow": null,
            "grid_area": null,
            "grid_auto_columns": null,
            "grid_auto_flow": null,
            "grid_auto_rows": null,
            "grid_column": null,
            "grid_gap": null,
            "grid_row": null,
            "grid_template_areas": null,
            "grid_template_columns": null,
            "grid_template_rows": null,
            "height": null,
            "justify_content": null,
            "justify_items": null,
            "left": null,
            "margin": null,
            "max_height": null,
            "max_width": null,
            "min_height": null,
            "min_width": null,
            "object_fit": null,
            "object_position": null,
            "order": null,
            "overflow": null,
            "overflow_x": null,
            "overflow_y": null,
            "padding": null,
            "right": null,
            "top": null,
            "visibility": null,
            "width": null
          }
        },
        "268fdb64f1084be791919e0f9402d9ce": {
          "model_module": "@jupyter-widgets/controls",
          "model_name": "DescriptionStyleModel",
          "model_module_version": "1.5.0",
          "state": {
            "_model_module": "@jupyter-widgets/controls",
            "_model_module_version": "1.5.0",
            "_model_name": "DescriptionStyleModel",
            "_view_count": null,
            "_view_module": "@jupyter-widgets/base",
            "_view_module_version": "1.2.0",
            "_view_name": "StyleView",
            "description_width": ""
          }
        },
        "63c8cf46887f43d6998594887a0f5b61": {
          "model_module": "@jupyter-widgets/controls",
          "model_name": "HBoxModel",
          "model_module_version": "1.5.0",
          "state": {
            "_dom_classes": [],
            "_model_module": "@jupyter-widgets/controls",
            "_model_module_version": "1.5.0",
            "_model_name": "HBoxModel",
            "_view_count": null,
            "_view_module": "@jupyter-widgets/controls",
            "_view_module_version": "1.5.0",
            "_view_name": "HBoxView",
            "box_style": "",
            "children": [
              "IPY_MODEL_1d60891b9b52496daa711dd7bca177f0",
              "IPY_MODEL_03d553e360fc41bb9b361a0ae4aa2a51",
              "IPY_MODEL_3ac3c12c107a4fb88d9ba6c7408ed354"
            ],
            "layout": "IPY_MODEL_e0409e0e5ec446c89ce82375ec9189ea"
          }
        },
        "1d60891b9b52496daa711dd7bca177f0": {
          "model_module": "@jupyter-widgets/controls",
          "model_name": "HTMLModel",
          "model_module_version": "1.5.0",
          "state": {
            "_dom_classes": [],
            "_model_module": "@jupyter-widgets/controls",
            "_model_module_version": "1.5.0",
            "_model_name": "HTMLModel",
            "_view_count": null,
            "_view_module": "@jupyter-widgets/controls",
            "_view_module_version": "1.5.0",
            "_view_name": "HTMLView",
            "description": "",
            "description_tooltip": null,
            "layout": "IPY_MODEL_2882bdc8f54c47cbad6d017ac4192e3e",
            "placeholder": "​",
            "style": "IPY_MODEL_445d4dc5de324be786aac077f1050aff",
            "value": "Downloading (…)olve/main/merges.txt: 100%"
          }
        },
        "03d553e360fc41bb9b361a0ae4aa2a51": {
          "model_module": "@jupyter-widgets/controls",
          "model_name": "FloatProgressModel",
          "model_module_version": "1.5.0",
          "state": {
            "_dom_classes": [],
            "_model_module": "@jupyter-widgets/controls",
            "_model_module_version": "1.5.0",
            "_model_name": "FloatProgressModel",
            "_view_count": null,
            "_view_module": "@jupyter-widgets/controls",
            "_view_module_version": "1.5.0",
            "_view_name": "ProgressView",
            "bar_style": "success",
            "description": "",
            "description_tooltip": null,
            "layout": "IPY_MODEL_66f4bbcdcfc847a5bb60a62769d04a6f",
            "max": 456318,
            "min": 0,
            "orientation": "horizontal",
            "style": "IPY_MODEL_38b6aa1c73354886b548ddb8b2bcb829",
            "value": 456318
          }
        },
        "3ac3c12c107a4fb88d9ba6c7408ed354": {
          "model_module": "@jupyter-widgets/controls",
          "model_name": "HTMLModel",
          "model_module_version": "1.5.0",
          "state": {
            "_dom_classes": [],
            "_model_module": "@jupyter-widgets/controls",
            "_model_module_version": "1.5.0",
            "_model_name": "HTMLModel",
            "_view_count": null,
            "_view_module": "@jupyter-widgets/controls",
            "_view_module_version": "1.5.0",
            "_view_name": "HTMLView",
            "description": "",
            "description_tooltip": null,
            "layout": "IPY_MODEL_eeefd9ea052a4244b68dd150229b2656",
            "placeholder": "​",
            "style": "IPY_MODEL_4760010812aa46d493e19e6c469b9007",
            "value": " 456k/456k [00:00&lt;00:00, 1.14MB/s]"
          }
        },
        "e0409e0e5ec446c89ce82375ec9189ea": {
          "model_module": "@jupyter-widgets/base",
          "model_name": "LayoutModel",
          "model_module_version": "1.2.0",
          "state": {
            "_model_module": "@jupyter-widgets/base",
            "_model_module_version": "1.2.0",
            "_model_name": "LayoutModel",
            "_view_count": null,
            "_view_module": "@jupyter-widgets/base",
            "_view_module_version": "1.2.0",
            "_view_name": "LayoutView",
            "align_content": null,
            "align_items": null,
            "align_self": null,
            "border": null,
            "bottom": null,
            "display": null,
            "flex": null,
            "flex_flow": null,
            "grid_area": null,
            "grid_auto_columns": null,
            "grid_auto_flow": null,
            "grid_auto_rows": null,
            "grid_column": null,
            "grid_gap": null,
            "grid_row": null,
            "grid_template_areas": null,
            "grid_template_columns": null,
            "grid_template_rows": null,
            "height": null,
            "justify_content": null,
            "justify_items": null,
            "left": null,
            "margin": null,
            "max_height": null,
            "max_width": null,
            "min_height": null,
            "min_width": null,
            "object_fit": null,
            "object_position": null,
            "order": null,
            "overflow": null,
            "overflow_x": null,
            "overflow_y": null,
            "padding": null,
            "right": null,
            "top": null,
            "visibility": null,
            "width": null
          }
        },
        "2882bdc8f54c47cbad6d017ac4192e3e": {
          "model_module": "@jupyter-widgets/base",
          "model_name": "LayoutModel",
          "model_module_version": "1.2.0",
          "state": {
            "_model_module": "@jupyter-widgets/base",
            "_model_module_version": "1.2.0",
            "_model_name": "LayoutModel",
            "_view_count": null,
            "_view_module": "@jupyter-widgets/base",
            "_view_module_version": "1.2.0",
            "_view_name": "LayoutView",
            "align_content": null,
            "align_items": null,
            "align_self": null,
            "border": null,
            "bottom": null,
            "display": null,
            "flex": null,
            "flex_flow": null,
            "grid_area": null,
            "grid_auto_columns": null,
            "grid_auto_flow": null,
            "grid_auto_rows": null,
            "grid_column": null,
            "grid_gap": null,
            "grid_row": null,
            "grid_template_areas": null,
            "grid_template_columns": null,
            "grid_template_rows": null,
            "height": null,
            "justify_content": null,
            "justify_items": null,
            "left": null,
            "margin": null,
            "max_height": null,
            "max_width": null,
            "min_height": null,
            "min_width": null,
            "object_fit": null,
            "object_position": null,
            "order": null,
            "overflow": null,
            "overflow_x": null,
            "overflow_y": null,
            "padding": null,
            "right": null,
            "top": null,
            "visibility": null,
            "width": null
          }
        },
        "445d4dc5de324be786aac077f1050aff": {
          "model_module": "@jupyter-widgets/controls",
          "model_name": "DescriptionStyleModel",
          "model_module_version": "1.5.0",
          "state": {
            "_model_module": "@jupyter-widgets/controls",
            "_model_module_version": "1.5.0",
            "_model_name": "DescriptionStyleModel",
            "_view_count": null,
            "_view_module": "@jupyter-widgets/base",
            "_view_module_version": "1.2.0",
            "_view_name": "StyleView",
            "description_width": ""
          }
        },
        "66f4bbcdcfc847a5bb60a62769d04a6f": {
          "model_module": "@jupyter-widgets/base",
          "model_name": "LayoutModel",
          "model_module_version": "1.2.0",
          "state": {
            "_model_module": "@jupyter-widgets/base",
            "_model_module_version": "1.2.0",
            "_model_name": "LayoutModel",
            "_view_count": null,
            "_view_module": "@jupyter-widgets/base",
            "_view_module_version": "1.2.0",
            "_view_name": "LayoutView",
            "align_content": null,
            "align_items": null,
            "align_self": null,
            "border": null,
            "bottom": null,
            "display": null,
            "flex": null,
            "flex_flow": null,
            "grid_area": null,
            "grid_auto_columns": null,
            "grid_auto_flow": null,
            "grid_auto_rows": null,
            "grid_column": null,
            "grid_gap": null,
            "grid_row": null,
            "grid_template_areas": null,
            "grid_template_columns": null,
            "grid_template_rows": null,
            "height": null,
            "justify_content": null,
            "justify_items": null,
            "left": null,
            "margin": null,
            "max_height": null,
            "max_width": null,
            "min_height": null,
            "min_width": null,
            "object_fit": null,
            "object_position": null,
            "order": null,
            "overflow": null,
            "overflow_x": null,
            "overflow_y": null,
            "padding": null,
            "right": null,
            "top": null,
            "visibility": null,
            "width": null
          }
        },
        "38b6aa1c73354886b548ddb8b2bcb829": {
          "model_module": "@jupyter-widgets/controls",
          "model_name": "ProgressStyleModel",
          "model_module_version": "1.5.0",
          "state": {
            "_model_module": "@jupyter-widgets/controls",
            "_model_module_version": "1.5.0",
            "_model_name": "ProgressStyleModel",
            "_view_count": null,
            "_view_module": "@jupyter-widgets/base",
            "_view_module_version": "1.2.0",
            "_view_name": "StyleView",
            "bar_color": null,
            "description_width": ""
          }
        },
        "eeefd9ea052a4244b68dd150229b2656": {
          "model_module": "@jupyter-widgets/base",
          "model_name": "LayoutModel",
          "model_module_version": "1.2.0",
          "state": {
            "_model_module": "@jupyter-widgets/base",
            "_model_module_version": "1.2.0",
            "_model_name": "LayoutModel",
            "_view_count": null,
            "_view_module": "@jupyter-widgets/base",
            "_view_module_version": "1.2.0",
            "_view_name": "LayoutView",
            "align_content": null,
            "align_items": null,
            "align_self": null,
            "border": null,
            "bottom": null,
            "display": null,
            "flex": null,
            "flex_flow": null,
            "grid_area": null,
            "grid_auto_columns": null,
            "grid_auto_flow": null,
            "grid_auto_rows": null,
            "grid_column": null,
            "grid_gap": null,
            "grid_row": null,
            "grid_template_areas": null,
            "grid_template_columns": null,
            "grid_template_rows": null,
            "height": null,
            "justify_content": null,
            "justify_items": null,
            "left": null,
            "margin": null,
            "max_height": null,
            "max_width": null,
            "min_height": null,
            "min_width": null,
            "object_fit": null,
            "object_position": null,
            "order": null,
            "overflow": null,
            "overflow_x": null,
            "overflow_y": null,
            "padding": null,
            "right": null,
            "top": null,
            "visibility": null,
            "width": null
          }
        },
        "4760010812aa46d493e19e6c469b9007": {
          "model_module": "@jupyter-widgets/controls",
          "model_name": "DescriptionStyleModel",
          "model_module_version": "1.5.0",
          "state": {
            "_model_module": "@jupyter-widgets/controls",
            "_model_module_version": "1.5.0",
            "_model_name": "DescriptionStyleModel",
            "_view_count": null,
            "_view_module": "@jupyter-widgets/base",
            "_view_module_version": "1.2.0",
            "_view_name": "StyleView",
            "description_width": ""
          }
        },
        "d72e07d13e294da7859ab68464ee91ab": {
          "model_module": "@jupyter-widgets/controls",
          "model_name": "HBoxModel",
          "model_module_version": "1.5.0",
          "state": {
            "_dom_classes": [],
            "_model_module": "@jupyter-widgets/controls",
            "_model_module_version": "1.5.0",
            "_model_name": "HBoxModel",
            "_view_count": null,
            "_view_module": "@jupyter-widgets/controls",
            "_view_module_version": "1.5.0",
            "_view_name": "HBoxView",
            "box_style": "",
            "children": [
              "IPY_MODEL_82b74981155a441ab42f6dbaf07c6197",
              "IPY_MODEL_3bfb72d1c33147a898ae4fe26d52aff1",
              "IPY_MODEL_d09c3ab3c9314772960010573c26db9d"
            ],
            "layout": "IPY_MODEL_7183d7dc32ee459c87833e1169425064"
          }
        },
        "82b74981155a441ab42f6dbaf07c6197": {
          "model_module": "@jupyter-widgets/controls",
          "model_name": "HTMLModel",
          "model_module_version": "1.5.0",
          "state": {
            "_dom_classes": [],
            "_model_module": "@jupyter-widgets/controls",
            "_model_module_version": "1.5.0",
            "_model_name": "HTMLModel",
            "_view_count": null,
            "_view_module": "@jupyter-widgets/controls",
            "_view_module_version": "1.5.0",
            "_view_name": "HTMLView",
            "description": "",
            "description_tooltip": null,
            "layout": "IPY_MODEL_2de776a2899a4264bd58afb446d7bc58",
            "placeholder": "​",
            "style": "IPY_MODEL_b20666eb01c44c6bb886a34f4f85ef64",
            "value": "Downloading (…)lve/main/config.json: 100%"
          }
        },
        "3bfb72d1c33147a898ae4fe26d52aff1": {
          "model_module": "@jupyter-widgets/controls",
          "model_name": "FloatProgressModel",
          "model_module_version": "1.5.0",
          "state": {
            "_dom_classes": [],
            "_model_module": "@jupyter-widgets/controls",
            "_model_module_version": "1.5.0",
            "_model_name": "FloatProgressModel",
            "_view_count": null,
            "_view_module": "@jupyter-widgets/controls",
            "_view_module_version": "1.5.0",
            "_view_name": "ProgressView",
            "bar_style": "success",
            "description": "",
            "description_tooltip": null,
            "layout": "IPY_MODEL_c7ced05dea1c418c802d7a2d3af197db",
            "max": 665,
            "min": 0,
            "orientation": "horizontal",
            "style": "IPY_MODEL_00271a2081ec47d89243a127ce7aee27",
            "value": 665
          }
        },
        "d09c3ab3c9314772960010573c26db9d": {
          "model_module": "@jupyter-widgets/controls",
          "model_name": "HTMLModel",
          "model_module_version": "1.5.0",
          "state": {
            "_dom_classes": [],
            "_model_module": "@jupyter-widgets/controls",
            "_model_module_version": "1.5.0",
            "_model_name": "HTMLModel",
            "_view_count": null,
            "_view_module": "@jupyter-widgets/controls",
            "_view_module_version": "1.5.0",
            "_view_name": "HTMLView",
            "description": "",
            "description_tooltip": null,
            "layout": "IPY_MODEL_25144ff8a9a84f489c9c829f9c42a93c",
            "placeholder": "​",
            "style": "IPY_MODEL_e59b0d4749fe4a51bec44e45f4fa2599",
            "value": " 665/665 [00:00&lt;00:00, 14.7kB/s]"
          }
        },
        "7183d7dc32ee459c87833e1169425064": {
          "model_module": "@jupyter-widgets/base",
          "model_name": "LayoutModel",
          "model_module_version": "1.2.0",
          "state": {
            "_model_module": "@jupyter-widgets/base",
            "_model_module_version": "1.2.0",
            "_model_name": "LayoutModel",
            "_view_count": null,
            "_view_module": "@jupyter-widgets/base",
            "_view_module_version": "1.2.0",
            "_view_name": "LayoutView",
            "align_content": null,
            "align_items": null,
            "align_self": null,
            "border": null,
            "bottom": null,
            "display": null,
            "flex": null,
            "flex_flow": null,
            "grid_area": null,
            "grid_auto_columns": null,
            "grid_auto_flow": null,
            "grid_auto_rows": null,
            "grid_column": null,
            "grid_gap": null,
            "grid_row": null,
            "grid_template_areas": null,
            "grid_template_columns": null,
            "grid_template_rows": null,
            "height": null,
            "justify_content": null,
            "justify_items": null,
            "left": null,
            "margin": null,
            "max_height": null,
            "max_width": null,
            "min_height": null,
            "min_width": null,
            "object_fit": null,
            "object_position": null,
            "order": null,
            "overflow": null,
            "overflow_x": null,
            "overflow_y": null,
            "padding": null,
            "right": null,
            "top": null,
            "visibility": null,
            "width": null
          }
        },
        "2de776a2899a4264bd58afb446d7bc58": {
          "model_module": "@jupyter-widgets/base",
          "model_name": "LayoutModel",
          "model_module_version": "1.2.0",
          "state": {
            "_model_module": "@jupyter-widgets/base",
            "_model_module_version": "1.2.0",
            "_model_name": "LayoutModel",
            "_view_count": null,
            "_view_module": "@jupyter-widgets/base",
            "_view_module_version": "1.2.0",
            "_view_name": "LayoutView",
            "align_content": null,
            "align_items": null,
            "align_self": null,
            "border": null,
            "bottom": null,
            "display": null,
            "flex": null,
            "flex_flow": null,
            "grid_area": null,
            "grid_auto_columns": null,
            "grid_auto_flow": null,
            "grid_auto_rows": null,
            "grid_column": null,
            "grid_gap": null,
            "grid_row": null,
            "grid_template_areas": null,
            "grid_template_columns": null,
            "grid_template_rows": null,
            "height": null,
            "justify_content": null,
            "justify_items": null,
            "left": null,
            "margin": null,
            "max_height": null,
            "max_width": null,
            "min_height": null,
            "min_width": null,
            "object_fit": null,
            "object_position": null,
            "order": null,
            "overflow": null,
            "overflow_x": null,
            "overflow_y": null,
            "padding": null,
            "right": null,
            "top": null,
            "visibility": null,
            "width": null
          }
        },
        "b20666eb01c44c6bb886a34f4f85ef64": {
          "model_module": "@jupyter-widgets/controls",
          "model_name": "DescriptionStyleModel",
          "model_module_version": "1.5.0",
          "state": {
            "_model_module": "@jupyter-widgets/controls",
            "_model_module_version": "1.5.0",
            "_model_name": "DescriptionStyleModel",
            "_view_count": null,
            "_view_module": "@jupyter-widgets/base",
            "_view_module_version": "1.2.0",
            "_view_name": "StyleView",
            "description_width": ""
          }
        },
        "c7ced05dea1c418c802d7a2d3af197db": {
          "model_module": "@jupyter-widgets/base",
          "model_name": "LayoutModel",
          "model_module_version": "1.2.0",
          "state": {
            "_model_module": "@jupyter-widgets/base",
            "_model_module_version": "1.2.0",
            "_model_name": "LayoutModel",
            "_view_count": null,
            "_view_module": "@jupyter-widgets/base",
            "_view_module_version": "1.2.0",
            "_view_name": "LayoutView",
            "align_content": null,
            "align_items": null,
            "align_self": null,
            "border": null,
            "bottom": null,
            "display": null,
            "flex": null,
            "flex_flow": null,
            "grid_area": null,
            "grid_auto_columns": null,
            "grid_auto_flow": null,
            "grid_auto_rows": null,
            "grid_column": null,
            "grid_gap": null,
            "grid_row": null,
            "grid_template_areas": null,
            "grid_template_columns": null,
            "grid_template_rows": null,
            "height": null,
            "justify_content": null,
            "justify_items": null,
            "left": null,
            "margin": null,
            "max_height": null,
            "max_width": null,
            "min_height": null,
            "min_width": null,
            "object_fit": null,
            "object_position": null,
            "order": null,
            "overflow": null,
            "overflow_x": null,
            "overflow_y": null,
            "padding": null,
            "right": null,
            "top": null,
            "visibility": null,
            "width": null
          }
        },
        "00271a2081ec47d89243a127ce7aee27": {
          "model_module": "@jupyter-widgets/controls",
          "model_name": "ProgressStyleModel",
          "model_module_version": "1.5.0",
          "state": {
            "_model_module": "@jupyter-widgets/controls",
            "_model_module_version": "1.5.0",
            "_model_name": "ProgressStyleModel",
            "_view_count": null,
            "_view_module": "@jupyter-widgets/base",
            "_view_module_version": "1.2.0",
            "_view_name": "StyleView",
            "bar_color": null,
            "description_width": ""
          }
        },
        "25144ff8a9a84f489c9c829f9c42a93c": {
          "model_module": "@jupyter-widgets/base",
          "model_name": "LayoutModel",
          "model_module_version": "1.2.0",
          "state": {
            "_model_module": "@jupyter-widgets/base",
            "_model_module_version": "1.2.0",
            "_model_name": "LayoutModel",
            "_view_count": null,
            "_view_module": "@jupyter-widgets/base",
            "_view_module_version": "1.2.0",
            "_view_name": "LayoutView",
            "align_content": null,
            "align_items": null,
            "align_self": null,
            "border": null,
            "bottom": null,
            "display": null,
            "flex": null,
            "flex_flow": null,
            "grid_area": null,
            "grid_auto_columns": null,
            "grid_auto_flow": null,
            "grid_auto_rows": null,
            "grid_column": null,
            "grid_gap": null,
            "grid_row": null,
            "grid_template_areas": null,
            "grid_template_columns": null,
            "grid_template_rows": null,
            "height": null,
            "justify_content": null,
            "justify_items": null,
            "left": null,
            "margin": null,
            "max_height": null,
            "max_width": null,
            "min_height": null,
            "min_width": null,
            "object_fit": null,
            "object_position": null,
            "order": null,
            "overflow": null,
            "overflow_x": null,
            "overflow_y": null,
            "padding": null,
            "right": null,
            "top": null,
            "visibility": null,
            "width": null
          }
        },
        "e59b0d4749fe4a51bec44e45f4fa2599": {
          "model_module": "@jupyter-widgets/controls",
          "model_name": "DescriptionStyleModel",
          "model_module_version": "1.5.0",
          "state": {
            "_model_module": "@jupyter-widgets/controls",
            "_model_module_version": "1.5.0",
            "_model_name": "DescriptionStyleModel",
            "_view_count": null,
            "_view_module": "@jupyter-widgets/base",
            "_view_module_version": "1.2.0",
            "_view_name": "StyleView",
            "description_width": ""
          }
        },
        "c90bfc2a90bf4a4cae4a5f0c54de758c": {
          "model_module": "@jupyter-widgets/controls",
          "model_name": "HBoxModel",
          "model_module_version": "1.5.0",
          "state": {
            "_dom_classes": [],
            "_model_module": "@jupyter-widgets/controls",
            "_model_module_version": "1.5.0",
            "_model_name": "HBoxModel",
            "_view_count": null,
            "_view_module": "@jupyter-widgets/controls",
            "_view_module_version": "1.5.0",
            "_view_name": "HBoxView",
            "box_style": "",
            "children": [
              "IPY_MODEL_6a03b1b7b36c4ad6bb57f10177b4a70c",
              "IPY_MODEL_195dd08e3aa342b4a7a8f43d3fe5de51",
              "IPY_MODEL_a02c988195014cfd844786863a158dcc"
            ],
            "layout": "IPY_MODEL_faddcfbddda84abaa65904a71c214f91"
          }
        },
        "6a03b1b7b36c4ad6bb57f10177b4a70c": {
          "model_module": "@jupyter-widgets/controls",
          "model_name": "HTMLModel",
          "model_module_version": "1.5.0",
          "state": {
            "_dom_classes": [],
            "_model_module": "@jupyter-widgets/controls",
            "_model_module_version": "1.5.0",
            "_model_name": "HTMLModel",
            "_view_count": null,
            "_view_module": "@jupyter-widgets/controls",
            "_view_module_version": "1.5.0",
            "_view_name": "HTMLView",
            "description": "",
            "description_tooltip": null,
            "layout": "IPY_MODEL_112093d084ef42da85c101d6aa6b137e",
            "placeholder": "​",
            "style": "IPY_MODEL_16ba53ad507b40ea91c2b1281e130a3d",
            "value": "Downloading (…)&quot;pytorch_model.bin&quot;;: 100%"
          }
        },
        "195dd08e3aa342b4a7a8f43d3fe5de51": {
          "model_module": "@jupyter-widgets/controls",
          "model_name": "FloatProgressModel",
          "model_module_version": "1.5.0",
          "state": {
            "_dom_classes": [],
            "_model_module": "@jupyter-widgets/controls",
            "_model_module_version": "1.5.0",
            "_model_name": "FloatProgressModel",
            "_view_count": null,
            "_view_module": "@jupyter-widgets/controls",
            "_view_module_version": "1.5.0",
            "_view_name": "ProgressView",
            "bar_style": "success",
            "description": "",
            "description_tooltip": null,
            "layout": "IPY_MODEL_0cde11b2399840dfad108c2f15a21fa7",
            "max": 548118077,
            "min": 0,
            "orientation": "horizontal",
            "style": "IPY_MODEL_c06d1605c65540bbb50f188647c2cbbf",
            "value": 548118077
          }
        },
        "a02c988195014cfd844786863a158dcc": {
          "model_module": "@jupyter-widgets/controls",
          "model_name": "HTMLModel",
          "model_module_version": "1.5.0",
          "state": {
            "_dom_classes": [],
            "_model_module": "@jupyter-widgets/controls",
            "_model_module_version": "1.5.0",
            "_model_name": "HTMLModel",
            "_view_count": null,
            "_view_module": "@jupyter-widgets/controls",
            "_view_module_version": "1.5.0",
            "_view_name": "HTMLView",
            "description": "",
            "description_tooltip": null,
            "layout": "IPY_MODEL_33b155f77ddb45a8bf5e5bccf0b0dce0",
            "placeholder": "​",
            "style": "IPY_MODEL_b019cb5e5e1f48879ede4dd0d069d2dc",
            "value": " 548M/548M [00:05&lt;00:00, 126MB/s]"
          }
        },
        "faddcfbddda84abaa65904a71c214f91": {
          "model_module": "@jupyter-widgets/base",
          "model_name": "LayoutModel",
          "model_module_version": "1.2.0",
          "state": {
            "_model_module": "@jupyter-widgets/base",
            "_model_module_version": "1.2.0",
            "_model_name": "LayoutModel",
            "_view_count": null,
            "_view_module": "@jupyter-widgets/base",
            "_view_module_version": "1.2.0",
            "_view_name": "LayoutView",
            "align_content": null,
            "align_items": null,
            "align_self": null,
            "border": null,
            "bottom": null,
            "display": null,
            "flex": null,
            "flex_flow": null,
            "grid_area": null,
            "grid_auto_columns": null,
            "grid_auto_flow": null,
            "grid_auto_rows": null,
            "grid_column": null,
            "grid_gap": null,
            "grid_row": null,
            "grid_template_areas": null,
            "grid_template_columns": null,
            "grid_template_rows": null,
            "height": null,
            "justify_content": null,
            "justify_items": null,
            "left": null,
            "margin": null,
            "max_height": null,
            "max_width": null,
            "min_height": null,
            "min_width": null,
            "object_fit": null,
            "object_position": null,
            "order": null,
            "overflow": null,
            "overflow_x": null,
            "overflow_y": null,
            "padding": null,
            "right": null,
            "top": null,
            "visibility": null,
            "width": null
          }
        },
        "112093d084ef42da85c101d6aa6b137e": {
          "model_module": "@jupyter-widgets/base",
          "model_name": "LayoutModel",
          "model_module_version": "1.2.0",
          "state": {
            "_model_module": "@jupyter-widgets/base",
            "_model_module_version": "1.2.0",
            "_model_name": "LayoutModel",
            "_view_count": null,
            "_view_module": "@jupyter-widgets/base",
            "_view_module_version": "1.2.0",
            "_view_name": "LayoutView",
            "align_content": null,
            "align_items": null,
            "align_self": null,
            "border": null,
            "bottom": null,
            "display": null,
            "flex": null,
            "flex_flow": null,
            "grid_area": null,
            "grid_auto_columns": null,
            "grid_auto_flow": null,
            "grid_auto_rows": null,
            "grid_column": null,
            "grid_gap": null,
            "grid_row": null,
            "grid_template_areas": null,
            "grid_template_columns": null,
            "grid_template_rows": null,
            "height": null,
            "justify_content": null,
            "justify_items": null,
            "left": null,
            "margin": null,
            "max_height": null,
            "max_width": null,
            "min_height": null,
            "min_width": null,
            "object_fit": null,
            "object_position": null,
            "order": null,
            "overflow": null,
            "overflow_x": null,
            "overflow_y": null,
            "padding": null,
            "right": null,
            "top": null,
            "visibility": null,
            "width": null
          }
        },
        "16ba53ad507b40ea91c2b1281e130a3d": {
          "model_module": "@jupyter-widgets/controls",
          "model_name": "DescriptionStyleModel",
          "model_module_version": "1.5.0",
          "state": {
            "_model_module": "@jupyter-widgets/controls",
            "_model_module_version": "1.5.0",
            "_model_name": "DescriptionStyleModel",
            "_view_count": null,
            "_view_module": "@jupyter-widgets/base",
            "_view_module_version": "1.2.0",
            "_view_name": "StyleView",
            "description_width": ""
          }
        },
        "0cde11b2399840dfad108c2f15a21fa7": {
          "model_module": "@jupyter-widgets/base",
          "model_name": "LayoutModel",
          "model_module_version": "1.2.0",
          "state": {
            "_model_module": "@jupyter-widgets/base",
            "_model_module_version": "1.2.0",
            "_model_name": "LayoutModel",
            "_view_count": null,
            "_view_module": "@jupyter-widgets/base",
            "_view_module_version": "1.2.0",
            "_view_name": "LayoutView",
            "align_content": null,
            "align_items": null,
            "align_self": null,
            "border": null,
            "bottom": null,
            "display": null,
            "flex": null,
            "flex_flow": null,
            "grid_area": null,
            "grid_auto_columns": null,
            "grid_auto_flow": null,
            "grid_auto_rows": null,
            "grid_column": null,
            "grid_gap": null,
            "grid_row": null,
            "grid_template_areas": null,
            "grid_template_columns": null,
            "grid_template_rows": null,
            "height": null,
            "justify_content": null,
            "justify_items": null,
            "left": null,
            "margin": null,
            "max_height": null,
            "max_width": null,
            "min_height": null,
            "min_width": null,
            "object_fit": null,
            "object_position": null,
            "order": null,
            "overflow": null,
            "overflow_x": null,
            "overflow_y": null,
            "padding": null,
            "right": null,
            "top": null,
            "visibility": null,
            "width": null
          }
        },
        "c06d1605c65540bbb50f188647c2cbbf": {
          "model_module": "@jupyter-widgets/controls",
          "model_name": "ProgressStyleModel",
          "model_module_version": "1.5.0",
          "state": {
            "_model_module": "@jupyter-widgets/controls",
            "_model_module_version": "1.5.0",
            "_model_name": "ProgressStyleModel",
            "_view_count": null,
            "_view_module": "@jupyter-widgets/base",
            "_view_module_version": "1.2.0",
            "_view_name": "StyleView",
            "bar_color": null,
            "description_width": ""
          }
        },
        "33b155f77ddb45a8bf5e5bccf0b0dce0": {
          "model_module": "@jupyter-widgets/base",
          "model_name": "LayoutModel",
          "model_module_version": "1.2.0",
          "state": {
            "_model_module": "@jupyter-widgets/base",
            "_model_module_version": "1.2.0",
            "_model_name": "LayoutModel",
            "_view_count": null,
            "_view_module": "@jupyter-widgets/base",
            "_view_module_version": "1.2.0",
            "_view_name": "LayoutView",
            "align_content": null,
            "align_items": null,
            "align_self": null,
            "border": null,
            "bottom": null,
            "display": null,
            "flex": null,
            "flex_flow": null,
            "grid_area": null,
            "grid_auto_columns": null,
            "grid_auto_flow": null,
            "grid_auto_rows": null,
            "grid_column": null,
            "grid_gap": null,
            "grid_row": null,
            "grid_template_areas": null,
            "grid_template_columns": null,
            "grid_template_rows": null,
            "height": null,
            "justify_content": null,
            "justify_items": null,
            "left": null,
            "margin": null,
            "max_height": null,
            "max_width": null,
            "min_height": null,
            "min_width": null,
            "object_fit": null,
            "object_position": null,
            "order": null,
            "overflow": null,
            "overflow_x": null,
            "overflow_y": null,
            "padding": null,
            "right": null,
            "top": null,
            "visibility": null,
            "width": null
          }
        },
        "b019cb5e5e1f48879ede4dd0d069d2dc": {
          "model_module": "@jupyter-widgets/controls",
          "model_name": "DescriptionStyleModel",
          "model_module_version": "1.5.0",
          "state": {
            "_model_module": "@jupyter-widgets/controls",
            "_model_module_version": "1.5.0",
            "_model_name": "DescriptionStyleModel",
            "_view_count": null,
            "_view_module": "@jupyter-widgets/base",
            "_view_module_version": "1.2.0",
            "_view_name": "StyleView",
            "description_width": ""
          }
        },
        "c6119fb8381b45a9a6ff6e2997d5db16": {
          "model_module": "@jupyter-widgets/controls",
          "model_name": "HBoxModel",
          "model_module_version": "1.5.0",
          "state": {
            "_dom_classes": [],
            "_model_module": "@jupyter-widgets/controls",
            "_model_module_version": "1.5.0",
            "_model_name": "HBoxModel",
            "_view_count": null,
            "_view_module": "@jupyter-widgets/controls",
            "_view_module_version": "1.5.0",
            "_view_name": "HBoxView",
            "box_style": "",
            "children": [
              "IPY_MODEL_f2b4e124af344e7781442139ede0e88d",
              "IPY_MODEL_d6dc3aa7631e4b41884c892c1de66185",
              "IPY_MODEL_45c7417ae7924d29b5b43735f0fc7cb4"
            ],
            "layout": "IPY_MODEL_8d0b367e68df49d6b23dc51a78ad288b"
          }
        },
        "f2b4e124af344e7781442139ede0e88d": {
          "model_module": "@jupyter-widgets/controls",
          "model_name": "HTMLModel",
          "model_module_version": "1.5.0",
          "state": {
            "_dom_classes": [],
            "_model_module": "@jupyter-widgets/controls",
            "_model_module_version": "1.5.0",
            "_model_name": "HTMLModel",
            "_view_count": null,
            "_view_module": "@jupyter-widgets/controls",
            "_view_module_version": "1.5.0",
            "_view_name": "HTMLView",
            "description": "",
            "description_tooltip": null,
            "layout": "IPY_MODEL_f8db7701da5740e38c905bc22432c17f",
            "placeholder": "​",
            "style": "IPY_MODEL_b2e6e001325145f5b8118cc66a15bdb5",
            "value": "Downloading (…)neration_config.json: 100%"
          }
        },
        "d6dc3aa7631e4b41884c892c1de66185": {
          "model_module": "@jupyter-widgets/controls",
          "model_name": "FloatProgressModel",
          "model_module_version": "1.5.0",
          "state": {
            "_dom_classes": [],
            "_model_module": "@jupyter-widgets/controls",
            "_model_module_version": "1.5.0",
            "_model_name": "FloatProgressModel",
            "_view_count": null,
            "_view_module": "@jupyter-widgets/controls",
            "_view_module_version": "1.5.0",
            "_view_name": "ProgressView",
            "bar_style": "success",
            "description": "",
            "description_tooltip": null,
            "layout": "IPY_MODEL_5fed590bee714889a394e2a790268a21",
            "max": 124,
            "min": 0,
            "orientation": "horizontal",
            "style": "IPY_MODEL_ea317e14930745069b9be1de52a9c9b2",
            "value": 124
          }
        },
        "45c7417ae7924d29b5b43735f0fc7cb4": {
          "model_module": "@jupyter-widgets/controls",
          "model_name": "HTMLModel",
          "model_module_version": "1.5.0",
          "state": {
            "_dom_classes": [],
            "_model_module": "@jupyter-widgets/controls",
            "_model_module_version": "1.5.0",
            "_model_name": "HTMLModel",
            "_view_count": null,
            "_view_module": "@jupyter-widgets/controls",
            "_view_module_version": "1.5.0",
            "_view_name": "HTMLView",
            "description": "",
            "description_tooltip": null,
            "layout": "IPY_MODEL_a5a9ce268a2643b1bd7e47c555ee35a6",
            "placeholder": "​",
            "style": "IPY_MODEL_8399855fd7514607b7698a5a908b9abd",
            "value": " 124/124 [00:00&lt;00:00, 2.25kB/s]"
          }
        },
        "8d0b367e68df49d6b23dc51a78ad288b": {
          "model_module": "@jupyter-widgets/base",
          "model_name": "LayoutModel",
          "model_module_version": "1.2.0",
          "state": {
            "_model_module": "@jupyter-widgets/base",
            "_model_module_version": "1.2.0",
            "_model_name": "LayoutModel",
            "_view_count": null,
            "_view_module": "@jupyter-widgets/base",
            "_view_module_version": "1.2.0",
            "_view_name": "LayoutView",
            "align_content": null,
            "align_items": null,
            "align_self": null,
            "border": null,
            "bottom": null,
            "display": null,
            "flex": null,
            "flex_flow": null,
            "grid_area": null,
            "grid_auto_columns": null,
            "grid_auto_flow": null,
            "grid_auto_rows": null,
            "grid_column": null,
            "grid_gap": null,
            "grid_row": null,
            "grid_template_areas": null,
            "grid_template_columns": null,
            "grid_template_rows": null,
            "height": null,
            "justify_content": null,
            "justify_items": null,
            "left": null,
            "margin": null,
            "max_height": null,
            "max_width": null,
            "min_height": null,
            "min_width": null,
            "object_fit": null,
            "object_position": null,
            "order": null,
            "overflow": null,
            "overflow_x": null,
            "overflow_y": null,
            "padding": null,
            "right": null,
            "top": null,
            "visibility": null,
            "width": null
          }
        },
        "f8db7701da5740e38c905bc22432c17f": {
          "model_module": "@jupyter-widgets/base",
          "model_name": "LayoutModel",
          "model_module_version": "1.2.0",
          "state": {
            "_model_module": "@jupyter-widgets/base",
            "_model_module_version": "1.2.0",
            "_model_name": "LayoutModel",
            "_view_count": null,
            "_view_module": "@jupyter-widgets/base",
            "_view_module_version": "1.2.0",
            "_view_name": "LayoutView",
            "align_content": null,
            "align_items": null,
            "align_self": null,
            "border": null,
            "bottom": null,
            "display": null,
            "flex": null,
            "flex_flow": null,
            "grid_area": null,
            "grid_auto_columns": null,
            "grid_auto_flow": null,
            "grid_auto_rows": null,
            "grid_column": null,
            "grid_gap": null,
            "grid_row": null,
            "grid_template_areas": null,
            "grid_template_columns": null,
            "grid_template_rows": null,
            "height": null,
            "justify_content": null,
            "justify_items": null,
            "left": null,
            "margin": null,
            "max_height": null,
            "max_width": null,
            "min_height": null,
            "min_width": null,
            "object_fit": null,
            "object_position": null,
            "order": null,
            "overflow": null,
            "overflow_x": null,
            "overflow_y": null,
            "padding": null,
            "right": null,
            "top": null,
            "visibility": null,
            "width": null
          }
        },
        "b2e6e001325145f5b8118cc66a15bdb5": {
          "model_module": "@jupyter-widgets/controls",
          "model_name": "DescriptionStyleModel",
          "model_module_version": "1.5.0",
          "state": {
            "_model_module": "@jupyter-widgets/controls",
            "_model_module_version": "1.5.0",
            "_model_name": "DescriptionStyleModel",
            "_view_count": null,
            "_view_module": "@jupyter-widgets/base",
            "_view_module_version": "1.2.0",
            "_view_name": "StyleView",
            "description_width": ""
          }
        },
        "5fed590bee714889a394e2a790268a21": {
          "model_module": "@jupyter-widgets/base",
          "model_name": "LayoutModel",
          "model_module_version": "1.2.0",
          "state": {
            "_model_module": "@jupyter-widgets/base",
            "_model_module_version": "1.2.0",
            "_model_name": "LayoutModel",
            "_view_count": null,
            "_view_module": "@jupyter-widgets/base",
            "_view_module_version": "1.2.0",
            "_view_name": "LayoutView",
            "align_content": null,
            "align_items": null,
            "align_self": null,
            "border": null,
            "bottom": null,
            "display": null,
            "flex": null,
            "flex_flow": null,
            "grid_area": null,
            "grid_auto_columns": null,
            "grid_auto_flow": null,
            "grid_auto_rows": null,
            "grid_column": null,
            "grid_gap": null,
            "grid_row": null,
            "grid_template_areas": null,
            "grid_template_columns": null,
            "grid_template_rows": null,
            "height": null,
            "justify_content": null,
            "justify_items": null,
            "left": null,
            "margin": null,
            "max_height": null,
            "max_width": null,
            "min_height": null,
            "min_width": null,
            "object_fit": null,
            "object_position": null,
            "order": null,
            "overflow": null,
            "overflow_x": null,
            "overflow_y": null,
            "padding": null,
            "right": null,
            "top": null,
            "visibility": null,
            "width": null
          }
        },
        "ea317e14930745069b9be1de52a9c9b2": {
          "model_module": "@jupyter-widgets/controls",
          "model_name": "ProgressStyleModel",
          "model_module_version": "1.5.0",
          "state": {
            "_model_module": "@jupyter-widgets/controls",
            "_model_module_version": "1.5.0",
            "_model_name": "ProgressStyleModel",
            "_view_count": null,
            "_view_module": "@jupyter-widgets/base",
            "_view_module_version": "1.2.0",
            "_view_name": "StyleView",
            "bar_color": null,
            "description_width": ""
          }
        },
        "a5a9ce268a2643b1bd7e47c555ee35a6": {
          "model_module": "@jupyter-widgets/base",
          "model_name": "LayoutModel",
          "model_module_version": "1.2.0",
          "state": {
            "_model_module": "@jupyter-widgets/base",
            "_model_module_version": "1.2.0",
            "_model_name": "LayoutModel",
            "_view_count": null,
            "_view_module": "@jupyter-widgets/base",
            "_view_module_version": "1.2.0",
            "_view_name": "LayoutView",
            "align_content": null,
            "align_items": null,
            "align_self": null,
            "border": null,
            "bottom": null,
            "display": null,
            "flex": null,
            "flex_flow": null,
            "grid_area": null,
            "grid_auto_columns": null,
            "grid_auto_flow": null,
            "grid_auto_rows": null,
            "grid_column": null,
            "grid_gap": null,
            "grid_row": null,
            "grid_template_areas": null,
            "grid_template_columns": null,
            "grid_template_rows": null,
            "height": null,
            "justify_content": null,
            "justify_items": null,
            "left": null,
            "margin": null,
            "max_height": null,
            "max_width": null,
            "min_height": null,
            "min_width": null,
            "object_fit": null,
            "object_position": null,
            "order": null,
            "overflow": null,
            "overflow_x": null,
            "overflow_y": null,
            "padding": null,
            "right": null,
            "top": null,
            "visibility": null,
            "width": null
          }
        },
        "8399855fd7514607b7698a5a908b9abd": {
          "model_module": "@jupyter-widgets/controls",
          "model_name": "DescriptionStyleModel",
          "model_module_version": "1.5.0",
          "state": {
            "_model_module": "@jupyter-widgets/controls",
            "_model_module_version": "1.5.0",
            "_model_name": "DescriptionStyleModel",
            "_view_count": null,
            "_view_module": "@jupyter-widgets/base",
            "_view_module_version": "1.2.0",
            "_view_name": "StyleView",
            "description_width": ""
          }
        }
      }
    }
  },
  "cells": [
    {
      "cell_type": "markdown",
      "metadata": {
        "id": "view-in-github",
        "colab_type": "text"
      },
      "source": [
        "<a href=\"https://colab.research.google.com/github/erc-kluijtmans/Machine-Learning/blob/master/Simple_Transformer_Language_Model.ipynb\" target=\"_parent\"><img src=\"https://colab.research.google.com/assets/colab-badge.svg\" alt=\"Open In Colab\"/></a>"
      ]
    },
    {
      "cell_type": "markdown",
      "source": [
        "# Resources\n",
        "https://github.com/huggingface/blog/blob/main/notebooks/02_how_to_generate.ipynb\n",
        "\n",
        "\n",
        "\n",
        "\n",
        "\n",
        "https://www.youtube.com/watch?v=-QH8fRhqFHM&ab_channel=JayAlammar\n"
      ],
      "metadata": {
        "id": "8XHTgerq-8rb"
      }
    },
    {
      "cell_type": "code",
      "metadata": {
        "id": "SfaGYwr6QGl0",
        "colab": {
          "base_uri": "https://localhost:8080/"
        },
        "outputId": "2a5fb5f7-cf46-45d6-bdde-0d0fb26bd925"
      },
      "source": [
        "!pip install transformers"
      ],
      "execution_count": 10,
      "outputs": [
        {
          "output_type": "stream",
          "name": "stdout",
          "text": [
            "Looking in indexes: https://pypi.org/simple, https://us-python.pkg.dev/colab-wheels/public/simple/\n",
            "Collecting transformers\n",
            "  Downloading transformers-4.26.0-py3-none-any.whl (6.3 MB)\n",
            "\u001b[2K     \u001b[90m━━━━━━━━━━━━━━━━━━━━━━━━━━━━━━━━━━━━━━━━\u001b[0m \u001b[32m6.3/6.3 MB\u001b[0m \u001b[31m45.8 MB/s\u001b[0m eta \u001b[36m0:00:00\u001b[0m\n",
            "\u001b[?25hCollecting tokenizers!=0.11.3,<0.14,>=0.11.1\n",
            "  Downloading tokenizers-0.13.2-cp38-cp38-manylinux_2_17_x86_64.manylinux2014_x86_64.whl (7.6 MB)\n",
            "\u001b[2K     \u001b[90m━━━━━━━━━━━━━━━━━━━━━━━━━━━━━━━━━━━━━━━━\u001b[0m \u001b[32m7.6/7.6 MB\u001b[0m \u001b[31m62.4 MB/s\u001b[0m eta \u001b[36m0:00:00\u001b[0m\n",
            "\u001b[?25hRequirement already satisfied: pyyaml>=5.1 in /usr/local/lib/python3.8/dist-packages (from transformers) (6.0)\n",
            "Collecting huggingface-hub<1.0,>=0.11.0\n",
            "  Downloading huggingface_hub-0.12.0-py3-none-any.whl (190 kB)\n",
            "\u001b[2K     \u001b[90m━━━━━━━━━━━━━━━━━━━━━━━━━━━━━━━━━━━━━━\u001b[0m \u001b[32m190.3/190.3 KB\u001b[0m \u001b[31m20.9 MB/s\u001b[0m eta \u001b[36m0:00:00\u001b[0m\n",
            "\u001b[?25hRequirement already satisfied: filelock in /usr/local/lib/python3.8/dist-packages (from transformers) (3.9.0)\n",
            "Requirement already satisfied: numpy>=1.17 in /usr/local/lib/python3.8/dist-packages (from transformers) (1.21.6)\n",
            "Requirement already satisfied: requests in /usr/local/lib/python3.8/dist-packages (from transformers) (2.25.1)\n",
            "Requirement already satisfied: packaging>=20.0 in /usr/local/lib/python3.8/dist-packages (from transformers) (23.0)\n",
            "Requirement already satisfied: tqdm>=4.27 in /usr/local/lib/python3.8/dist-packages (from transformers) (4.64.1)\n",
            "Requirement already satisfied: regex!=2019.12.17 in /usr/local/lib/python3.8/dist-packages (from transformers) (2022.6.2)\n",
            "Requirement already satisfied: typing-extensions>=3.7.4.3 in /usr/local/lib/python3.8/dist-packages (from huggingface-hub<1.0,>=0.11.0->transformers) (4.4.0)\n",
            "Requirement already satisfied: idna<3,>=2.5 in /usr/local/lib/python3.8/dist-packages (from requests->transformers) (2.10)\n",
            "Requirement already satisfied: urllib3<1.27,>=1.21.1 in /usr/local/lib/python3.8/dist-packages (from requests->transformers) (1.24.3)\n",
            "Requirement already satisfied: certifi>=2017.4.17 in /usr/local/lib/python3.8/dist-packages (from requests->transformers) (2022.12.7)\n",
            "Requirement already satisfied: chardet<5,>=3.0.2 in /usr/local/lib/python3.8/dist-packages (from requests->transformers) (4.0.0)\n",
            "Installing collected packages: tokenizers, huggingface-hub, transformers\n",
            "Successfully installed huggingface-hub-0.12.0 tokenizers-0.13.2 transformers-4.26.0\n"
          ]
        }
      ]
    },
    {
      "cell_type": "code",
      "source": [
        "from transformers import GPT2Tokenizer, GPT2Model, GPT2LMHeadModel\n",
        "tokenizer = GPT2Tokenizer.from_pretrained('gpt2')\n",
        "model = GPT2LMHeadModel.from_pretrained('gpt2',pad_token_id=tokenizer.eos_token_id)\n"
      ],
      "metadata": {
        "id": "6TZtitTn0uZr",
        "colab": {
          "base_uri": "https://localhost:8080/",
          "height": 177,
          "referenced_widgets": [
            "1fc40cef1ea44859a0652d29917df15e",
            "43016786c3224549bb4c2f4c3e3670dd",
            "7708bd5eb8104cf198927a83e75e44ae",
            "2ae8f23640b8416bb99b22df39da1724",
            "ff9fa3ab04f04c7ba9f557fda5809fc4",
            "31ae55e74ccf4768925a8ab8b1585812",
            "5c3dadc90bae41ef88d7e280663423e3",
            "cdc5a1bfa53f459e847abd41542a14f2",
            "e3c6778aaacb45b4badc4b6787c0230b",
            "37e938e507314c4d85c333f22081ae2a",
            "268fdb64f1084be791919e0f9402d9ce",
            "63c8cf46887f43d6998594887a0f5b61",
            "1d60891b9b52496daa711dd7bca177f0",
            "03d553e360fc41bb9b361a0ae4aa2a51",
            "3ac3c12c107a4fb88d9ba6c7408ed354",
            "e0409e0e5ec446c89ce82375ec9189ea",
            "2882bdc8f54c47cbad6d017ac4192e3e",
            "445d4dc5de324be786aac077f1050aff",
            "66f4bbcdcfc847a5bb60a62769d04a6f",
            "38b6aa1c73354886b548ddb8b2bcb829",
            "eeefd9ea052a4244b68dd150229b2656",
            "4760010812aa46d493e19e6c469b9007",
            "d72e07d13e294da7859ab68464ee91ab",
            "82b74981155a441ab42f6dbaf07c6197",
            "3bfb72d1c33147a898ae4fe26d52aff1",
            "d09c3ab3c9314772960010573c26db9d",
            "7183d7dc32ee459c87833e1169425064",
            "2de776a2899a4264bd58afb446d7bc58",
            "b20666eb01c44c6bb886a34f4f85ef64",
            "c7ced05dea1c418c802d7a2d3af197db",
            "00271a2081ec47d89243a127ce7aee27",
            "25144ff8a9a84f489c9c829f9c42a93c",
            "e59b0d4749fe4a51bec44e45f4fa2599",
            "c90bfc2a90bf4a4cae4a5f0c54de758c",
            "6a03b1b7b36c4ad6bb57f10177b4a70c",
            "195dd08e3aa342b4a7a8f43d3fe5de51",
            "a02c988195014cfd844786863a158dcc",
            "faddcfbddda84abaa65904a71c214f91",
            "112093d084ef42da85c101d6aa6b137e",
            "16ba53ad507b40ea91c2b1281e130a3d",
            "0cde11b2399840dfad108c2f15a21fa7",
            "c06d1605c65540bbb50f188647c2cbbf",
            "33b155f77ddb45a8bf5e5bccf0b0dce0",
            "b019cb5e5e1f48879ede4dd0d069d2dc",
            "c6119fb8381b45a9a6ff6e2997d5db16",
            "f2b4e124af344e7781442139ede0e88d",
            "d6dc3aa7631e4b41884c892c1de66185",
            "45c7417ae7924d29b5b43735f0fc7cb4",
            "8d0b367e68df49d6b23dc51a78ad288b",
            "f8db7701da5740e38c905bc22432c17f",
            "b2e6e001325145f5b8118cc66a15bdb5",
            "5fed590bee714889a394e2a790268a21",
            "ea317e14930745069b9be1de52a9c9b2",
            "a5a9ce268a2643b1bd7e47c555ee35a6",
            "8399855fd7514607b7698a5a908b9abd"
          ]
        },
        "outputId": "bfeda98f-e24e-448f-d5d0-3d1ca32af9fe"
      },
      "execution_count": 11,
      "outputs": [
        {
          "output_type": "display_data",
          "data": {
            "text/plain": [
              "Downloading (…)olve/main/vocab.json:   0%|          | 0.00/1.04M [00:00<?, ?B/s]"
            ],
            "application/vnd.jupyter.widget-view+json": {
              "version_major": 2,
              "version_minor": 0,
              "model_id": "1fc40cef1ea44859a0652d29917df15e"
            }
          },
          "metadata": {}
        },
        {
          "output_type": "display_data",
          "data": {
            "text/plain": [
              "Downloading (…)olve/main/merges.txt:   0%|          | 0.00/456k [00:00<?, ?B/s]"
            ],
            "application/vnd.jupyter.widget-view+json": {
              "version_major": 2,
              "version_minor": 0,
              "model_id": "63c8cf46887f43d6998594887a0f5b61"
            }
          },
          "metadata": {}
        },
        {
          "output_type": "display_data",
          "data": {
            "text/plain": [
              "Downloading (…)lve/main/config.json:   0%|          | 0.00/665 [00:00<?, ?B/s]"
            ],
            "application/vnd.jupyter.widget-view+json": {
              "version_major": 2,
              "version_minor": 0,
              "model_id": "d72e07d13e294da7859ab68464ee91ab"
            }
          },
          "metadata": {}
        },
        {
          "output_type": "display_data",
          "data": {
            "text/plain": [
              "Downloading (…)\"pytorch_model.bin\";:   0%|          | 0.00/548M [00:00<?, ?B/s]"
            ],
            "application/vnd.jupyter.widget-view+json": {
              "version_major": 2,
              "version_minor": 0,
              "model_id": "c90bfc2a90bf4a4cae4a5f0c54de758c"
            }
          },
          "metadata": {}
        },
        {
          "output_type": "display_data",
          "data": {
            "text/plain": [
              "Downloading (…)neration_config.json:   0%|          | 0.00/124 [00:00<?, ?B/s]"
            ],
            "application/vnd.jupyter.widget-view+json": {
              "version_major": 2,
              "version_minor": 0,
              "model_id": "c6119fb8381b45a9a6ff6e2997d5db16"
            }
          },
          "metadata": {}
        }
      ]
    },
    {
      "cell_type": "markdown",
      "source": [
        "Using larget datset and machine learning does not give computers the ability to understand language. All these LMs are trained to predict owrds (or charcaters or sentences). Deep learning models can only process numeric values: they can’t take raw text as input. Vectorizing text is the process of transforming text into numericals. Text vectorization processes come in many shapes and forms, but they all follow the same template:\n",
        "\n",
        "*   First, you standardize the text to make it easier to process, such as by \n",
        "converting it to lowercase or removing punctuation.\n",
        "*   You split the text into units (called **tokens**), such as characters, words, or groups of words. This is called tokenization.\n",
        "*   You convert each such token into a numerical vector. This will usually involve first indexing all tokens present in the data. A numerical vector is also called **embedding**. An embedding is defined as a representation of a word and encodes the meaning of the word in such a way that words that are closer in the vector space are expected to be similar in meaning.\n",
        "\n",
        "Example of Tokenization - Fig.1\n",
        "![Tokenization.png](data:image/png;base64,iVBORw0KGgoAAAANSUhEUgAAAooAAAILCAYAAABvmL3xAAAMbGlDQ1BJQ0MgUHJvZmlsZQAASImVVwdYU8kWnluSkJDQAghICb0JIjWAlBBa6B3BRkgCCSXGhKBiL4sKrl1EwIaugii2FRA7dmVR7H2xoKKsi7rYUHkTEtB1X/neyTf3/jlz5j8lM7n3AKD5gSuR5KFaAOSLC6QJYUGMMWnpDNIzgAAy/AwHnlyeTMKKi4sCUAbvf5d3N6A1lKtOCq5/zv9X0eELZDwAkHEQZ/JlvHyIjwOAV/Ek0gIAiAq95ZQCiQLPgVhXCgOEeLUCZytxjQJnKvHhAZukBDbElwFQo3K50mwANO5BPaOQlw15ND5D7CLmi8QAaI6A2J8n5PIhVsQ+Ij9/kgKXQ2wH7SUQw3gAM/M7zuy/8WcO8XO52UNYmdeAqAWLZJI87rT/szT/W/Lz5IM+bOCgCqXhCYr8YQ1v5U6KVGAqxN3izJhYRa0h/iDiK+sOAEoRysOTlfaoMU/GhvUD+hC78LnBkRAbQxwqzouJUukzs0ShHIjhbkGnigo4SRAbQLxIIAtJVNlskk5KUPlCG7KkbJZKf44rHfCr8PVAnpvMUvG/EQo4Kn5Mo0iYlAoxBWKrQlFKDMQaEDvLchMjVTaji4TsmEEbqTxBEb8VxAkCcViQkh8rzJKGJqjsS/Jlg/lim4QiTowK7ysQJoUr64Od4nEH4oe5YJcFYlbyII9ANiZqMBe+IDhEmTv2XCBOTlTxfJAUBCUo1+IUSV6cyh63EOSFKfQWELvLChNVa/GUArg5lfx4lqQgLkkZJ16Uw42IU8aDLwdRgA2CAQPI4cgEk0AOELV1N3bDb8qZUMAFUpANBMBJpRlckTowI4bXRFAE/oBIAGRD64IGZgWgEOq/DGmVVyeQNTBbOLAiFzyFOB9Egjz4XT6wSjzkLQU8gRrRP7xz4eDBePPgUMz/e/2g9puGBTVRKo180CNDc9CSGEIMJoYTQ4n2uBHuj/viUfAaCIcrzsS9B/P4Zk94SmgnPCJcJ3QQbk8UzZP+EGU06ID8oapaZH5fC9wGcnrgQbgfZIfMuD5uBJxwd+iHhQdAzx5Qy1bFragK4wfuv2Xw3a+hsiO7kFHyMHIg2e7HlRoOGh5DLIpaf18fZayZQ/VmD8386J/9XfX58B75oyW2CNuPncVOYOexw1gjYGDHsCasFTuiwEO768nA7hr0ljAQTy7kEf3DH1flU1FJmUudS5fLZ+VcgWBqgeLgsSdJpklF2cICBgs+HQQMjpjnPILh6uLqBoDiWaP8+3obP/AMQfRbv+nm/w6A37H+/v5D33QRxwDY6wWP/8FvOjsmANrqAJw7yJNLC5U6XHEhwH8JTXjSDIEpsAR2MB9X4Al8QSAIAREgFiSBNDABVlkI97kUTAEzwFxQDErBcrAGVICNYAuoAbvAPtAIDoMT4Ay4CC6D6+Au3D2d4CXoAe9AH4IgJISG0BFDxAyxRhwRV4SJ+CMhSBSSgKQhGUg2IkbkyAxkPlKKrEQqkM1ILbIXOYicQM4j7cht5CHShbxBPqEYSkV1URPUBh2JMlEWGokmoePRbHQyWoQuQJei5Wg1uhNtQE+gF9HraAf6Eu3FAKaO6WPmmBPGxNhYLJaOZWFSbBZWgpVh1Vg91gx/56tYB9aNfcSJOB1n4E5wB4fjyTgPn4zPwpfgFXgN3oCfwq/iD/Ee/CuBRjAmOBJ8CBzCGEI2YQqhmFBG2EY4QDgNz1In4R2RSNQn2hK94FlMI+YQpxOXENcTdxOPE9uJj4m9JBLJkORI8iPFkrikAlIxaR1pJ+kY6Qqpk/RBTV3NTM1VLVQtXU2sNk+tTG2H2lG1K2rP1PrIWmRrsg85lswnTyMvI28lN5MvkTvJfRRtii3Fj5JEyaHMpZRT6imnKfcob9XV1S3UvdXj1UXqc9TL1feon1N/qP6RqkN1oLKp46hy6lLqdupx6m3qWxqNZkMLpKXTCmhLabW0k7QHtA8adA1nDY4GX2O2RqVGg8YVjVeaZE1rTZbmBM0izTLN/ZqXNLu1yFo2WmwtrtYsrUqtg1o3tXq16dqjtGO187WXaO/QPq/9XIekY6MTosPXWaCzReekzmM6Rreks+k8+nz6VvppeqcuUddWl6Obo1uqu0u3TbdHT0fPXS9Fb6pepd4RvQ59TN9Gn6Ofp79Mf5/+Df1Pw0yGsYYJhi0eVj/syrD3BsMNAg0EBiUGuw2uG3wyZBiGGOYarjBsNLxvhBs5GMUbTTHaYHTaqHu47nDf4bzhJcP3Db9jjBo7GCcYTzfeYtxq3GtiahJmIjFZZ3LSpNtU3zTQNMd0telR0y4zupm/mchstdkxsxcMPQaLkccoZ5xi9Jgbm4eby803m7eZ91nYWiRbzLPYbXHfkmLJtMyyXG3ZYtljZWYVbTXDqs7qjjXZmmkttF5rfdb6vY2tTarNQptGm+e2BrYc2yLbOtt7djS7ALvJdtV21+yJ9kz7XPv19pcdUAcPB6FDpcMlR9TR01HkuN6xfQRhhPcI8YjqETedqE4sp0KnOqeHzvrOUc7znBudX420Gpk+csXIsyO/uni45Llsdbk7SmdUxKh5o5pHvXF1cOW5Vrpec6O5hbrNdmtye+3u6C5w3+B+y4PuEe2x0KPF44unl6fUs96zy8vKK8OryusmU5cZx1zCPOdN8A7ynu192Pujj6dPgc8+nz99nXxzfXf4Ph9tO1oweuvox34Wfly/zX4d/gz/DP9N/h0B5gHcgOqAR4GWgfzAbYHPWPasHNZO1qsglyBp0IGg92wf9kz28WAsOCy4JLgtRCckOaQi5EGoRWh2aF1oT5hH2PSw4+GE8MjwFeE3OSYcHqeW0xPhFTEz4lQkNTIxsiLyUZRDlDSqORqNjoheFX0vxjpGHNMYC2I5sati78fZxk2OOxRPjI+Lr4x/mjAqYUbC2UR64sTEHYnvkoKSliXdTbZLlie3pGimjEupTXmfGpy6MrVjzMgxM8dcTDNKE6U1pZPSU9K3pfeODRm7ZmznOI9xxeNujLcdP3X8+QlGE/ImHJmoOZE7cX8GISM1Y0fGZ24st5rbm8nJrMrs4bF5a3kv+YH81fwugZ9gpeBZll/Wyqzn2X7Zq7K7hAHCMmG3iC2qEL3OCc/ZmPM+NzZ3e25/Xmre7ny1/Iz8g2Idca741CTTSVMntUscJcWSjsk+k9dM7pFGSrfJENl4WVOBLnypb5XbyX+SPyz0L6ws/DAlZcr+qdpTxVNbpzlMWzztWVFo0S/T8em86S0zzGfMnfFwJmvm5lnIrMxZLbMtZy+Y3TknbE7NXMrc3Lm/zXOZt3LeX/NT5zcvMFkwZ8Hjn8J+qivWKJYW31zou3DjInyRaFHbYrfF6xZ/LeGXXCh1KS0r/byEt+TCz6N+Lv+5f2nW0rZlnss2LCcuFy+/sSJgRc1K7ZVFKx+vil7VsJqxumT1X2smrjlf5l62cS1lrXxtR3lUedM6q3XL132uEFZcrwyq3F1lXLW46v16/vorGwI31G802Vi68dMm0aZbm8M2N1TbVJdtIW4p3PJ0a8rWs78wf6ndZrStdNuX7eLtHTUJNadqvWprdxjvWFaH1snrunaO23l5V/Cupnqn+s279XeX7gF75Hte7M3Ye2Nf5L6W/cz99b9a/1p1gH6gpAFpmNbQ0yhs7GhKa2o/GHGwpdm3+cAh50PbD5sfrjyid2TZUcrRBUf7jxUd6z0uOd59IvvE45aJLXdPjjl57VT8qbbTkafPnQk9c/Is6+yxc37nDp/3OX/wAvNC40XPiw2tHq0HfvP47UCbZ1vDJa9LTZe9Lze3j24/eiXgyomrwVfPXONcu3g95nr7jeQbt26Ou9lxi3/r+e2826/vFN7puzvnHuFeyX2t+2UPjB9U/27/++4Oz44jD4Mftj5KfHT3Me/xyyeyJ587FzylPS17Zvas9rnr88NdoV2XX4x90flS8rKvu/gP7T+qXtm9+vXPwD9be8b0dL6Wvu5/s+St4dvtf7n/1dIb1/vgXf67vvclHww/1Hxkfjz7KfXTs74pn0mfy7/Yf2n+Gvn1Xn9+f7+EK+UOvApgcKBZWQC82Q4ALQ0AOuzbKGOVveCAIMr+dQCB/4SV/eKAeAJQD9/f47vh281NAPZshe0X5NeEvWocDYAkb4C6uQ0Nlciy3FyVXFTYpxAe9Pe/hT0baRUAX5b39/dV9/d/2QKDhb3jcbGyB1UIEfYMm0Z/yczPBP9GlP3pdzn+eAeKCNzBj/d/ARtRkMLPmR9BAAAAVmVYSWZNTQAqAAAACAABh2kABAAAAAEAAAAaAAAAAAADkoYABwAAABIAAABEoAIABAAAAAEAAAKKoAMABAAAAAEAAAILAAAAAEFTQ0lJAAAAU2NyZWVuc2hvdLs/K9YAAAHWaVRYdFhNTDpjb20uYWRvYmUueG1wAAAAAAA8eDp4bXBtZXRhIHhtbG5zOng9ImFkb2JlOm5zOm1ldGEvIiB4OnhtcHRrPSJYTVAgQ29yZSA2LjAuMCI+CiAgIDxyZGY6UkRGIHhtbG5zOnJkZj0iaHR0cDovL3d3dy53My5vcmcvMTk5OS8wMi8yMi1yZGYtc3ludGF4LW5zIyI+CiAgICAgIDxyZGY6RGVzY3JpcHRpb24gcmRmOmFib3V0PSIiCiAgICAgICAgICAgIHhtbG5zOmV4aWY9Imh0dHA6Ly9ucy5hZG9iZS5jb20vZXhpZi8xLjAvIj4KICAgICAgICAgPGV4aWY6UGl4ZWxZRGltZW5zaW9uPjUyMzwvZXhpZjpQaXhlbFlEaW1lbnNpb24+CiAgICAgICAgIDxleGlmOlBpeGVsWERpbWVuc2lvbj42NTA8L2V4aWY6UGl4ZWxYRGltZW5zaW9uPgogICAgICAgICA8ZXhpZjpVc2VyQ29tbWVudD5TY3JlZW5zaG90PC9leGlmOlVzZXJDb21tZW50PgogICAgICA8L3JkZjpEZXNjcmlwdGlvbj4KICAgPC9yZGY6UkRGPgo8L3g6eG1wbWV0YT4KsAhDdAAAQABJREFUeAHsvQd8VdeVLr7URRVFQkiiSHQQzZiOTXMBjLsxuGDHjmM7ie04k57MJJP3mzfvzT95k8lM4jT3hjE2YGNcwPTee0dC9I4EKqiL//ete/flci1AAklcSWvrd3XPPWfvtff+9jlnf2eVfUIuIIklQ8AQMAQMAUPAEDAEDAFDIACB0IDf9tMQMAQMAUPAEDAEDAFDwBBQBIwo2olgCBgChoAhYAgYAoaAIVAuAkYUy4XFdhoChoAhYAgYAoaAIWAIGFG0c8AQMAQMAUPAEDAEDAFDoFwEjCiWC4vtNAQMAUPAEDAEDAFDwBAwomjngCFgCBgChoAhYAgYAoZAuQgYUSwXFttpCBgChoAhYAgYAoaAIRAeDBBwKUdbzjEYRiJ42xASEiJlZWVSWlpq50rwDpO1zBC44QjwXhEWFiahoaF2r7jho1G5BnDs+LEUXAgEBVEMLkisNcGEgHuAyMjIkGnTpsratWslTCcAEVspPphGytpiCNxYBEgvyDFK8UB5c79+MnHSI9KhQ0dtlJGPGzs2VnvtRsCIYu0evzrfehJF3uRPnDgue/bsleTkFOnX72bVLNb5zlsHDQFDoFIIhIeHy6ZNG2RvWrocP35ciaK7h1RKkGU2BAwBHwJGFH1Q2EYwIxASEiqtWrWSYcOGyR133CklMEFbMgQMAUPAH4FwmJxjmsXI0iWL1fTsf8y2DQFD4NoQMKJ4bbhZqRpGgFoB+icWFBZKXn6+lJaU1HALrDpDwBAIZgR4jwiPiJDCgkIpKaEvczC31tpmCNQeBIwo1p6xspYCAbg6SyhM0WX4WDIEDAFDwCHg8VHEf7s1OEjs2xCoEgRseZwqgdGEGAKGgCFgCBgChoAhUPcQMKJY98bUemQIGAKGgCFgCBgChkCVIGBEsUpgNCGGgCFgCBgChoAhYAjUPQSMKNa9MbUeGQKGgCFgCBgChoAhUCUIGFGsEhhNiCFgCBgChoAhYAgYAnUPASOKdW9MrUeGgCFgCBgChoAhYAhUCQK2PE6VwFg7hXDdsSulqnrtlb0Z4UooX+YYxubKo3OxnK4GEizLBblzqjra42Sz69Uh/yKkF7dcnazPOyZBhffFll7c8m/zxb22ZQgYAobANSFgRPGaYKv9hUgCQ/HO5CslEryrkcmrlWc9YXhbwvXKulI9dfEYFw7m68iYSBgv4P21xNKRdy44znfa8jexLcP2DU/VSVB4LqKDrv810lf//mA7BNcL3/xRhu2yIH0zkLteaxSnGhkMq8QQMARuFAJGFG8U8jeoXjeR7NixQ7764nM5fOiQEjnXHE4wRcXFkpSUJOPvvkd6pKYqEbmWiYdENDMzU/LPn5eWsbESFRXlqrHv8hAgMQH+JCHp+/fLIYwNCSFxDPWSbR7jGCYkJkrTpk0lJydHmjVvLnFxceVJrNF9vjaSwLJm9KWqEkmaLrTu7T9/V2siMQTmTG4MsrPPyfFjx6QJcI+Pb12zpLUinUWbw/BwwfND20z8q3AMKtIEy2MIGAJ1DwEjinVvTCvUo8wzZ2Tt2nVCwhiGSbekpFjLRUCTVVxUJN26d5XBQ4b4tFX+2kdHGh3pvFyFe/bskTdff00aN24sTz/zHUlISNCsrvzlytXn/cSmGGOxceN6+eyTT/E6sgIpKiqUnNxciYpuII0bNoRGS2T0bbdJAsj8hnXr5JZbb5VR+O20iiRUPoIA0kBNnH+6Iom7XH6vgEBZ3M3zgATlxIkTsnnDBomLj5devXopucXBK7aF5X3tKadu/+NbNm+WQwcPys39+0si+s7z9BuEsRwZFZXPujRBBuWeO3tWVq9cKTExMTIE7xg/dOCgzJj+sfTt10/G3TVeCTz7fs14l9NW14TA76v1ge0ID4+QM6dOydo1a6RVfCvp0/cme0lJIJD22xAwBCqNgBHFSkNWuws4ktard2/5zW9+I/kF+bJj+w75aNo0NalNnDhRUnumQvsXLW3atlVtI03H/omEhHIceeQkxQ/3OfnMv2vnDlm6dKmMHTtOGjRo4C/Cti+DAE3MkRGRcvsdd4KoDwUJCZWtWzbL57Nny00gKNzP1AjkeydIPscgIjJS8SWJK4MGshgfytGEMYkEiSOR49hw7KgxpmbSf6w0L8aQiQ8LHrO3x6xN4kq5TJQTieOuLDVXRSBsNMlS27ZixQoZMXKkREdHaz1ayP1D/REo72TTqF6C8vw4Qsm20uzOxHOKx/iOb26zv3t375Z+N9+scorw3m8lUF75zEOtZhTKu3OzBH0lHpTPY2w3iV0Y+4BybL8PL+xnIkYN0P7MzDOyfPky6T9goOLL8mFh4YoPtePEnTiyvMMHFZSL9wXk4zFfQnv427kX8GGN2Dp5bCPHgamk2NvGCx5NrRsfNwbsYyGwiIyMkBPHj8uSRQv1wYHXXAEeNBy2vrptwxAwBAyBSiBgRLESYNWlrM2aNZPmMFkycaJr2KiRTlKdOnfRiZH7T508Ke+987Z8MnOGnMnMkkEDB8nERx+VPn36yF5oC2d/NktOnTotd99zjwwZOlRWrVols2bOlOQOHVSj8dWXX0DrUyhLFi/GXFUmDz38sHTv3kMnfTfJsR5LXgS8RILYNG0aIzHNmks4CMQxELDIyCg1Mbdt185HjkjOWOTE8WPyKcboAMzVnbp0AZHqLxxfEh4SjrT0NFm7erWcxRh26dZNbh4wQM3WJEk+8uIlLiRY1NqtXbtGThw7Lu2S2+N8GADTdivVTJ4+dVI2rl8vGfv2KfGia0Lfm26SbJjAd+/aJadPn5ItILZJbdpIckqKjwixh+zXkUOHZd36dXL08CGcI/FyE9raDg8kJGEkSbsgYz20pGdOn5YWLVuq9rAz+nTw4AFJT9srx08clzXoCwlWSxz3kSC0nwQq+9w5WQSN2h7IiWneTM/ljh07ygXUTRwL8vOVfLKNmafPSGqvntK7dx8l3o5ck7DlZGfLHpDSk9CS7ti6VdZ16iTn8/JU+342K0u+njNH0nANJGE8BgAf9oVEle3Zs2e3rFu7Fm05K916EJ9+0rhJE/GRRS/W1BazTcT8NDSBG6mNbdVKht5yi+5bAZJ6/OhR6QXNYN++fZV8E0eOzwbkPYLv6IYNVH637t2FVoI9e/fgWj0j27duk3btk6V9crKeO3hyuDjWFGLJEDAEDIEKImBEsYJA1bVsJBHU1DBRI1FWVqqf4uIiKcbvc5hwp037UN5/7z1JbN1aunTpKiuhLTp8+LC88NJLIHzdQTRbyLQPp0pmViYmrwOyZMli2bx5E0xefdRcl3++AJMy6oFs1nGBNlNLFUKAJI5BE6UgEdTYcXyc5oh6KZILEq/MM5kya9YsSYLPIhnksuXLVfP26GOT4RfaUhbOny/TP/5Izf98MHj/3XfVXP3I449LIsgc66E8jgxJ5QaQOOahJo+k9AtoMkkyn3zqaR3Ht994A2TwtHTAwwC/F81fIOPGj5f+AweqNouEhxrHo0eOaHkSOhIokq80EK8p778vZ86clvbt28sCtI0PE5OffEqGwM1h4YL5MnPGdH1oaQ0fwGVLtkM7tghuC89AyxguR0GaTkE+H1K6gvDS75XEjPKphTx44IBMQdt3794lKSkdQNj2QOZCmThpkgyHlnPrli0y+9NPFdcWLZoraeQ5e+edd8oDD02QRiBzxIPkvBAPOKzvNPANDQ1TYkximg9y98Xsz6Q13CgiI6Nl2YrlshXn/BPfekrN4YvQ3ukfTVO8W7ZoIcRrfZ/18tjjk6UVSKBqT4E1NavZIKOfYeyoeY9FX3idrFm9SuZ9PVdatAAJRqJf5CqYvx9+ZJKMhbmbZPK9t9/Wa7cdxmc3MGUfH0Yf+/TpDSJ+CPieUWJN/+M2GOMQaD956XGcLRkChoAhUFkEjChWFrE6kp8kw5mUQzARukQCwsk9be9eWQHS0a1rN3np5ZdB/vrKx5gA33zjNSWD1CSNvesuOU5t1iefyDZoMMIwEz00YaLcfucY1WiRbB45cliG3XKrfP+FFxAA4NG6sG5LV0aAGJG4MaDCQwqR3+3zkkT+pll4KEzU33nuOcX8PRD7pYsXybGjRyQvL1eWwfQ/CMcnT56sAS80DU95711Zt26t3IXxYB0kiRzzLAQerVy2TOJbxcszzz0vXbp20XNgBojmvvQ0JUyxsXHyzHeeVU3fORCdN157TdLT0+W2O+6QO8bcqXWSlI2+7XY5jyAmkjiONnoiB0Dk6Av7LNo6ctRoSUtLk7lzvtL+ndVz5aiMGn2bTID7QxzqoU/iuyBF1NA9/MijMmbcXbIb5uenvv1tDbbKg4bPEWZqCtnXk9B4vvyjH8nwESOVVLL8YphiE5MSlcDmnc+TsePGyeQnnlSz7OuvvQqNa7pkQUtILWwpHmhKQMypQR0zZoya0/v3H4D6H1HCTNLeI7WXPPv889Kpc2clejM//lj2Z2So+XfxwgWoe4TKp2/jMuD5Acgxyd5duF5Uc4qHNCaSZ1L0hjARP472DBw0SGbhWqIWv1u3rvLY5Cc0GOwNtPHwocOqASUB7waSPGHiJDy8dcH1dUT+/re/wiS/S0aNGqXXHoki8R2H+nKBkYuY10rtnyFgCBgClUTAiGIlAavb2elnSCXNBclF8ERuTq4cPntI/t/vf6f+T2dOZ8L8tw+T4n4QgjwNThmDSZcEYDkm6ZGjR+skTO0INZbUzFAW41NJfLhtqWoQIJ7EOBbRzt179FDSkQdi1hRasYYMeMExkgpq/VpAszVv3te6r6CgUH0H96XvU2LIwBNqKjnw1Nbl43j3nj0R2dtENYQp0By+9PIPlZDRJ2/g4MEa5DF37lw1dW/csF5dGEhGigqLQL4Kcd7k6EdJnLe71I4yUpsatT/+4Q8gTqs0QOTe+x9Qkyrb+xjILAkfz6/lIFi7du6Uo8eOSltoHwvQtzyck+dxnN9OM+dILgNpaCbu2au3JCenaF/oJ0l/xvS0PYoFNYM81hnacfpp0uWCZO4EzL+sX09+tJfYUn5e3nklfzm5OWrSpra9ceNG0huuFzQl0zzNyHO6bRSCQLINWTDv02VjzldfqdavAL6DuSh/AESS/oKMmNa6UA9N7WFoU2rPXvoQxeAZ1C4dOnaEC0FXfUig3EaQHwZf1RB87oJWMR8YZKKeLz7/XEk6TeSd4TLC64t+m/RXZJ0MgMJOX7+8Q2FfhoAhYAhUCgEjipWCq35k5oTDiZJ+hQxqaQZfuYbwhWoPn6chQwdjMu6jZIRoFIIc5J/PV60UzaBZWZzsPGTTM0d5NFZuctSD9q/KEKCmzhFwRx5JnsB1QFRKQGbOqblyLzTEZfjNPA1AJNvCL5BaRCUS3tbQFEotYDRMldQ0MtHvj2SKdTCY5NNPZsI8vUG1YIyspdaSJm1dvgYPBqGhDHKCFhSaUE08CZAuwKyaCgL6rW8/g2WZvlA3Bmoqu8KFgWZtHqPZlabhYwjIaK7nXEO4QTAQhf2hbM+HdbEf/omki+er28+j3Ga7S0vLQM7wwIInFu7nPh5jH3leOvz85fH4xQ/qxW9Pac/5rOUhkHXyQ5M1o9MLiwqAz3qYx4E39rPN4QiAIdnldnl16T7W55XHa49jxwcs1luC9jOshU2gqZmmbX6TpNL9g+SaybVJv714laEsKtXrkz1QIfy2ZAgYAoZABREwolhBoOpyNk4szgzNyZATWqNGDXVfSscO8sKLL8Dc1lM1PDRJ0+RGrRU1iZ/Dx2ovNDZ0mt9/YL/MxOTfGloqaqI8FMFDNui3ZunaESBRIin0T/zFsfvGx5uJEbr0pRt/z70yDEvo0KxKLRojY0NA6BpCO0aixPJMTaAl43lwFpot7mfUbNbZLJC65aot1AAQPAz86Cc/kZ4gdiScNKvSx45szkPAEL3rNZf7Hg4gn0SO9caA3PwQpmESUpqW6T+5aOEC1RLOh9azbbv28iI0mPRhpIbzvXfeUSLm6TrJnsc1gqTKJdZLbSeXhyHB4jH6LLKP9Ptje+jjiGy+5JB02PkOBGwQc40ypjzvMfeNxgA71Zdrnmg8VMXCZD0WJnKa30ke6e97BH69JOWRaKMPEz9Zrg06xhxnvzHFD83JNlBj+Tn8I2my/vW//hauAV3R31J5E+Z/ahBdohz2l5HUrI+4UArHXkHwynT57dsQMAQMgSshcPFue6VcdqxOI8AJLS83D1Gd5zG5eQJcOnbqjACDYbIREaj//m//W375s5/Ji9//nvyf//Pvsm3bNvWdmjl9unz++Wy5DX5lv/jFL+XWW4fDxDlPZsBni5N8BCYrakS+RMDCf/7+97J50ybFsTytSp0GuAo6p5orH/X2CCTvIZaX4un5TVKUnJyshJ7LpRwCqeeSMFx38U///UdZs2qNhFzwUR4lFAxeoXmYBG4/IqiZGIE8beqH6k9YDO0xA2Qol8SM6/XR/4+mThI4fvLzz+u5wYheX0JjWDeDSXgeLEbAB7Vh9IFMRH00v5I4kvRwfURGTNO1YcH8eYjuXQ8xaKeSvBDNlwUiS9Ox0yyShDLQpH1KsmzbslUDcpj90MFDsgwR9zRBMwJYyWwghsh4KX7I5pfYprOIIqaZ2ZPPo53zy4L90ByGhXqWk0Jf1qxaqaZu5mGE9l9e+ZP6hEK35yPlrjzbeWn9HD/udDk0g/JF4sxrlOuR8sGMLgNLlyxRM30JrlviT5JZWFigmn3mpymaJvztO7ar6VsJtlbgJ982DQFDwBC4AgKmUbwCOPXlEJ34b+p3E7Q+ZdIM0aDUQrRGpPNjkx+XJjFNoPFZKJuwnAgjXe+5915oS0apfxoDAO5E4Mr9Dz6kS6hEQwPFyYt+cYxA7Y6lQbgw8XxEt548fUr9y+oLplXZT07+1A5yTUWSihDvRE8SHgaCwuPcr8eQh3mxS6OOqd2a/tFH8utf/UoJEwkZ12Nk4ERElGcdQGRV7RfHjwt5T0cwxO//4/9KJDRkfKsOF/Qej3FntPHUKe/Lyy+9qFG69J2jppjaO54L1F7yXJry7jtqDr3nvvvUJ49kKwzt6wXfvvT0NHn91Vc1OpmmWgY4MQKbGmhGGc/4eLrMhX8fiSTXiqRZOzvnHEhksUY6L0Ggzn/+7v9D8M7z6uOoS86g/TR1c91JLunz2j9eRWTwOyCSAgIZKw9OmCApIFYZ8MukWVzx8g6Qh+DyNggUvLgSvBK0mUve0F9w5vQZ0LKek96I5vd/u5BbTocaO6512A5a0HvR56kfTJFf/eyn0Lg2wptzsjXwZ/DgIYoVH8qItybUw/o5hp4Edsh9HFNoQx2BpEaUGMbjmmR0+XSsecpo8BYg7Y1QRzMsA8TxZhBLfOsEJfsfYjUCjvXQYbfIl3gDE/1Gn8ai91z8vhiyiIElQ8AQMAQqggDmHHd3rEj26snDJgRBM6qnc7VAKrHnRMTESckRD35zIqOTPR376avWyGuupLaC5ThxMg/JpSvHyFAmmtr49gxGtHKb5Ss7QTm5q6GZmYGlUwYNGiy33X67L5hBK6qL/3hNoF/Ei2Tj5ImTSrr4qj6d4rkfWi6+IpG48jV+TIxcpumY6/GRbLE8SdzO7duxPwvLpbTVtRYZgEFS72SRJLE+mkhJKnbt2qmEv03bdvqAQFcD5j+MKPZ0uB9AsAbRNG7cRNc8ZBtYH4MsGOnO/NRQ8vxw1zZNpiSeJJxcuoWBHT3wMNEyzrPMDY+lp6XpEkzUEDJIpwDasezsHI1ypil1//4MXRKIS8O0AnFiu9kWfodCPs83ymAUMk3plEH51JQz0ITLzVC2rmuIMicReFIALSgJFk3tSv688qh9I5ZcM5J+mwz84VqKNLkzQIjXCl+hyOAVEuTm2Ef8uETQzp071JyemJikrhosQ99DHz1DHbxOWJbXD5fOIT5co5GrBVAWMeV1xjwcRxJx9nMf2rM/Y5+2gy4h4eFhWKIqS1piSR32mcsPHYRGuBHGhhpaXr+sm+V1PHCtKmZ6xtShf8CGmmu6MnDFhgceeFCXXeL5R4wtBT8CPM/5sRRcCBhRDK7xuGGtcRenm9TZELfNmyyPk7Rxn7uYdZ+XYPpPPO44ySe3WZ7lnLzKdLLeEkU/kEhI6KOmPm+Y8F3ifi66XYpxIRFgIlHhfvqj8W0hjvxxCRYSEZpsGTVLcy3HJjBxjFieRI+yuJ5gQX6B70EgCoSfmkdkU9JXCrNrhF8bWIZkhOPGKF8f8UJFlM1zgYRM/fXQhjy0xRFWEjN3jP05jyApBseQILLdLB8FMzLroEmV/n/+icfZJ8pgG0gOz+PNQ04+NZ/sG2W7ByOuZ8g2qfxAAgV5xIyma/aH9VGLywhuxRvfJKeUQXncxzawnoYow7KMWmawiTuP/dvLtrIsE8dLy+I3+0uNprt+XB62kYntYZAZA4SIH8tFQItcAv9MniMkSyS2LE8y6lmY3fMOd//xUGF16R9wMKJYuweU10R596Xa3ava33ozPdf+MaySHnAiY/K/SN02j7lJ2O3j7/LKcL9/Xm5zAmU5V7ZKGlyPhBA/TvgkKepj5u0795O8+GPL38zr9tFMzX1nsc+NiyP+5UHIciQY1Gp9Iz9kkWRyGR4mtgcVeYgY24Z9bnkWbrMeHneJsnnOUAtH2UyU4fL5H3PtR0ZPPspCyue6gPgOxILHWIZyubQT63AyXDsDsWEZYsUyrg3c50uQR4wZDc5eEHuHCWWzbyRmSkSxrfUhXzFIbJbXR5P7Loc3SZu+Yg9lXP3aRrTHtf0beZCXWk320eXBrkvawHUgs9EG12a2j8nVoT/snyFgCBgCFUTAiGIFgarr2TjpXC75T0j+ecorE7jvcmX95dj2lREghtSEBabysP3GPhKVK4xtoEz+vlx9OKC+gFcy4vmWxSlP8JVkX+WYE3e98tk3/0Tyd+ke/6PfxOIb5SHvkn0VwMhXgzev7zc2KKs8ef55iMGVxoB98j9buGi7JUPAEDAErhWBK91vrlWmlTMEDAFDwBAwBAwBQ8AQqAMIGFGsA4NoXTAEDAFDwBAwBAwBQ6A6EDCiWB2omkxDwBAwBAwBQ8AQMATqAAJGFOvAIFoXDAFDwBAwBAwBQ8AQqA4EjChWB6om0xAwBAwBQ8AQMAQMgTqAgBHFOjCI1gVDwBAwBAwBQ8AQMASqAwEjitWBqsk0BAwBQ8AQMAQMAUOgDiBgRLEODKJ1wRAwBAwBQ8AQMAQMgepAwIhidaBqMg0BQ8AQMAQMAUPAEKgDCNibWerAINaXLvD1aXy9XDFeUcZ34VoyBAwBQ8CHAO4Peo/AO775bckQMASqBgEjilWDo0mpAQQiIiKkadOm0io+XjAT1ECNVkUwIxB4BlzpVXzB3A9rW9UgwPOB50BMTFOJjIyoGqEmxRAwBMSIop0EtQIBvv/20KFD8uc//Y/MmvWJahZrRcOtkdWGAE4JvAPbcwsrLS2xZ4dqQ7r2COY70Q8ePCQxeKDk+WHJEDAErh+BEKjoAx/Mr19qJSWwCUHQjEq22rLXBALuvDhz5rQsX75cdmzfDpJYUhNVWx1BigDvWHxwKCwskC1btihB7N27t0RHR+t9xAhCkA5cDTSL5wYtD6k9e8nQoUOlRYsWWivPF0vBjwDHycYq+MbJiGLwjYm1qBwE7AZSDij1fFdubq58+OFUPDiUyaRJj6jJsZ5DYt33Q8AUEH5g1JJNu88H50CZ6Tk4x8VaFYAAb/plZWWmeQ7Apb7+5IRSWFgoBfkFel4UFRWqO4LTQNdXXKzfHgSMcNiZYAhUHQJGFKsOS5NUzQjYzb+aAa5l4kNDsboXLYr4cNvOj1o2gNZcQ8AQqBUI2DqKtWKYrJGGgCFgCBgChoAhYAjUPAJGFGsec6vREDAEDAFDwBAwBAyBWoGAEcVaMUzWSEPAEDAEDAFDwBAwBGoeASOKNY+51WgIGAKGgCFgCBgChkCtQMCIYq0YJmukIWAIGAKGgCFgCBgCNY+AEcWax9xqNAQMAUPAEDAEDAFDoFYgYESxVgyTNdIQMAQMAUPAEDAEDIGaR8CIYs1jbjUaAoaAIWAIGAKGgCFQKxAwolgrhskaaQgYAoaAIWAIGAKGQM0jYESx5jG3Gg0BQ8AQMAQMAUPAEKgVCBhRrBXDZI00BAwBQ8AQMAQMAUOg5hEwoljzmFuNhoAhYAgYAoaAIWAI1AoEjCjWimGyRhoChkBtQ+DChQu1rclXbW9N9amm6rlqhy2DIWAIiBFFOwkMAUPAEKgiBEhwysrKhN8hISH67X77V1ETRKi666hK+ZRVlfL8sbZtQ8AQuD4Ewq+vuJU2BAwBQ8AQIAIkOiSHYWFh3wDEkUUeZ2Ke6iRHrCc0NLRK6/CXyT5UpXzKonxHFqtSNttqyRAwBK4dASOK146dlTQEDAFDwIcAyU1WVpZs2rhRVi5fLmfPZkmbtu1k0ODB0qt3H2nYsIESIZLG8+fPK1mMiorylXckiTscofQd9G64PJc7zmzMs3HDBjl65Ij0u/lmaZ2QoKX9iVh55Z1sZvY/zv38vXfvXtmze7d07dpVGjRsKJs2bJSExATp07fvJfm1Mu8/fznc5erw38/tgoICKSkpAUYNJWPfPtm8ebN07txZevbsKTTgM095Zb3V+L4qkseX2TYMAUOgQgiY6blCMFkmQ8AQMATKR4DkhJ8jIGav/v3v8vvf/15OnjopsbFxsn37NvnXX/+zTHn/XTl37pwUFxXJ13PnyrvvvC2HDx3SciSO/DBR01ieNo3yXZ7LHWceR8C2bt0qX3zxhRw7dkzrKC0t1W+WLU+bybJMLO9kcB8/LMOUtnePfPH5bNm3L10yT5+W9evWSkZGhlD21ZK/LNd+16Z96Wnyxqv/kKWLF2t9x48fl1UrVnjwgWD227UjNOybWlIn25cHfXBlrtYuO24IGAJXR8A0ilfHyHIYAoaAIXBVBLZv26bE6bvf/a7cfc89Ssjy8vJk6tQPZNGCBZLSoYMMG3aLHD16VE4cO64EzBEzf/LEivzJHPM4skYyFHjc/7fbpmaucaNGEh4ersSP8vhxpO5q8lmPq9dtR0c3kCZNmkpERKSk9uolXbt313a5OrRhAf9ce137/et3Wc+cyZTde/ZKXHy8tnfI0KEycNAgX5/ZVpb3L0u5rl1ONuU5Ms02uTyuHvs2BAyBa0PAiOK14WalDAFDwBDwIUBSVVJcrESncZMmSsp4sBHI2u233yEJrRNUw7h2zRpZvXIlNH1HpVHjxvLAgw9KYlKSrMS+eXPnyPHjx1CmiYwYOVJGjx4tLWNjhQSU2kqaq1etWA5t5SkZDHP22HF3SVKbNkqIdm7fDm3f57Jnzx7pAtNwTk62lF2AphIfpj17dsucL7+UnTt3gXCVSJcuXUBm75XuPXqo7N07d6JMjtbF/BMmTRKaxb+EVnLj+vWSCBNzdHQU+ljEw3ICWr+tW7dIQkKiNG/RQhbMnyd7UbeH1IVp2ZhmzWTYLbdIamqqyv3qyy9gvk7T9vbp01vrbwh81qxZK3t27ZTzINXNm7eQNm2SoLXcJ8nJKZIK0zM1sUsWLZL58+ZJTm6OmqPZ9k4wTZ88cUJ279olhTBdZ+zfL6tWrZSWLVvK2LvGyyCQzQYNGmh7OT6WDAFD4NoQCPst0rUVtVKGgCFgCNw4BAoLC0FWtirx6NWrt48U3KgWFcGsvAGkasG8uXIMWsOSklIlgwnwEewMYtYChOosSE8afP2Ytzd8+zp07AiSNV/eeetN+DO2lVuHj5DC/AIhqQqPiJBu0Noth7/jn/74RxC6w0qcSITmwXxNWT1AwtLT0uT1115TonfriOFy+vRJWbhwvjRpGgOyNFhOgEz97S9/lVPYP2LECGmdmChrVq+WfenpkpzSQc7Cr/Kdt96SBQsXShOQ146dOoEURsvsWZ/Kjh3bZeiwYSCXZbJk6VL4EhYqASssLJAZH38MYhiufSsqLIKmMULioRUMgzZvJQjtkcOH5Wb4SB7C9yt//jPM7oUyiuS3ZawsgZmZx9u3by+ZmWdkX1q6tMN2/4EDYXI+LNMhuxmIZiLaOnXKFPn0k5nAoof0giZzA3xAV69apeS1DJrFqR/gONraHPlvHtBfDh48KMuWLAEBT1SZPB+MKN6oq6Jy9XKcbKwqh1lN5DaNYk2gbHUYAoZAnUXATWzUzr34gx/I9GkfypfQ7s2cPl0iIiOlX79+MmHiJOl7003SG0RnF75bgOxRaxgLjSGDXJ559jklUdTiDQS5Cw0PkzOnT0k2yCBNqM2axciDD02Qe++/X/Lz86UxTMD792eoGXvrli2qwXts8mQNLKFmMDIqWjV8BJ2EevCQwfgMQYBIFx2HZs2ay/yvv1ZC26x5c2kIgjh8+HB58qmnlJx9Be3j8RMn5ZHHHlONKM2+rVu3Vv/KC/AZDA+PkMYoQzJLAjz6ttt84zv7s8807wMPPqQm5FXQlt55550yFNpFEkP2JyYmRtZBu1oCub1695Yd27aC5A1QrEgiqYmNjIyQLZs3Kfl+eNIj8vDEiVrHTSCf9AXdsH6DjBg1EvkiZeCAgfL0M89I23btpFu37koujxw+IsXQ8pLAOjO1r5G2YQgYAhVGwIhihaGyjIaAIWAIlI8AySL94hgR/Ktf/0a+9+JLMPPuBJlZJ4uhqfvP//d7eQH7SBbz8s7DzMpPnjQEsbnn3vtA+vZDi/ilRvymI7jj4IEDMnLUaF/EL83TcfGt1E+P0cEkR9GRUVIA0ngKpmgSTmrfSIzon9gOco8fPSalIHWMumYE8TaYsBcvXARyeQRBNtuVjJFEUV4USBnLNAdppF8ltZAkpzSZ8zj7l4A2tGIbYM4m8XL+gNxmHmpJv/jic/kEBJmEdhg0kSSVJKkdoTll/STQ7BuxIWkMhdzzMBvnQ1NZUlKs/aNcElNqCzMzs5RsU1PJvpVhfxw0ku2TkyUb5vUzZ86ouTu5Q4qSU+YhiY2GyZlmd7bNkiFgCFwfAkYUrw8/K20IGAL1GAFHRKjlW79unTAqt99N/aRp06YyBBq8oQjMoLn3rTfe0Ajort26qRaOkJF8sRzJ1fSPPgJpClWzL/0HeYwfMB1Fl4SvrMwTgUw/QJIpR9SYgaSKH5ZREgdTMYvTM28Dlsp5D1HWNDXTvJua2lMJ14mTJ0EkXcQyM3vq1Lq11ovBIVoH6nTt8R72/Q5HmxavXCGzZn4CgjtKxowZq/LY+nWr18jbb78lxxGB3a59MsztHbS4Ej+0OQyBKiSMntb6JOuGYoCtMm87QxjUgjIXgIU7xv6WgqiyrgiQdYoiQUVvfHkulWq/DAFDoDIIGFGsDFqW1xAwBAyBchCgeXfN6lVyGH53LWGK7d4j1ZeLARsN8CHRI6nhH03SkTAz019xzcpVctttt8ujjz+u5lzKePftN5G3TKN9lfB5SZwTGhJKYiVKOin/3Nmzko9gl3Bo3lhHIbR7RcUlqm1bu3atauP+/f/+X/g49tJyH4OYnkIkNsmZUjQ/+RHQyDVq1Bjy8lW7SE0pU0H+eWj+CjwltHpPG/h/DczIM6fPgDl9BMzVj6u2kmXOYBmdFVjqhn6JP/rxT5QIcz/9Drm8Dgki28tGhMPcrsEw3rawZTTFk/TRN5LaTyZqG3MR1NKiRUtp5IJVQCA9rSE/RUni43ZoKftnCBgC14qAEcVrRc7KGQKGQL1HgKSERIeBF8OHj5C//OUV+a///APMyfciIjhBcvNy1aTMKF5q2piP/CUNUcjbEYjDBaspg0vmHEIQRmhoGCKNP0eE73y5/Y47vKZYaMxAjkgcXSLpJBmMBHnqyQAPmLjpEzn+7nsQWbxHPvt0pjRDBDFTGLSc9HU8dOgwgmuayGYEg0z/2KPBZFsol2ZfEjL2JQyELbVnKgJSlgn9DWnKzsnNxfZsRBlzWR/0GfWrSRoELR19m/L+e5KTnS2xcXFCn0keY9sYAc7+0UTM/pEIrgVB/GjaVBC9WNUCkoiSaO/csUPN0vRbpAaRbaHfJwNXPp89WxqCFDLKe+6cOYh03i30yYxu0BBBMh6TtHZW+0MNY6kXM49G1h2zb0PAEKg8Ahb1XHnMrIQhYAgEAQLBEvXsyCL9CLlWYtre3YjE/UCmT/9YFi1eJFwm5jvfeVa4PiB9C+lntwVkaivePkKSxyjjJYsXosxUvFFlHSKHW0syTLTUOKakpGg0MyOTaTJOgB8iSePBA/uhJSySHtBcMjKahGwhfCGnIZDmGHwTGfGchPYwGjw5OQUR00fl448+lPlzv1btYocOHfF2lQY41h5m8hh9iwtlc2kdrkvIYJt4+CdyaZz3331HdqhPI3wf8aYZaksZbEJfx4SE1qopJTk8hUXG6fu4fNlSWY4I6U2bNmpwSZ8+fSQdmtMPoEXkepI0NXNpmwZYl7EN/CJZZy6IKBciL0KfqJElsU2B3yHfLEMyvS9tr0z9cKp8CT/OXATrTJw0UUYhgIY+mhkZ+6RVq3iNAGfbqV09fPgQfBYTdBmgUJBTJo6TpeBGgGNk4xR8YxSCp7Yb/sjFJgRBM4JvdKxFhoAhcFkEuL7elCnvg6iUyWMwdzIQ40YmN8mRwGVn5+hr6Wgupb8il5vxv8+R5HJdRK7zx08eNI+ZmZkgklEgSi01EINvcVFiifsj/flohnVmYJZnv7mPWjrWzWhnYtKkSWPIhKYNZVg/Pww04esFKZPrHrJOvjaPxIoyeZzblOcSZTIP2xUFgtsUkcokqczHD8uQ9HE5HOajbE1KyOhDGKr9Zt+5ziHlsM0koayHS+y4PGwrg2hYJ4+xHraL/ec+Hs9CeX4zSpsR18ST+Vg3MXBt577y+uP6Zd/BiwDHmh9LwYWAEcXgGg9rjSFgCFQQgWAjimw2yQsnOhIpl2japanYfwJ0EyLzkzwxvztOosNE8sPjTDzGbf/fV9p3aRkGtnAC9rSJ9VHOleSzPPOwnH9f3H5/+W6b34HJtdlTv4cABNbv6mEe/+TKuuOuHfxNGUwON5eX+1xd/vu431LwI+DGLvhbWr9aaD6K9Wu8rbeGgCFQjQhwoiNBcWTPVRVIghzRcROj+838Li9luG0ed9vM48iS/z5/GczD5DnOdx+TcLoIZz2kbXTlA+W7slfqi3+Z8up2Mvhd3nH//rn+MK9Lrm3u2x9Tt8+Vc79Ztrx9TqZ9GwKGQOURMKJYecyshCFgCBgCl0XAn7RcLlNgnsDfLOe/z3/byQzcF/jb5QuU5b/fbV+u7OX2B8q8Ur7AvK7OwO9rlVFeufL2BdZnvw0BQ6BiCFy0j1Qsv+UyBAwBQ8AQMAQMAUPAEKgnCBhRrCcDbd00BAwBQ8AQMAQMAUOgsggYUawsYpbfEDAEbigCzgeNPmvcdmv60Q+Ovy0ZAoaAIWAIVB0C5qNYdViaJEPAEKgBBFykK5dD4XIyXCiaS7BwORUljkYWa2AUrApDwBCoLwgYUawvI239NATqCAIn8Y7ijIx9cuLECbyhY6eSw4VYyDm+dWtdoLpVq1Z1pKfWDUPAEDAEbjwCto7ijR8Da4EhYAhUAAFnVt65c6e+Km/+vK8RGewpyNVfRo8aLd9/4QXpiTeYaHIHKyDbshgChsCNR4DR6haxfuPHIbAFplEMRMR+GwKGQFAi4CYQvjYuCa+b41s6QvEeYywkIyXFpfpuZb62zXkpXrp8c1B2yRplCBgChkDQI2DBLEE/RNZAQ8AQ8EegceMm0g7vCG4ZG4vdHjoYG9tC2rVvj9fXNfHPatuGgCFgCBgC14mAEcXrBNCKGwKGQM0hQPMz312cktIBWsUkaBJL9JMIDWOHDh187/t12seaa5nVZAgYAoZA3UTAiGLdHFfrlSFQRxHwvO+4VXy8JCUlSUgofJrwSQBpZBCLRT3X0WG3bhkChsANQ8B8FG8Y9FaxIWAIVB4Bj6k5JiZG2icnS8OGDXQdxWSYnZs1a67iTJtYeVSthCFgCBgCl0PAiOLlkLH9hoAhEHQIkARSa9iiRQvp3LmLNG0SIyUlJdKpc2dp2bKlRUwG3YhZgwwBQ6C2I2BEsbaPYD1qv1sepR512bpaDgJ8AwsJYxyCWUgYmVpjDcWwsDBxx8opZrvqGQKmWa5nA27drTYEjChWG7QmuKoR4Bs5LBkCJAD8JCQmSGpPz5qJCQmJwvODDxNGEOwcIQL2YGnngSFQNQgYUawaHE1KNSMAXqDaomquxsTXIgRatYqX7t27S2lpmcRCu0htIpMRhFo0iNXYVHtgqEZwTXS9QsDezFKvhrv2ddZN+ocOHZSPP/5Y1qxeBUJwQfgmDkv1GwEEO8uJ48d1ge34+Na+hbbrNyr1u/c8J0Lxr3//AfLQhIclGQFPTEYaFYag/8dxsrEKvmEyjWLwjYm1yA8BRxSPHj0q27dvw/t8E6RP374awOCXzTbrIwIwM4djTUUmrqfoXXu7PiJhfSYC3jU2t2zZItu2bZMhQ4ZKe0TDMxn5UBjsnyFwTQgYUbwm2KxQTSLgecoMRcBCgtx663AZN26clHrNjDXZDqsr+BBwimUokiwZAhIKjdS8eXNl4cKF+npH3jvcw6bBYwgYAteGgBHFa8PNStUwArzZFxUVSXZOtpw6dUpKSktruAVWnSFgCAQzArxHRISHy9lz2VJYWEQFoyVDwBCoAgSMKFYBiCaiZhCgdiAsNMxjbsS2JUPAEDAEfAiAGYbBFYHLJJmp2YeKbRgC142ArTdy3RCaAEPAEDAEDAFDwBAwBOomAkYU6+a4Wq8MAUPAEDAEDAFDwBC4bgSMKF43hCbAEDAEDAFDwBAwBAyBuomAEcW6Oa7WK0PAEDAEDAFDwBAwBK4bASOK1w2hCTAEDAFDwBAwBAwBQ6BuIhDURNHWv6qbJ531yhAwBAwBQ8AQMARqBwJBtzwOySHf2Roa6uGwpVgvj0sduN81CatrC7+resmFQNnsl76rFnWFVtPyDqyTeBLLK+HJfFW9vER1yKzJcyEY6yKm/HCRYQxYMDaxTrXJ8K5Tw2mdMQQMgQoiEFREUSc9kBiSMm4zcZtJSZRu8U1NmByRj2TG3by9h6r0i3W4+qu6nkDZbHh11UXZjmxfrQ6Xr6r7y3qrWib7Va8SiSE6rJQQ534E1ozjdnEJXl/H6+VGk8WA9lXp2FSn7Ms11L9O5AnHYs5huCcQ7wt8M9CNxru8dvu3ORjbV16bbZ8hYAgENQJBRRSJ1O7du2ThggWyc8dOfZ9vQkJrGXXbbfqS98jISAWTpONsVpa+qaNZs2a+973yIMkI09U0Ysx3uTwkpTx29PARmTt3jmRmZsqYsWOlR2qqT3ZF6ikvj9t38OBBmfPVl9qHsWPHSYMGDfDqqa8lPz9f7rxzjCSnpPjq0o3L/HPyLtcXd7y4uFhWrVghK/HpjXcl33LrrdKoUaNL6qCMvLw8yc3NlSZNmmibXLVOzuXqcfkCv5mfdWdhvDh+MTExgVnsdwURCAVRofaQWuFSkJUMnEOFhYXStm1bicb5487bCoqr8mxhaB/Hu6TKiSuu1VAsth6G2xWuW/a/JpLT7LuH1KNHjsjZs1mSmJQkTZvG3HC8y8OA5wjHgOdHUDw8lNdI22cIGAK1CoGgIIq8EfOzbu1a+dtfXpE1a1ZLdHQDmGBBXHLyZOnixfLs974n48ffreAumDdPCRwJ5F13jdd9bpJ0JlX+Jrnx/+2fhzfTQPLD3/6fk6dPySK8M/TAof3Ss1dPEMUe2s5QvB2E5fmhTCZuM/G3fz3c5+rhtksnTxwHIZ4v5/POy039+klMk6aybMkSfUVd35tu0pfZl5TA7I4J0j+RJLNPrp2uHa4O1w6W8d9HsrZj506Z/vHH2tb+AwZIYxBF0mona/u2bTLtw6kSF9dKJj7yCMYg2r9qLecvkwddf9km1y6dpHCMvw9jcp3+0UeYYM/Kw5MmKQF1bb5EuP24PAJ8qMG478/IkB3btkq3Hj1wfiTLokWL5NTx4/L4E09IYsOGUgRyEI58IcDdl1CWY+R5fMKY8Lz1P+7L6N0IyM+zj+OIwdcMHH/Kc0nleWVu27JFDh86JH1xPrdOSJASnHOBdfmXD5SNE/GStrIOniusv6CgUDZvXCVFxUV6vTRu3ETz+p/vzH9Z+ZSNjyZ8+/CA7PJkkCTyYW7Xju3SPjlFegDzLVs2y8rly2XCpEdwP2guJXilJDWM/vgE9oHHAuV7GqGN9bWDGkq2yWHCbYfzJTK8/XDXIWXpcW6EhMqeXbv0POnWvbu0bdcueDWfbK8lQ8AQqBUIBAVRJPk5DVK2fNlS2ZuWLk888S3cjCfhBhgin306S95+6035ZOZM6dixkyRgAlq3bp3sAukZA01cVFSU3lDdzdRpGyiTN2h3Q6XZyD/553OTC/OzHEkVU0NMvjHQWDbLbg5tWBT2cNIK0zyq1YFmg3KvVA/luDYwn2pbsI8axJiYZjAfRkokPp26dJFf//Z/6Y09Li5OtaThMC2WlyiPsvhhO/ib7Xb9YBke4z53nPVR+9qiRQutW/3akI8TFCdz5t+7d6+sgMbxgQce1Lzcx0RsnRzKZOJvJn9cXbvCMCYuHdi/X5YsWSydO3eGFqap1uOO2XfFECBp4Dts09PTZNmyZdAgtlPCVwZiyIcJnkNNoamNLiqW4qJC1VL7JGMMOfa8Tjg+JFye8xtSvePry4vj3McHBObn+FNjWQhChMJ6LBLnZBSO85wgkSkoKPCcG9jesnmzZIDM9rv5ZpzTEWhLkRIflc/ySNxP+SEgNUW4zgoLCzxkBsd4HrKtzMO6ea1Qw85r7mzWcVm1cqXEtWolgwYP0eOuTSoY8lkDr5kG3vbRRMz2leFcpTzKZeK5zz548ChQQosMeowyucX8aXv3yOpVq0B6EzV/WWkZzM645nENNMWDXQnaWgzMC4G5toUSUK5Bg4bAL9In391PfHUwH+uBnHD0mSkC2nZeS3yfeREwZx3sB/uUT4y99yTKiEZeHR/vdUmMOBZlpSU6BvvS06Vb9x7a3wLI8vZM67F/hoAhYAhUFoFL2VNlS1dh/pJiz6SAO6g0bRYDrVasNG/eQiZBs9WxY0e9kdJUOv/rr2U9iOL58+fl/ffe1clmLMzCaSA5n4JMpqXv1VYlJibJXdBADhg4UHJysuVrNSFnSft27WX7tu2ya9cOad26tYy/5x7kGaRm0ePQznz15ReyFJo9kqp2eCLPPndOJ7KyCx4tCgnq7M8+Q/lduNeXSlxsnIy56y4ZOnSYTmoLFsyXAxn7JRZkb+/u3TrhUDvHiXz2Z7OgNV0jsS3jpA3MhdQm6g0eN/ksmLdXgARQY3LrrcPlEPr49ZyvdKLjBBIOMlBWVio39x8gt99+u5SiDE301Erm5uRIx06d5d7775devXpp/znJrl61EkT7Uzl56pSk9kiFWTkXbS7TspyA+HEan5WYhGkKLyjIl6/wXYpJ5/4HHwSxbClLFi9S3Gk+bte+vdxz732q1Tly5DBwnatapBEjR8mQoUNlD/o8Bxg2wFgRv7Vr1siZ06dhzs6TN157DVrFiZKa2lMnUU7Glq6MAMkMtVunTpyQ/en7JOvMGdm5c4fENG+GwaNfa4jswzm/ZvUqOZedreNCUq7kn0SipFjWr18n27Zu1WuoT5++0qlTJz3u72fn6qE2eOvWLbIV2kFu9+zdG9q0VCVgfDjYty9dNm/aLJloR3M8dPTC8ZQOHaA5PiwHD+yXkydPyMaNG/HO3XB9ECIh0oSxJmHbieuHhLIQ51lKh47Su08faQw3B54L+bimN25YL3v37AGBLMI10kZuuqmfHs/Yt0+OQwvPa3nH9u3StVs3ieYDiZ98avcOHTggmzZtlMzTZ6RdcjLK36QPR3mQffDgAdUA5ubkah9JsPv1u1nP6Ys6Rs91cfzYMb2OT508JdSUJiUloRsXlMAdOXxYZhycJseOH0P/+0iPnj2VyLOfvO7WrVsj24E3yWgfuHl0wP2Lg0WM9ZznN8b0HMzYZ4AjSfNBtJum7c54YEztmSq8F61fu07J4839++v9gmWJ4Y4dOxTDPLiItIpvpXUkJCbKYbSLfWTbiQHvly1attB7jF1rHB1LhoAhcC0IBAVR5A20ZctY3CB7yWKY0/72yisgbF9KL/weNGSIDMaHpO4YboDHjh2VU6dOqhaDEwpv2rtBTl79+9+VzHTv0V1vrl9+8YUcwM2XDv/U0K1ZtQYE6AuJh5y42FZKiEhiTmIiaNSosSTiRjvlvfdkyvvvQovYXFrB/LoDhPIEJui27doqtpysWA8JVafOXaQBNI40/2WgnuioaDX1bN6wUWbOmK6TG7UuAwcN0jZ/9ukn8hFMsK3Qlvz8AtzIN+lkm4pJhv0/DTI19+u5HtLXsZP2leSN2oVSEMRzZ89hksxVbQXxWDh/vvwFZvoITDgtWrZUQkj/zhdf+oHQrLwY5O6V//4fTB6HYDprLytgMuNESwKhWkHv/O1OmjOnT+lEQy0QJyxqF8+BJK9ft17++w9/ULNdq1ZxSgxJkl/+4Q+hOeqvWo8vPv9c0tPSdRKntncmzNuTn/yWEtFDMEXmgRDzQw3N2ayzrkr7rggCODdIgEgoDoCI8dyn/25SUhslLVvhLpCx/4A0btwY5v1MoVvGo5Mfl5GjRuGcOSuzPpkpi+E+Qb86arYWfD1PHwBG42HDcx54TgSeq4XQXM0D8Z+Nc7U5HhBCw8N0vMfhgeuu8eNl9erVMnP6x7i+IvAQ1wwPVIv1PHz6O9/RB4sDMNVmnslUkkQfWz7oKRn19pPa6unTpimBaty4kXw1Z470wkMDy1PLOHXK+3A7WaPXIjVrc/HAMWDwYBkz7i4lZSRAYdAu7t2zW10zqH10ZJdEaD1cV6ZO/QAPYHlqCeA1sHrFcpyLT0kjkNF5c+aCxG7AddtIMT2Ja5vX0ZNPP63XDEme07Tz4Yak6wSIL+8vJMy8djgGU947CHya63U8H3jfc9/9cu999+HhNU/dLFYsWw68E1UTyAfHBx58SEbiQYqEn8SWD4cNQHIPHzosH37wAcb2tLpk0DeY45fUhqRUcD3lqH80ifXkJ55U4vz57Nm4/3yF/sXg2msg8+fPU7/jJ771lOY/fPCQ3m+2g+x3A5mOxQM3ySXYqHcU7MsQMAQMgcohEPZbpMoVqfrcvHFy0iJZa4kJ6jQmxd0gIyQd1JgtXbpMyR9JVdeu3SQ7GzdQaLd+9otf4Ab6hMd0hBvwxEcmyT/96McycPAg1WIdO3pUbrq5n7SMbQkt4ja98dOs+qt/+RcZDO0XidNR5OFTP53UedOOaxUv//zrX6uc1okJqnlgj4cNu0VawezFxInhByBKt2GyzYaGY//+/dK3bx+YxROhadwpnDCp9fv1v/5WHnhogmpaZsyYIcnJKfLPv/mNfP/FF6VZ8+aq5WmECZ7tbQhzFW/unKhIBO8cM1a+9dTT8ujjjysR3LN7D3y/+spjj0/WCf2DD6ZIC2g9f/tv/1t+iD6TLC6DL2eTmKYg1QkgzXN10n3m2efkX37zrzIMwSvUshzA5NcTBJyaoIacaIEbJ1ma9Tnx7oS25qGHJ8pPfvoz1ZBOBSbh0A795n/9Vn7ys58r4VjG8UBgAbVB1IBwsqZJdDk+HLe7771HnkTbB8NESFP37t07VTP081/+Usu4OhXMq/xzeY+AvFIb1aZNG+kADRbPmfqQODbU5MXFx+uEz2CjhydOUvMuCQQ1TxMwXi++9BLO9f6qmcrOPqemx63wqVu+dKk8hmvkpR/+k56vNJNuwHXVOr61PjQRR1IIBqJQC0aN+tBbbkX+H8ro225XcnQEDxtReBBKT0tTLTFlsQ3d4beXjgcKEixeHyR30UepOnUAAEAASURBVNFRMhmkpXOnTvqb7SfBysnOVl9jBkn94OWX9bpoCW08teEJILFs8zZco2PHjZPvvfCi3P/AA8JrYw3IaXf42/WG5o5aVZ6390HTTTcGPQdw/lLjfhDX4IyPP8IDZ0v5px//RH1seU6vglad1ygDfqglpa/sk2jfs9/9rnTC8T0gnWiialkjQd4ok9dgK+BNrX0RTMtsyyAQ1p3Q5FEGNer/9OOfyvCRI5WUHYdmkdfBju07oEFfK49PniwvoY+jRo/W/m3asEE1grx/aIQ68KapmfenxYsWKo4//ulP1ZWGWsGMjHR5HA9axIH+whs3rtexoisMTeED8PDJ8XkA7UqG1pQWkoYNG+A+MlgKCgv0Op706GPaJo4N8a8viWR8//4M4QMqzxuOOxPPQ0vBj4DeL2ysgm6ggkKjSG0GU3OQpwkTJ8otw4fLbpjXaGKhX9ImTIjUNsTDzEJzVQnMaQKzLzUkvBHSjHvX3eNlLTQKv/uP/5A0TGicAKiFDIVZh2YfmrZjY2OlS9eualbmpNYak8FJTLScKc9AE0LT6rBbbgFhTdIJg5Npe5haqbWk3oXO4ePRxvXr1yPo5s+oY49q0mhWpvmIiRMLg0R6w8RHkzkneWpZqBnsCbMw20pSTC1f2/btpAD+RZhKtWxpGSI6oT0s4zfK8dhns2bJX1/5s06Ajz3+BEheT/UjzDl3FpNvjrwOc26jRg2hBYSmFdrRYyBUB3GjPHnipPajCyYwaps4mXbFjXPdurWQDw1DQCophb8b8ETV6AP80tBeajoyM89A63pS3nnzLfkUmtITJ7EP+4nJKewnnmMRUMQghnnQhvQBeaQ5nzdo9oEf9ofjpMuKYGK3VDkEeHaQMJO4EEtHkvmdkpysRIMSG4FIUJPF84KrAtCcmX8+H4TkmGqced7lQSt9/NhxPDQdVC2Zawnlk3TS941kjD6RPAfuuOMO1VRR48cHNdZ55swpEKZNSpxOwa2hAwhXiZ63HGu4NmCsXRspn7Ib4ppo1TpeZsE95H/++4/6oNYXZuVhtwzTvDzXv/fCC7imPX521B6uxrXPc5LJcx6VSYn3nHJnEWXz3M4CATwPGUNw/baE1p7aOV67NJtnZnmubWpmu3frDmtAZ7130MUlHvcA3hvYXn8ywd+8TvgQxHOX2KMn0iapjWrqIvDwxPsWHw6pgT+Na4+kubi4CNrP4/IpXD4oj5r0rMyzcA9IxwNOR7322RccVHl0cemKNjVp3FTyoJHkbxLcBDzssTzJIR8iqenn/eyZ554FFmUasHIU1+BW3BupOQYM8GNEP3CMH7aZ2LAWS4aAIWAIXA8CQUEUeUMk0ZgDc3MuNCbjYOYaMWq0fsbC7PT3v/5FFsHESzNwR9xsQ8RDynRSwk2XPkuv/uMfqoHs2rUztI5d8BQt8C/M1pslAeLEEhLKddBg/tGbNCcwzyTGg24i4s2ffnx6k0U+/tZoSWSmye911LNs5QrczDtIN5AkataOHz9xiYmN/XHRypw0PRMnb9oePyW2mwSWsr+R0BaWZ/00w7/zzjtqqnvy6W+rOZFlSOpKS8qkEJNSFohcXm42NJTNZBzIcj/4M0VgsmegABPigVSWZ5v1eaaOb04gaB37ywPEBV8eIg4yjknqHIhpfsF5TFyN5I4771StJAkoE/vHgAcGJlBj43BXHCDPEWGawByuWtD+VQoBDI8OnwdX70ABXWrAqDXieaWR8vjNIA4+DNF0+snMGWqm5vlOX1suUURtnS8KmIJxkGUugIjyHOP48zjzUbvGY9RO0s+WJtNGMB2TVNKnlacUx5jt0h/8r9u6oWNODRq15BEwW38++zNc03/Va3HUbaPlwYcfhik2Wk2q87FEFE3g1LizTl6vfAijZCaKdduePZ6dvH5d/cSBiftIjkmc+KDGPil2/MaH5yOJp6+t2OeSpw7vf1TKLeajdp3nsJ7LxFuvM09ENfHOgA8nSaNHJjwfkZcBOCTKvK8gxMxVod8kuewTx4V5tY3I5Uz27As/lEeyunL5Cvnyi9mwmGSqVpUaND6AMfCPeSiLV69+eX5cUp/9MAQMAUOgsggEBVFko0kwVmNZnA1wvKcJiE/WnNDOwk8uG+apKDie0/mcUwBunWBAYerMzklt+7atGuAyCZHSz333e+pQ/7e//AWEJcdHxnjPLO++qTd0HKNZKBamsLS0dNW4JCenKDGl5kUTCm9DPStWrZCxY+6U57/3fZ2gX/vH3zUfJxAmTin8c4kTREKbJJiDotUES00J66KJiSY9mt84OTBpG3XCL1Wfwnfeflsny+eef15uh2aHEwkTlwaJiIyQLp27qgmcmkqaBdOhtWjXPhkTSBNJghmfpvv0fRnSf+AgjSpPS0OQACZ2Ti6uThWo/zyTGvdHoa3UINEZnr6X7ZOT5eV/+pEGBtHvk3WxDzR307eSPoob12+QhMQ2qpX69JNPNDqdmilqKDlBRoEo0LSteF+s1LYqgQCHX88u34mMXzjVfGOJH57fF/ThgtfRADw4PPXtZyTJq+Gl5u4UxowEkGREx0MFgwR5tYjUKGPQ9PfRI4flEPzeaPJetHCBarbpzpCSkqJuG9T063mJir1iLh1j7GQdBQgm4XqkXL9z/D13q+/s1/AZ5Nqe9AdmtDKJKFcyGAH/Smr6FkJDPWvWpx5SRpzYP1wfmliZS9jmfYCEkI2g5rDUu48aPtZPLDxXpYeMsSj3a/+dHL9vj3TK9eRx155W6y2n5fXJCqZ71Ekt7MgRo+TJb39brRd8gGLEMjV+PPf1ulMBFyvSnzqunvb4jqAOl5gnLCxUXVW++Hy2ruc6/u57NMCGri4fffghCC/6jjLMG8KHYeIUUJeTZ9+GgCFgCFQGgaAgirwJMzLwttvvgDl3r7z2j7/ByXyeBoTQvEL/NB7jWmaczKIio+Bvd1refPN1RHqeU1MMzb1LoIGjhuMoTG3Lly3VSGM6tjOVlpSCJBWqBoG/qS2heYaaN04wHbp11IjRTz+ZIX+CaYz+Tml70ySD5AtEiZoD+vTRDLR27TrcuP+hfo30yyMRYuAHU0lpsRRgcuIkzH7xk5KMddhSe8jXiNj+rz/8p5q8aVbfD7+qmGaeqERqDaiR4LRP0yB9szZsWKfO6J/Av3EOAnEKC4rUf3HEyJG6RMiH8FP87//6L0Q8dwSxXIEJ/SB8p36s6xXS+Z6O9u+9+45OMIx43oxISPaZWic38Wmj8Y+aG2p90Fw1d3OSuwMLf9MN4K03Xpc//+l/1OdnA/yttm/dJt+HTxwjLVkHA3VSe/eCr9zDOvFzrcYEmMnoL6br+mECW4agAkaBPoQ8vdE2S5VHIAykhG4XSuRIJPChKVoHzYnDT57P9AVshwh/aqBWwq/tXhAvmi85NpsQlcxIfC5jw/OBlISkh76fa5B3MwKtGBQGtqHBLPxNFwOeM/QRpgsDtX10waBfYWu4ajBRBqOVqb1zv9Ec1epl4/ybgUAYavkYmNG9e0/47+XpagX5hflSmpcjTfCA07tPb3VboNl8FdpC9wYSLF73jMTnSgFsh4cYerSB7AMD1pojwpfnOE3kfLjhCgX0a01N7Qlf2ebq1hEKwsX+MlEONaiB1wLbzL7wmjgP071qNvlwRWxZhht+iRq9xvCZ7NytK4J9pqsv5t333qum+4+wLinbQZ9BPjhRS+8SxUCa+6nf/B0on7l4zWbDz5OLjtOcTvP56dOnYJ5fJfvw4MaxZCIuXC6HBJnb33Qy0Wz2zxAwBAyBCiMQFESRreUT99133w1fnUaIDp4G7dte+NwUafTi45OfUILRAWSSEw0jielYziVx0kAs70K5exB1SMLCpV0GDhgkfOLmUh458FXiHZ7LSLRpm+RbioMTD4lMUpskNQtx+YtJjz6KllyQBSCp9M0bNuxW9f+i1oy+Qrw5PzhhgnwG89u8uYjYhD8eTePUsNFkzgmL0dttk9qo1o9mL6bklBQ4uD+JCSoUgTlYVBukko7ujErkOmfsO814NFFxvTRGalOb1wkaQ7bnJCJdOXnw2HHI4rGJus5kqC5Fs3X7VvWd+sWvfqVvkKG84SB4XEJo6gfvY8JdIbfecqsGPWxFwAJJBPvPxAmRiRrRbt274Q04N8tCRMnSL5RBDYzYZB76XDHaOR5t/MnPfy73wA+RzvhrQWjbYF2/CRMeltGjb5OYpjEasb0dCxXz0w3Egn6fXKaHhGPAwAE+ws96Xf3ctnR5BDj+iTiviNcf/+uP8hDOQ54b+ho/7xhyJEmqPObWUiz90k+Xi/kEvqU06fLhhW4BY8aN1XUt1aTprZIPBlxWZ/iIEYiU/kTWIfqYJJQkSJc0Avn6GBHLHyC4aQGWZYqMisT5zOu2oeTBJ5JrOianJOPcmS+/+91/qBZz0KDBqg2kmTa2RUsZCM32NMj4l1/9Us9BBlelQhs+Alo4PmgxKOPffvtbEM8ErZsmaEYXM/qXGlAu4v0piFguHg4ngnhRS3oBstn2RFzHdImY8v778s8IcmMQ1Vm4S3Tp0lVugzaeS/DgbFOiBRC119QWhiGym+TRJT0fgTUfmhgpziV7+BIAamJp+o3EdeLcSliGZIzaRLqg3NTvZpie92lkOJfxIrFl4B1daVJw3ToTMu9H/FAOtZCU4RJlsU0uqXzIpgWBPs+MNv8bXHE+hTtBGO4TfCiIhjsILS/UOpIgcymwP/z+d/LMs89rEA7vmXadOUTt2xAwBCqLQAgmoEsfaSsroQryswn88GbGD29sdMbnkzx9lUiMAvNw8qDmgtGPvKmzDCMrmZpgnyNprnvuRhkoh/n993HS4ZM7XzfnmVyYw5PHsyVqSqJmgabxq9XjyrB+ahPYbsomWXMpsI1u/+W+/fNzgiUhpKmeBJGTEY9zgmGddOonTuwL63XJ9dn95jfzE3OaGUmMaX5moizKYdubQo6aLb1j5iY5ynMTof8+lqc2l5Gn1C76Y8pjV0tOJpdmmQHCQ/LBaHOS8nqTgC0GR8d1f8Y+OQBNNMk5x5NaaAZIcakmjjPJuxInkBy6PXBdTmrGd2zfpoSGS1B17NRJCSXJHeVqQh0063IcGTHK6F5izHU5k0E+eI3l5uZ4FtUGGWL91P4xcIbnCwkKrwWaQjXICQQtqU0bJacqH/XwvGAQ1ObNm/Qa6tDBs45iQ/pL4vrlGoyMED579pxq3xgQxUAq9pML7bMeRtXznOA6irw3qC+ftw+s//Sp0xolzOVt+GDJ/jaBfK6jePjQQbQhTIPSSLB53TAQhdskhXotE2smyOQ9hb7TdLfggySvL0Zpt4Ymndc+8aErCa8ZrtjA64KWh7S0vYoT5fItNcnJKSrS11ZijbbSJH0c48X1KOkHSgzokuJey0hcuL4qx5SBfmwjA+42AiMGrXXu2kUDYU7jQZIklmNAcr8PD9AngFtKhxRdJQB3Va3fN9aeX3XvP3AleaaLBJcD4woXQ7CChLsf1r0O170ecQ7ix1JwIRBURJHQ8KJm4qTCE8YRH+5zJ5C78P2Pc9sdZxmX3D4n1/3m8fL2cT/r5jFXt79sHne/OZG45OReTqbL5y/b7Qss6/Zf7ts/v8PJtdcdY1nu8x0HJiS3Lvnnc/v4zf38sKzryyVyvLj4l3f53L7A35Tr+u2OcV9FEseAcus1USRQ3rEj+SBpIyFxWFLrp8eBEzXFvM0ySMMRE76RhD56TCSTGuhEech/SfLWQX9BLofDw9Tq8QGHZw7HkJpvtoEkicFLJF4MpmEb2B76onKpHQY3UQPuqwPHKIOy6fdKWTSPkmSxHFvCcnw4oTySJcrkwwXLsT6eBySN/KZ8ahN98pGHGPBdx5RBzRzbTfk8h1gftXdMrq2Uw31OvsNQM3n/8TjbrHhjn6+vvMeg/OXwJn7sscNPxSG/L7HP6BvL8z7iSLuT59rozO7sA/FkGfaP+fiQwPEkRkwsw8TxJpbsP3GrNwmYGlGs3aPNa5IfS8GFQNCYnh0s7iThjZGpvBOH+zi5OBLhyriJ0/12Mp0c/9+X28f9vHG7esuT5V93RWW6fP6y3T73XV5d7lh538zv35bA8lc7Xp5Mf3nu+NXklFevK+u+Xb/db/uuJALem6e+9g4EwWHO8SJ5wQ4VqKTOfx+2ubYegyqYSJi0rDe/7nT//GSQqDG5/JRO4kmfXxIr/uYxLtXiawP20T+Ox105bHoSZLMMCVe2V7aT4fpCUkNtPhP7xP2Fftci66cpWI+jbtdn3cF/yE9tqrMsOPlsC0kgySVluk/gvm/Ig8hrwhtYfwNvXyO9G2gHiW4h2utrDw75jx/3B+bh7zxoNf3HoEiXu/JOsDreGDtg7C83sHr7bQgYAoZARREIOqLoGs6b3NVSRfJcTUZ5xysityJ5rlV2eeWutO9qbbna8UDZl8t/uf2B5cv7fT1ly5NXX/cRR38s/beJSeBx7ADpuujzVhHcKEPNsIGZKcurvXKHeJX6tyHwuMvnvi8r2ysnsF4lwRcLf6N+d8h9X1a+4hBwTylvnxPk/aY8//75bzNL4HHFOwCjAJEXf5ZTf7nykM+XWCZAPlroO6z1++e/eMS2DAFDwBC4JgQuelFfU3ErZAgYAoaAIWAIGAKGgCFQVxEwolhXR9b6ZQgYAoaAIWAIGAKGwHUiYETxOgG04oaAIWAIGAKGgCFgCNRVBIwo1tWRtX4ZAoaAIWAIGAKGgCFwnQgYUbxOAK24IWAIGAKGgCFgCBgCdRUBI4p1dWStX4aAIWAIGAKGgCFgCFwnAkYUrxNAK24IGAKGgCFgCBgChkBdRcCIYl0dWeuXIWAIGAKGgCFgCBgC14lA0C64fZ39suJ1FAG+Fo2vIuTbQCwZAoaAIeAQ0DcE8b5gtwYHiX0bAlWCgGkUqwRGE2IIGAKGgCFgCBgChkDdQ8A0inVvTOtkj/hqM77eLToqSho1aCAleOetpfqMgOe1dRcuuHfCu2deUyfV57MiHPeIqOgoCQ8P59sMLRkChkAVIGBEsQpANBHViwBNSvwcOnRQ3nxjlyxbutSIYvVCXiuk8+EhCg8OTIUFhR53BCMHtWLsqquRJIpp6ekSGREhF8rMRaW6cDa59QuBEEzAN/wR3BGB+gW99bYiCLjT8/TpU7IUBHHr1q1SVloGN6QbftpWpPmWp5oQCJEQKSwqlO3btylBTE1NlejoBua7Wk141xaxfE4IDQuVnj17ya23Dpe4uDhtOh8qLAU/AhwnG6vgGycjisE3JtaichCwG0g5oNTzXTm5ufLh1KlSCjeERx55RGJiYuo5ItZ9fwRMAeGPRu3Ytvt8cI6TmZ6Dc1ysVQEIlJVBiwjlt3vadJrGgGz2s54gwPOgqLAQJucC4blRVFSkhNHOi3pyAlymm/73ByMdlwHJdhsClUTAiGIlAbPsNwYBd9N3RMBNCDemNVZrMCCg5wAtivi488F9B0P7rA03DoHQUBfcdOPaYDUbAnUFASOKdWUk60k/jAjUk4GuQDf9zwVu+/+uQHHLYggYAoaAIVABBOyxqwIgWRZDwBAwBAwBQ8AQMATqIwJGFOvjqFufDQFDwBAwBAwBQ8AQqAACRhQrAJJlMQQMAUPAEDAEDAFDoD4iYESxPo669dkQMAQMAUPAEDAEDIEKIGBEsQIgWRZDwBAwBAwBQ8AQMATqIwJGFOvjqFufDQFDwBAwBAwBQ8AQqAACRhQrAJJlMQQMAUPAEDAEDAFDoD4iYESxPo669dkQMAQMAUPAEDAEDIEKIGBEsQIgWRZDwBAwBAwBQ8AQMATqIwJGFOvjqFufDQFDwBAwBAwBQ8AQqAACRhQrAJJlMQQMAUPAEDAEDAFDoD4iYESxPo669dkQMAQMAUPAEDAEDIEKIBBegTyWxRAwBAwBQ+AqCFy4cOGKOUJCQq54nOWvlueKAq5ysDrlV6fsq3TLDhsChkA1I2BEsZoBNvGGgCFQ9xEgwQsNvbKBhmSKn/KSK3+lPOWVq+i+qpTv+uBIbVXKrmh/LJ8hYAjUHAJGFGsOa6vJEDAE6igChYWFkn3unBQVFQnUggG9vCBhYeHStGlTadCgQcAxz0+Wy8nJkcjISGncuHG5ea5nZ0FBgfDD+lnH9SQSYpJDR2rz8vKkpKREGjVqhH6GXY9oK2sIGAJBiIARxSAcFGuSIWAI1A4EnHZtx/Zt8qc//UnWrlolUZFRUlRarB0IB0EsKyuTpDZt5MWXXpIxY8dd0jGWJ+navWunvPH669Lv5v7yxJNP+kgYMzvNHbddfdxmutIxTw5RTeecr76UWZ9+KpMeeVRuv+MOleNf1uV1+wLr8a8rY98+OXLkiKR06CCxsbHy2j/+IXv27JYfvPyydO7StVzZTi7lXEm2a4d9GwKGQPAgYEQxeMbCWmIIGAK1DAFHgDp16iw//enPJS83V3LzcuTzz2ZLTm6OjL/7bklMTJTwiEhp0ybpGxo3auI8ZDFUIsLD9bjn90VTNn+TbLIuf40d9/GY0/CVB53LM3DQYElO6SAJCQmXyAgsQ3nlyXT7+b1q5UrZtm2bPD55ssobf8/dMvr8aElKaqPiAtvJnaWlpXqMbS3PRO/kayb7ZwgYAkGFgBHFoBoOa4whYAjURgSawKzcIzVGm56VlSUbNmyQqNNnpFev3qp54wGSpYMHDqj2LSQkVLp266ZEy5FNT789GkYSvLOQUwiTdExMU4mObqCm47179sjhQ4ekVXy8dOnSRVgv5Z4/f14JWC6I6p5du5RYdsJxEkMSs7i4OGnRooWSxMzMTDmLT4mXaIbheFRUpEQ3aChNmjTBdpScOXMG7dwjZ06flhYtW0rnzp1Ve3jq1Cnh5zzMzSdPnpA2bdtK27bttOkRERFaF9t+AP3cvXOXhEWES9euXZUss5/5+flqnuf2gQP75Sg0k23atJWOnTqhj9Hlahs9uNh/Q8AQuFEIGFG8UchbvYaAIVBnECA5cloz+gIWg+AVFxcr0eN3AQjSl19+KdOmTpGw8AgPIYJ27rHJT8jYcR5zdJlXm0d/x89nz5bpH30kI0aPkokTJ4KwnZH333tX1q5eLc1B+LIys6RT507y1Lefkbbt2sn0jz+SpUuXQisZBhJ3XjKzzkqzmBh55tlnZcTIkTLnq69k7pw5cs999wk9KGfOmK4+lVEgZzk5uXJgf4bcOWaMPPf885KRkSGvv/4atKN5IKkxcvjwIenYEXU9/bRknT0rq1etlEMHD0oESCCJ6rq1a4UE9rnvfg+kr418NmuWfPThBxIBEzwxCQ0Nk8cffwzyx2rej6Z9KPRrDMP+rKwzcvbsObnv/vtl8pPfUj9OnhSXkuc6c5pYRwyBWomAEcVaOWzWaEPAEAgmBEhsnFmYGjr+DgnFPmxT07Zo4UKZDQI1dtx4eXjSJLkAYjntw6nyxezPpEXz5tIMn1CUKSu7IAvmz5NZn8yEP+NYmfDwwxocM+eraXLs2DH559/8q9zcvz98GnfJ22++KfPnzVN51FCeOnES2xPlwYceArk7In995c+yBsSyb9++Eg4CGRUZgU+kDLvlFrl1+HDV/uVkZ8vUqVNl86Zm8F28U0nsMhDODjBTk2TSnLx27Rp547XXZBfqfGjCw3L86DHVij7y2GPQanaVjdCeRkMLyb6uWL4cpPRzufu++2UC8tK0/sGU92UW+t6seQvUGSLnQDapRfz2d76jmtEPP/hANbA7d+6UwYMHB9OwWlsMAUMACBhRtNPAEDAEDIHqQIAaQsilhvHIUZhY27aRIcOGSsOGDbW2QYOHyNat22T//v3Sr2ULkMtQJZQlJcUyZOhQJYCMUqYJ+MD+A9ImKQlRy9Gyb1+6UBPYPiVZdoFc0ZxN/8aevXrKzQiGady4ibRu3Vrat0+WgsJ8KYY8NEWcxpKVhyM/Sdy8eV/L2jWr5OGHJymBpAbwhz/6sRLd/PzzakI+duSomrZJYpUAQyUJGoyoFG9gCr4dMT529KjExcbL0KHDfBHeQ4YMlX1p6XIUBLN161aqhRwEQshgGCaanffs3q11UA79FS0ZAoZA8CBgRDF4xsJaYggYAnUQAZqSS4qK4fsXDa1j+CVEKNLr10fzLJfI2bt7FwhWQzkCjeDhw4fVN/D8+Xw5B83f0iWLVYNIiJSYgaz1uekmNe2SW0XApE1/RJrBSTZLS0ugpeTajoHL9XgI3ry5c9VMTJPwiFGjFHnKJWmbMX267NixXeuh9jMnO8er8WQADTliIJljHSB5+B8G7SXlsB1MbFNUdBS2ylRjqppX8kwvISRh5TY1qpYMAUMg+BAwohh8Y2ItMgQMgTqEgAZ5gDyVldFfz2OWZvdCseZgKfaRUPFDU/XERx+V1NSeQj++r0HkGIwSHhYqTRFkMgmm3rvuGq8mbsqhppKaQfoJbtu2FeTMSyCxQe0kydoliSwOhIxEbemSJTJz5gwZOWo0zMkTNICFeamhfPutN/X3D17+ofomnss+J+++/ZZqJJWgQiz9C9kGJg9pVOH6m/9oYnb1K2n0+iqGoS+OIPqOe+X4CtuGIWAIBBUCnis9qJpkjTEEDAFDoBYjAIJGDSFJHLVkNB/Hxcap3+BuEDESLB7fl54m2dAUci1CJvoPMt/w4SNkxIiRahJeiaVouAZj8xbNNWCE5JDBKySfDHiZCv8+RiYzsESJm5cc8ot18OPZpg+l53a/adMmDX5JTU2V+x944JJo45OIaGZkMs3F9GOMbx0vGTB179y+Q9tIkkmCxwAdmqm5TS1pCMkeuCIjq89kImJ69x5tD9u0Z+8emJ2P6kLiJIlaBu1yiRgRK0cc3X77NgQMgeBAwDSKwTEO1gpDwBCoIwhQO5iLt6ycPZetfoDsFn0OuWTMq1icmgEoNM/yNyONhwwbJvsRaZyFN7vk5OVC0xgqw0eOlJ07d8iHH0yRWPgv3nHnGHnt1X/IL3/xc11u5ij8BvkmmO889yzIXGsQzhz9MNqaiSQuJwf145vtyc8vwPqOeSBxmbJmzWpZuGCetGuXIps2blINX2FhgfTu3UdN0PRtfO3VV4VBLXyLy4kTJ5Q8njp5EibobJDWloheXiPHTxxH/c/rUjnn0BaSR/oeZmTsk7/95RWZi0hraklpQh8z7i7FgME1XPYnH4TXJZJfRlPz25IhYAgEHwIheMKjzeCGJjYhCJpxQzGwyg0BQ6ByCJCcTEFELYnQY489Ls0RORwMiT6Je+HnVwTi1AnrD/LVfdSWcY3DTRs3yob161UjOGDgQASg9FKNHtdeTE9L0z506NhR85NIHkCgS/vkZASmtNeoZy52TQ1fbFwrGTxkCEzDHbX/DIjhYt/JKSm6pA39Hfm2FAagcB3D06dO67qHca1aKYmljAK0k9ihMimFn2Bcq3iQxd5K+FauXKEBKNRmsp00mxeAbCajLaUowzfRnDx5Snr06KGQc7mbTghKaYrldPJAdl0/w6H57N9/gPaTmlVGbjP4JgGLkHMpHabj2Mf9XJi8NUztluovArxOTLMcfONvRDH4xsRaZAgYAhVAIFiJov9k5x6C+c39zq/Pdc8dd2Xcbx7330dCd7nyLi+/XXlX1u3zz8PtyyUljjgY2E6Xn/KZKD8w8djl2sn9PE65LOva6WQF7guUbb/rBwL+52396HHt6KWZnmvHOFkrDQFDoJYgQBJE068/MXJEiBG+mhzh8hInEil+HJFinsB9lHdJeT/iGVifawPlUCZ/O/lum8f8E9voCKKvHm8GlnHH/cs72dzn2s7twPKOAAT2ieLL2+ffLts2BAyBG4uAEcUbi7/VbggYAnUQAUe4/LvmyJL/PrfNY27B7svtc+WVtIH8+afy6vPf5y+f2/7H/OW4bebRevAdmPxl8Rh/+yf+DtznjgeW5f7y9rn89m0IGAI3HoFL7zY3vj3WAkPAEDAEDIErIHA5EnaFItd0qKbquabGWSFDwBCoMQRMo1hjUFtFhoAhUBUIUNPFpN/cxIfbbr8RHIXH/hkChoAhUCUIGFGsEhhNiCFgCNQUAjSbkgzy273lg9/8+BPGmmqP1WMIGAKGQF1GwIhiXR5d65shUAcR4Hp7/JzD2ntclqXsQplweRm6ykVHN9C1/+pgt61LhoAhYAjcEARseZwbArtVaggYApVFwJmWN27cIG+9+aZs2boZiz2fVzENGzWUPr37ytNPf1v69u3rER0QZFHZ+iy/IWAI1CwCtBSY60jNYl6R2iyYpSIoWR5DwBAIGgTisNh0dINoz9tMsjLlLDSLGekZ+ho4vurO67YYNO21hhgChoAhUJsRMKJYm0fP2m4I1CMEnLYhLi5WUlI6SBO88SQ0lO8IDsUbQZpISocOeG9yXD1CxLpqCBgChkD1I2BEsfoxthoMAUOgChGIioqWlOQUSUpIwmLNJfpp3TpR9/E1cY5QVmGVJsoQMAQMgXqLgBHFejv01nFDoPYh4PwUExITJD6+Nd6AwregXMB2PN4fnKAk0eWpfb2zFhsChoAhEHwIWNRz8I2JtcgQMASugkDLlrHStl1bCY+I0Jxt27Yzs/NVMLPDhoAhYAhcCwJGFK8FNStjCBgCNxSB2NhY6dqtm8TENIXpuRTbXSUO+ywZAoaAIWAIVC0CRhSrFk+TZggYAtWIAP0Py8rKJCoqShITk6QRlsUpLSmVxIREREI30JpteY1qHAATbQgYAvUOASOK9W7Ia2+Hzfes9o5dVbac5wE/cXFx0rlzF/golkqr+Fa+V/hVZV0mq/YiYA8MtXfsrOXBhYARxeAaD2vNZRDgTZ+vbLNkCOhr+wBDYlKi9OiRKhegYaR2MTzcbmd2dlxEwD1QXNxjW4aAIXAtCNid9VpQszI1jkBxcRFe0+Z9ZRuIgSVDgCbohg0bKVE8d+6c5ObmGiiGgEa+N2rUSJo3by4R3mAng8UQMASuHQF7hd+1Y2clawABkgFqEzdv3ix/++srsnnLNmnSuDHMjEYWawD+oK+CZmcmp2UM+gZbA6sVgRBYHfjA0KPH/8/eW8DZdWRpnkdSplLMzMwyCC2jLDNTGarMdvE0VFc1zHbvzM7uTs/01m7DznShXWZmFFhoW5KFlsXMzAwppaT5/uflTT+lM1MpJSjhRP5evnfvDTjxRdwbX5xzIm4/+/nPfm6XDhrkLglhjShT2Estc5714TJQanCWWkahUSw1KCOjskTg2LFjVlsbLT/yyMN25ZVXWU4uQSjLMiPvCo6A/BSTQcX9VzXIRKjGCKg/4H4wffp0W7JksR3VMyNCIBAIlByBIIolxzByKCcE6tatZ+3bd7TuPXtaTk5OOZUaxVRoBEQOPARJrNDNVB7CMVnIFFHcsGG9rVu3Jm8SUR5lRxmBQFVGIIhiVW7dKlY3zM05J0/Y8ePHtSVKEMUq1rxRnUCgRAgki1dytF3SqVO5E4gS5RiJA4FAAASCKEY/qFQIyIPFakp7dCo0SJWq3ULYQKCsEcDxwF0RwgOhrKGO/KsZArHfSDVr8KhuIBAIBAKBQCAQCAQCxUUgiGJxkYp4gUAgEAgEAoFAIBAIVDMEgihWswaP6gYCgUAgEAgEAoFAIFBcBIIoFhepiBcIBAKBQCAQCAQCgUA1QyCIYjVr8KhuIBAIBAKBQCAQCAQCxUUgVj0XF6kLHM83FC5ChmTj4SKi+BsKuF6cuEXlU6WvFbUvX1HXygOUsiq/pPmWNH1xsDufMs4nTXFkOZ84ZSlLSfMuafrzwSPSBAKBQKVBIIhiJWgqiN3ZXkGV7CFWWHXS8zhb3MLyqLLnNVDm33Wthp9InffdNkpjO5585RQr34LSlEZD5CMHqeqmULiQciUTIp/MnE/d86UBKr2nlNlRyVDLl2+JMMrNK5EI1IuV39lqkJ7v2epbUH3Olv/5XM8vU0Hlnk3W8yk30gQCgUCpIRBEsdSgLLuM2GD62NGjrhFMDeWpshhcOM7MzLA6deoWSSZPnDhhR5UHoW7duv6qKz+If8b7YWvpA0nht36Yv0NY4CYEnWu19NYHQvJ+4XOFrqbSJwQI4sJ7rE/rU1SoWauWp0lk4/tUSV9fmFtPZEEGlwshcs9zjk+hITce71dGHva15Pt8cckrh7zAn/wSuZLfOn9K189W96QtqQv5EEosl/JI2o5N38HttDZ0LhIjpakhfGoRV7Kc0a90LulvXMtQPML5ypn0Sy9HeSMXv4sKefVRXGQj/tmwLSq/Qq9JHvoHgTISWXXg7VMcWQvNOy4EAoFAuSAQRLFcYD6/QpKH/eRJk+z55/5k+/bs1fuOa+cSB/I87eRv8ODB9uTTP7QeerUdaRJy4zF0zMC2ZMkSe+7ZZ/2h/eTTT9uAgQPzhHLykneUeqAnh+nXEnmSa8l3ehzO5Y+X/3qS7oJ/g40GyfXr19ma1autUcNGdvDgQatdO9MuHTTY6tara4cPHRLmWT6Iz5k927EdJLzr1Knj53wQzB0I8+qjfBmmU0Qe/Gsa76peuGCBv1WmjvLbvXu39ezVy7p265aXLP8PcFu2dKlt2rjRmrdoYbt37rQmzZrZwIsv9leVpePsQ3EhcpBvaqhOlUCdsyUPg3RGZqYtnDvXDh46aI0aNbbt27ZZt+7draf6Ul5Iy5cySbNuzRpbuWKFy7Vj+3ar36CBDb/sMkvIY5K2WHKRf25bJHLVrVfPFi9cYNuVd5MmTW3Tpk3WpUtnG3jRxSlynSaTl5WbfrPiIVeDhg3tkNqSug4ZMsTq6xgihDxJ26hhEjHP/M5tP+rKvcQka8k339iBAwesvuTatWunZOnq7ZfXt9Py8nQif/SpNatWOUb79u3zPkPfqV27tvcrcMzOzrYFypv7mrplqW/QLmfvV6lJDHh9rfY7qTR11Sd37thhffv3t06dO/t9mB9/ZKONlqtfbdy4wZo1a25btmyxdm3b2iWDBn2LQy4GZ6Qv6BwpdN6//H9aX8vFhAkqOPE2pUULF+rtSjnqv5m2d+9e69O3r3Xu0uU7z4zcrOIrEAgEKgACQRQrQCMUVwQGj0OHD9vePXukRcy05i2b52lzGFx4GPNhICBwDi0Fgx0aye3bt/n1Y8dSmkXipMdlEElPz/VEy8F58uGbeAR+EygnSctxEo/fhPzXU2crxn+IxKYNG23KpMl6j3R727p1izVu1Mh69+lr38z72pYsXmy33Ha7NWrc2GZMn+4D3IABA61e/fpeL7RcoOBY6HfSDmgCweTUSZGxjBp2XITgGw3o+/fvd9KyYvlyJ6CQsgTP/IiA42oRjWlffuGkZLnS9OzZy/r162eZ5C/c8zSO+k3Z9BFahzz5TR4ESBLnMkRS1q5ZbV9M+dx69Ohhg0WiICqbN2+2tu3a2YL58+3Gm2/2SUeqdT153j/K5H26ELLx4z+z3r1627Jlyxy7IUOHqj9luFy1MpL6i5xJDnCWAK4VPEMu5UeekKYtynPsmDHWRcThuhtvVL7LJds869Sps82c+ZVdf8NNdvGlg5wU5QmU9gMsIJZTJk+2NiI+ENjayrdfv/7WUCT4xKkTliE5wIQyE7wkYJ5sZId83s8Vh8A9sFC4bNq00Zo1b+7k/bobbkhhlFsvj5j2j3I2aAIy/rPPrE+fPpqMrPe0vXv3sVmLZ3obXH/DjVZL8n311XRrKKLdS9cgyLQTH8c/kU2yIFOqX0l29Svu3ezs4zZr5kzJmONEHyLWUH21c9eudlpyfyfQB5RurUjsl+pX3dUHIJpDhg1LEcXcNvI2SyubfPJwURza0jFK++24kp6+pvg8o5bq/pk+fZr62VDr2LGjzZ45y44dz3ZSS99mgtEFWcknQiAQCFRIBIIoVshmSQnFg5hw7ahRrq3h9wQNzv/jX//VevTqaT/92c9FIHq7GYsHLgPfIWnAsrOP+WDYUBoytBeEmjVr5Jmb0XCR8zGRF2b7GRrU64v4MMhj5karlqPZPybqBsqXAYC8jxw54gMEgxnxID21atX0ASoph7IOi8wiBwGzeIMGDV2OijoYZAqjeqpr4yZNvF5odTi3XdqZzdK20AwMkmgRwQlNI/QLXBh0IRLgQ0TiENAUQX4YLLlGW2aR/tRJa968mT7N/ZpHLuIfuNatV19EtYm1aNHS6gl7SBeEgWs5KhtNTYI/2i/kgiBR7nEde9mqE1onTJ4H9h+wdevWSpvZ1WWqXSfLiW+Tpk2tRcsW3u6kySMr+eTjPHVDu0a/a9mypfcT+lSWNGOUe0L9AzyQHRKTIzkcH8lMoP9wnJVbB3Ci36xbu8baiuTVE1ZoXtGSNWrcyNq0aSu56qn/efJC/2WIxNKWzaR5PUW5wqem+qiKsrrKjwBGyE+bgo+THuGSJUwxjdL3+WQqPjjUUFuiVWZyQL4tpN3Nqp3lOBcmCGLSBvXr1xNJbeQkkQkI9+G2rVul+dvphJt618mqY9yr1BWZTksW+hWyQ2gdN11jUgJumZm1lVbx9KdbWbjomuI1adpE2svmrp1E7sIC7YcGk75Eua1atfa2JI33K5VPOCEMMJ9n6pg+RT8HFzAmD44hq8iDljDnuHDVNertaZUfmvMN6ze4hp57o269Oio7058ZezTh9X5bhKyF1SHOBwKBQPkhEESx/LA+75J4mEJeCCkigtYw0wfnJiI3BMxHH334ob337ju2GjOqBqXrRl1vjzz2qF18ySWMhT6Y8MDnuYwZ9cUXXtDgfMjuf+BBu+baa6WB2WCvvfKKvas8du/a5SbOJ5580m648SYfoF5/9VVbvGihNDydbIHMgrNnzbYO0sI99uRTds+997o806ZNs2f+8AdpOWaIHORYu/bt7MHvf98eePAhDfZtXNaiBjGPUI7/kAXyxyDboUMHDZ71RSSybYnq+dW06dI2rrdPPvpIGpfhjtvmzZvs1ZdetKUy3UFcrpfmC61cQhA5P0FapDUiPI2l2blm5EgbNvwyv96wUUORhobSdrWzI4ePiHQ09YEW4vIdTNRgEANIRmvh1qJlKzcX87uB5IXMz5wxw6ZKK3TgwEHrIc3kKGm5MGeTH/hPkcsCpmQI6iWXXGo33nSTD+BoKFetXGkH9u0XoTvhZAHIIYkdpPXBzE1/O6qJAUQhf0BjBKlp07qNSEYrJxGQRrEc9b2VNmHceNcyYsK/+NJL7Wph0FpkBLnmLphvkyZMsI3S4tbSJOIS9U36F0SMumA2PnhQ5n71echWG2k5W6qMHtKkNm8h8icfwYICxAWSRVs2bd5UaVqKlNRzzJAVgjNPmrMJn42zbcKknfotGsqBF13k5HDF8mU6v9UnQ2i99sksiob02uuucyLcENO1SD59nwlTM5F9tIEQYsrNH5C9gUgY7dWqdSvvO5kil0uXLtF9M8PL+uC9hrrHLnHyiHvBi88/bytWLld7NLTrrr9BJvOhjgs3L64j48eNs7XqV01F6Efqfh1+2QjXcKPlpP/QbrRfs6bNnITmSLbvtJ/iIRt9t7XaD2zRdrcWEcdSsVzaYSY5aBy/kaa5l/oT2lPMxJ+pfCaAtOdVV1/tcmDepx9OnzrVIH4NGjawEZdfblfq+i65Snw1faqtWrHcPv7wAzs46jpvE9wCWkhmJqnUBfzo6w5SfiDjOBAIBC44AkEUL3gTnF2AZPbOYIATfUqtkjKdcQ3N3scffaiB5jnrLN+km372cyeOX3zxuR06csj+/M//wjUAPIvRVKxetVrmoOk2TwPBT376UyeJkIJ33n7LPhn9id1+553Wu3dvHxieFelDs3iJTH4H5aP1ldJtlIbg+ptutBEjLrcxn34qcvquYT5q07q1vfXGGz44/+f/8n86WR03drSNVZxu8sW7/Y47v0uIzl79Mo0B6cFPkMGWAfrE8RwRGrSl+5zo7UVjJpKDZhUND2Y62mHY8OFugnzxuT85eRl13fX29Zw59urLL4ts1hVJv87WyI/vpRdftH0iZLfccovjLP2Uk8buInbkiVbmuzQjVWW0Sf0HDLAuXbq6Zqp//35Oag6rrcbIRDtuzKc2aPAQ/3z++RTb+srLmhg8rvZZb2+9+YZRxs233ioz5xq15ViX85prR6muLaRBqi+S19JJkE8kVCRkt2/fft7eaK6YVOQPnAMHMINkQMYggBC7/fLDe+ettzXh2GHXiWBtk+n3048/sV3Snj36+OO2SOT7ZeHRrl17N29j5oc00vfu1kQDMoyWC40dpIeJBRo+tJSY+508CpOCAm0CGWzfvoPdcefdVkd9FoKFpg3SO3nSRPXN161rl24i9ze5if0Pf/idJjAPGm23etVKe0FEjYnPUE0KIIPjhBlE6GFhesWVV3g969VroLp3V73ruonVSaLKTg8coeXFtN9a9wSaSDSqJ0U0MY03atREE4Wj1qptG584YD6eM3eOXSpSPWzYZU4mX3npJZ/cjRQpm61J3as6RuN9vUjbCpHpl3XMfU9dkB/tYm0R0X79B7gZu7D2QzZwol/h9lBPGs/+/fs7wcZUP1Z9as3atTZck5vLRoywObNmicB/aT379HZ/QiYeH7z3rrcFZHXsmNH22dgxdvHFl3r8+fO/sXffftu110xOmjVr4fVvoT7XTqSf50oy8e3eo6c/I7gHIgQCgUDFRSCIYsVtmzMkYyD0oC+niqc5lqlIAzdO82i/2ndob3/2F3+h2f41tkU+Z8zWGezQAnbp2s1NzMR98YXnNAAeth88/LDddffdPkjgS7RwwULr26ef3Xvf9+wiaVrQrj37zB+lZVjuGh03V2lgufm223zgZxDFtDRbPlLZ0g6gicDsfeTIYf+wiGDI0CE+gKH5zKvDGTW7gAfCFDKWMsFJYyRigYzQIzQz+ARmyix/+RWXa0CTj5u0byw4+LGIeF854aOhQiu7bcs226lBlmOIwRNPPeUDIqbUN0XYlgr/fv36Wt9+/Z0wJJpCTMHuR5a0bToUuefQKKKZhPA0UpNjqly8aLFrPG+6+RZ74KGHZP5taP0G9Jcv45e+mIFsaEM0Qa1kFt4qU2dtmTe3i8Bhzr1EhAQT71UiIcO0ACVbpJAAFk1U1kkIlsiEwPDzZ/zTOeKxOAS/TeRisgJhZOHNQWk3L9WiiDvvEVlTmVejWZJ2mrrScW+59TaRyOutY6eO3ncgN/g7nsw5qT430ObLL/SyEZfZFVdcYUe1UINAGZjbKQdiX5RcdWSG7dCgg7cl90mm3CnWy1fw6zlz7RJp757Qoi98UdHAQ8ZmTv9Kfb6va+aaCOt7v3e/iOadtlvasUxpRLcp3u7du9yXD0Lj7SCt8NkwQm7M8rSf9ysdY/Zn8cjKgSusqRboXHXV1W6qJd+L1K9+9OOfqI/0k8Zxlt93LEzZ5ffXDJHTrvbYE0/6hIuFMa+/9pprtemP3URIIaLgw3121n6leI0Uj+cDcRMXFe5lLBWDNfl44smnnNg1btLYxo0da7fdfoeT+2VLFtufDh7yScHRo0d8UsFCOjSgTCiHagLFM2Pr5i12s/rnpYMHe5+krzEh8cVKwgIcwYa6058KbFNAjBAIBAIXHIEgihe8Cc5PAAZBAg/cnTt3yDS0x8kJCxJ8wNdAgKN67Sl1bIdMQJyvKYemXRr0MCNhNjsqQsdqXDRpB2RSOqpFLmuXLLKf//THnjemq70alDA/oU0kNJY2pL1MtGifjh3LlvaikRZIyCwuAkF511xzrf3p2T/af//Hf7R//vWvpVXp6VqtO++6S4NdNx/MKhRhzCU+J/IRkNMivUdE9I6qjseOHnPSjHm0vUgCdQdv/LDqyYSHn9auXbt98QTamD/98Rn5wGU4CWC17oED+52kYT51U6UIAxonMHMsNHB70HH+QLwcXScegzptiCYpR8SqlUyHp6RhxsTHRKBb9x6uRSMui1PQ1kGSMGuuX7fOzcCQFsg85BBShwk7KRUyhraJ9HzUWAXLpWsQthSZpA+edqwwJ/bs1dPefut112BigsQ8CkFAw3fFlVfaDpGfmTKLvynt3oYNG1zr2leLPU4rTzRrTDYOyyx/UP2Rvk1AltPFlIu+ny3Z8uRXHSCqx7WAoqsmP/gmoumE2HaUGRmtL8SLumPmxsfvgDCB5ON7l6HVuciB1hQyVmyMJDcYJe0MlidVD7SnaCuPZh/1b/pSHfmIYp7GJ3KP7k00thBo/GT35/YdFqI984ffq14pf8GNcok4qQUtmNGZ1FAOdUY353XX76LaL71fUT8mnHxDZjt06OiTJ2Shj6PhxTeTZ8WRI6kVzClS2tRuk5Vg7do10mC/qcnpJq2k3qjjdTZq1KjcttQzRm3KinEwhRi6fJITGQrSyOpShEAgEKhACARRrECNcT6i8NDF3wh/sKMiNGi9fGWkMsvW4HhSZlRm+pAcHtItZd5jwN62bbtN0urQPjI13iLzJOoeHtw9evaWzxiaqFZOdCA8+KIx+8fnkPGHAYVy+fA7CWgoHn70EZGD4W4u+2bePJsv8za+VxAQ/B0xKVa4kFuXdLkgBAye1Depq2OkwZkBuFbN1P6G+MwRh/31+NSRmTQjM3WNOrNNCYQE3zbHTXmSgDw9KK+E9OeeSRcjrWy5AOoKbQuhSvbEJDJ5QZCQl4F9ogjih++/78SScjt36ZrLGVIlEJ8BOpGBuvqVtHOJEMhW0IbVnlbxCRJJ+UtLJQ3j9+SLSp+aIV9VTJYfym/2tltutXukqVuzdrW9KU0YhAEXCbSKnl7mZdXA5aEOCEP+yYc4iayeQP8Kk0sRU+QjN6LXzeVUCd5GKbTBK9WPyTsVmWPuEbDhQ528HP1O+gORz0WW9LhJHt6v8ui5d6eUptT7FX0ONFJyqhFdJjTJkFzIJ9fQIrKtDOZc5EzhllsRqpPInotD/i/KSGTzvpAbgbzBgMAEiMAx2DBJoZxUeTV88jhBfW3s6E/k0pKpVdu9fVslyL7fF4rL4h0vi4xUpsvJb4Wk/NRR/A8EAoGKikAQxYraMoXIxcOaBzirjZOHfWtpI1ggsXD+ApslsxX+duul2WKgZjsUfMIyZIIjPsQFsyS+Rv/j3/5Ncb6Q/9cAd4DHbIW5r7/8wS6TSZJrn0+ZYlfKRAbBq6GHfrJRL+IpO/mQSRYGAx3PnTPHNQtoH+67/36799775Es3OrUH5L69Tm4YZFJp0wY1P1Px/jFosooTzU5qUMsdXKk4gW99qBOLKDDhNVXdMRG21spdiDfmWEyrvmKXJJ7w23+QB/xGCRDLogIyMGA3btzQzaJoBOkPmKZxKWBFPBqnTdof76JLLrZHHn3MNcn4nuHThoY0RYBSpeBnhykabVlBAWJCcLlot6Te+SPrGgQALRdawj7a5uXqa65x/z4WRk394gstnprlmk384h597DHrIg0omtaXMN3LNF5TxBv6RzF1tXk8Gki0b34iX7lowwmnpFWF/BUql8cyXwUNxmjDfJWx8k+5SBxxrSGTKIoAX/DjIPWbk7mZFPKVYASZSvp2IVH9NHEgqaRjApcQJ8qjXAJf3k6KBw7cl2jjH5OfJ/c2WmkWTaFlxG2CtPnLTvoVdxv9sDjBRVCFXZa8BN9i4eJRlv6y5FawZctmLWT5Si4ON9lDWrDGIis02PhhKorng7aZZxV+mrWloQX3CIFAIFC5EAiiWLnay7KlIdy7d7cdlikHExXEgUH39jvucCf0f5LJ9/k/PeumO8xIkJahWr25UnuWHTx4wB/eaJ3wHbpMpsGPP/7ItRP33nOv3aT983777/9uf/erX7pZEw1Qc/lUsWCCgQiTIAszfGsT4ZaYHFnEwDYjrARlO5yXtSp40sQJ1l4msfXr1vtYO2jQYOXZOt8gVLHBh4Thy8ZK1V69ejspAW/9SAmuQRAfQ4gWRLp7z5727jtvyZRY11fLbhRpYoEQK4M7du7kdc/4sN+NAABAAElEQVRN6XhC+DHJsWAATaFvDC2/NoiEIn8HHAZwSFvnzl20yrmHffnFFCcRrOAd/enHtk7m5SuvvMonEvi3Qdowu34+ZbJNEolkQRLmaxYToPXBp5K8WO3tARKjH5AXTNNffP65k7Urr7rK9+aDcJxJIhRZacCEvRUhYp98/LF9qXT33HefE4Mtmza7fydb70Bgd8tEv16LoQ4dOmwzvvpK/m9j3P+VhR5szwTDWLhwoWOJXBD1PLxVf/re/FkzbY/86QZpVTCriguUyyuUMv92QKvatavvrwjxwodyvvZn/EK4sEl4+46d3B+VVc1OPL1aKX9I9ivMT8I4pr0gsuwewKphVr5Tx8LaDnFIByll4sGq4oULF1iXLl39PGZk/XCpua8gnpjLMfuyAITFapDdkTLprtMk8O233nQTcSelhxTSBvQYyqBf4T88beqXKivLVyFj4vY4wrCwQFrawft4biQwwc2Bax5UDrISD1JNbju0WhyZME2zMnqGfJZv0gp70jARoQ9iXWA/THYXyJOgCFlyi4+vQCAQqAAI1PovChVAjhChuAjoec3qUAamfv37SZPVwAeGLhoIL5UvGL5OzPZZjPLUj35st8qszJ59DEJovNAe8mEQZlUppmiIDA9x3tbSXx8IEkRl5Mhr7Sc/+7kPpgyMaEG6S7PBYghfkSpNIue6Skt0sd4WApkaMPAimaB6acA87QRqwMABxptg0DBBUAjfIRtF1J3Bhvj43KFFQW5WUKcPZkUkP79LlKnBlwGX7VoY5HDqZ8EFe/T10YIDBt79It5oC50k9ugpU2Bn14ZNmTzJPv7gfftaCzPYtoYFEp1F5hn8fZBkgFQZCVH8TIsF8GXsLV89zLeFkg2l88FXWiTwZzXxJyIQ48ePdZeDu+6+x/fcZDucuVq88dEHH9gcaXnRcuLHxgpiVuLiY8rK5CkTJ3p+vNEHAoVMBOoO+RqvrWQWLVrkW8g0Vx6Q1O+0nWTiHHI1E1HiLSrz5n5tH2glPCZwcLpTC6aYrNSRiwQLq95/9z2bKZKInyBvW2FPwnaSiT7Idk2TJox3/0ne2sHKcMytXq7KQZs2fdpUJ2g9hTl7LhZFFJELsolW/ZgWX7DVEZ8N0n6yhctNMos3lcZug1aKs78kC45aipwx8WErJPZiZCNstLZ57aI8IdNHRYzxA12+fJnHQduXFyd/z8vFCJIooP0NJWzmznYyEEPqydZGaBkPqF+x9yBa6V7qE0wEWEg2WZvC41Iwb94cX91Mv2JhjuPjDfdtvwJH6rlFi0p44woa70KJourDNjpoqNfLv7CV+hZv5gFz/FvZEqevnjWscmfbILBq3qJlyvdUzxq2xvngvfdde85KehZ0UR9M0ZBntkKaLlcE3GO4d8Egua/zw1TSY55T67RHKL6SLDhjk+8UNHn0tKRFRPoyRIA+5/d6GZYRWZ87AnI/0lPiAgdEqABiXGAUild8+o2UjltynsEAQsJABhHhmHgcJzdgki5JwzHxkjikJyTHXCcUlp5rSR7EIR15cI7ffPid5EP84oZkcJspLcV7773r23Zcd/31KXNocTMpQTy0JKzUZIsVD6ofv6kndYS4QKwgwUld0eawQIJ4mA1ZpACZ+U4QJqTFRWDHju02SlvqNBXZKHTFcZKB0mF+PSkyw8IktIOUg3kvwRhtF9cg8myITeAcsqD9gwjxth7KZ59B+kpeyJVr7pzZ/mYYVtHj60g5xC8w5KYBF/wnKZuhGZIKIUzIHm8F2qtXURIPbRnkFbkY4MELMgrJYbKCWZXz+QNvH2G/PyZLLKBKFpnkj5d+TD5gg/ab9mEvPzBL2hFNJW2Exg8siMs5iJ+3bT45uA4BnaU9BNeu1QpyTYTat+/gsijT9KLP/K10BDS29CtM4ciAWwfloKUDK7BGDj+nb0zRLCijX7Gym1XTEC7wkrA+sfOMc/NHNzxNBG7nzl02SlsVQWIdpyJkO6Nc4UA4Ln9YNkwHFzbmZ7IELvQDJgEEiOQBLbCC5NLe4Ij8tCfti8adFdLcH7gVFNSmnlFJ/6nu3BdM1CCm98hKMkJb/NBWlB2h4iPg90IRfbTi16BqSoitJ0IlQoCHHuSJwE2VhPTzDGDESTRAxEu/nqRLz4dzHBOP3zxY069TTv7j/Hkm5STlJkQ1OU7KTWSuDN+QL9dq5WJOnfkQqF9mLjlLsACjhITwGzO/r3SmrfjkBuJjaoW4sG9jF5mAWX3OYH3WoHySQT/Z8JpV2+lktJ40Ouy7B9FJ3j6SvL0HuXh7BgSRmlBmUif9cBLAO64xJbMQBo0p9Siy/SQTZZEfvo+NVBfCcaVzWfWba1kiCp06NfTyyJNyE4JLejBlCxnCGSQIzFUGBASixyIO1yZK9iLl8pxSfnqgj/8sxBmSj1zIRHon/+ChcvhwDiLEd9Lvc7Py65AdMGKngI4yXSNzMsFK4hX4rfwIkKpEy8dxUi4CkTdtlZyjfbjjWVAGEUvaFMIGgZSQZOGB+kDO9sjcy+Iz9tKkLegb38bKjZz+pTrnL5fLWVqRXaNGymyNlYA46e1FHDb3B1fkpE2TfMANWVN+oZJbZRQLIzKNEAgEAhUGgSCKFaYpzk2QggbH5FwysOWfRSfXk5IKOuYcD3TyKOg619JDEj85x3FyrjA5krgV/puBTQMf1O2MQTYZmHMHPr+WW2+B5wTHSU5uuvztQL1Jg/8XGx77fnoibo4t+Cb5E7GQ4G2juE4Cc+MkciCDyy3ZCYnsDNL89vZR+56gjT1CEoODFGmByOC/h/YRs2Sh+z2mkqT+I7eXDWn9lvDmlaFrkIlj+hCSUhO5vN6KkyyuyUvnkVOx0bAN0V59tcAbLZHinwte5J2ev+Oo/CE0kLH0Mgs656LkxkeWy7TpPBOzBNPiyOIYCYO8epMpAfwQAAxz24pzSVvTp4rVr5QW8naFfEsTjSV1KVK2pO3SykWk72CQTzZkzS8X6WhnD8qXPArra6lI8T8QCAQqMgJBFCty6xQiWzK4FXI5NbAUdrEY54vKv6BrxT1XjKIrVhQG6aIkKuh6QecKykPxCJAMgg/k/Mg9z8+zhsLKKuT8GXUpJE5SPiSsNgRRRKBYJDERtrB8uV7ItWLJlZs/fS1ZJQ5JSeRNii/yu5DyPU1B1wo6R2SdJ6A5c4MmGJ2LLIXl67nqX0HXCzqXxE//TpdN8oFRsWUrqIz85852nC5L8jt/muR8fAcCgUClQCCIYqVophCyqiIAQURH69RDA2qFCQnBQKCKJBfyQMoIF1ouMEKMiiALMqSHiixbupzxOxAIBCo8AkEUK3wThYBVGoGKqm250CSsqEavKLJV1LYDu4osW1FtG9cCgUCgwiEQS8EqXJOEQIFAIBAIBAKBQCAQCFQMBIIoVox2CCkCgUAgEAgEAoFAIBCocAgEUaxwTRICBQKBQCAQCAQCgUAgUDEQCKJYMdohpAgEAoFAIBAIBAKBQKDCIRBEscI1SQgUCAQCgUAgEAgEAoFAxUAgiGLFaIeQIhAIBAKBQCAQCAQCgQqHQGyPU+GaJAQqCgF2rjuVvsdfUZHjWiAQCFQbBNhYvKY+vrlltal1VDQQKHsEgiiWPcZRQikhUKNGTb2VI9N4dVoOr2+LUL0RgBSkh4qyv2K6TPG73BCAKPLKyYwMvTGnZgXavL7cEIiCAoGyQSCIYtngGrmWAQJHjx6xzZs32uqVKy0neZdsGZQTWVYCBHJJYvIe7eS94hf8bS2VALoqK6L6BK/E3LRpsx05cjT16sIqW9moWCBQfggEUSw/rKOkEiBQp04dO559zF555VX78IMPNQicKkFukbQqIIAGKTs729/oV6dOljhiaJGqQruWpA68o/zQoUPWr18/q6tnRoRAIBAoOQI19LDNZ78peabnmgMiVAAxzlXsiF+OCOTknLC9e/fZ4cOHLU97VI7lR1EVCwFI4cGDB+2jDz/w/nDnXXdb48aN4zlSsZrpgkhD36hfv741bdrUMjMzL4gMUej5IUDbxYTv/LAry1ShUSxLdCPvUkMgM7O2tW7dutTyi4wqPwL79+9Xn2hjJ0+dtK5duzoxqPy1ihqUFgKhgCgtJCOf6o5AEMXq3gMqSf156IcmsZI0VjmJeVJ+qjk5Od4v+M0nQiCQIBCaqQSJ+A4ESoZAEMWS4RepyxGBePCXI9iVoCjvD7gl6sPv6B+VoNFCxEAgEKh0CMQeI5WuyULgQCAQCAQCgUAgEAgEygeBIIrlg3OUEggEAoFAIBAIBAKBQKVDIIhipWuyEDgQCAQCgUAgEAgEAoHyQSCIYvngHKUEAoFAIBAIBAKBQCBQ6RAIoljpmiwEDgQCgUAgEAgEAoFAoHwQCKJYPjhHKYFAIBAIBAKBQCAQCFQ6BIIoVromC4EDgUAgEAgEAoFAIBAoHwSCKJYPzlFKIBAIBAKBQCAQCAQClQ6BIIqVrslC4EAgEAgEAoFAIBAIBMoHgSCK5YNzlBIIBAKBQCAQCAQCgUClQyCIYqVrshA4EAgEAoFAIBAIBAKB8kEgiGL54BylBAKBQCAQCAQCgUAgUOkQCKJY6ZosBA4EAoGKiMDp06ft1KlTxvf5htLIIymbvEoiS5JPfAcCgUD1RiCjelc/ah8IBAKBQOkgULNmTatRo4aTs/MlaKWRB7VBDvIiBGF0GOJfIBAInCcCQRTPE7hIFggEAoEACCSkcN++fbZ1yxZr0qSJtW3X7rzA2b17t+3bu9eaNW/u+ZA3pO9cw4kTJ2yLZCG0bdvWMjMzzzWLiB8IBAKBgCMQpufoCIFAIBAIlACBhCguWbzYfv1P/2QTJ07I0yxiiuZz8uRJy8nJ8e8kPkXyO7lGvLlz5tizf/yjLVq4ME+iwtKT9pTyTc+PvIh/4MABe/ON1+y1l19y4pmUU1he+WVJ8iF+ev55QsWPQCAQqDYIhEax2jR1VDQQCATKEgEnY6cgbqlSEjNy/jKJl5Av4tSqVSsvCudP5JzQ9W8JGtfTtYqnc8mb569rybEiWUZGhsdt1KiRPfDAQ4YoTZo29TLSy0kKTGThmzIK0jwmcZI08R0IBALVC4EgitWrvaO2gUAgUEYIYCFOJ3Q7dmy348ePS21otnLlStu3f5/16tnLevbqlUfIjh07ZsuXL7c1a1ZbyxYtXRNYu3ZtlxAiCElbv369LVqwwLKVV8+ePT19nTp13LS8Z89ua9++vTVt2sw1iRs3brSjR45Y6zZtLCsry88h084dOzw9RuzVq1barj17rEuXrtZLstSvX9/lPnr0mC1busRWr15tbZS+Y6dOuaSzoTVu3KSMUItsA4FAoKIjEESxordQyBcIBAKVAgFxujxNIQLPmjnT3nvnHT8H4duzZ68Tt0cfe8zuvPtugyR+9OGH9snHH1mWyGFGrQzbLQLXunVrLUSp5SRz0sSJ9vqrrxo+h5mZGXbo4CG7/a477e577rUNGzbYSy88bwMHDrQfPPyIE8o/PfuMdevW3e657z57/913LDs725586mmbv2C+jt+1w4cOW42aNWyfZMlWnt974H67++57XMa333rTxnz6qTVo0NA1k4cPH7T2HTp63kOHDfM2SCfClaJRQshAIBAoMQJBFEsMYWQQCAQCgcB3ETh2LNt27drlpO6BBx+0w9L0PfOH39v8b+bZ8Msus3Xr1tlX06fb/TIR3ydit337Nr++YsUK1+QtXrTIPhs7xq65dqSTtbp169rYMaPt008+sQ4dO9q1I0fZBmkbx48b5+SO/E6ePGWjrrtOx/WdXLrZWKKdPnXadmzfYdeMHGmPPfGE1ZSW8dlnnrF5c7+2YUOHuSzfzPvGfvrz/2A33Xyzbd60ya+vX7/OTsGAIwQCgUC1RSCIYrVt+qh4IBAIlC0Cp61jx07Wp29fayifwQytPO7cuYutXbNG5uGjtnPnTmvVsqX169fXamXUsnYyIQ8dNtz27z/gi1TWb1hvBw8d0rUMWzB/vmv9IJ81atS0NavX2PDhlzkpZKU1C2A6de5sT/3wh9Z/wADbq5XTMoTnVY9FKR06dLB+uta4cWM/317HWzZvthwtgNkrTWarli2sb98+edeGDR8mDeRBlyUvo/gRCAQC1Q6BIIrVrsmjwoFAIFAeCGCmrV0702pqwUneamORMsJJLXrJlukZP0QWkCSri4lLGgKrpNni5t233pa/oeJIs4dyr540i/X1yZHpuEWLFnbxJRfbJK207tipo/svJotfVHxeQLOI6TojVxaOTyp/d6CkLMmV99F5ZG/QoEGKVKZnlJdj/AgEAoHqgkAQxerS0lHPQCAQKFcEIHWJ2RbilfLv04bckiJZ7eymYSIqpOIojbR/OvBzPXr0tO/df79rCSGOpMPvkAUvjbVf43qZmz+fPFlm5uO2URrIWTNnWKtWrfKIp2eS+y9dFk5RXm7R7rdI3vhJsnKacECazT3SNMpu7cfxLxAIBKonArGPYvVs96h1IBAIlDICcLsUGUxlzDG+gGmKPRGylDaxphaUdOjYwXbu2pkyK8uHEPPv/G/m29at25wQdpLZmv0MlyxeYpkZmb7Ihf0V/9t//b/tyy+/sEMyS48bN9Y2yXz813/zdzJD32Djxoy1OdqLEdJXkCxnVFmCpbbhkVm6fQfbvm2bTVW+R+RLuWrVKv/NSu1aIo8RAoFAoPoiEE+A6tv2UfNAIBAoRQRYSMLqZMzKBI6P6/hUmkYOcy8ftHuXDhrsi0jeffdtmzhhgp/bsG6ttdLWNBDEwUOG2MhR19pbb7yhRS9TrUHDRoq/1gYPHmyDlXba1KmuTbz9jjvsqquvtu4yU68WwRs/dqw1Uly0hcjjZmbll31csqCtzA2U4fJJziuuvNJ2795lb7/5ur2n1dEt2Krn4AFjP0bSRwgEAoHqi0ANPQQu+FMAESqAGNW3F0TNA4FKiMD+/fvttddedfLzgx88rL0Em17QWuzWCud1a9daS5l+O3fp4iuHd+mVfB21QrlZs2ZO/jZpn0M0dqxahoSxzyJawtmzZ/vehT169PBnIebjVtomBzLH4pdp06b5G1Ygj5dceqlvoL1G+x1C9Lp16yZi2NDTbdm61bbpwxY7R+UDyZtbunTt6otb2EuxjV7n11ILaHjeIguvC+yg/RJZUU1cFtisFNlk4cuypUtt8qRJbvqGSBLStZQXFOwovEoiQP+KPlbxmjaIYsVrk5AoEAgEioFARSOKySCXTHzzH1Ol9HNo9zjGTJw/5M8j/Xry1hZWP5M+iUucJP8z43/rA1lQXM598tFHIqNTfSufy0aMkPl7q/ZofMGOHD5sjz/5pBPfJP/0vON3IFCaCBTUf0sz/8jr/BAI0/P54RapAoFAIBA4AwEIV0L+uJD/OP85BkUCWsP8IbmW5JF+PXUtRRDTyyNOYlpOT5/8zh83PW+21Pl67lz77//4X6VxbGX7D+63xo0a2xParBuNJHGTfNJlid+BQCBQ9REIolj12zhqGAgEAuWEQH4ylf8YMfKfy3+cX9Sirue/VtRx/mvpsnSV+foXv/qVrdRm3+yt2FSm8t59+vj2O+nx8ssWx4FAIFD1EQiiWPXbOGoYCAQCgUCRCKAxxGdyyNChZnwUOMcnQiAQCFRvBIIoVu/2j9oHApUOgYS8+Dc8Rp90UlOQ5qzSVfICCAyGiek6KT6wTJCI70Cg+iIQRLH6tn3UPBColAhAXgr6sCgkIZGVsmIVQOgghhWgEUKEQKCCIRBEsYI1SIgTCAQCRSPAG0pOaYPqEye0J6H2LGRbF/YLzM4+rhXENfLeLFJ0LnE1EAgEAoFAoDgIxPY4xUEp4gQCgcAFRyDRFi5ZstjefedtW7Jkqe3Qvn9SI/regH369rXvfe9+Gzhw4AWXNQQIBAKBc0cgsRSce8pIUZYIhEaxLNGNvAOBQKDUEahTp64I4i6bMmWy1a1XT/nXEGlcbM1btPCNoxNCGWbUUoc+MgwEAoFqiEAQxWrY6FHlQKAyIpAQv/Yd2lu//v2s5ect3fxMXXgzycABA619+/aVsWohcyAQCAQCFRaB774SoMKKGoIFAoFAIGBWO7O2derYyVq3aqv3Juvdyvo0b97c2okkZmVl5S10CawCgUAgEAgESo5AEMWSYxg5BAKBQDkhgFkZzWK7du2sbds2eqvJaf+0adPGz3EtMT2Xk0hRTCAQCAQCVRqBIIpVunmjcoFA1USgdevW1rVrF8vMzLSMzAzrot+cixAIBAKBQCBQugiEj2Lp4hm5BQKBQDkg0KRJU5HD7tagYX3fKqdr127WtGnTcig5iggEAoFAoHohEESxerV31DYQqNQIJKblelrt3KljB2vcqIn7KHbq2NEaNGjgdSNOhEAgEAgEAoHSQSCIYungGLmUEwLhf1ZOQFfgYhI/xZatWkmr2FVEMcda5Zqdo39U4IYrR9FislCOYEdRVR6BIIpVvomrTgXTSUD676pTw6hJcRBI2r5ly1bWo3t3fzNLyxYtz3jfc3HyiThVD4GEIPLOan4nx1WvplGjQKD8EAiiWH5YR0klQIAHPu/yjRAIJAiwZ+KgwYOdDHTq3Dk5Hd+BgCPAhCKZVAQkgUAgcP4IxCv8zh+7SFkOCCQP+m3bttqUyVNs2fJlXmpyvhxEiCIqLAI1bN/evSY6EAtZKmwblbdgTChrWD+9zvHqa0bmrYQPzWJ5t8P5lRda4PPDraxThUaxrBGO/EuEQEII161bbx9/8pEdO3rMevbqpb3zTpYo30hcNRCoW6+OV+TIkSNVo0JRixIhkJGRYatWrbSlS5f6Buyt5MdKCKJYIlgjcTVHIIhiNe8AlaH6idm5S5eudvnlV9gNN9xgOUEUK0PThYyBQLkikFErwyZNmmBffvmF1dJvnh3JZLNcBYnCAoEqhEAQxSrUmFW5Kjzsc7S69Vj2MTt89KivdK3K9Y26BQKBwLkhwDMiQxuwHzuW7e8AD4J4bvhF7ECgMARidUBhyMT5QCAQCAQCgUAgEAgEqjkCoVGs5h2gslVfG15YTZmTTukTIRAIBAKBBAGeCO6LGI+GBJL4DgRKBYHQKJYKjJFJIBAIBAKBQCAQCAQCVQ+BIIpVr02jRoFAIBAIBAKBQCAQCJQKAkEUSwXGyCQQCAQCgUAgEAgEAoGqh0AQxarXplGjQCAQCAQCgUAgEAgESgWBIIqlAmNkEggEAoFAIBAIBAKBQNVDoFqteuZF8adPn/JW1JZbHvIWyGkVLe8S9lVzRbQze3MlL5wvr3cPJ2UiVnFkLEz8/PkQr7zrUphscb6UEVA/pYt7/z7fFeJny+Ns14tTJeXh4XxlPFsZJc2/lOpYaFucLf9EfupZVhidDcO4HggEAtUagWpDFCGAvN6pqACR4lNUgKjVqlXLoxQnflF5FfdaaZWZPx/KL++6FLfOEe88EVD/PaUPbZ2hfspEwCcDZFdcopF7D9TU/cJ9c1IbndPX80hnSctI0ivvWioDeU/pTTt5+SOrzhV0J54Rh3iFBaUn1My9V8nfwzlgQA5+zwhLXhkJjmzNVGwcKRA5lMbT+eG3tUphKgxcxhQGJEnyTzA/7zp4ZvEvEAgEAoGSIVA0cypZ3hUiNQ9bwr59+2zu3Dm2Xu8MztTu/adPnUwNfhoEiAOJvHTQIOvXr3+hcjNQLF+21OZ9/bV16dbNBg8eYrVr1/b4Z9NEFpppMS7s3LnD5sye7XIOGTrUWrRoeY5lpjDYuXOXzZ0z2w7rvbhDhw6zOnWyPF8GKo6bNmtWDGkiSoVGQKQkS/07Ozvbdu/aZVl16liTJk3sJNp0yNLZiJLuBQgixGb37t2WfeyY+lsLy8rKshNphDFL/Z4y9ihOHZXRqHFjL8MJX1Fl5N6PpOc1jDt27LBMldesefMzZEQGiG76fUXepDmtuhRZD5UBAWXPzT17djvBo29DuHJOnDiTkBbUmMiYi+OBgwdt//791kzp69erZ8eVvrghIXoQbbBCJnB08qhMaqudjh8/bjt37vbnSNOmTV1WSCmEmLeMkJZ2JC3XuZNP6VyR9S+ugBEvEAgEAoFiIFDliWKCAQ/bD99/3z795BN/4HO+Ri1t3Jxzyo7nnNC5+vY3f/t31rdvP39YO8HUgFFDRBKtAgMWA9XCBQvsN7/5n3bH7Xc5qYQo+oNd15N4pIVUJgMa5/kQkmvkx4e0nEvipA+MLoPSbN261V5/7TXleVIvuu9gzZu38HQQvESuRIuUyOCF6R9yJPJtUz7vC4Md+m6pwZ/B/bVXXrasunWtc+fO1kQDESGRkW/yT8rxi/pHnnwUU9e/xYfreWmpv44LSk+8CKWMgNpKYNMANnPmTPvgvfds44YNPhm48qqr7Zbbb7fmavMiiRz9UIRk7erVSv+uLVq40Nu5ceMmdvudd9hV11wjolNHr0c7YTO++MI+/ugj27Jls9XJqm2Ucdsdd1ozlQG5Se/HZ9QUGRXmzZvnZaxZs8ZJ6dBhw+zue++z9h062BFNZL6YMtnee/dd27t3r2Xo3jmh+2TgwIvs+488Yr169bITIljcm98J9FndF+vWrrX3VYf5KofQp09fu+vee613nz7eR8HJ8cqXAf0XQnlYBPH9ceNs0oTxdujQIWvRsqXdcdddNkLvGofYFpY+yY57HwyYlM6eNctmzPjKRl47yi6+9FJvA+LN1qTtI92P69et84nqiCuuEM53WqtWrR33RXrWvP/OO7Zy1Sovc5gwuk3X27Vvn/dsScqL70AgEAgEygqBakMUGSTvvPtuaQ0H26GDB/TS+C/9AX3NjSNtwMCBToYuvuQSJ2wpU9C3kDO4MoA48dHgVDujdp4ZG2KWxPc4DDRp55JcCruWpCVeEidJkwy2HTp0tB/+6Ec+OHXq2NHLSzejF5YH6YmXxOWbQS5T5LZmzVrWqWMn+9GPf+oDY5u27bxY0qTnl1+uJM9ExvzXC6p7/jjpaeN36SFAu30jYvTm669ae00oHnviCdu0aZON+fRT75P33Hef1ZVWLJnApJfMOTRY27dtsw9E0HZJE/fjn/3ctYkTxo31PBo2aiyidLm00nPsnbfftp49e9qTTz9tSxYv8glYbWkW7xHZQxP4HSKl+4LJBX1vyeLFkvF1a9y4kf3t//b3xgTmXeUHcXvs8Sf8PtiwfoPVk6xDhgx1sosmsa36KNpRn6Qobv7A/UMf37J5s72pidVmfT/+1FM+sRr98cf2zptv2g8efdS69ehhOSKa9NUzyKLS07/ROo4bO9YmTJhgN918s1108cX2xedT7JMPP5S2traNuPLKlFYvvwC5xy4H2kDJ/KUI9UsvPCdsa9s1I6917CGiS4XZW6+/IU1qM/u7f/gHx3202inj09F2/0MP2eZNG+31V1/1Se3f/sf/aPtlEYGYj/7kY3vgoR9YoyaNiyb9hcgWpwOBQCAQOFcEqjxR5MFPwGxz4403+W80LQwizOSHXz7C7r//AT/PP8xtMzX7ZzDEXNSrV2+75tprXeOGpoQAYUSDRyCPGV995YPC0OHDrYcGIfKeMnmyLVm0yBo1auTpB8msXVtmp00bN9ocaRIaNWzkGr1Z0jZs2bzJtSVXjxypwbCtD4SJ3F4I/1QcRVLqNg3mc2bNtDrSBDZr1lz5YVJfK21JXxs1apRrHEhyUFqRr6ZPt+nTplrDhg1TmggycUzIifz4Tv1m4KTOX8u0/qU0OmDBoHr9DTdY9+49PP4h5TlTZX81dZodyz5mg2R+v1qapuYyHRIwJX6utN8oj5MnT6nMdq5JgYwn4Tt1Sy7Ed4kQgEAdOnTQevfuYzeor/fr3986d+lim9Xntm/f7tq5+g0auIn3jILUJ+gBtMtOtR8avVGjrrMrrrhSJs9abi49+NqrtlbaP/r3YmkauyhfiGgHaQB79urlxJS+c1yfTJXhZDStEPLHfHr48GGbN3euE75HH3vM+vbrp36UbS2kJd++fZtrCY8qDq4iV4tYPSJih7mWuh07lm1Hjh4plCBRZi31Ycjxzt27pAG8266//kaR00xrIJlef/UVmz//G+vUqVPKdzH3Hk4T0zE4evSof19/w/Xe99u1a2eZIndrV6/Rvb2pQKKd5AFJpJ67du50rS73Hueay12EOqAFZeK5d89etVNvu/a66xwD2m3Hju22ZuUqpd1lR48es44dO9hI3c9MbsFt67attmLpMpmqd0j7L8KcFBrfgUAgEAiUIQJVnigm2PGwxmTG9zH5XeEbRDiZczLv95YtW+y1l1+yd999R75IJ62WBs6cnPelffzCfvLTn0rzeJEGCQ15yiMrq7aTxJdeeMGmT5+mAe0xayptx2qZiZ794x9t7Ngx0m7IJ0qmbTQTT0sjeIfMRuvXr7fXpCnYLi1K4yZNXVOw78B+18gwADzy2ONOLpEzCRDP51UOvkm//Ju/cdPeO2+/Y6tUFr5TBw8d8IHn008+ta2qAwMwmqN333nbXnz+eSeMEFbMhgdVVicN8mS/UQPq88895wPxL3/1166N+eSjD+35P/3JdspUXzszy0ZLw/H5lCn2H/7sz6z/gIH2wQcf2PPP/NHw3aops/NYXV8kTS2aGzB5+cUXZd7+QFrX1EKKLRrcJk2cZL+S3FdedVVSpfgubQTUV+kzw4dfZkPkb4pWj36OhhCSiOm0sVwNkgnOGcUrLT6JOepf3aUl/Iu/+ivXLh49dtR95/BphaTVqVvHJw+QFvrQzl07fVLBJGSgtG7169d3k7D3XeV3RpBsaDxJixtIR5E1/CZxBUGT2U+E8dJBlzpBYzJFHlvV75/5/e/9/hw8ZIj16NXL8G0sMCg+JAwfwgPyKWyiurZo2UJps2W2zvH7gXS7ReDQTuLH6T6b6ZnlYogvImZmbhImTwcOHLCNkolj9w+mbpJdwqanTv0mjc5Tz6bNmtqf/+KvvL5f6RkBkfUUijN0+DAbPGyINPwpf9KtW7ZqwrjFWrVpYw0aNhDxbucmdjSk+IlCPMED9xDu+W+fDt8VIc4EAoFAIFCaCFQboghoiUmVb7QnbJVTq1ZN9yPCTPS1NB3jJ0z0RSpPPv1D9+nCXPXRJx/ZRJG9DjLVoi0g7YoVKzV4bLJ533zjJPFhaT7QWmCymqWFJ088+ZRrXNauWW3/+i//YhPGf2b9peGhbAafI9IYPPzYnfbAgw+61u/f/vmfbaW0CTs1IEDq0gPxXauishmETukYR/ijRw7bqPvvt0cff1yakvn2//36/7FlWmwDyTuuwWXKpMmuSf2//us/2mUjRshH8z37/W9/62SXOtSsqYUP0tbUrp2lOtW0xdKAfvzRx1oAUdf+5d/+zbWF+Il9pjpt2rSZcdImqh7dNWD/QmSibZt2IpXPOjb4XqENXShtU48e3UUs/9wuHTzIZstfDn+0utJ+MvhTFycS6RWM36WGAGbNRHP9sUyl4zRh6dajpxMfTMcnTsjkqrYvLNAfaCu05/T1gyJJX0g7fkDuGvj3oTXcpf61fsN6+1LmWDRhR9QP8e196AePuAa6IB9Fb3uVe0wawQMH99uy5cu1KGyuJjEH/NOpc1f7wQ8etr66R7ZpcrFo0UIRpGzXVu7bt9cmTZpod0pDeMuttxZsPqdOImL4DGM9OHTwkJMrJky4W6wUedy2dZs0641cswcGueugvwMFhFPGc9c64uP4yksv2fLly3yiN0iElQBRKwhF0mK67iAXka5du3qs8Z+NU5lnUrtateQCorhMTsfInDxmzKfyz+xkP/lZytyPZhbZd+7Yqcnax252btWqlf3wxz/255JjjCARAoFAIBAoYwSqFVEsCksGP4jS6dMn7YabbrZhMiND6kZdf70tWLhA1xbbBmkDGSJq6CGPuRltBSbVQYMH++CEbxRxTp3OkeZwnb35xhs+MB6TKQvNzqZNGxWvma6fsu4iUxdLC8OghmmrgzQsTt4KHcQZaFKDDQPUSeXRrXs3YxEAZt/WGkQ6aUHKKZl7Mb9hAt4mU95ll41wzQT+XgMvulgD8QAfQBOyhtERwlhDH1awYvIbNmyom9whrA/KX+ouaVcgEOPHj/d6tJR2avLEiT6QoZVEu0i9GRjxjfv4ww/sf//7v7c+fftIvuE+wLNYhjKTcotqi7h2/ghg1swRzvRdSBfuCcuWLrFZM2ZokUQr10jlNwunl8a14yKJEC7cDN6Qrx/uCw/94Ptu0sa/kFXAaOcff/JJTQYGG4suiEefQHOJhtHLKKAvMyFhknRAmu175TN5hbTMaBDRRI8ZPdrwlWXCcZsW3wyQBnuQfBQPazEJi66mya+4u0zfg1XmcdWT++WMoGO0hV3UD9FYvvP2W95fG0q7iDvJWt2T/Qf0d9PvGenyHdBHMRNDxrhvrpX5FxP7apmemUxeJZm9bMXTj3ypdahz5JHNgpvc3/kj0U580PziMoLv5vJly2ymsKad0Br6gh1l3617d7tLWvsli5fYzK9mOEatW7dOYZw/4zgOBAKBQKCUEQiimAsoD2VMPPXrN7B6MrExEDJYMNBiskNDkTJdK4Ee3rXl99RYpuatMhdBGnv26unXs0Uejx3Jdj8sfBRradFInXp1XTPCoAPVw2RbR8TLt+k5Y7BJEcGC2phofJLA76w60pZIs0hIDZrfDloMmNQJgodpD7MiAQJxRiBPDWYMikdEaE9ippMJEW0SaUiP3GhcT2h1eI6IKCtVIaIQUrSP3TWQNRSpbK/VmE//8IfCq6G0jJP0GS9tyKciAd2lKfmZa2QgIBHKDoF6ajtCG00+unTt5r/RJH+qxRydRaBGyt/WSZaueG/JR3ToDrQR5mEWU7DyGXeIq6+52l0TmIg0UBl9ZCpm8VddLWC56KKL3OVi6ZIltkOTExacZKvv0D/oW+mBfoo2DxP5FVoUQl74PeLfi/Z529YtNlzab/zyjsrkjcaRPniRylq1aqW7VhzH31V5QMZS/T5VAr/pp81FVr//8MPyAW5kk6WJbCnidYk03o1k0uV+RuvqZFDpJeGZMuocfb+eyuT+6SMtKpOxzbhpyCVjmhandBWOkFGuoyHPX0fP0rNV3SXTd4LO0U7IC0HEjxSsPpRbx0cfvG9du3ezm2+5VfekiKQWwVx3/Y2O/bixo7UA5nWfELKKnTpECAQCgUCgrBGo1kQRwqYnuWOM7w8Dyl6t9tywcZOb2CCIu3bt1PFG6659E/F52iZ/r5PHT9gNN9xoOJp/JO0ZizcGyczat580OBpg0Kj8TD5992o7DvzE0JjkiGRhumbgJaSe8fkf9AUMKh47Nd6kjzn+W1rF9MEilTqltUMbyIC9USZCtJlt5Pu0X2ZETNtUORlg+WbwZ/BEi8GgvHr1al/UQJqZIsGYzQeIDPjAJVP9TdK4Uj+us7AGTWRr/WZvSjRFd951j7RNT/uinrGjP7Xx4z7zbUrQ0qKZISTl51YvvkoBATRUaMWPyD8O8p4tEsceh+2EOfspstqfALnhw0QoPdCXIEn4xL7y4gv63mJPy9SJfyB9BJ/Cxk0bu+8d2m0mF5AltITk76RJnYtvfOsISf+kvUlP/+Je45uJCD6FyIFmDR/Xk+pD7FPKxKx33z4ufyInedZU/8O8m/SfJP/cwvz8kcOHPN4PtJXO40886aZ4fIfXa8sc/Chx2yCQH+nz8uCmlJwHpFVfr0Vq9erVd03/Ud3D4MjeqTO/mu6aVuQ9la+OnulZ/iE32laeA5jse/bs5aZqtiXiHmrarLlvx7N0yWLbt3efQfbri+CCV9t27TUha+w+x66xPUtZcTkQCAQCgdJAoFoSRQ0NPjhhYmMQYqDAHwgyNHHieF/QgmYDs/DUL6faof0HbMSIy2Uibu/bj5w4lePbU2By3r9/ny1YMN/GymzWUUSwn0y7LN54+803ZDI7KM3Mbntfi2P69O9nf/mXv3CzM6QxGaRoRHwlTylP9knMG7TSWpdzkDQGUX7zYZBFu5dQTY8jbSD+USxY6NS5k/uUoVF54fnn3Lz1tVZHL1m0wHpJS8JA4/mIXNRUXhy3b9/BunXroVXSX9qfnnnGumpgnDVzhi2WubF5y1YySQ/zfCZPnuTamtatWtto1ZvVmr/4q18aJul//dd/8e1J7n/gQW0rcom0U/J/zKgh7WvjvP0r06oWP0sRAcj+Avmqfq72eeKpp+yqq6+xQyKNy5ct97Zu3bqN93cWe9DvWQHtGuncPgVJ3CNN4rtvveVE7Zd//dcy1Q5wTfvpjFRPa6l+gPvE2jVrfRV1W2mRV8gvlg8LMCA7rLbHbI2vI9poyBcftH1Mojp16mzz5dvLwi58Z1ntvHbtGr8HWcwxRfcP+yj+6Kc/syuldWQxzaqVK93FgckJZIsV+RBS8nMteW4dqM/aNVvc/YFV37fdfofLP1Om94MyYffs1Vtaugy/b3NO5KSIo0iYAPKWAEP8MNlSCHl/LE14V5HuFTILL5aJnW22kJG9FVnkgoaSxS9ex0LaEnnRovKdBAj9FLUT2/WMHDnKdxBggsbzBFcUVpi//eZbMvk/LO3iLbJWHLdVK1Y4uQRjyPJp3bdFlZuUFd+BQCAQCJQEgWpJFHEkZ+EJW8swU4cw8SC/QhveZsv8+qJWGGOqQwPSpm1rDVg/sVtl6kHjgRm3ebMW0oCkoGPbm6s1ILMR97KlS7Wlx0iteJRPlcx2v/vtb/Qcr+k+gvc/8JB8jXp4vEbawBjNI2YlAs72ONk3kNn7O6bh3OvIy+DOQMiA00iahWxtT0NaAnIRh8GNc12libj3vu+5z+FU+XbxZpdLJOsV2hj5hAbIDJnOWXHZSAMtK0nJF2L4+FNPahAykcVp9rkWK6D9eUoLe/CRwi/q4Ucfcd/Md7TIRexSWsvGdv+DD7lPJ3F/9JOfaqX1c/aafNZee/0119derTLvuPMuf/uGCxv/Sh8B+rDaHXMu28M8+8yzPmFBw4vv7I0332L9RPogcGzGjdbw+w8/Yj169vAtbSBIaAi/mfe1zdAKXfwQ1/ztKstRn2NihYn4drXhrbfd7n38Ve0O8M+//rVvG8WK4Cy95QffXrTYTE7GjhntW9Nco/sBesSH+6yOSNVlmnShsfuD7o9xirdDCzYgZ/c/8IAWSLXVfoMjfW/FP/7udyKNE30hDXW65bbbfCKGFvsN3V+YyDExQ978jSu6L+j/kMm2IlssxKLfc26zFo1gBWBBzjH5SI4dPcZWaEHNPdL6D5CvsL/tRDLyjWXhuhtvsNdl5v2n//bf3KUCIosbyUMP/8Dzn6qdED7Rwi+2hrpOfszg52RTMuQPTABzNInjecI9DCEnHauYX3j2WftyyhRfJY2fLz7RbA6OphWfyDe0LRFaTLaiYhNx9mLEjA6WUNvvlpa/9DgOBAKBQKBkCNTQAydRSpUspxKk9odeOYqBNo43PrCqEk0XWokkoKXg2lo9lPFZhDwx8CAjD3k0CawErVu3nkhUEydtDL5oafA3QgvJqlMGMzQEEFHMgJwnD0zR5A+BhGRxna16WETCQx+y5VqeRCB9J9c5xUBMPsTnm3zT80jiMIhCKL0u0k6gPerapYv7IbJPHumoa/5yScM+cgxKe1UGpmI+nKc80lB//BQPyjzYrXu31L6NukYgHiSD9OSN9oOFLJjuwI/r5xKSNLxt5L333nXfNgZm2jBCGgLCnxbw/rtnj78JBK0Vbxy6TJtkD5S2nMkEfemrqVNtiUyb7LXYp29f7+dOFEWoWDW/XBMe7g0IFs1Fu9O30ZYTn7bEZw+yxFtc2rXvIO3l1b5lDhOdlSJg47RJN64YI0X68kIqMydK+EBO02Rk6aKFbm7lrS+9evd2sgXh3aWtopisLNMCjrry8b1S+fNmFurA/TZhwme+JdStt90hUtg2ZQJX35Sw/mYW7t2v58z2hThotUmPdpR7C0I8e/Ystw5cceVVvrVP3usN6ce5fRStHgtoNm3a6AtKqCN1BeO1a9e4FaFbt+42Snshcs5D0r/Jh6Bj7gWIeffu3dx8TJ+GLO6jneTawQpvMEW7ihY+df/X8Ptsjsv5tSwQme7HyeIh4lKHc72XUgJV4f/CvJbaF00tfeeee+6VJWhE3nOrCte8ylSNPh39uuI1Z7UkiumdkUGQTxL4zfXkwc9xQlaIk6RNT5ec4zpxuUZ6zqefS+Il55M8kvPETc55wtx/+a9zujh5kBfx0uuSpOVa8pvvpNyC0iRxk3j588x/Pb3uSZr0OJwrbkiwD6JYTMRoc5G1ejKJMmHBpQDiD3EioKnilXKQedwpmsvv1kkHF9VXmGAw8dDjWsecTAXaj1W8bNvCbwgbZfBNeiYfLPbCpQLyOFMuCxAziA9pvA/m3g/KwLWfpIeA0sYsXCEegZ4JkUquUx47B/Chbph8Z4gIQKggV7iNJP0klYFyUFmYhZNtmcgfDMib/gsBQ0t5+eVXuPaROpAmL71+kD95UyfqxmIvNJcc4/sLGemlzc15R3xRC1vQ8ENgyOOkPl6O6nRGOyV1pJ30m4B5GfnZ/5RpgGNAHUibyOox458jIFyCKFbuvkC/jr5d8dqwWpqeedAmn/ydMjlGm5I8kJNzNB/nzhiUCjhHfOKkp0/ySNKTV1HnuJ6EgtKQP6GoPPya5E0GwSRuuvz580niFFb/4lxP5E2vf1KX+C5jBNT30I6h9U0218atIo+oqT+gIXYttzaExtSatCmSQaYglgUF97PLnQBBmPblkkbSJ5MD+g0LW4ZpVTPb3HCcV3aSqeLTJyGr9BECq34hRgToWv7reXVQfDbC79Gzp+86wAp96pteBx042Toi7T/aR0IiO7KgVcVfE59c/GqR0dN4TP0jvQKk+pi0/0k/9jrqPPEz9RrPIUOGaXV56k1K36mj55D6Rz6nVSYy5smp38gN6U0wyKtjbvmQfLdWKA4huZ6XRyr7+B8IBAKBQJkiUC2JYoJoUQ/cMx7qSYLc74LS5T9X0vT5ivx2gDkHGTxq+uBUQNr8ciflFiU/cUp6PSknvssAAbU5puRcY+gZBaBlZF8+6BmrpNWQZ1yHrOXbQOmM68kB7V+QPy3X8Q/kOoQKspO/DOIUlb6o6+TH1jIQRZ+MFVAH0lNmQRhAytAUslUQwX0TIav5cOBaoTIqfqs2rZ0AuwyF1JE8COTD5ztB5wrD0OPqekF1+E4+cSIQCAQCgTJEoFoTxTLENbIOBCosAq5hRrqCyEspSA0BhYg6NSrtMshPRA0f1ZLknyxeOS8MJAOElYU+JZGhFKCOLAKBQCAQKHMEgiiWOcRRQCBQwRAobfKWv3rK3wlU/vOldVwa+ZcUg9KQobTwiHwCgUAgEChDBAqyTpVhcZF1IBAIBAKBQCAQCAQCgUBlQSCIYmVpqZAzEAgEAoFAIBAIBAKBckYgiGI5Ax7FBQKBQCAQCAQCgUAgUFkQCKJYWVoq5AwEAoFAIBAIBAKBQKCcEQiiWM6AR3GBQCAQCAQCgUAgEAhUFgSCKFaWlgo5A4FAIBAIBAKBQCAQKGcEgiiWM+BRXCAQCJQmAuzYyCdCIBAIBAKBQFkgEPsolgWqkWeZIMBbNU6eOunv283hjRwRqj0CyRtPktfgVXtAqjEASR/wNwLxtp0IgUAgUCoIBFEsFRgjk7JGAEJQu3Zta9SwUer9vLw2LUI1RkBvR9HfCb1DmZCpvpHa5jsIQjXuFP4+7CaNG1lWlvpDme76Xp1RjrpXNwSCKFa3Fq+E9UVTwDt1t27damPGjLYtW7f4K9wqYVVC5FJEgNfoHTlyRDmetnr16lmNmsV5S3UpChBZVSwE9JzgPd4L5s+3PXv3pN41HprFitVGIU2lRCCIYqVstuojdGJa7NChg11yySX21fTpNubT0eGVVn26QIE1RVmUc+K4Tx7QLLZt2841zqdCoVggXtXlJP0iI6OWDR9+mXXq1FlaxVArVpe2j3qWHQI1pK254I9WRKgAYpQdypFziRFIHvhoFiMEAgz/+w8csNdff921zd///vetaZMmMYGIruEI1KyZWqcZ40rl6hA855NnfeWSvGpLGxrFqt2+VaZ2yQM/GQCqTMWiIiVEgHnuaR9caogchP6ohHBWkeTJ86KKVCeqEQhcUASCKF5Q+KPwc0GAh38MAOeCWNWO6/1BtubT+qBpDm1z1W7vc61daKbOFbGIHwgUjEAQxYJxibMVEIF48FfARrmAInl/QIWoD7+jf1zAxoiiA4FAoMoiEBtuV9mmjYoFAoFAIBAIBAKBQCBQMgSCKJYMv0gdCAQCgUAgEAgEAoFAlUUgiGKVbdqoWCAQCAQCgUAgEAgEAiVDIIhiyfCL1IFAIBAIBAKBQCAQCFRZBIIoVtmmjYoFAoFAIBAIBAKBQCBQMgSCKJYMv0gdCAQCgUAgEAgEAoFAlUUgiGKVbdqoWCAQCAQCgUAgEAgEAiVDIIhiyfCL1IFAIBAIBAKBQCAQCFRZBIIoVtmmjYoFAoFAIBAIBAKBQCBQMgSCKJYMv0gdCAQCgUAgEAgEAoFAlUUgiGKVbdqoWCAQCAQCgUAgEAgEAiVDIN71XDL8InUgEAgEAt9B4PTp03bq1Cnjm3dQ16xZs1zeRU2Z1e291+l1Bu8E8+ry7u+yqPPZ8sx/nWNCdcH8Ozd8FT8RRLGKN3BULxAIBMoRgYQY1qpltfRJQjKwJsdl8c0gnZGReqSXR3llUYdzzTOpc1LfhJAnx+eaX2WMXxZ1Plue6dfBjGNCdcLdK1xN/gVRrCYNHdUMBAKBskWAQRLiciw72+Z/843NnTvHDh44YG3atrPLr7jCunfv7teTeKUlDfkRDuzfbwvmz7c6devaxZdcYpmZmedcBPKjoSPwu6KGpM579+5Vnb+xxo2b2oCBA2zZ0iW2a9cu69uvv7Vq1crFr8j1KA18Fy5YYDt27rQBAwZYy5YtS6XOK1assPXr1lqv3n2sY8eOeXkmuG/dusUWL15k7dq2t7bt2tmihQutfr16aoOBVjsrqzSqFXlUIASCKFagxghRAoFAoJIiILJWU8Rq5apV9tILL9jcObOseYuWVrdOXZs9a6a9+/bbds9999o9995nTZo0yTNLU1sG38R8ihYyndhw7eTJk3nm1PzX09HaJ6L42WefiSC11ADfO+8SWsb0PCmLD3lzPtF8cjz/m3k2a9Ysu3TQIBsyZKhfT0+bLu9pCKXSo00qSKOU1Cu5np5PIgP5JdcTgc9WZ9KeOHHCZdspgjTm00+tp+rbt19fW7p0mS1etEiEqZUTReJSblLfpKxElkRGvhNZ+OZ6EscvpP0rSj6upX8Ka6+z5UFxxEFuQtJGp06d1Dn1tVzM+WZyMHvWbGvWrJn3LdIxSeBaeiCvJL8kfXI9KYvrXFuyeLF9Nm6sPfDgg04Uuc4nJyeF+4YNG+zD9z6wK6+6yupqYjLtyy+sVdu23g6ZtWt7XPIuqrykX1NegndhmCdyxveFQSCI4oXBPUoNBAKBKoIAAyhhy+bN9torL9vGjRvsH/7z/2EjRlzuA/w+ab3eEVEc/cnHVr9+fbvr7nssS1qXggbFZEBOoGEQTUgC5/JfT+LxTX4ZIpqZtbM8f8og5E+TmKf9Yu51Bm3Sr1+/QSRhiV108cUFykea/DJxLp0QnK1eLmeuiZy0BGQkD65R38LqjI4T+ZM6ZGZmSINVWzKl6n73PffYHXfeabVFVgqSMymL8gjFieMR0/4VJF9CsMgvPeTHPrmWv9yk/pzPnwdpEnkLwqVmrZqqb6ZlCpc6deokRZzR7oVhnuSbXx7vR7lkkzhJu+ThnpHpGNdSmZ27dLFf/OqvPQ59riD5kzoUVl6e0PGjQiIQRLFCNksIFQgEApUBAQY+PhCFr+fOtQ3r19v3vne/XXHFlX4uJyfHKD6Y9QAAQABJREFUGjZqZA9+/yE7fPiQTZs6zfr3H2CNGjeyTZs2++C6YvlyWyozXsfOXeyGG2+0Hj16eNXJd4HMihOkJdyxfbt179nDrr/hRuvWrVsecUjHiPg1RJh2Scv2/nvvSbO20Bqp7BtuvMmJHyQDQjh3zhybPGmi7d69y7p07e5lYhZfu2a1LVww39atXWNfTvncmjRuYj179cojZZQFYYAQT5440RbK3Ih2dOR1o2zQoMFOHNasXm3btm1z0jJfmq6VK5ZbH5mBR113nXXu3NnF3bdvnzRQX9rMGTN0fNqGXzbCrpBmqmnTpnbi+HGbO+9rmzRpku3ds9u6dFOdr7/euudiclzX50j+SePHGwSpfYcOwvWoSa9pOaobdcD0jMkUs//2bdsdq2/mz7NN0oJhkr9WsrRu3cZl2bN7t33xxReu9aUuXK/foIG1adPWcfZIuf+oO5rMeV9/bVMcvz1qk55qkxs8LuVhst2r+q1bu9b279trN950s5tjycLbR3nwjcZuguqwdetm69Spq11/4w3WS1gfPnTIVqxcYdnZx23Xjh02e/Ys9ZXGyucmqyfT7nj1hQ3r1tkl0vhee+0oaynzunSfli1c0ASjXT1y5IhdM+pa4XqZ1clKEUcwn6p6zpo5Q32kpg0ffpldfuWV3j+Qbbv615TJk9T+C9QnutqRw4c5TfM4aaduM776yqaq3RoLJ/rVCWkXCQd0bcmSJdZAuHURaVwn+bKPHjXKJA3hqmuudnnq1q2nPmRGPxk//jNbt2at9RCGlNmwYUP/3bx5c08T/yoOArX+i0LFESckCQQCgUCgeAhkyxcQssLAO3DgRW4CK17K0o0FgTikAf5Lmd8gOldfOzLPVwztCtfRtGAmXSqCgM8X5sMXZaJmYCegFZsl4rRSRKNjp47WvHkLJxJ//P3vRE6OW7v27e3rr+c5ScEnrHXr1k5ET58+JfKXMk8iw+yZs5wEHjt2zBo2aChT7BInhm1kFmzTpo2NHTPGnv3jH5zwtGzZWnl+ncpT1xnEv5k3zzZu3mSdJGPvPn2shXzeqAMYE5YtXWq//+1vncD27NXTduzY7uburDpZ7oO5cMFCe/aZP9r06VOdYJDui88/F9HdZt1ERiFar736in304YdepyxpwEZ/+omTCgjDl4r7+9/9TibOHGslMveNSOO8ed+47Pgcjhn9qb3w3HOWIU0i2tlZM2fakkWLbdCQIdavf38RuEn2+eQpTjzWi7D87rf/7sQyS4TptDAfP2GCCNw+J8CHRYZelyyYWFsJzxPHT9gnH39kM0Wmuvfoqfp0U42ZCKQIMrJT/nPPPmMnlVer1q1s3py59o38UWkT2vj9d96xV1960davW++uCL379PV6gh39gAAev/33f1efOai+0NkWidBD4Fq1au1k62Nh89ILL9puEeX69eo7CaOfLFbfod8w4fhiyhQR8yxvo+XLl9mYMaMN0ks/Id+xkrNWrQyvJ8TZ+5rOddB1XCQ+E0mF4PUUAd+tdC8K02nTpvn1nTt22ufK/5QqDtnEpP3uu++4Vhwyj8sBcTdt2mhDhw130vieruMjC+GDAD/7zDO2WRMKJklbtm61KRMnWT0RSSZBixYuMvr1mjVrRPTbC6t19uabr2tisEd+lgOtWRBF7ycV6V9oFCtSa4QsgUAgUCkRQNOFNqiuBvbG0sSlB8gSn/r1G4jg1Lajx44aJjtI3jUjR9rTP/qR0jQWefrAPnj/fdsozVdGRqZI0xRp2q62Rx97zLVJaGpeFrmcLc0R2ieIUnqoJUKHD9nll4+wP/uLv7QOHTvZdA3oELPNIn+NpLH5fPJkH/wfffwJ1+CtWrnSic9EDe6PP/WUNFWX2h6ZytFI9e3Xz7NPSOJRaYkgOfi//cN/+k9OUtCkvvnGGyKoM62niB5kCM3lqOuut4e+/303hWJ2nzRxghOC7OMi99JaPfroo3anTPAQws/GjpW5fqM0snOk1ZrsC3+elCyQDDR0zz/3J/tc5ULU0IainXrkkUetgerz5Ref22/+/X86mYbQQo4wO6M1Oyl/Ps7dc++9dr987U6ezLFXX3nFFqn87dJ67hERW7lylf3g4UfsdpmrCdQFspjL6c6o/1KR5AnjJ3ibPPX00z4xgdhDvMH1e/ff7+S9R6/e9otf/tLbKGn75HvTpk2uuRs0eIhRRzTLaGhfeeklm6N2hcyDYdt2be2JJ5+0wfITJe/n/vSsDZMWEFnRVL7y8kveT3ZK60jfYxHL408+5dpXJgyvqZ5zZ8+xftLm0p/Q4P34pz/z61SKCcNEafQWLlwggifNq/L58Y9/Ytdce60dPHjQnld5M76a4aRw0aJFmkzMs7vvudfu+973HFOI/ksvPG85msQgb4ZwB3vwRmvdpk1re0L1GzFihNFvf//b39hmuWQg29dfz/W++5Of/dz7GHX4jYgzxDXdtO7gx78KgUAQxQrRDCFEIBAIVAUEUjqjgmuSTj5OiiBBDjt26uQkEMJVV6ZFzItovrZu2SJNzBY7dizbXnrxRRGQkxqUT9i69eucaE6bOtU1SLukDZIx0zVH7dq1d2LWXKShabPmTlrqiUxCXBnAMUkfVx5oyzAdQtLQhPWS1gvCiHkb7aQvmMjVUqbXhIEcuVjIgBZuosgfA/symR2RgwE/R+maq2zqBWGjXvjPEQ9ivH/ffmsmrVQHXYdQEG665RaP97mIsSpj/Qb0d/Mv17tKQwUBXb92na1du9aOyqwKmUITCXFEU9qlS1eZoVNbEYmSOyn3jPUP02xLaQshM2jj6onIozk9JVn2SZYmImrtZL5OZOnSpYvK7GYnc1KyoU1MAprIuioXrRh1I027Du29Lvv27LXDki2rbh1pCdtbM5lnwZdykw/5gB+aZVZrvyyyl7pmtmr1KmmAGziBZdU6crAgB/yIg6m8reqamamFSWrLDJF1/61r+BN26dJZ19s4aUSz2Ulm/sWLF8nndL00k3tsv7R9X02baiukfaxZo6ZMzdtso0grmNInGguHttI2IjN9sJPcIJYtW+5axZ07d7gc4E5ApvaK276DVkOrfAL/+aBtxFeya5eu1iZX611bMjOpqaXJD9pQ+iE7AeA2QF5oEPtIe40LBuVHqHgIBFGseG0SEgUCgUAlQ4CVn5Cz7duXOIHroEGQkGiSIGp79u7zgbFpk6b+DQlh0E+IRBKXEfekBtDjMoVu3bZVvmA5ip9abNKiRQv3N2TgHzdunBMByrlu1CgbJV85tDo1RATgN+TLQHxKmjRO4MMHAWIwTwgIcmGKRNsG8SFNKqQxpNwzpOEsGsdly0Q4lBaZIQZDhw4VUWlnm6Qdw08yPXg9lS95QxbRqmaKNBCSuqe28tF1lZGKlyqfMqAgyHdC2kjqQH6U60FfkNBEljNLzl1RrZNJOZDwJGRnHxMxSdWZuhHY2iV9QQjnkrSUDTwpmVLnkZeFNBBUNHuQMLTBNeQ/Sbr8AYwxce8ReUvam3iNRdxZad6gYQO1l/JUPkm55JHE9fxUd+qRQIB2GgJcW7imx4UYH5fGD3eIozKzQ/DZRoeEaJ8vuugiJ8WYvkGlVq7MXieJnixcod7eXxQnwYmaQVDpawTqz18SqHoiP3KSDpyo/+HDItRyBUjajDQQf3D/Nockp/iuCAgEUawIrRAyBAKBQKVEgMGQQRxH/n7anmX2rBn29by5bpaFPBKIs07mN3wQ0Rp1lLYH7Z1Ge9fCfFvxFJlSCsuSFq558xZ2nRZy3HX33R6FcjAj4pvZQT6E9z/wwLdJ9QvtUYrskUMq+LeP2qaBOMu1UKlBOzXAo5U7IpNyrZq1fLBmsGcAh3zkDxDCetKYXafFIE/98IduuiYOplPMuPjsQRQZ7ZPyuU7xCdGBGO/ctdOJEtcI+D0ulzYJH7eakuPYkaMuA4SGPSkhdGjQ8HGDUFJHZHTslf644pzKJXyUTHkE/fJviEpe0CknOzrXQK4AaLDwVUwRVS3qkEl6y5bNMvkOyUuC7ISsrNquxUSrmZBFzh/XwhPKQpP3bcgVIvdEkgdkqGnTJnbzrbe6GTeJzyKoo/IrbSDNGyZz6pYX9PuMY13gchIF4rl79x7XaKY0t6edVNOHWkpbB564EXz/4YfzFtag0dymSQgEk7K3SLuYLe01gTY6ITzBnVBH9YLknRBZzyOPkhE3Akglgfrzl3vgZ1IHqZ/ID+5gRP0h1Sy64b7hNwugdu/d42Q1L138qDAIpJ4WFUacECQQCAQCgcqHAETgkksG2RVXXmUfyc/wN//j/3fyw0ICHP//+f/9tW3etNEJQqJtZOB00pJb3dOYl0Vc0Lr17NXbHf0/+fhjXx0MORovP8K//tUv3b+MeJzjk/xGBjSRp3QuISZ+LueUzNY5nicm37Fjx/iG4BQ7Q+QVk2QPLUxhVTJkcL9MzJs2bvKBPL0lWNTQu29fLS6Za5/Kjw+fTEzW1O13WuCyZfMWaSxzXB4WQiQBzRYaQeraU2ZvFmjga8iq661bttobr73uizNYYc3imdGjR/vegP+LvbcAjOvK0vyPLYMMkplJMjvGkMPocBzopAMOp7nTND07s7sz2zvb/9md/c/C8DRTOh1m5sSJYyexHUPYbMfMLINM+/1O1ZPLikzSK1mSz7VLVfXgnnu++6reV+ceoA8icd+f9K4vP5+tKN1evfso0GK872cpHP89AlrQm8YzVkL0ZnnZ8cyxU7Edcgxu5F4kcvqJxx71PvD9fF4pjJYsXlJBiDKELEOASkpK3Wr85ptvKGr5E9dnwtsTbKb89/oP6O+khyAi9E3wTzBInkv79vVl1xeef96vC8ZBYMp/+su/9AAUt5jqfH/OngQZy1iVMzqCLC4CiZ5cL/gaTnxnggeEzJa1d7xwIUBnsAhin9ISRVcv13XzohMyXAQIJvnbn/7Uo7OHKlH3Fs3lG6+/5kvUczWn+JSuVsQ41uahCjDBkv2m/DMXLliQiZBW0NBn8l2koSvjheAyNiyiWMArmjYy9xBq/HSHKvCMBN34ZZLz8gUF6hDQtFPY5RLwivPjxTFH4Ms/G4/5kGIAgUAgEAjUHwQSaw/LhjfceJOnjCHBNoSicUFT3Th3OUn7ngJMRo8e7TdDkhK3VlRycz0njShWliBZlusifzCScxOU8D/+9m+1zEf6l70e6HHVNdc4KalMRlhObN2qpfs6JjdcLEBFxQqi0TMRq2PHjvUb9H/9yU+suaxzLBOP0ZL15bJwYQHt27efdZQV6pGHHpAVr4ldfvkV7o+HLKyM519woYIOtijo5ml77NFH3fLUR+Tz9jvvdKsVEbSkc6HvpKFjcXEbLesWukXrOiUev/9Pf7Kv33W3kzmiwO/U6zPOPNP9NslF+dd/9Z+dtGJJJP0MKX4gPpfLn5HoXsbfQhY+goe69ejpgTqMkehr5gHCC54E8CRLsswTFi0CSPAxHCSieNfdX/PAkJ/+t79xvTmXqPOEeKJDMr/4CF53/fX2gHwL//Iv/sLnDlwv0dhIW4SJr1AWV7Yl+CcY0AfjIwXPNcr1iFXy7//u73RsgRO+U049xa4ce5XPKzpA/phPWhPwkx4sz9LY3krzrC592b2tXBmoygLp+s43vyFL3y5fVr5C/XVU0new37plq8/pN792t3po5KlobrzpZgXInOZ9jL3qantIc447Q3FRsfsm9hQOyO6t+WXMD4jY/eiHP/AKLCzR9y4pcX9Gv8ZkGcT3E4smPo7bRQgTDCDjpBxq0bKFb8MiDRb33/dHEdo3/QdKx44dfEyJb6grGn/qDAKNNGH7f/odo2ExhDowjGOkfYgNBAKB6iCAn96DDz7g1opbbrm1Yim0On2lcQ7fYdieCKwgunP+vHm+JNunpNRvhtw4Ewsiy21bFV3KUiQ3URpRxZyH4z+kDXKBRYyI1eUKgiCxcYke9FPV9yXWPDCB0BGswvksy2ItYmmVZT7OZenaxybChYWLoAIafbKfZUkCLgi2IZo2IUqun/rkmBVKeUIfBMuQYoUIZPajA0uKkIVk6Z2lXbaRJw996Y8ce5yvN55WJ6lW4+OTZQlLJQEypMzBAgtuPJLxz9O56Mb4k/GhMxG7WAxZ4scKlyxv+lg0PjAneIPxstTNsjvEmDyE9E26oOeffcaJ85iLLnZckv55w2ushowPHfr262/dFRDEejvWQfqkQZbpr6pGH4xxkdwRCG4hpU2J5hXC5X3IUgqW4MU25GG9dUyFKzhgTU2OAXMsf2AJLhBJcHOfv+ycIhMST5Q2jQChDrIS0gcPxoo7BBZDrLr8UNmhfgmwSq5FZM7XtYhvItciY0UW+8Gd655rl/lmH/OR6EQgEDLoj5yNTthFYLdtK/Pr//FHHvGcm3d//RueRqkq3GLbsUMgiOKxwz4kBwKBQA0QqGtEMVElufHmEgxunLRkG888kht1su/AbfyGzxAz9tMSopl5d+DfI+kTeRyXkJhc+UlvVfWT7Euek2N4z5iSfpPtuf1W3sY+5LO98vlJPweOjyXXzLEcn/THa45PWnIu+5Ptyevc98l5LLv/USlehqs+8U03j3O/yT8pwpyUL3d97eseSc55yVgSOZXlJ32zn3203G2+oYo/uf3mzmvSP33wqPyernK35XadyM+dE/bTTy7mvOeY5PjK+5M+2c6DlshM9vGcuy85Njmu8nuOh9Q+qVyTWBKvu/6rhjvB1A+mKi3RQ14ycpx+8EGQo9UtBIIo1q35iNEEAoHAESJQV4liMvyqbpTJPp7Zn9yok+0H25Zsr3x8ct6hnpNzc49hW7K9qj59HydkiU/uubw+1PlJv7nnHGwbxxxMfnLOwfYf6tzknKSPymPhPcEaLyuH41NPPOGWRnwLSX1D0AcRyEkfuecmr+k36ftQxyXHV/V8NH0ksqrqJ3cbx9EONqZD7a88nqpkJucnMivkIPcg10pybNIfuSQfkwXx3Unv6JxMWqOzzz7Lg7PI/Rmt7iEQRLHuzUmMKBAIBI4AgbpOFI9AhTjkGCIAyeHBUjvpaljapXwcy/SVCdExHGaDEw3mWDPxNSVwiiApHgnmFeSzwWlefxWKYJb6O3cx8kAgEAgEAoFqIgAxgbDgH0mgD42I8dwl2Wp2HacdAoHEsogvJAnReY9rRkLcD3Fq7DpGCARRPEbAh9hAIBAIBAKBY4sA5CQhjIzEycqxHdJxIz3BPQhi3Z/yIIp1f45ihIFAIJCDADcYGpYfT9ymt7xOtnPjiRYIHA0Ccc0cDVrpHRu4p4dlPnsKophPdKPvQCAQSB2BJHoTXzJy/ZHglzQcSVWKhDCmLjg6DAQCgUDgOEQgiOJxOOmhciBQnxEgD9uCbIWIWapCQd1bKlF0UQk5EkZ3UWLmaIFAIBAIBALpIBBRz+ngGL0EAoFAnhFILIUfzpxp//SP/2hvKhcbFU5YaSbVyYUXjLE///P/YCNHjfKRxLJWnickug8EUkaAz2x8blMGNYXuqk4dn0LH0UUgEAgEAvlAgKoQJww9wUuCUaqtSUETa9milZ1wwlCvGJEPmdFnIBAIBALHKwJBFI/XmQ+9A4F6hkBibaByQy/Vn+3QgdxrBLEoxUm7Nl4KjRJiyXH1TL0YbiAQCAQCdRKBIIp1clpiUIFAIFAVAiw/E7TSs0dP69ypi+1RtPPu3Xuta9du1rt3r0iWXBVosS0QCAQCgRogEESxBuDFqYFAIFC7CCR+it26d7feffpYY/knNtK3WG+V/urevYcPJjmmdkcW0gKBQCAQaJgIRNRzw5zX0CoQaJAIJI7u7du3s9LSEits0cKjnvuINFJhg5Yc42/iTyAQCAQCgUCNEAiiWCP44uRAIBA4FggUF7exkpK+hr8ieRRL+/atIIrHYjwhMxAIBAKBhopAEMWGOrOhVyDQABHAWkgVFhJsd9fyc5fOXf09y84k4GbZmYTc0QKBQCAQCATSQSCIYjo4Ri+BQCBQSwgkS8sdO3a0/v37y6K4xzp27ODSk321NJQQEwgEAoFAg0cgiGKDn+KGo2AEKTScuUxDEyqwDBw40C2KXbt0regyrpMKKI7rF/Gj4bie/lA+RQSCKKYIZnSVXwRiSTG/+Na33ouLi23UiSf6sNu2a+fLzvVNhxhv/hCIHwz5wzZ6Pr4QiBJ+x9d812ttky9+ZUSxffVakxh8WghwTfCIHxFpIVq/+8n9bgiLYv2bS+Ys5q3uzVtYFOvenMSIchBIyOGiRQvtsUcfs2nTPvC9e/YGVcyB6bh9CTGgxdWQweF4/0teTdpJJ51kN9xwo/Xt18/fB/lwGOJPIFAtBIIoVgu2OKm2EEiI4qpVq2z2nNnWtVs3GzlqlKpx7K6tIYScuoyArIneZImIdpwjoGuByPePPvrIvytWrlrpaZNAJYjicX5thPo1QiCIYo3gi5NrA4HMckRjlWnrauecc65dfvnlXrqtNmSHjEAgEKg/CDTWD4bXXn/V3ho/3t0R+O5IfmzWHy1ipIFA3UIgiGLdmo8YzUEQ4Mu+vLzcNm/ZbGvWrLHdSokSLRAIBAKBBAG+I5oqv+amTZtt585yEcRkTzwHAoFATRAIolgT9OLcWkUA60BB4wJrouUlrSXVquwQFggEAnUcATHDAn03FBQUxFJzHZ+qGF79QiBKGNSv+YrRBgKBQCAQCAQCgUAgUGsIhEWx1qAOQYGAEJDVI18rYm5jPZilNU9yQ+YxmtM8zSef0UPOKQdECwQCgeMKgSCKx9V0h7LHGoFGqkPcVEtjBU2aprp6vkdR4Lv02Kc6yFV1XCDfLeojp5lvEJ+wXbt22Z6D+IvmQyZ1ntGTsn1VtcbSsWmB9CxIb7Fkr1IxEWW/Z08VkfbCgDltJrnom1YDW2RWGd2fN5lme3bvcv9f5EcLBAKBQAAE0vtmCzwDgUDg4Ahw45W1r6yszBbMn2fLl6/w0nMHP+HI90D+unTpbP36D7CioqIqyeKypUtt3rx5kr81JSf/fdaiRQuX2aNHj/1WqKyeEJwvvlhkXyxaZNu2bT9yZQ5yZOKR2lr69VN9Z8r3VU55ArlZsXy5zZeeWxT0lA7X2WetWrWyvn37WTelZmoskl/RJACSuHHjRpe5du3adOZU/TZt1sz69OljvfVo3ry5dMkSt6zMrVu3+HyuWrkqFZlgScRwz149lXuwv8t0AA9moa4AIV4EAoFAQ0cgiGJDn+HQr84ggMVp5YoV9uADD9jnn39uHTt18qXomgwQy9m6dWutXbv29sMf/pmdcuqptn3btgMIDSRg4sR37L777rU2bdpaYWELcYC9IncJ/TrKEag/LIkQpLFjx9q4cbcYBA5rJnSmQORp586d9tprr9pLL75oxUVtlN+uyX6yc5TiSKeNnjt3lFuZdLvu+uvt+uu/miFQWFDVIGyM6e2337InHnvUSWzzwuayPLK/enqCG4R385aNdsnFl9ktt95mxW3auAWVfa6riOPHytv3u9/+xrZv325t2hbXSGZGmUa2fv06GzFipH3t61+3ktK+tlu6IROLaovCQlskAv6Ln//M1qxe7ddRRk8/u1p/6HvN2jVeO/ub3/y2DR48uGprZrV6j5MCgUCgPiMQRLE+z16MvV4hAF3hRt+hY0f7zj332MUXXWx7s5YibtRH27AykWD43UmT7I3XX6sgMJX74bgmWuo+//wxdtNNN1uPnj2cBFRXJkRw06ZN9uSTT/hydtbWdYBYtGncqMCuuPxKyRwnItlaS5q7v2QFPOCkg7wBs2aysK1cuVLVeR5xy5dzvyowQ+7ZyrVJVY5u3bt7SqXqLLc7ZiKBZWXb7NFHHlHeTi07VyGPIYPjwIGD7EqRZmpPQ5KrI5O+kjmFYH84c6btKhdBZEdOQx5L7z179rTbb7/Tzjr77BrNJ10XqKTJG2+86TLB+2C65gwjXgYCgcBxgkAQxeNkokPNOoSAmBVkq0BWtsbclNWqTdpEZgpkbTv8+VomFePgWHwVsdId/hwf2gF/IDIsv2IdZanykA0SjMwmkildrVH1ZO7do7RIyFQfhx8zdlItozYBF6VS0qM6/oroiR9pgfpphLtjZpq+pO5+BKg33cjl7ammTDp3ggq2mqfDNbBAZsY3snrYIo+GRTaX3O7X63CjiP2BQCDQ0BEIotjQZzj0q5MIcIPepyAJAiVoh+NcVSnhfdBP9mZf1TEHbNNxWIv8oSVZyMHRNmQ1EuGjjyOSK/U4DsspulZHT86lD1/a1vOhW3Js5tkttlmMD33egXtdz6yOhxWZPZXjEl2l8IEdHuE7dNxbIGyP5PysPJdZTWxdTx9bFjdfUD/CwcZhgUAgcFwgEETxuJjmULLuISC7FxahhDklz0cxUKw+GQvbEdp/JIPjIYj+qKZM2J7LPZLzs0Or0PVIzqmEARj5uGXac7mV9n/prWRmjs/ge0TnVOokwTbTT6WdB3mLahyfjPcghx16M3Pj+h76sP17M9j4dcQAjrIlZxydzKMUEocHAoFAvUbg6E0K9VrdGHwgEAgEAoFAIBAIBAKBwJEiEBbFI0UqjgsEahMBllqz8tzqUw1rUbWGW9tya1teAsqxkHssZObo6y9r6zpK5MZzIBAI1HsEwqJY76cwFGhoCHjSbClFTWsCFSCM+JLltUFi8HPT0idyCWxIfAPzJRed0Aodk/rdHnGbT13VNzLQk4jx2tBTk+cytaZcu3PKxIExeEo2OkcLBAKBQOBoEYhvjqNFLI4PBPKJgG7qJFsmsniLUtCQE7GZCI0TKW74+WhZItGsWVNPu7JZcskf2Lx5oYiUEkznQ676hCCi2w7lH0QmfnKFzZs7qcmXTAhTc+FLJRvyQKInMj3iNx96Ml9Zmeh3wJzyIyBfMiuuk4wPI3qWl5fnZy4rZMWLQCAQaIgIxNJzQ5zV0Kl+IiDSgNVn8Rdf2AvPPWtTJ0+x5kqufO7559vFl1xi7dq3V67EvfvzCKahZZaoUIZvxrRp9rzkLliwwHr37m2XXn65EniPVg5DKoPICieik0aDHNFX2ZatNkEJsl9+8SXbvHmTEkyPsCuvvtr69+/vlsZGjC0lmT5u9UX+wSnS85mnn7ZFSlqNnpdfeaUnKsfCmIwtDT3pg/4gofPnz7fnnnnapk+bbsXFxXbBRWPsggvHeAJvxpQWtrnjxjJNVZclS5bYa6+8Yr2k69nnnutpgzSwdLHNFRyvA4FAoEEhEBbFBjWdoUx9RcAJhayI69ets6efetK+WPyFjbv9NrtEZO29d9+1F194wXbs2CErXGORqIMk9auG8sjFWjl71ixPZl3Uusi+q2Tg3bv3sCcff8JmzpguoqMqJBALHjVt6gNSxDJ3hiS+aKNPG21f/+a3VHWlzB59+CEv++cW1JrKyjnf9ZQF77PPPnU924t03/O973ny8Scff8ymTZ26n6yloadkQ9TIWblKicKpFrNaVVTu/NrdIv7n2dvjx9urL79sO2VNdTxSkukq05cehSqxuEKyH7z/T5L1kle18XnMwSVeBgKBQCBwOATCong4hGJ/IFAbCOjGTjLsuXPn2AqV+Rt79TV22WVX+NIz2z/+8ENbKsvQIJVWq2m5tkQdSENjEZmtW7faRx/OtM6dO9s4lakbOnSYDVf5uPvuvdc++ehjf19E6TotX6ZhUyQR9vKVy2z27Fl20imn2A0332xdJLuz6lU//OCDNnvObCvp2zcZZs2fpadbMFVn+9NPPrGOHTrajZI5dPhwO2H4MLvv9793ojxy1ChrpVKEe6VnjZtkSqj7Js4SCd8i6+lXVHrw/AsutG0aB/vmzZ5tq0Qe+5aWejWXRsKlxi0rl5J/b4uI8qNj9apVslwWW4Fk8i9aIBAIBAJHg0BYFI8GrTg2EMgDAtjpIDLlKte2fv0G+cwVWlHr1iqTt1FWxO1ex5nydytXrsiU6WMMEIKaNvVB/j38IFevhEy0tSIRpXWqMwyZa9Wqla1du1Zl7MqsCYEQachkzJJJLeNtKo9HOUOCS9ZvkN5aZm8tmevXrvO6yR58kYJMkMLnk+Xt9evX+xI+srDeKmuh17/eJH/FjRoD85BGS+aUcn5r16yxli1bCNtiL33ItrbCulxkbr3qdLt9GLkp6rpzZ7lqVG+28y+80O75wQ+tX7/+tnsvS9xpaBd9BAKBwPGEQBDF42m2Q9c6iQCWPUgRQR0bRWQgS8XFbfym3lQBJm3cmrdXwRebfDkzrbu9WxQld7vkbtu+zVq0KLRm8mmDLBFo0kpkddeucic3XuEkRZYBKUNuu7ZtrYVIGyQJYsqDfVg5wSQFOux9Q4ghvBs3bHS/wNYixDQCh4pkbSsTWd64eXN610d2TiGDGzSnENN27dq5vyKkldrX4L9+3Xrbs2t3JpgmBenwQHwemcurrrrabpGFuEuXLppHrKTBElOAOLoIBI47BIIoHndTHgrXRQQgZwSU7Ny5w8lai5Yt3cDUWNVIWuo1HA3LH+QizYbcXVpqpbyeRznrvRNIPUNYaRA6tqVFM+gH6+leWbggo5A1rIqQ1ELpisWtXI+0rHvoQF+7RZYgvmBLkBAym0KIpadjLx/QNBvkFNLGD4DmCghqIZ/BxNLYqlVrWXMzJB0cUmuSSYOM0pi7XSKraWLpHcefQCAQOG4QCKJ43Ex1KFqXEXCihHVLlkRu7PixccuHwGzZssUJRmuRqjRv+PSFXCJjITGQqD16z3aeN8nChk8bRIptaZFUyFLr1q3cklgmyyFpW7AebhMR3rp1i7Vs1TJDqjSGtBp6oiPLvztkPSWIhCAdZG/etFk5FSGMLdMS58vrWGGJpC6W1RQyjn7MKWMhHdAeRZIzp07qUv4BoMnyPJjMG49ogUAgEAhUF4EgitVFLs4LBFJCICFhWNTwEWTZdavIIawC38TNImxNlM+wbds2mSXKFEkFZAZrF1HGWJ8IgoDIJZawZrK8FWvp22sJp6Qv3bRWdDUkCj9MLIhggOVtu/wW8ZWEnEKoUqE4kFzJJAqYfrds3uIYAzD5BSGnWBnRM81G1HNBQRMtMxe5bvhBohPbWQaHhJPyiGV+tqfapLPPWZDEVGGNzgKB4xGBIIrH46yHznUKASdDImxNmzS1Ll27umVvrYIcIExNReJWrFguq1Mj34f1CdIjZlVjHSBnEMKi4iLr3ae3rVEE7hoFXnQUedkuq9s6jaGDXrcSidqt49KQ6YOWrl27dfMgEiK5IUkdFdRCsMkGkSleQ9ywiqUhM9GzvXwEu3bvbsuXL3drKXKwKK5etdr9QNvK8peW1ZTZAVuCWHr36mVby7baSkUft9UYmslyvGr1KpHzJtahQwcF1GRbCnOadJX7jP4FstjyHC0QCAQCgaNFINLjHC1icXwgkA8EdBPHethPyab79R9gTzz6mC2cv8AJ26effmqXXHaZ9erV2y1gqYmXTMgMgRYjRo6yD2fMsF//4hc28sRR9vlnn9l2+exdLLlFShC9S4TKq5ekIJw0O21EyoYpwTb5BX/2L/9i3Xp0Vy7DD6xPSYlv9+CZFGQlXUAAsZoOGzpUek633/76lzb5vRE26/PPfamfpNuFLVqmlgIIgstyOnr0HzjAuokYP/bIQ7Zg/jyPvF4wb75ddc011pUfBsIjLWwTfXOfsZqWbdvullv/kZG7M14HAoFAIHAYBIIoHgag2B0I1AYCbvWSZY2l52uuvdYtT5Peecf96m4ad4udOnq0NdXSNDn+0rQMYaHEJ7K0tNTuvPtrquDxsk2dMsVKlcdwzMUXW/9+A0Se9mSIDBYprHw1adk+0OH0M85wf8RXXnpZib1nuo7njxnj1kYIbJr2L+RBmPoNGGB33HW3vfrSSxk9S/vaxZdeagMGDvQlYZeZhp7CCJmQ4nbt2tsNN91sb77xhk2Z/L5bL2++5RblkDzZCmRVJC9mmnOaOz3g2LFTJ+VvPN8t0q5fTecwV0C8DgQCgQaPQBDFBj/FoWB9QcCJhW7sbbQ8eZ2SM191zbUiaI2sicgcaVacPMlKlXZLSArWzP4DfuABNORRhBRi7UprCbhi3CJQ7r8n37zRo0/zMoEe+CGZu0WW90jXZEwV56Twgj6xLFIisP8PfuDL6UQ9Q30hy6nrqX6TOSVf5M3jxtlXb7zRSTcWRGTmkyRKuOuL1bK7ltzRPXVfyBTmJboIBAKBuo1AEMW6PT8xuuMMAScWImcElUAm9uwRWSMqWDd9HnlrIhH46yUBEERbQyyS96nLhcSIFCaBLJCaHZBStXzrubNCz8bG67zqmdUHa6ZnMpSeEH6Icd7n1NEU/xXOEPAKa2l2ezwFAoFAIHAkCARRPBKU4phAoBYRcAIheRAYbu759F+rUEsExkmhZCZy8bHLa5NMJ4U5MiGMeW0H6JkhT3nXUwpV1rNW5jQBEpyT1/EcCAQCgcBRIhBE8SgBi8MDgVpB4Fjd3I+F3JBZK5dUCAkEAoFAoDoIBFGsDmpxTiCQTwSwsFXqv1aWDSvJrRWZiZ5Z2Q1W5rHAtpJMoK5VfJO5jedAIBCo1wgEUazX0xeDb3AI6OZOIxl1EwVa0AhkIXq2EftkfctH8+Vm9d1cchsrSfRepepBbrI9HzK9zyyZIfq6QPLxjZTQvOmZ6JHRq7EChZTCRv57+PHlC1vXR4J9ToUvsiqCkxhQPub0GF1HCb7xHAgEAg0HgSCKDWcuQ5OGgIBIA/5rq5WQec7s2Z6ceeDAQV41xCNW80Gi1CcVRAigmbVgti1ftsy6dOliffv189yD+yBv+SAzmi9oMdR3rZJ9U8u6s+RShzmfxI2+Iaabt2y29evWWXslFS9W6cS8yBS2+EBCTJcJ1/lz53p960GDBllLle8jsCX1lr1GuI5WKcn3vLlznKQOlEySuJNiKVogEAgEAkeKQBDFI0UqjgsE8o5AJpBk0sR37dGHHvLSfQRB9FRlj5tuvtmGKFm0E6ssEUhjOBAYUuFsVim9Z59+ynP98X6Pcvuddtppdt2NN1inTp0zFs20g1sku1C5ISEzD9z/J6nTyG69/XZroTJ7VILxAJA0lMzpA32bqjJKucoGvvLiy/bJxx8ZOQ3bj+jg21KVmZ0nIp4nTphgjyu5+DaVKIRzk6eS/JhJ/sbUiDgyaaojPWniJCX5fsRrWaNX1+7ddB2Ns+EjR1o+yX9mAPE3EAgEGgoCQRQbykyGHvUaAaxZTZo2s7lzZtsbr72mSikj7KtK0rxFdZ4feuB+G69kzd179LD2KvmG5S8VQpMlFZCnadOm2SeffGLjbr3NzrvgAvtg6lR74fnnbMr7k+2yyy93q1iyhFpjoLMECnL0ySef2uOqWPL+++/bRRdf4qXmUpNTeaCSi5VthUr4vfDss65fqaymBU1UFjGLReVTqv1e/WEBbi4izJyOf/MNG33a6XbdDTfYWpVJfOTBB+yt8W96Euw2qjHtrgUpEHFoIhVoFs6fZxPGj7chg4fYDfqRsX3Hdnv4wYdswltvKadiD+ugJNz75F4QLRAIBAKBwyGQ5/wXhxMf+wOBQGA/Avts6dKlXkHkxJNPkSWvk/Xs3dsTUm9SHeTFixf7EnAqJFFCIRUF8oOEjLIk2qd3Hzv5lFOstZZETzr5ZBvQf4BIzhzbqPrL+EumQqayJBFi/P6779qvfvEzz2U4dNiw1Ixq+/HMeSW5jWQpXTB/vv3mV7+0z7Wsf4JktmjRQkux6VaBSaSyvE1uyoULFjphPHX0qV47u5/I6chRJ9qqlStt5YoVIsdKbp5S49pgOXv+vPlKlr7HTj/rLOvUubOV9CkRUT3NXRoWf7HImso3M5X5TGnc0U0gEAjUXQTColh35+awI0u+6KsiDofad9iOqziA/qqSU8WhsekoESD5MpauHaqtvGH9emvVsqVK27USgdrpgR2ti1p7kMfaNavd8uTd65waN+SKWGzfvt02bthgHUUoWkg25Aa/waYqL1e2battk++g51isscD9HXA9QWC++e3veB3kp596Urpv2H9APl5JJsTwyquuVnWWAV5O7+23xmcizIVDmo3ZadxIc7pzh61bu9bltm5d5NgSsOMEde8+30eNb2fJNZ1Tzs8SxQ2aT1prlYQE63Itf1OFBmv0lq2bPeG3f0fo+HQ1d7HxJxAIBBoQAkEU6+lkQtogFzS+8P1LP6vLofZlDzmqJ/pOKnTkyjmqTuLgQyJAwANVSjZv2mSFLVtYkax6MJgmCjJpowAEcN8syx+WOE8Qrfc1bcm8IneHHoUKIkksh/gpUkpw74KFtkn+i3skL5UfCllChrVt8ODBvkwKSc1Un6mpRoc4X3LBrkfPXtZbVlraTpG4vDXHS6UBd+8Sfps8KKmouNjF8bltK2x5Zk4rSjOmMKfM0R7puUPkH6KPDyg/RGhFxUX+A2Tz5i1+rTHH8Xl2aOJPIBAIHAKBIIqHAKcu7uKLnZvBwgUL7D0t3fH6TC0v9e7Tx7/0eQ/ZwOds4cIFNnLkKBs+YoRHPVZHH/rjhrZ161b3uWJZMlp+EABrHgXCO/kRkODP815ZoPLVkFeg5cjEuuTjkEWMHwj78iQXyyVBK8k1nS/dKvqVLrtF3MpFpEhVg4611SBlPCTUMQZvxzYFcliVDo1UIxx56Oh66pkl7sZ6BDmsCrHYFggEAgdDIIjiwZCpw9v5oi/bVmZvT3jbPlcwQDNZDXr07Flx4/v888/t1/LD2rRps/WUBYWbEo71uTfG3NeoWtXNg23lWv6cMnmKvfH663bGmWfYpZcpsCF7g63qnGRfVX3m7qvD8Nb60MAFaxeBD23atbfVWmKGmLN9l5YM12s5GpJI0ENa1kSUpH+sTchlKXTnjp1O3AiGQO669escC6xf5DjcrWPTnEP6ckKs59pqiUzHMZ9CpROfDwhpO+HHnPIDrlhziAWROWXJuVhWRqyrzH8aDZlg2lIuBHvko0gta9DlJwaWzS1KCUQqICyN7mJQi9inoV/0EQgEArWPQASz1D7mqUgsKSm1U089VX3t8xQfK1eu8Js4/k/Lli8z3g8beoJ8sfr7zYolxcSqkVgakoFw88zdx2sa21kae+WVl23C22+xJWMVgTDoXeVzcvutqk9uYGyP9mUEkgjZNloeZNkQv0GWDrEM4SNIYui2bdtmSMWXT6/2FpYpC0USWereochYloCbKX0Mc0Val8IWhb4/Wb6stqDDnsh1UdvXRlZmnsQ6+ReWEO2d8j/dph93TfXZghhu12ta+w7t3XeQ+U+r0X9RUbF+BOz13JRYqJsqop75ZF7xgeVzWNUPvbTGEP0EAoFAw0EgLIr1bC6TL3gsBqV9+1mRLBSzZs32aNkePXraauWk+/Tjj12rIUOHeeLkJYqWff3112y6lqOxSpGGhAhIfNJoOL5PfGeCTXrnHaXR2GHDhw+3iy+51IMNPpgy1ebNmesRlFgVk4hYbjgzZ8zwdBvLFbnZQ6lbzldalRHK0Ua/n3/2me/Hv27DhnWKwpxnZ55zjp111tkVcl14/KmgR8xtz9693Hr4obAdOHCgLEBbbPoHH3hQQqly7zmnEVHXHR8zcI3QQx5pWdq0bWP9lYz5lZdedJcF5pH8gkQIn6QoaOYQksHx+WvoUjN9jn5sWZl5EAtWWA75LPTTjzXcRKZpHktK+3p6nE+ViqhDh47WtVt39yl0bMG3JnOq8yF//CgkP+PUyZPtvUmTrI/cUgiUmj7tA+vYMRNJzw8EPsPRAoFAIBA4HAJBFA+HUB3ej7XwxBNPdLI2S8vNw4ePsOXKETd79hyvNjFgQH+DxP3y5z8zojtZhi5Twt+3lV/tG9/+tl1//VdVnWKr3X/fH+3xRx9xi1XzwhY2acI7NnPmh57keYF8IZcuW+LJiD/+cKYNOWGIWynHq4+f/fu/y1KyTUSjvb2jhMJYHu/53vdt7FVX2Wzljvv9734rorPVl9VayDI1YOCgAywZ+SUedXjiqhgaWBCRShqTc88/355QcmZy78EbkkTJ7VRBxPPtQSjSaOqHnpAxQn6sizTXf/z97+2BP93nckbq2jrt9NO1TNnMdpG7MQVyWnnYztE0gEbyh2yUYpqYynKqeo9MyJLDCQgpN/qmVB/+w2effbY99eST9vqrrzqZI4n65WOvcmsj2KYZVQ6pJ+fmGWefZU8+/ri9O2mif+7at++gJN/jRE67+fy64nnQO2UYo7tAIBA4xggEUTzGE1Ad8QnB6qpyZwMGDLDXXnnFFi1caGuVhoNce+RnO1P+hCTWnSSLwowZM+3mm2+x2++6yy2O//zP/yQS8qYNGzbcVohIvjn+dSNv37dEHjsqd9+Tjz9mn8r3sbx8l12qZMsL1feMmTPsjrvvtrG6uX0mUvqcEhZ31LLZnV/7CzvpxJPsA1lL7v3DH+zpJ5+w3roJNm3S1C0l7Tu0tXHjbrMTTzrJunbt6v5wWD0SHaqjf4M8B7YiXFg2PE9EsW+/vgb5b9680IaqIgvzUrE8mRZRFJDMA5av9h072s233uoWRBJSd9FcYdGkzBz+ivny6UM2S91cZ1SDaSV5uE/k8/qAHEO4T5HrxsBBA61z5y75qQSTnVN8QC+65BLrLzznzZtrLVu0tBM0p2DOOJKMAmlc1+CWWBX9OpIVeu6ceapG09QGKcq8s1ISeVWWNIRFH4FAIHBcIBBEsR5PM0Esg4acYP1EFucpYfInH33kVSC2yb/thGEjFKDQ0qtQ7FGk54KFC1Th4wH3lVqnyhCbtaQ5d+4c938r37lLiZZPFnEc5nV27/n+D9y3iWWzDUq2zM27iaw9HVQVhNeLFy1S2bWVNmbMGDvjjDNFSLu7DxRL3m+9/bYtUdJobo5YbAYNGmJnnHWmCO1Av4EFSTzEBZclFmDUV24FQ0Xk8XPDRxFrowDNPA7RRXV2QS4gLMwZLgkQNyxh+EmmasGsPDj0UYMcl5SU+GvkQphdV9+Shz/IlQzqSnfTtYvMvJW0kywPVNHzoMFDPNH2vr17rEzYplZhpxJEThazPo99+/Xffx1lZeYV20pjibeBQCBQ/xEIolhP5xAyQesl6x3Jg99QiTf8ENeIBPbv10+PvrLM7PbgBCo0LF68xLZqGZjlMJaeTpKFj3Jwa9astT27dsuvqal7iLFsRaRmczng0/asWyeL0253jN+t4yAOWHxItUFyZvrzpTMFXfCeoIt9cqKnMywlJPnldRJhmQTKeOfx58sIZEkMAS0QRBo4gnM+G+QCiyU+kQlRQybb8950LeNDR3M9a0OmZBC4Uy7ZWEvzqif6SA4BLGVlWzN6alte5zQrs7avI1cu/gQCgUCDQiCIYj2fzo5aviKAZPL779mkiRN182lk11zzFeulpMLcAIlobakEzjfcdKPdeONNTuo+++xT5wL9ZW3YtHGTLEnN7IuFi+Rkv1ZLjl3sxReet7e0NH3xpZfZ4CFDFN2siGn1xfIV/bVrr3QpksNyN8mSWVJev2G9LVq00I9rpaoimeCHzNImN8QgiEdxoUEiZGXLLzX88nggS8dknrL6fnlE+d3iBDG/Ivb3fizm9FjI3K9xvAoEAoEGgkAQxXo6kdzUsSpi/SstLfEltAUL5ltJSV8tRw9xJ3miH0m2/aaCIp554km37G0UoXvqiSeMiOjvaYm5r3yYWH576cXntdS4TQEtbex1WSd3qVLHueed78SBpTPKkL384ovuM9e9R0/5HJ5sL+icrVvLPEr6k08/tY9mTneSSlDNNEVYkoMR/7bE+llPoY5hBwKBQCAQCAQCxy0CQRQbwNRD3EaPPk3BLOtsuPwMh4goQhJpZyslDTncHnrwQfv3f/1XK2hSYKNGjbKbx92sKOQBTjS/q0jlB+6/3ybKIskScX9FS39V1keib+nnRPkvfvLJx/bee++5M/wdd91tt995hxJ9N/NzPvxwhrVv18HG3Xq7ffWGG4yIztlz5qhUWol1UjqOpvJ5i3YUCOgHQMaxYP85vgCsHwd5a1XIRFZe5VYhM6/yUKgKmXnX8yByj4WueZeJrtECgUCgQSEQRLEeT2fiV9VFTvm33X67rHnXKhhF1T2UmDmxOJJv8eprr1VAyVm2bNlS9xnsIWJJEmAsfTxIgTLkhBNsmYJQqOTQU6k1Oik6MomyJdKZyOZNSr7dWdG3LHdTCeav/8tPPB3PBlkpO4gQEtQCscSHcfTo0QpkGWTNZfFMxlOPoa69oWs+GmnZuRlEX6+T5pZZAhTyQRaRo37xJ8XFwC3Aeo8lGbk+jrTlZmWiJ64JyOSapaQffrB50RMwK+mJTK7zvOmJTOnWWHo20bw6lmxTy/ecfuk6kq4uUxjnDd+MavE3EAgEGhACQRQbwGRys6M0GISMlhDAhCxyIyRiuZNIHo33uSlIeE8ibVJ20Dg/dz9RsKVaok4a+zkHS2FfBc6Y8VC/ugElN3z6Kyoq8u3JePxN/Dk4ApAlkYk1Kvf24vPP26S3J1hL+XuOueRiJTO/0PFMImgP3kk19uj6gcB8OHOmPffM0x5BX1JaaldcOdZGKZdigUhOqnIlC6KC9Zr8ns8r1dKG9RsUeX+KXXn1VUoQXSJ5HFMNXQ51CnLVPvrwQ3vmqSdtzpy51q9fX7vqmmuUR3JkJgVQdmyH6uZo9nHtQ4SXLVnic0ribT6nl15+mZ1zzrk+v3yW+Kym1iTTr6PVq+Uu8oJ8l99RLswWdsFFY+yCC8f4d0XeorxTUyI6CgQCgbqCQG37y9cVvRvcOLjZEEACwePmlNsSwkh0MsckZC45JrlJsY9jKt+4IAnJvqT/yud4v+ow2X6o8SRy4zkHAW7uIhQb1q23px973FMdXXnN1Z6u5vVXXvUAIyKDOaby/Ob0cnQvJRNyjxV49uzZ9rDcE7h0bhp3i/9weOjBB5SDc7rPKbWmfefRSfjy0QjIkqJJqgaEvyypk2646SYvO/nwA/fbki++kAXuQOvblzs6ui1gRg3rWbNm2YOSAQu99bbbnHw/qLRR+NT654RuGWMKjc8N2JLf9LFHH1U6qrl27fXXO/l+6YUX7LXXXlPktRKZC4+05hSZBEJt3rTRnn7icZs5fYbqs19hp51xur0pecjdqYh6/5ympGcKUEUXgUAgUIcRCItiHZ6coxkaX/z+5X+Qk9h3qIjWQ56vc6uqHHGocw617yBDPK43Q6wLZaFdMH+uffHFIrvmK9fZ5Vdc4bkMWxW1slmffmYrlQibnJmQO012jfGCDkEqqEH88UcfWrEswLfIhcGrtHxxpv3p3nsVoPShfF5P8BKCbmWusdRMjXAvNamk7iNHjrJbJZOUTSWlJfbIQw+5f2ufHAt2jUWKEHE9khfyE+X6pK71bXfcacOVLWDhgtO8Gs1nCsYaLqtiS0X1o2eNm2SCL4/Zsz6XxXStXf/Vr3ri7bKyMuU4LbTZyj5wiqyolNjbqeAxrIA1bejJtTFX1ZlIpn/1V67VdXSlJ79v27adl4P8QkR8sFxNdsui68fXVGicHwgEAg0agbAoNujpDeXqAwJO2GQp3LFjpxKZr1Y6o1YqwdjOtmzdIovTTgUQdXXfsiVLl+x3CUjDGqQ+WFamzOLSJUs9ATUuCuuV8ojk29QFX6PlS3IrVvavqxGuIjIrRWLol1JzbkmVzNati6y4uI1XFtoqf1i2p2HdA1+CuDasX+99d+3a3S2mvMcvE59bXhPZr3XiGqmWnOwyRfy2Kxfm8mXLZbls49V1Nksv8jdSc3mnrIkkrpfnaTq6ck0IW35IcK3ojWqw9/QclSzzUwKS3JxrlWu1whc1GXA8BwKBQCBwEATS+VY8SOexuX4hwPJX5SWwyu/rl0b1Y7Rg3Eh5KcvLd9jmzZtkbSL3ZSvd5mUFViJ08lJS3m7L5i2p+goily+AclgzdqwAAD6aSURBVFmzsGiRJxPiiJUJvzpyZu5WVZ+tIqx7ISEptq1KPE36pNZFrZ2U0jWVgFroAUnE+sc4UpEKvvrH0v02yW3ZqoUnh0cmy9EthO/27TtEzDPJsNle4+YyM6UC0Yc0VvjtgisEmDkG/02bNqde/QaiuFM/OpqIHGcqJMnKKFm8btK0ieYT7GVN1DhSwbfGYEUHgUAgUJcRCKJYl2enFsfGTZmlaR7JclSyLXlfi8M57kRR7pAKOtu3bVfaoeYiii3dV5T5IPgBgsGSZdrEHbJACTsIIUQisTRhQWzr0fPI3eZy07oOWDSHCOIP21rL3QRFQW4gT0XFxbZdhC7xx0zrQmDskKMy4duyVWuXxRIzgVroyWusf2k2sCXKeKvmrZlIOIQfYsZcMqf4L27TPnclSEkweuLGAPmn3joEFZLPdQNRZQxlcjVwoqhjowUCgUAgcDgEgigeDqE87j+Sm/7hjjmS/Yc6hn08Nmjp77e/+Y1d/5Vr7AkFGHAjeeThh+025Vt8Uu8JVqncknMrb0/eH0puckw8s1qYCWZoLtJC9DqkBaIEoeD1JtXb3qv6wNzoIR9ptYRUQBAzVss9TjKQS5oarglIBvt8jGkJVj9FWmZuqVrk20VCveaxZEJgNm3KWFSxZnqkdRoys/hCRFlOh0RhzYSEc51TXQhiDDlPrUHYhB1EFFJIMJDPaXYsyOQzBbaNCzSnOjaNxmeO+aMmOz8+duvHB/7FzB+WYayJrSWTOY/PZxqIRx+BQMNHIL27TsPHKlUN+eJOrHe5X9i8Th4HO4aBcEzu/sqDS/pABo/knMrHcVNhPzdlbl5fLFrsN5PKxyXnJ/3yzHmcX1VLxpZ7XlXHxbYMAliBIBUQB3z3vOayDD7kFNyq92CNtQ1c0yIVydxAUBurdvc2kTasfL5d46FOcDNZpEhz5MFMmvM0Gr1QFxydNik6l2VvriOWS7HqoWdiUU3L5uWkTeSI5e0tWt6nohCkG5IKeWqhMpfFkgu26WiproQhOjKnYLlRJNite9qOryBTST5T3AvYnlYjQIkl9e07toucbvduuW52aHmdeu34guKbyfjSwjetsUc/gUAgUPcQqPouX/fG2WBGxBc2j42yEhGViJWBm0myndfJgxvoypUr/VhupByTSxBZtlq+bJnvZzstdz/WKKJLCRzAikK/yTE8c5NYv26dAhbWqG980uQj1kLLj9rBktVVV19t//xv/26XXXaZW1wSUkk/yMEpngAAbnLJ2LxfjXOL/LLYD/FI9OGYaF9GAFS4aYM50b+79+x2a14r+SkWaNvKlSucSHXTPubA5zoNLNUH1wjErE9pSTagY50TQ4jMBl2jHRTogSUTC2NqTddLDwWxtBFJWq5I7j2yemHpI9Bj05bNSvbeycmVFPXgjJrKBd+9ItwdFMzRXYniV61c5ddnW6yLsihynRJEA2lLi7C5TGEG4e2lqGaWn9cqMAhrHsm3SZnTRASR3Kb+JZyGrppPrg0+b0RS87xM3w9cV7gUrFPADgS9vQKWks9sTbGN8wOBQKDhIxDpcWppjv3mLlmLlZriIeVte+W1V2VB2W6lJaXK53a7XXjRRb7sdv9999n8+fOstLTUPvv8M+W3m2Md23ewG5VnbqyIWzvdzNbrC/+5Z5/R0vAjtk7JmVvI5woyN+7WW62Xyudx83tf5fbuv++P9pHSgeADNVBVUpBzwYUXulUFAvn44497HrvynTts4ODBvjymMAa3qEDwXnrpJXtFj6uVz+/iSy61Jx9/zF55+WUbrBKBkNwZ06drCatQedoutRtvHuc3J278jytn3PMa31b5g40+9VSNua19sXixXakKL2OvuspvXLUEe70RAwGEjFF7u3ev3vb4I494PkEI28yZMzxRck+RHCyPYuWp6OXkXv1hZRuq2t/TP/jAfvfb39iJJ59sn6lk43pV3Lnt9jucSLJM6sveEJoaNsgpy7FDlOD9aV2DBOlQ9nHy5PeNKkOMpeZScgaZJVBNZVE8QWlhZkyTnr/5tY066SQjLQ7L3Xz+WJrms5IKupIJXujRX0npO3bs4Kl/Fi5cKMv9evtUcklb07lrJqKd+U+rucz+/a1bt6725GOPesUlfpB+oPkdM2aMkTyfOUhrPtMad/QTCAQCdROBIIq1MC8JSfTEuyIAz6j6BRUveuvmOGXKFPvlL37hS0UQMBLlvj3+LZuv5LynnnaadenU2d5RDeann37SSkQeT9R5Tz35pP3+t7+1bt272Rkij4t083lApBAfpO/c8z3lhltg//av/+LWmpHKFceSJjemf/2nf3KLFPWfn1fljwfu/5N1183kpJMutJUijh98MFWWR/nGybrImLmhLRBpxUeOGwtRodNnTLO58+Z7/jeqPEx5/z178cUXnYi2l8Xm+eeeswf+dJ9bqC4Yc5ETyhdfeNEaNWlsF1xwYYbo1ALm9U4EZEakrVgEihyK+JhNFrZYea/UHJ+rKh747fkNPiWiCEbJ8mv/AQOUz/AOe/mlF3X9vekWv9tuv9OGqXa4y0wL0Cxpg6SepbKSzRSZ+9qrryl35Bc2VLIu0Q8erH4suadC2LLjpi+Wmf0Hk/R86YXn7e03x4ug9vQfUOjJNe8ywTcFQoyO5CrEKkvtdH5kTZ082QN4vnL9V+2MM8+sWAJOjfxLzz3SkyCha6+73qPK+Y5p3qzQrtKPtLPPPde/D7jW0pKZ1qUR/QQCgUDdRCCIYi3OyyIRuOmywo1S3eQf/dmfeX3lp1RK7Fc/+5l9/tln1qekRNYdIj/1Ja8byW2qHIH1kLvXR0qIjC/VUtVjxpJHnr3vfu97shBc5MQQCyJLiCRPnibCt1pL1rfccqsnM2b56+mnnrJf/PzfbLKOw2fq448+cll3fe0bbuXD0vmrX/5CN7OXdP/w26Usf82cnBCdyTbeNyloahdecIF96zvf8cALLKDPqG+iWJfIavipLFGdZBX61re/axddfLGXg/uViOrUD6Z4lGfSdy3CXn9ECWMsWh07dbQ77rpLFVLG+ZK/+5sJX7d2ZecmVaXoU8RoqCx8w4cP9+jrZs2bOXHdKUuUk6YU5fo1IHlcV+fr+j33/Avcmo1McgxizU79OtH4uaohSFgVIYZEmfMjCoKIdT9tPZkjiDhEG5eCb3zrW64bgTP4EfKZwUKcqq7oqQcy24ug3naHrqNbbvOlZ1IfYVnM23WU6kUZnQUCgUBdQSCIYi3MRHIjwE+JXHkzpk+zH3zvHt24yO0mJ3c5169du8ZTZXDTatumrd9YSBsCSSguKpbloZmPlGTIq1ev9P0dO3T0L36W7cZpOYk2S8vV8+bNkyWh2AYMHOjLafRZUlKipage9sWSxU4sN27coETOnTzZMDcVfJc6d+6s1CxafsPaoIZbP+fqv998eF2oSNVu8i+DlOL7hOWiicbJ0hlLeCtWrPQ+8YPyqE5Zxrpoea2ZO+xn+vXO40+VCHCtgBtkiQCSnXpNuhh8zDQJVZ6Tykb1jcsCcwy52bY1U7XDlydTEVCpE3SRrO36TPjnw+UrqEXPeZPJECrrWZZnPV3k/jlFV8gwjc9M8t3gG1L8Q79YZbdlSfduYc3c5lNmisOPrgKBQKAOIRBEsZYmgy9pbv67FHXYS8tdp512uhXJmR4fv9atW1lpaalHXRLIkDF9ZAJEuHHuUWoNne6N9zjBEyFKf5A1ImRXaemY6FXScFCGbO++PW5VwGpD27tP9ZpFCDmmuXzSsA5u3LAxQ0h0w8LxHTl7JV8iqmxOItiZHQw3HbY5pdQTfWChocIIwTOJJZIlv93qO183xSoHW483ghNTALK8dpJYC/pA0BppPpHL3B70QkhrLNINyxrXEzLzToaz4651PSU3d05rBdtKMl0+cxotEAgEAoGjRCC+OY4SsOocniFTZpRHI7qysLCl4b/3ne/e44EhS5cscXKFBdGJgYhgxS9/iEJBhsixjSUsIhoXLlxgs2bNcivQhzNn2t/85L/Yv/7LPzvxO2HocLfuTXrnHV8OxtI3ZfIUW7zoC1kZB9kI+S0SGLFa0Z6zPv/cl7TnzJ7tTv6+LJW9oYg2+NJnYuFBflONxceWBYLXTQpERnWn7969uw2Qr9sCWTQnvP22ffLJJ/48adLEqCt7tBcOZFGPvJO1yuM6FnJDZuVZSO/9scA2vdFHT4FAIFAHEAiLYi1OAkvBYy6+yH7z69/YX/yHH1tHEcd58+ZbGy3j9uvX3yOWy5TfbYOWhUmNA8FkGZjIV3KwYaXrITJ2jgIbPvn4E/s//+t/2a9/8XPbtn2blowL7aKLLraSkhLX6MQTT7Znn3vGXn/9NRFN1fOVf+OZZ55uFyrqeaDGcfoZZ9gHU6fYz/793xQ9/ZCfs1kyqAyC7xSNJU9q4O5UgAtj2S4565ROh/1YgGi+dK6gl7LtZV7L9vzzz7MPZ0xX8u5f2UMPPujkGBaJ/xlpULAeRTtCBJh/PdwapBt+bTTmmUetyczqiG61JjMBEl2RmxGebM3vs8sUvkitjTnNwZfViFqRmV8Eo/dAIBCoZQSCKNYC4NwAufmS0PcrikTs3LmLvSkCB+n6iiJcrxh7pQe4sIR8yujRTq5KS0vdckcgykmnnKLglQ7Wq3cfr9V68aWXeCTli4rcJFqU/HBjFDhy1tnneA684SNG2F/+x/9oRDyTWoUl6hHadsXYsU5IGcu5553naVFefvEFWR8322gthZPGZu7cOda//wBfRh48eJAicL9iRMSyrDx4yAl2g9L0DBsx3JeYsSYOVlodjhmgc3h/+plnaWydbMKECVYmckokKwEub772mvtb+lJjLWBe70Vojripk/AaskgewLze5JGnhisDfrHuLqDrxlueCE1CSAuVtoaE3+W7yvdHO+dJZkYh/ZW+WMpZ7ubHWK1EAWfnFAs8aGO9z1vLzmcjfW5baKUC/crLd0ntlINn8qZAdBwIBAJ1BYEgirU0E5BFGomFrxRhu+zyy/09BIzGzYociTfceKO/5w83UrZdrwjo5D3bsBCOVuqc0aefXhHBCEljX/Iggvrb3/2u+ylyLnKQwYOxkDvvvPPPN1LlJPv9hf7QB+08RaPySPrEGkkeNlrlY9hG8u3nn3/OPlXuxquuudbOVPqTBfMXKP3Jq052ihXNzTg4N8GD86IdiICTFm1irlYoLyUuCR0VwSrg8kIWmQ+/fiSPVEu4QuBG0FvXEGQqL1Gykgkh3Snr9CxF/G9Ssu3+AwZ6QNUe/HTzpCv9gisRwNTOxmJO2cQiBX/lk0Qxp1zz/GgjST6fPwK+8tLATg0dN+jH6Nx5c71kHysa1LnmR0B8/vKCfHQaCDRIBIIo1vK0clMmypgvah68pvE62ec3MhGq5MucYypv433l85Ljk764KUEAaJ4wOSuT98hK+kj2s40H5/BgP7Ihd/SZjCPZz3m5x5D7j2CWt5QH8vHHHteNsF1Wzj674sorteQ9iFOiHQIB8IecYUme8v779sgjDyv/5AXKL3i5k4zMz41DdHCUu3y+Nb/bZP198YUX7FUlWN8pyx4pXM7VD4mrRfhJs+J5DXUNpNGQCYlZJkL6hBJCT5061a+TNm2KZZ2+3n/AeBCWjtOFl4bIij6gUE2bNde1vNvefON1+2jmh3a9fpwNHdpO0cj6LKYsD8EJxliHpyvjAblGsehfKD/l3M9gxSBr8iKLGZ/XqUpg/uijj3gmAlDsryTcN9x0sw1WeqB9fO/kQdeaDD3ODQQCgbqJQBDFYzAvCXlzUlDpyzqXhCVDq2pbQgqr6oPz2J9Y73ifyOR10nL7ONj+JGqacw42Do5hHJBEltJ79+5tE9+Z4Dkgia5m+fncc8+z7kqrw3HRDoKAsAFj0tS8LissCdFXyqIIUcxLkzy/ftQ5+T2nTJls191wg11y6aX23rvv2nPPPevBU1TloSXH+pvq/snqSE3nt5TYm0Tv//E//5Wncnr6ySdswlvj3ap4oqqmYPlKraGrOgPfdUpF9ZJI8VNPPa6k9yXali4ZPWDMib6ynI5/4w2vylRWttXOO+/8vHwWmCM+j+RFfU3uHj179ra/+i//Vb7HZXbfvfc6Oab6TTtZM91SfMBg400gEAgEAl9GIIjilzGptS0JUauJwMP1cbj9yD6SYw43xqQPUu/gK8kjt3ED4xHtIAiAjcg9BIryjFi7WmuZsLci3NmVD+ScVMhySFT87FmfWUlpifuqUgHmZJVexF91tiLrR48+zX1inbhV+mFzEG0OuRk/1VWqX80S7KhRo9wHFv9d3CnmqSLRwoULbJgSfzt9S/GaQe7iRYvsQRFw0kn17TfA00V5kNUhR1y9neCLTILEnnriCZsqIt5BpfyKlHt0z95MCT237FWv+yrPclcBrQTMmTNbFtJddu4V5/kSd2PlXD1Tn0l+gCwSBuRMJUdnWBWrhDE2BgKBQA4CQRRzwDiWL7mpsAzFM6QLy0dCvhhXsj/ZV92xHtgPy92Z5eOa9puMh/6TJepEl6TvXH2S4+N5PwLgQ67LfloiJLiIYKDHtHTovnP7D0v1FcEORNhv2rhZAVPtlXi9hbspECHbVGma8OMj6r6zrkfRitTaxo2bPCVUGyWXx/K9U1ZUrM9UDdqk/J7IhVAl/pqpCNa1iSyWfPGHnD79A3tHaZyg4fm4NiG69IsOVIOhUtEGZQigFvrePfJZTEWpnE74MGflbVTZTa4bcrTifAIxZekbsk+FJz6byeczp4d4GQgEAoHAlxAIovglSI7NBoghN7GkJV/kyfvc/ZX3JcccyXPlfnRfqZBbk35zZSODR7SjQIAbvG7ereXneaoseFhmP5AFCtKdr4a8AsndoWVRUh61UNUdop75wcK12EZR8HsXLjBIxx5tg4Sk0egFK+Z2VSVqq9rWRD3vknULH1cq/rAPkkzg127kptHAV331UP5QrLTot39pOx29vjRMySRanWCZ0UpHRSJ86nfzYyAtLCvLhJiC5fYypcySK0gLku9nD6KKEj8EwJcfB1g7uQbypH3locX7QCAQqKcIBFE8xhPnX9T6cl+9erW9++4k+0Q1mPv0KbELFGHMTY39NPaT95Ab+SmnjvZo6OoMfbHqMU+dMkWWm5Z2yimnuiXnAwUTtNT7k08+xW/c9JsPC0t1xns8nkOJN7dEcRPXtVEbDeJU0ERBSznCCpSyRgV1Kshq7r6cw6r9snEjJWvX9cyPCkgcqWqQCTl2gpy27uoPOeUiUsjNfrSqPf4jOhEdJIg5Lc8SMz8vz8JZgsYi3EgYJ4p6jWlthyBD/CGK0QKBQCAQOBwCQRQPh1BK+yF83PwSYphrPVyzZrX8ph6whx98QL/2N9tpp5/mFVuS4A/IAv5c+Fa1kt9an5JSJ3T0x02W/UnfiTUvIRjIw0LEg23zVTUFp/ZupD+RZYUlwHt//3vr4hVfSiqIYnJO7niTPoEk2c9rtifj4H2uzGQ/+uaez/ZoVSMAThms0qZmB8pDBjkasV42l1WPxOoQiKa6psr1zDJpk6ZNPK8nJI56wWnMIT998EksLGxum5UWh2Vnrg+WRHlPSigsi37N6tjMT6UDx17td2DLZ8Y/N9Xu5ehORKbOQKb+Ht25R3k0nz3mqqUsh+UihARG8dnk+wFLIm4EpOXBusm+NObzKIcYhwcCgUA9QyCIYi1NmFtsKv2C58ubhjP96tWrrJWWhn7y3/6bEWWaS6z4MieS+Fvf/o5u3M2sq6IW+fLnmKTlvuZmwYNW+TgskuTlY1mKfIz9+vWz7//wh0YAAw7uNOTl9se23D7ZnxsNXXl/ZZmV9/M+2tEgkD9yARnjWmildDw7VYmHJUmWK7G8EQyBX1tzEToIZZqtqKi1E1SIIUulCXHBN5EfMaQHYgz5bfnD9VDjhjbmjaBpnrAU8oMSH0WqKfHZ5TNJuix9M2h+C10+2/M2jkMBEPsCgUCgXiEQRLEWposchp8rqfCEt9+ypUuXGukpSGRNBZX1SvhLXWSiFHfrxvzepHe9pN+IkaPcqpI7PG7Ve+WUzk2bfj74YKp82opkBWzjy8kkSh6uaFH67tq1q5+6YuVKe3v8eJX8+9h69OrlJKCgIOMPt79vet5PLHeIMEyZPNkmqroKVh6CK8ZcdJGVlJb6KZs3b5Kv1fsa6yT3tzpZS9hnn322tVMwBI2I0vGK2v3www/9fU/JHaMAgiHkb9PYox0pArIGC698YQZJ4NrET3CAKuy8oWpBn6k+N3PN86JFCxV9PMLrk3OcWMWRDvyQx0FOe/TsZZ06dXJXi5OUCqevSlgS8bx5y2bjesHCCbFxIpOva6YC29q8JpnTTNDaIUGqzk7ND9cKP/KopjRVriq4lQwaNNh2yFr8qea0Q/uO1qNHT/f9zFg4qyMozgkEAoHjCYEginma7eTmjm/Syy+/ZL/65S9tiXKbYc1jG8mNv/3de2yAoi/5Ml+0cJHfh8ePf8PJXJ/SvhXLb1gDlixdYr//3e9835//h7+wdSKYD6uW8oplS61N2/aKWt2o6hab7IXnX7CVK1fZHXfe6TddlpWfefoZ77tYFsvG8lvaIitOly5dPY/awgUL7Fe/+KV1Fnn90Y9/7JbCJ5TK4w+/+Y1RUrCJ/Naee+ZpJ7Pf/+EPPFr00UcesT9q+XqbrD+M7WUlaf7K9dfbbbffYUTL/u63v5V+z/vy1w5ZqPCvhAz/2Z//uZ1++hmOeFgyDn/hcSNvqpx4BQV5CgzSXEH9kEOJxzmzPrff/uqX9qhqf2/ZstUGiTyepvmiigh+bU4sakraIDOypBcWtlDfZyqv4P32t3/zN9ZaFsatut4uEEnlxw7W9nRo6cFxTizf7sd38MPS2yPskMWcIjsfDczIj9hLKxCnypf56aee8h99fB8102oEJThxaamotlPT+cyHEtFnIBAI1CkEgijmeTrmz59vr7z8svsD/ae/+ms759xzbfq0afa73/1WX+JP2o/+7Mf2jW99yyNAP//8c/vWt75tF196qacGgUwlNxSesbI0U1UJtmcc/xtbmaJVx9021m4eN84jKv/x//5fW7BgvpOzBZKNhfKUU0/x5WVqTN9/3x/tERGBpHm/WlpsKl802gxVjiDxcScRx//5v/+XajgPtMdUPWPSxHe8wgPWxjdef1X570ba93/wQ8+v98uf/cz3n3jiSSKtbT33HpaoH/7oRzZw0CBP3ozFlNQnWJMqL2snY4nnDALMLxa8nrK63aR5bdeufd6IE7KoutJB1r077v6anXjSyZ7HsJeseolVm7Gkan2SzH2yjA8ZeoL/OJmmH0rr1q9TdZRhXjWEQJMKIpOHiwIyhc4jlMORMoUQpzQtplUNmc8ZPoMQuHG33OrWdz4LqTfHNvMZu+iSS2Sp7SfL/kxFlhfaSOnrfs+JXB0bLRAIBAKBwyEQRPFwCFVzPzdgbgQsp82dM9fOPPMsu1DWkh66KUGmIHPPPf20P5+hfcXFbbxsWvsO7T14AAtAYpX0IVSsjlW88MADbgSjThzlAQDduylARTeiJvI9xNdssZaiIXakW6F8Hr5npyk/37sij3sVzsoYJSQjR91y21i9Zo07vY+5cIyVyqpJgmCsk7fceqsP4xVZRzcpAKZFYUt7/bVX5VvW0lZrqXnt6jW2ePEXdnqP7talaxdZGV9WibbFNnDwEFkRT7exY6/yJcUv6VVNfBv0admbPTkGO3ZQ+TyRKoiNm4XzoDjXAVY+ro9zKC2n6xS/QXwW80bYJBMrJYEVV3/lK/6DiGuWAAvG4tdmHnT1LrPXPaQJQoyu+EPmWyZ68dnvQElEvSZ1Tl7mNKsfug7SD7WRI0e6Y8l2zadbhtnBMdECgUAgEDgCBIIoHgFI1T0EorizfKeWmnd64lvPF6cbIZbBVvIt3KX9u3bqxigigJM5DQJ3MEtDhmRlRsPR3NgKmxX6UpaTSr0X/dOOTFQycnFoJ1CAgAUPntExmUCU/YQT0fSFPxzL4h41KesfVhDOgUBgBSTX3u5du3Vj3WNzFT29XOXlqH7WUscOlB9UcVGx9evbz76jJfV2uiGOf+stt6Y+/+yzNmjIEPvud79rl11+hUfSZrSIvwdFgLnUdbFjp6x5ep1XEsMgXN5edyfwa0ubmH+256uhE9cXAS00JOVbpgtyYRmr7S5d87hL5FPPXJmQRSqi5H1Os/OGFRP3DxrY5v06qlA2XgQCgUBDQSCIYh5nEnLVoWMnX2ZauHChlm5XuDWBQJSF8+dZkQhWh04dPXecTDd+r0puIAdYE7NjzOzLvElu37nkkT3cH/aJbOJX1klLzQUiiFgvV61aqQCXbrZ+wwY91nsN34Rc0i8kkeciEVidbgQybNq00TprSXLSpIk26Z13FHwjy4TILT5Wl1xztX3jm99UQEJnWyZ9SKXSVRZNola3bt1iN2l57dv3fM++ULkwaga/8fobqoQxTUubJ/nyV2asiRYZneJvJQQ0H05iKm3O21vk6ZqtzcY1d6xcETKfp1q+Bmt5To8lvrV5HYWsQCAQyB8CQRTzhG1C9Pr17avyXUM94ONf9/2zDR82XDV059rk995zf0VKiZG7bmd5xlJ3UGuixokfFRaYDDlUXkZZ9iASiSye96g0mOdO0w2/tLTUeig/4quvvOrkkWWviRMn2PKly2zIkEwEMudQKSKRW6rxDhkyyP0dSY3SvUdPe++9d30JvbMiqdGF5Tr6xFLJ0iG+ltu27bAfK1iF6hr/9A//19auXSNfrNu8dBn9NFVABvnx8FOMdgQIaF4Sy56z/yM4JbVDjoXs2pZZ2/KYnGMoE/FOifV9ES0QCAQCgaNBIIji0aB1FMfySx4ShvP6LbfdpjP32duK/J06eYpb+8ZcdLHddscd1l+pZ5bLIkdd23YqmcaydFWN6GNPUqz9LB2TCLmoTbFb98iNSGM7/bDETRUGnNdvvOlm++Mf/yCr3jOeJ/GEE4ZZ65atlTevhUdgc06b4iJZElv7Of20RHz33V8XNymwd2RFLFfKng7ym/zWd75rY6+62v0nIaK///1v7WFFP4uByo+uk910882q7HKyL0N/7evfsAeUHPzeP/zB91NtA7+3K64ca21FFqMdGgGuGx7JjwCsuLW2JJsdWq2SilomUODp+Goplmf9STdYp4rpPRZzmiuTIbFq4LHWQRarmKHYFAgEAgdDIIjiwZBJYTtkkTZ02DD7//77/7AlCi5h+Zn8cQSdUBGDL3MsdUQQl+8qd6ub37yy8pM++vcfYH/9k//qW7HMUd7vf/zd//TlYvLgcQ75Dv/6Jz+R5aCRCFlb90u8RoECoxVMslhLwCQy7iYH/g1KrYMFET9Cbh4//dv/7n6JbdQv8k4+9VSPPl2k1Dmb5D/WWyUFCcKB7CKHyG1IKFVe8FtELnkbk3FfceWVCt4500i9Q4od5JIbj+Xw5JisevFUCQHwgbzjU0pwB/PBew/y0JxpQ6UzUnwr2d5cRmau94vLk1xkSoiT4iyBS675FDXb35XkgS3Em4owzfUaeWC9X/f9h6fxKndO8RfEB5gfdwQLQVrzMafILOA6khzyUdKa63USLJQPmWlgFX0EAoFA3UMgiGItzAmkDN8vIpR50Nyqkb1JcNPo3CVTFYUveB6VG5bGJIl2sr+7CBgtOafyMWxHNud10xJ0cl5SgSV5D5HL7YdzqIwxTLn1crfzmpsq+7FcniQLYrKfJfHkBs9+lrlPzO5Pjknk+Unx58sIaL64TtauWesR5ZPff89aaB7OFTE/6+xzlGuwyF0PEpy/3EH1tzhh0enk+fxY9cY//+xTze8p1lc/AjLRudXv+2BnIhN9iayeIOs1idzPOfc8/7FElHeqKXmynyn6/EzJ78nzyQ+ZPipjeclll7lLhcvjuP3s+GBDP+LtXPMQtpX6gfiKMgFMn/aBFbdpYxeMudBzVCZVcFKTKXmJzPVrk+vofc9byXV0hhLj89nNF0E9YmDiwEAgEKg3COQn62u9Ub92BsqNnQdkqsLPENHZGxJf7JCrxP+wqlFxDPuTYyq/55yqtiGXvpHLc+VjKr+nn4SIJOPlvNxW1f5kW3J+0m+Fvhp/tEMgIHwgKps2bLRnnnzS3p040U455VTrpxRFLzz3nL3yyitu9YJYgW2qTf0V6MdKoUq7zZ41y+7/032SP8mtxXmyI/rwIaV8Biapws8Dyu+JbK65VAliDlDoiIwHpN9GBXVdMGaMu1Y88Kf77eOPP9FQtBTN8SnhyzxhDV6rhPOPy01jxoxpdros7T30w+ypx5+wt958c3/+xrRkavjoSVL9p5583CaKgJ8swt+/fz979tln7LVXX/F8jvnCOAfueBkIBAINBIGwKNbiREKmcglVZdGH2sexlfdXfl/VMcm23GNzXyf7ea7cOK7ysbnH1HR/bl/H+2vIeHNVzpg/b67NV5T6dTd81a64Yqxt09L+448+bPNmz7IVstBikU41/54ICqRh86ZNNv7NN+zF55+zNatW21AlTGd+U6akTsLoEwK6WJWKnhN5eV+BXdu2bfdUT05MUyJNFdcU/UkXlnopZYnlHf/gUaNOtHnz5tt99/7BPpw5Q5VoBnnNc88dWXFyNV9IZkLoSTa/SrXcqYpyyaWX2RaVxXxEVZU++fgjJTUfKdeOPlauJWl+BNS0JcR+zuzZykaw3K697nq77IorPA9nx85P2UczZ6ryzQjpOkSprsoP+fmu6Vji/EAgEGgYCIRFsWHMY2hRjxFw4iSytks37jWyPkFkqMZStr1MN/hdntZop4KKliiBuVvcRHrSsnpBUElPs2zZMl+KvUKJ0W+65Rblziz0JeF8pOeBgCJ3/vx5Xt/8rru/ZhdeeIEnFj/UD5PqTjH4QsI2qszlatU+J01UkXJ+btD75s2beeT++nXr3Hc3LX1dpuYUH94Vy1d4sBi+ydROJ5diRyWyJxn+GiW451iIbI3nNEuIIbrLlOMUoopvMUm2ed1BtdjxGeYaK1AC1ITIVhfXOC8QCASODwTConh8zHNoWYcR4IbtCc23bXPyQgqhIkWiwyDwb8M3EWK1ZfOWzM09DVKRxQMChXtAP1kqCahiOfjlF190eU5e0saNsasRTHL6mWfZBaoAhDVtoayoFQElacsUvhDA7dvKZM3b4rlLPU2T8KVcYGtF/JN5gMTfPXRcYpWr6TAaNxa2ImnkI20m8k/1Jay3jTSeli1baS5N5HWD/xhIi6BCtPHvpA47y974uNK4fnAtoFRnWdlWr0bDWCCpaenrguJPIBAINDgEwqLY4KY0FKqPCHCDJzqVGzxRuS1UGjGx9hEYBLFya5Ru+Kk3MRZIBaSUqNhdsmKmR5cOMlrpS+J2SDIEEUtpPhv47lQVpLKybU7SCpUDdM/e3Y41KZvIJbpNRD21Jr0k0gnZ1i1bRdCaeQ5R9GUsyATzrVvLZLlNN/KZ6wZMSakFxmQ2QG5rJdNv3aq1yHKZ72cc0QKBQCAQOBwCQRQPh1DsDwRqAQFu7m51UkSsJ2DfucPJIQRqk5ZI2Y8VLC83dxEGiAQyoA55J4lZPJGZEKe86JUzb5Al0jORixQyDGkkVyivWZLGoptY33JOq9FLn1NZLIlyRk9S44Av25lTLLnMaRq+iclAkcOPilatWroVFRlYK8GXHxplIsNFrVs5QebYaIFAIBAIHA6BIIqHQyj2BwJ5RsBJkm7a5LyDOGzXzZxSiKJRviyJldFv/loi9WjVPNzgnSDWsoWpQma+5ap/SBG+n1QTgjBt27ZV5EnVjrDi6j1J6kk6n1rLynTXAfVbrrrrRCJDEklNk1gvi+ViwDFpkjaIZ9NmzUWGd7nl0OmgxkMwD/XfucbIH8k4mINogUAgEAgcCoEgiodCJ/YFArWAADdrCITnwezW1W/uG9atF3Ep8hs+EbMFKoFIYAKWr+TGn6+hQaBgUbVLIlxoXlRyfGVZo9xkl+7dbLXqnkMW2ym4Y5e2E1DSRgnq2Q95SsPO5jJlDSZPYo+ePTyIZO3aNW7RbCKStlY5Dqme1KVLVyuAVEquM9eaIMDEiRBzjVBmkwkkwX8LWVKbiThuUEogltzbte/oVut8W3FrokqcGwgEAnUHgQhmqTtzESM5jhHAYghpKSkp9QTp5MBbI2JRJv+2ye+/b2edc46Xg2RZOt9tz17V/9ZYIK+10kRuCMDYLd9IlohTbxAx9cvS/uDBQ2za1Kn2x9//wU4dPdrT5axYucLOPu88X3r2qPI0BiCZCRGjqtLk9963R5VLccWKlR5dTeJtylpSlYnlb7cUpyAXPXkQnNRZUdZPPfaYRznv2LHd3n/3XTtTidv79i11vJPxpSA2uggEAoEGjEBYFBvw5IZq9QgByIyIWTtZta678QZVxRlpLzzzrE2ZPNkuuvQSu1xlEbE4eo4/HZuvBnno2qWLDTnhBK8lnhfiljN4+meptKS01PoPHOSWr3xYTNFrj5aZh6iW+S233a4R7LOHlcuQdDHUQz/5pJP2L8WmhC/kD8LdUYSNHIoDBgy0Z59+2nM2XnrZ5XbRRZfI3UBLwBpNWqQNmVwjlOO8Vrk4R0qv15SsnRrz518wxi67/HIrVCS0L3WnpGfOdMbLQCAQaIAIhEWxAU5qqFRPEdCNmxx7nTp1tm9881v2jW98s0IRrI3uU5avm3u2X4jGqaoNftoZZ3gkcqrJvSu0yb5AX5FjorwvGzvWl7rdkild0yJOB4jM6kiS6xNPPNHJEnKwnIKvNtR8+fcAgRkCiI49tBR8z/e/b/d873sVR2TmdH/py4odNX2BTtKH6+jr3/ymff0b38j0qO3IzOuc1nTscX4gEAjUOQSCKNa5KYkBHdcI6GYOWdypR25zG6L21UaDSCC9NmVi7XPLGgrmU0+RQdIQ7aoEZF51lT5gulOP3JZvmcf6OsrVNV4HAoFA/UUgiGL9nbsYeUNFQMSidijhQQA8FvJrS2ZtyakM7bGQeyxkVtY73gcCgUC9RyB8FOv9FIYCgUAgEAgEAoFAIBAI5AeBsCjmB9foNRCoPgJaHsVvLgkkIWEyUdF5XZLVaAlwQC7P+O4hMy++gjnI5MpsyHri/5jMqaDN4Nso/3PqUGdlM5dpRVfnTGG8DAQCgQaOQBDFBj7BoV49Q0A3dRr57qgUQiAEyZlJDJ3PBmHzpN5KxkxwiZcT3L49r1HWyCTZdLHKFfJMCpcdSgqdj6CSBLsD9FQUOalpSHAOicsbKWZORdKYT/IqkoLH51Q+i3l3MZBsyGEL6Yru5Xm+jhKc4zkQCAQaDgJBFBvOXIYm9R2BLKGAsCxYMN9mff65UuIU2tChQz3FCmQmHyQqIWw7tm+zjz/6yJYtW2bdunWzQYMHZ3ILQmgwg6XV0FONWscblQT6vYnv2KZNm6z/gAHK8ddXxEZJxdE1TZkIlFwnpCLA6Ll0yRJPhj1o0H498yETooY+c2bNsjlz5lhLkfFhw4Z5KiTyRzqyaevq6mbI/y6R4YULFqjedFPr3r17xqqYvdaAJVogEAgEAodCIIjiodCJfYFAbSGQJU/kwJs0aaI9/uijVqbqIWzuqmoiN908zkaMGJGJDE7xJu8kUXkM16tSyLNPP2UT3n5blsUCt3qddPJJ9lXl/+vRvYdbGFNZttTYWVKnesi8eXPt0Ycess8+EyEWiSloWuD5Ii+55DK3qKZKiiWT8Wf0fNrGjx/vlVEg3yTevu6GGzzRuSfcTou0ZecJq+XbkvfUE09kLKa6pnr36WM3jRtnQ/QjALLozuJpyeWazWJMkvGpU6bYow8/qGTb59rYq66yJsIhWiAQCAQCR4pAfGMcKVJxXCCQRwQgbFh8Fi1aZG+9Od5OPXW0/fxXv7b//Q//YJ06drK3xr9pGzdudCscx6bS6Cfb14cfznQL5h133W2/++Mf7Qd/9iMvbUfC750iOk4SU5KLVW/nzp028Z139Fxuf/PTn9pv7r3Xxl59rU1+93379NNPMnqmomSmExBjaX3mjBn26Wef2teUW/APf/qT/fDHP7alsqC+/957vszuvqAp6QkJbSpdFy1cYO9MmGDnqvrLr3/3O/u7v/97rys9/o3XbZMsqsx7anOKutnx80PjGZHTn/3bv9mKZSrlp2XvaIFAIBAIHC0CQRSPFrE4PhBIGQFIDEQBS9uSxYvlL7fHRowaZcVtiq1Tl8520imnyLpYZl988YVbFJ0mpkBmkAlpY/l3zuezrKSk1EYpETXEZdiw4davf39bOH++bdayMMvEaZEZyBh6rlq+wvXsU1LiVWewmLZTzeUlWhIuF5H0JdmU9KT6y/r1612fvqWlNlRLv+g0cOBA669yd8uXLnUi7kQxhfkFK/raIT3mzp1nLUXSTjz5ZF927tGzpyrvjFDt5Y22cuVKI4jHsU1LV+lVJr/Lxx59xF544TlVhOlvfUpLomxfCvMaXQQCxyMCQRSPx1kPnescAhCZHfKdg7S1UtBDSz3Ky5WEWnWXeU1wyTrVfmZpOi0yAwgJmdm0eZMVtmrpS74slXppPS1Bb5VVisALyEyabcvmzU6i2ooMF4hQYWGEuDUvLLSN6zfY1rIyayRM0mroiYVtk+S2Liq2Qi3JOhmVXljatqqU3wZhn6aPIuNn3phT9Gol30Qqo7DUXNii0Mv7rdOS/+4U55RZgnQ2aVJgZ5x5lv3kb35qN8ptoU1xG5/TdGcxrdmJfgKBQKAuIxBEsS7PToztuEAgsT5B0AjqIOK5devWfsNn6bJ9+/YidI20b3MmyCMlVBK5OxVpDGkqVOAMvoNsR25H1Z0m9TdEZ4+2pRXQAlnZvAWiuN2KiovdmkiwR1FRkbVp287rL28TUYTcufW0pvpq7BDd7SLiWyQXOQSUsDRM/ez20rN8V7mT4pqKqjg/KxOiuEkuA8gpbtPGd/OjoH37Do7xZhFXyH9qBBXrpPorLGzhQVBYaymLCBlNa/4qdIwXgUAgcFwgEMEsx8U0h5J1HYF9UCLd5AtkCYJI+E1dZAPSBqHJkLr07UH0i/9h06bNnCQmOLF9z75MLsdGIqlpNwhp0yZNM9ZR6U3DismyO7on+qclN9GzoKCJ8M3khwRzLLYEsKTDSA8crcuULk2y5DshamxnTvcK36zqB55Y03fqFOK9XT8AsNLSEtk17TrODwQCgeMPgbAoHn9zHhrXMQS4iUNYWA5t07at8vph+drixHH3nt2yJG70G32xlg/TDCpBLuSsufImNtWDpW9P16LtkCcCLSBVbdq0tQLGqGPTaPTSunWRNWvaXNa2TS4XxlS2dYuxJF1UXORpeSBTqTTGro5aaPm3WNbErZu3+DJ0IyW8ZsnbLX7ah6UxtZbFC6JW1LaN7SjPyBGIThKx0u7VnDOn/DBIC9uK8Us+S/r0HS0QCAQCgZogEESxJujFuYFACghgT8MCRCqT4mIRRRE2Hvi1kapm65atbnljiRRLnDcRgRq3LJkhEXQb+QpCFIlCJuE2xKq8fLe1UjJsfOsglGm2tiLE+OnhG+kkTsvt5bt2+/JvGy3RFmWX3tOwhIEUy7utRQSLRdogo+hZKHxp+GHip9iuXTsc/FIxLvqcqi9f2tYy887tOxRgUubYEiy0XTkrmcIOHTv6EjRyfYOPKP4EAoFAIFB3EAiiWHfmIkYSCFifPr2tifIJTp06xdasXq0I4MU27YOpTnJ69erlCKVlfYLMUPEFYjZQybUXKCnz5Pffsy0iTtOnT7e582Zb3wH93Y8QP7c0SBsKQNq69+jhSb1nTJOc2XPcsjj9gw88iKV3nxJrIrLq5Mk1ruEfMTKskxDB0r79bL70nDF9mhPEjz/+2JOb9xLuWBQ9j2INxfnpyJSeWGv7Kap6u6rOTHnvfVu/bp0tUCT5zBkzrUOnTta5Sxf3H0xD5MH6YN6Y62iBQCAQCFQHgfBRrA5qcU4gkDICLClDUnr37m3nnXeBEiQ/bJMmvOOWvJ69etott9zqQRdpEjYsWBAIrIUjRo5Uvr+F9vCDD9hjjzzs1r3TTz/NzjzrbE+X40vSGmMa5A09saqddc45tlw5DP/+//87t6qxzH3NV663YcOH+xJ4mhA7KRbZHaW0Q0tFvh9QDsUHH7jfMT9L0cFnn32O/EOb6r2SXwuXNBrBOAQoEVBy3vkX2OOPPer5MPeItJaqAs3FF19ibUVenZyCbZ4aJJloaw+ayZOM6DYQCAQaLgJBFBvu3IZm9RABCCMEatCQwTZn9mwtibZUHrwBblHkhu8UJiUiAzxYm4iSJdp43K232RkihqtWrHBLV5/SUid0EAz3jUwDT8lLiFiJ+r/nBz9QhZZ5np6mROSpa9euvgLrVtMU9fRONf42ImZUuTn9jDNt+fLlLq9ERK5ps6ayOuakHmIpuKaN8asfSPH5F15og084wUvpEdGOlbGVnn1O09Qzd8zqF4LfX/kwf/CjH7kfKuTVW75k5sqP14FAINAgEAii2CCmMZRoMAiIWEDMOnfuorq8PVytci0Pu0WPd/m4wWcJBSRi8KBBdsIJQ30Mu3bv8ue0lpwPmCPpiXW0hfwfT1ZCcbeoSk8sXwT25EVPDQAcCfAYJD2H5Oi5Zw8RyE7DDxhmjd+oT/xPaT203I51EfKY9zl1ifojWfi+4ofqUeW6tqIFAoFAIHA0CARRPBq04thAIN8IQFZ0cyf/Ho+kOYXJB5HJCnCSJLmU61MYi29FZl7IE71LF/rHmrkjh7w0OD2zulae07xii8ykZYnqrjxYoxMR8RwIBAING4Egig17fkO7+ohAlkTV+tCPhdyQmf9pPhYY51+rkBAIBAK1hED+PKhrSYEQEwgEAoFAIBAIBAKBQCCQHwTCopgfXKPXQOAwCGSrrmi5l+ZLroc5o/JuAj4yqXKOMPAiezw+c+43lwQ2VO74EO+RV5DI1fNhW/YQzsNHrjp6cl5G10yFmiORmTk+I7PxkYyzUqec36hCbqWdB3mLmETP6sikW58bl3sQIV/avP86qg62rqcLpp8vdR4bAoFAIBCwIIpxEQQCxwABfP8ojadici69Or6A+/ZlIoi9L/o7HFPQAQSs+EOpaKonU6SWcetxROdrTBxHpPMRn1N5PqSn66ixH15mcmzmOZFbucvDvYc0gZPLPRyu2c7AP1fXw8moav8+VYtxucL3sC0rz2Ue6XxU6jQhh8yp61otKl+p03gbCAQCDQqBIIoNajpDmXqBgG7w5NLbo0okWMto3KSPtrk1SOcRsUuaFd4fvFGCT3J1LNHGu3dnaiof/Piq9yCjQFHJe3T+Hr0+5KjRyY+VTOm6W0Er1dET3RrrXPA6tI6MWZYx/dvL+HQOMqtj3XM54KV+VJL5oG0/4iT1ViR3DWT66MG0ETkPDyE0OxrGiEwiuWsyn3RX0DhzDWW7TqU6TdJXPAcCgUD9RiCIYv2evxh9PUIAUoG1aN3atfbLn/9cCZgfY62yRhqQpHrdurXWuVMXz9eXpGLJ7RRytlupbt566w2bMWOaSte1kFhyMh6S5uV2ceBr9UdENjWor7nmWmuiMVRuaLV33x576aUXbeLEiRpbkyMgeZV7Sd7v85rTO3eUqwzeNrvu+uvhg1Vix+aJ70zwajbNC5tnCVf19Mzgtts2b9lol1x8WZXyGCGEbc6c2fbh381UPsriGsmkPzFFW79+nY0YMdLzO1a+QpBHip+lS5faP/7D/7H77rv3iIil932QP+i6Zu0aGzhwoF+jNb0uDyImNgcCgUA9RCCIYj2ctBhy/UQAy0/Pnj3t9jvvUnWQJUdgBTwyPan/3L17d0/iTH4+yGhFE6n4f+3dy04UQRQG4PIKMQosBIm3hRfEhcQxmrD0tlGfBX07F8ZX0AXvoLgwkZiQGBPUOjUDApZGZprpYfg60UDPTFfX1xX4p+g5FUHj4aPHuY7f5fQ11lbemzy2n7yfL36ms2fPpRt5ib8SPPOsXwScPG9Z+nUmr+P8/NmLdGthMW1sbMRDA7UbUS9Oeyav1Xzj5sLvUBwHjsdy+6dOnkxPnzxNV69cTevr62X/4P/9LGtdX8tL/52JWoS5na1Z0Wg5al7eWVpKKy9fpc/5DUA8PvCWL1Cstx2rt1zKtTRLDc1eP+Paxmov1/P5rKy8KkXDY+Z00C36FH+mj1WAruTVgWJm1EaAAIEQEBSNAwLDEOj9op+YnExLeYm6TudeCU9NNR1holusuhvYto/ba/dCXlM4Cj7vCpHbT+rvi5jZipnF3UGlG9yOHT9RAkeEnSbbjCBWXY6u18/zc3N5DemLZQayv179+aryJ+XsG8v77dpymxFQZ2Zm0vLycl4CsLkfp2HbvUWg3mYU0O50Oun+gwe7TmmQb+INxGaeeY6QGO03OkAHOTGvJUCgVYHmfrK12g2NEzgcAhEsvses045i2k2deYlovcC095jd+9j2hI69T+rj+1Fr80cOdN/yv6a3v/azFxZLofJSrLzZlqvtttFms91yNAIEDpGAoHiILpZTHQOB/Eu+/PIfdlfaaFebB3eV27A9uN44MgECIyyw42amET5Lp0aAAAECBAgQIDB0ATOKQyfXYL8Ccd/U5o9c8iT/2dbN9v0qeh2B8RQo91XmrsU9s1tfj2dP9YrAcAUExeF6a61PgfhUZnwSdOrcVJqdnS11CPs8lJcRIDCmAvHJ7enpqTQxcdpnccb0GuvW8AUExeGba3GfAjE7EHX/1tbW0utcl+/Dxw+lZMg+D+PpBAiMsUB8UDvqda6urubySF8aKz81xmS6RuC/BATF/2LypLYEtmrWRXmX24uL6f37d+ntm0/N1Ktrq1PaJUDgQASO5yUQY7ubSwfNz89v17w8kMYclMAREcjr3sf7sHa37oxR66fRLoLW/ykQYyTuPSqFgXcWlP7nqzxIgMBRE4ham/HzIgrRb73RPGoGh7W/cb1cs9G7eiMRFEePxRkRIECAAAECBAgoj2MMECBAgAABAgQIVAUExSqLnQQIECBAgAABAoKiMUCAAAECBAgQIFAVEBSrLHYSIECAAAECBAgIisYAAQIECBAgQIBAVUBQrLLYSYAAAQIECBAgICgaAwQIECBAgAABAlUBQbHKYicBAgQIECBAgICgaAwQIECAAAECBAhUBQTFKoudBAgQIECAAAECgqIxQIAAAQIECBAgUBUQFKssdhIgQIAAAQIECAiKxgABAgQIECBAgEBVQFCssthJgAABAgQIECAgKBoDBAgQIECAAAECVQFBscpiJwECBAgQIECAgKBoDBAgQIAAAQIECFQFBMUqi50ECBAgQIAAAQKCojFAgAABAgQIECBQFRAUqyx2EiBAgAABAgQICIrGAAECBAgQIECAQFVAUKyy2EmAAAECBAgQIPALEItZfZ4eokEAAAAASUVORK5CYII=)\n"
      ],
      "metadata": {
        "id": "OaDrgdvIqz5Q"
      }
    },
    {
      "cell_type": "code",
      "metadata": {
        "id": "zdQBaZZcQ_Sa",
        "colab": {
          "base_uri": "https://localhost:8080/"
        },
        "outputId": "a7c78f5b-a5e4-438c-897c-814696153450"
      },
      "source": [
        "text = \"the car was\"\n",
        "\n",
        "# Tokenize the input string\n",
        "input = tokenizer.encode(text, return_tensors=\"pt\")\n",
        "\n",
        "# Run the model\n",
        "output = model.generate(input, max_length=20, do_sample=False)\n",
        "\n",
        "# Print the output\n",
        "print('\\n',tokenizer.decode(output[0]))"
      ],
      "execution_count": 12,
      "outputs": [
        {
          "output_type": "stream",
          "name": "stdout",
          "text": [
            "\n",
            " the car was parked in the driveway of the house.\n",
            "\n",
            "The driver of the car was not\n"
          ]
        }
      ]
    },
    {
      "cell_type": "code",
      "source": [
        "model. transformer.wte"
      ],
      "metadata": {
        "colab": {
          "base_uri": "https://localhost:8080/"
        },
        "id": "0ddGUhveuZ_d",
        "outputId": "e7786787-6ab0-4759-e57b-e92e1f81e417"
      },
      "execution_count": 15,
      "outputs": [
        {
          "output_type": "execute_result",
          "data": {
            "text/plain": [
              "Embedding(50257, 768)"
            ]
          },
          "metadata": {},
          "execution_count": 15
        }
      ]
    },
    {
      "cell_type": "markdown",
      "source": [
        "The model we use contains 50257 tokens and each token is coded with an embedding of 768 dimensions."
      ],
      "metadata": {
        "id": "WjQ2WL4Cuxou"
      }
    },
    {
      "cell_type": "code",
      "source": [
        "word_embeddings"
      ],
      "metadata": {
        "colab": {
          "base_uri": "https://localhost:8080/"
        },
        "id": "bcArrWU6wZ9R",
        "outputId": "0b283b2b-2430-45af-8cb0-5408fbd19eff"
      },
      "execution_count": 17,
      "outputs": [
        {
          "output_type": "execute_result",
          "data": {
            "text/plain": [
              "Parameter containing:\n",
              "tensor([[-0.1101, -0.0393,  0.0331,  ..., -0.1364,  0.0151,  0.0453],\n",
              "        [ 0.0403, -0.0486,  0.0462,  ...,  0.0861,  0.0025,  0.0432],\n",
              "        [-0.1275,  0.0479,  0.1841,  ...,  0.0899, -0.1297, -0.0879],\n",
              "        ...,\n",
              "        [-0.0445, -0.0548,  0.0123,  ...,  0.1044,  0.0978, -0.0695],\n",
              "        [ 0.1860,  0.0167,  0.0461,  ..., -0.0963,  0.0785, -0.0225],\n",
              "        [ 0.0514, -0.0277,  0.0499,  ...,  0.0070,  0.1552,  0.1207]],\n",
              "       requires_grad=True)"
            ]
          },
          "metadata": {},
          "execution_count": 17
        }
      ]
    },
    {
      "cell_type": "code",
      "metadata": {
        "id": "m8m1rK3gNNW4",
        "colab": {
          "base_uri": "https://localhost:8080/"
        },
        "outputId": "4034e590-d0eb-4a58-b4e5-9fe9f5929849"
      },
      "source": [
        "# Print the token ides (of the input and output)\n",
        "output"
      ],
      "execution_count": 18,
      "outputs": [
        {
          "output_type": "execute_result",
          "data": {
            "text/plain": [
              "tensor([[1169, 3797, 3332,  319,  262, 2603,   11,  290,  262, 3797, 3332,  319,\n",
              "          262, 2603,   11,  290,  262, 3797, 3332,  319,  262, 2603,   11,  290,\n",
              "          262, 3797, 3332,  319,  262, 2603,   11,  290,  262, 3797, 3332,  319,\n",
              "          262, 2603,   11,  290,  262, 3797, 3332,  319,  262, 2603,   11,  290,\n",
              "          262, 3797]])"
            ]
          },
          "metadata": {},
          "execution_count": 18
        }
      ]
    },
    {
      "cell_type": "markdown",
      "metadata": {
        "id": "tProbSeTJATA"
      },
      "source": [
        "## From words to vectors and back"
      ]
    },
    {
      "cell_type": "code",
      "metadata": {
        "id": "Dy2Pjd--ROa5",
        "colab": {
          "base_uri": "https://localhost:8080/"
        },
        "outputId": "4fb02674-a800-493c-c7c0-4a9f4a8f68a9"
      },
      "source": [
        "# Print the input token ids\n",
        "text = \"car\"\n",
        "input = tokenizer(text, return_tensors=\"pt\")['input_ids']\n",
        "input"
      ],
      "execution_count": 14,
      "outputs": [
        {
          "output_type": "execute_result",
          "data": {
            "text/plain": [
              "tensor([[7718]])"
            ]
          },
          "metadata": {},
          "execution_count": 14
        }
      ]
    },
    {
      "cell_type": "code",
      "metadata": {
        "id": "sTGffdCOJbdo",
        "colab": {
          "base_uri": "https://localhost:8080/"
        },
        "outputId": "0234ed8d-8ca0-4b76-8781-a780114637b4"
      },
      "source": [
        "tokenizer.convert_ids_to_tokens(input[0])"
      ],
      "execution_count": 15,
      "outputs": [
        {
          "output_type": "execute_result",
          "data": {
            "text/plain": [
              "['car']"
            ]
          },
          "metadata": {},
          "execution_count": 15
        }
      ]
    },
    {
      "cell_type": "markdown",
      "metadata": {
        "id": "4lbn94y0P2UV"
      },
      "source": [
        "## Breathe meaning into numbers (Embedding)"
      ]
    },
    {
      "cell_type": "code",
      "metadata": {
        "id": "5QCFBcxZQIN8",
        "colab": {
          "base_uri": "https://localhost:8080/"
        },
        "outputId": "0abc85a8-13e7-4e10-8739-9c8bee4192b6"
      },
      "source": [
        "# This is the embedding matrix of the model\n",
        "model.transformer.wte # Dimensions are: (Number of tokens in vocabulary, dimension of model)"
      ],
      "execution_count": 13,
      "outputs": [
        {
          "output_type": "execute_result",
          "data": {
            "text/plain": [
              "Embedding(50257, 768)"
            ]
          },
          "metadata": {},
          "execution_count": 13
        }
      ]
    },
    {
      "cell_type": "code",
      "source": [
        "import torch"
      ],
      "metadata": {
        "id": "5XmAC1nJzAF3"
      },
      "execution_count": 21,
      "outputs": []
    },
    {
      "cell_type": "code",
      "metadata": {
        "id": "0Ah9tc1gP7lX",
        "colab": {
          "base_uri": "https://localhost:8080/"
        },
        "outputId": "1b62df8c-06ff-436a-cbcb-df9b551e7645"
      },
      "source": [
        "# Get the embedding vector of token # 464 ('The')\n",
        "model.transformer.wte(torch.tensor(464))"
      ],
      "execution_count": 22,
      "outputs": [
        {
          "output_type": "execute_result",
          "data": {
            "text/plain": [
              "tensor([-6.8623e-02, -2.0298e-02,  6.4471e-02, -6.2085e-02, -1.1352e-01,\n",
              "        -6.2337e-02, -2.1719e-01, -2.9746e-02,  3.8659e-03, -1.0428e-02,\n",
              "        -3.7695e-02,  2.6119e-02,  7.6351e-02, -3.0347e-02,  1.0757e-01,\n",
              "        -1.8893e-02,  5.6020e-02,  5.1582e-02, -2.4212e-02,  1.3702e-01,\n",
              "        -4.6440e-02,  2.9035e-02, -5.2729e-02,  3.9311e-02, -5.7571e-03,\n",
              "        -3.4328e-02,  5.1317e-02, -2.7329e-02, -6.9629e-02,  1.7323e-02,\n",
              "        -3.6435e-02, -5.7844e-02, -5.8048e-02,  6.3479e-02, -4.3887e-02,\n",
              "        -3.6068e-02, -3.1934e-01,  7.1641e-02,  8.3253e-02, -2.7106e-02,\n",
              "         1.1349e-01, -8.6667e-02, -8.2599e-02, -6.6505e-02,  5.5040e-02,\n",
              "        -5.3986e-03,  1.3219e-02,  2.9831e-02,  6.5156e-02, -1.6650e-01,\n",
              "        -7.9967e-03,  3.0170e-02,  2.6669e-02,  7.5700e-02,  6.9849e-02,\n",
              "        -3.6223e-01, -4.4599e-02, -3.8639e-03, -1.1880e-02, -4.6784e-03,\n",
              "        -4.1325e-02, -3.8791e-02,  3.1904e-02, -2.1479e-02, -2.5077e-01,\n",
              "         1.7805e-02,  3.9195e-04, -3.6580e-02,  3.1057e-01,  8.5691e-02,\n",
              "         5.2127e-02,  8.8148e-02, -1.2688e-02,  6.7151e-02,  3.9102e-02,\n",
              "        -1.8991e-02, -3.3124e-02,  7.5523e-02, -5.7182e-02, -1.2219e-02,\n",
              "         7.8838e-02, -3.9990e-02,  6.7676e-02, -3.9604e-02,  4.3249e-01,\n",
              "        -8.3409e-02, -9.9149e-02, -3.0409e-01,  1.4615e-02, -1.8213e-02,\n",
              "        -4.0038e-02,  5.4154e-02, -7.7422e-02, -5.4353e-02,  7.1394e-02,\n",
              "         1.2841e-02,  1.2403e-02, -5.2010e-02,  5.0751e-02, -1.3468e-02,\n",
              "         9.1175e-02,  6.9685e-02, -7.4078e-02, -9.0596e-02, -5.9712e-02,\n",
              "        -5.4079e-02, -8.1770e-03, -1.2328e-01,  1.0959e-01, -2.2000e-02,\n",
              "        -2.3921e-02, -3.3662e-02, -5.2786e-02,  3.7965e-02, -3.2126e-02,\n",
              "         7.3098e-02,  1.3784e-01,  8.3682e-02,  8.3727e-02,  3.6698e-02,\n",
              "        -2.5932e-02,  3.8583e-02, -8.0940e-02, -2.8355e-02, -1.0381e-01,\n",
              "         8.4719e-02, -7.1032e-02, -3.7496e-02,  8.7221e-02, -1.4440e-02,\n",
              "         7.5941e-03, -5.7708e-02,  5.9355e-02,  1.5381e-01, -2.2144e-02,\n",
              "        -9.3865e-03, -3.3302e-02, -5.5412e-02,  5.3663e-01, -2.9427e-02,\n",
              "         5.6950e-02, -2.2298e-03,  8.0769e-02, -2.4722e-02,  2.7351e-02,\n",
              "        -1.5227e-01, -1.2192e-02, -2.2232e-02, -1.3494e-02,  5.1397e-02,\n",
              "         7.5633e-02,  1.7697e-02,  1.8230e-03, -1.2640e-01, -4.6218e-02,\n",
              "         9.1976e-02,  2.2707e-02, -8.5128e-02, -1.1685e-01, -2.3987e-01,\n",
              "        -4.2199e-02,  1.3321e-02, -1.0609e-01,  3.3384e-04,  4.0123e-02,\n",
              "         1.1095e-02, -1.2048e-01,  2.2850e-01,  9.5713e-03,  1.9392e-01,\n",
              "         5.9709e-02,  2.9227e-02, -5.9409e-02, -2.5859e-02,  1.1393e-01,\n",
              "         6.6367e-02,  2.5739e-01, -7.1607e-03,  4.4437e-02,  1.3672e-01,\n",
              "         3.0585e-02, -1.0525e-01,  5.6398e-02, -3.0458e-03,  9.5603e-02,\n",
              "         1.1153e-02, -1.0837e-01,  2.2595e-02, -2.6511e-02, -1.4412e-01,\n",
              "         3.9433e-02,  1.5725e-01, -3.1897e-03,  7.8058e-02, -1.5057e-01,\n",
              "         1.4287e-01,  3.5997e-02,  5.0074e-02, -6.9834e-02,  1.8372e-01,\n",
              "         1.6719e-02, -7.5166e-02, -5.0027e-02, -2.0925e-02,  8.4664e-02,\n",
              "         2.8955e-02, -9.3399e-04,  3.2629e-02,  1.0379e-01,  1.7241e-02,\n",
              "         9.7887e-02, -2.7289e-02, -8.5361e-03, -9.7566e-02,  7.5390e-02,\n",
              "        -8.5514e-03, -7.9879e-03,  3.5284e-02,  2.8483e-02, -6.2973e-02,\n",
              "         8.0845e-02, -9.8044e-03, -6.6752e-02, -1.0800e-02, -4.6213e-02,\n",
              "        -4.3827e-02, -5.1229e-02, -6.9385e-02,  5.2109e-02, -6.2518e-02,\n",
              "         7.1093e-02,  7.1432e-02, -2.4900e-01,  5.6524e-02, -1.0207e-01,\n",
              "        -5.0979e-03, -1.3468e-02, -7.9800e-02, -7.6763e-03,  2.1757e-02,\n",
              "         7.3696e-02,  1.0675e-02,  5.6905e-02,  1.8220e-02,  3.3063e-02,\n",
              "         1.1026e-02,  6.1885e-02, -3.5092e-02, -8.3738e-03,  8.1704e-02,\n",
              "         2.0942e-01, -2.7992e-02, -8.7287e-02, -5.1256e-02,  5.5008e-03,\n",
              "        -3.6654e-02,  5.4583e-02,  2.6525e-02,  9.3224e-02,  4.4550e-02,\n",
              "         2.8544e-02,  8.3506e-02,  5.0505e-02,  9.4504e-02,  1.5159e-02,\n",
              "        -7.4597e-02, -3.1129e-01,  1.3248e-02,  5.8856e-02, -1.0978e-01,\n",
              "         1.8697e-01, -1.2677e-01, -3.1044e-02, -4.7811e-02,  6.6250e-02,\n",
              "        -8.2474e-02, -4.9182e-02,  5.7829e-02, -3.7314e-02,  4.2414e-02,\n",
              "        -1.1988e-02, -2.7357e-02, -1.5783e-01, -4.5227e-03, -1.5965e-01,\n",
              "         3.8501e-02,  1.4284e-02, -5.5888e-02, -2.9892e-01,  7.5767e-02,\n",
              "        -4.2235e-02, -4.1510e-02,  9.5492e-02,  1.1993e-01, -2.3974e-02,\n",
              "        -3.2585e-02,  1.0763e-01,  5.0481e-02,  2.6213e-02,  1.2931e-01,\n",
              "        -2.7998e-02, -7.5261e-02, -3.9069e-02, -3.6490e-02,  4.9251e-02,\n",
              "         4.0798e-02,  1.0221e-02, -6.2340e-02,  2.2508e-01, -2.0782e-02,\n",
              "        -9.5293e-02,  1.5777e-01, -2.8973e-02, -8.7060e-04,  1.9482e-01,\n",
              "         3.9530e-02,  3.2790e-02, -9.1000e-02, -6.0614e-03, -1.6563e-01,\n",
              "         2.7631e-01, -2.2333e-02, -4.4973e-02,  1.4872e-02, -8.3736e-02,\n",
              "        -9.6046e-02, -3.2903e-01,  1.1410e-01, -4.8723e-02,  8.5375e-02,\n",
              "         6.1981e-02, -9.1619e-02, -3.6726e-03,  1.3806e-01,  1.1346e-02,\n",
              "         8.7848e-02,  7.0723e-02, -3.8127e-02, -5.5665e-02,  5.3429e-02,\n",
              "        -9.7221e-02,  5.0395e-02, -1.6990e-02, -4.3170e-02,  6.1871e-02,\n",
              "         2.0697e-02, -1.7618e-02,  4.4657e-02, -3.9086e-02, -3.5658e-02,\n",
              "        -3.7767e-02, -5.4346e-02, -1.3828e-01, -3.0423e-02, -9.3058e-02,\n",
              "         1.6022e-02,  5.9549e-03,  6.7625e-04, -5.7713e-02, -6.0492e-02,\n",
              "         8.0854e-02,  4.5121e-02, -5.4455e-01, -6.3216e-02, -6.9382e-02,\n",
              "         1.6146e-01,  1.3726e-02, -1.1470e-01,  2.7300e-02,  9.6292e-02,\n",
              "         8.6430e-02, -9.1408e-03, -5.3793e-03, -2.2404e-01,  1.8158e-01,\n",
              "         1.8222e-01, -2.0186e-02, -1.7900e-01, -3.9642e-03,  8.4399e-02,\n",
              "        -6.0925e-02, -1.2093e-01,  9.7358e-02, -9.7810e-02, -6.6952e-02,\n",
              "         9.2599e-02, -1.7816e-02,  5.8219e-02,  1.1547e-02,  4.0436e-02,\n",
              "         3.1962e-02, -3.7395e-02,  3.4956e-03, -2.1982e-01, -8.5091e-02,\n",
              "        -1.1133e-01,  7.9099e-02, -1.2469e-02,  9.7907e-02, -2.6678e-02,\n",
              "        -1.6152e-02,  4.9015e-02, -1.3875e-01, -3.5737e-02, -1.0128e-01,\n",
              "        -6.9699e-03, -1.0235e-01,  2.2091e-02, -3.5263e-01,  1.2751e-02,\n",
              "        -5.4153e-02, -8.7271e-02, -6.6799e-02, -1.4101e-02, -2.1927e-02,\n",
              "         4.5046e-05,  1.4770e-02,  9.2689e-02, -3.1419e-02, -8.2330e-03,\n",
              "         1.2226e-01,  1.6819e-02,  1.7709e-02,  5.9228e-02,  6.2671e-02,\n",
              "         2.8481e-02,  3.6947e-02, -6.5439e-02,  1.0527e-01, -8.7753e-02,\n",
              "        -2.5488e-01, -1.1735e-02,  1.1536e-01,  6.6443e-02,  1.6965e-02,\n",
              "        -4.8247e-02, -7.7858e-02,  4.2994e-03, -5.9020e-03, -1.2805e-01,\n",
              "        -5.8226e-02,  7.1960e-02, -1.4922e-01, -1.4378e-02,  8.1912e-03,\n",
              "        -7.9814e-02, -5.7430e-02,  2.5859e-01, -9.2741e-02, -6.8970e-03,\n",
              "         4.7301e-02, -4.7942e-02,  1.3333e-01,  1.2348e-01, -1.6985e-02,\n",
              "        -1.9947e-01,  1.3055e-01,  4.3836e-02, -1.0345e-01, -6.7170e-02,\n",
              "        -3.8792e-02, -4.2493e-02, -1.7248e-01,  3.5890e-02, -3.5882e-02,\n",
              "         9.9559e-02, -4.5369e-02,  4.6728e-02, -8.8564e-02,  1.2271e-02,\n",
              "        -3.4453e-02, -1.1843e-01,  1.4566e-01, -2.6659e-02,  1.8046e-02,\n",
              "        -2.6372e-02, -6.5194e-03,  5.7131e-02,  1.9295e-02,  2.6999e-01,\n",
              "        -3.5369e-01,  1.9706e-01,  3.2585e-02, -8.3133e-02, -1.4522e-02,\n",
              "        -1.0844e-02, -7.2937e-02,  7.0416e-02, -8.3407e-02,  2.1396e-02,\n",
              "        -1.2204e-02, -1.9528e-02,  3.9638e-03, -9.5943e-02,  3.3142e-02,\n",
              "        -1.1011e-01, -2.0557e-01,  1.7718e-01, -1.0297e-01, -1.7627e-01,\n",
              "         1.5115e-02,  1.1126e-01, -1.4759e-02,  1.6274e-01,  3.1574e-03,\n",
              "        -6.0239e-02, -2.8132e-02, -8.2605e-02,  1.0455e-02,  5.8391e-02,\n",
              "        -6.3920e-02,  1.0415e-01, -1.1998e-01, -2.8077e-03, -9.7362e-02,\n",
              "         7.3987e-02,  4.0261e-02, -6.1468e-02, -1.0228e-02,  6.8496e-03,\n",
              "        -1.0525e-01,  1.2095e-02,  4.4526e-02, -1.4158e-02, -6.2217e-02,\n",
              "        -3.9947e-02,  1.0824e-01,  2.5061e-01, -1.9184e-03, -5.5988e-02,\n",
              "         1.0759e-02,  1.5964e-02, -6.0067e-03,  9.7758e-02, -8.1894e-02,\n",
              "         1.1468e-02,  6.1651e-02, -5.3640e-02,  6.4687e-02,  5.4925e-02,\n",
              "        -7.0676e-02, -2.3409e-02, -8.2736e-02,  1.8677e-01,  5.6741e-02,\n",
              "        -4.2102e-02,  5.5771e-02, -7.7479e-03,  1.3047e-01,  3.0384e-01,\n",
              "        -4.4662e-02, -5.4083e-02,  7.5437e-03, -7.1916e-02,  1.9964e-01,\n",
              "        -2.7786e-02,  6.4183e-02,  1.2484e-01,  4.1424e-02,  1.4046e-01,\n",
              "        -6.0994e-02, -1.4448e-02, -8.5318e-02,  6.3510e-02, -3.5658e-02,\n",
              "        -1.0346e-01, -2.4517e-01,  1.4069e-02, -7.5778e-02, -3.5590e-02,\n",
              "        -1.2460e-01, -3.8891e-02, -1.4101e-02,  1.7555e-03, -5.3986e-02,\n",
              "        -7.4797e-02,  5.1904e-02, -1.1347e-02,  7.6741e-02, -8.7628e-03,\n",
              "        -6.9234e-02, -3.9281e-02,  1.2030e-02,  4.0003e-02, -4.8938e-02,\n",
              "        -2.0397e-02,  2.3274e-02,  2.8417e-02, -1.6330e-01,  1.1484e-01,\n",
              "        -5.2743e-02,  1.9032e-02, -2.8329e-03, -1.1654e-01, -1.5054e-01,\n",
              "        -1.2640e-02, -3.0154e-02, -3.0062e-03, -5.6200e-02,  1.1100e-02,\n",
              "         5.9378e-02, -4.2049e-02,  8.7224e-03,  1.3278e-02, -5.2205e-02,\n",
              "         2.6244e-02, -4.5364e-03,  8.1712e-02, -4.3524e-01, -3.5882e-03,\n",
              "        -3.9271e-02, -1.2046e-01,  7.4448e-02, -1.6054e-02,  4.1478e-02,\n",
              "         1.4192e-01, -2.3133e-01, -7.8764e-02,  1.4757e-01,  1.2099e-01,\n",
              "        -7.0634e-02, -2.1229e-02,  1.2877e-02,  2.9398e-03,  1.1511e-01,\n",
              "        -7.6628e-03,  8.6307e-04,  2.3780e-01, -1.0911e-01, -1.7745e-02,\n",
              "         2.2428e-02,  2.9291e-02,  6.6936e-03, -4.6183e-02, -3.4366e-02,\n",
              "         2.7242e-01,  1.5686e-01,  6.7790e-02,  4.5202e-02,  1.2756e-02,\n",
              "         8.8182e-03,  3.0541e-02, -5.4251e-02,  1.1707e-01,  1.0449e-02,\n",
              "         5.0182e-03,  9.0916e-02, -4.6453e-02, -3.9931e-02,  2.0090e-01,\n",
              "         6.3877e-02,  3.4473e-02,  7.7861e-02, -1.2660e-01, -8.7285e-02,\n",
              "        -9.5530e-02, -4.0998e-02, -2.9295e-02, -3.6855e-02, -3.5279e-01,\n",
              "         6.0732e-02,  7.1494e-02,  6.1172e-02, -5.5992e-02, -1.5505e-02,\n",
              "        -9.2628e-02, -5.3572e-02,  1.5966e-01, -9.4414e-02,  1.1122e-01,\n",
              "         1.0230e-01,  6.4257e-02, -1.0767e-01,  6.0961e-02, -2.4280e-02,\n",
              "         4.1139e-02, -1.5104e-02,  3.8341e-02, -1.2828e-01, -1.6542e-01,\n",
              "         5.8027e-02,  7.7647e-02, -3.6363e-02,  3.5008e-02,  4.8162e-02,\n",
              "        -1.7573e-02,  3.3993e-02, -1.0944e-02,  2.5501e-02, -8.1542e-03,\n",
              "         8.1330e-02, -7.4768e-02,  4.2958e-02,  1.0102e-01, -1.7638e-02,\n",
              "        -7.3250e-02, -2.3258e-02,  1.5137e-01, -1.2835e-01, -2.7155e-02,\n",
              "        -2.1799e-01, -1.6098e-01, -1.4341e-02,  1.4626e-01,  7.6781e-02,\n",
              "        -1.0024e-02,  1.9365e-01,  3.5521e-02,  1.5186e-02,  1.9112e-01,\n",
              "         2.2647e-02,  1.0570e-01,  9.8456e-03,  4.6359e-02,  1.8763e-03,\n",
              "        -8.5401e-02, -1.3681e-01,  2.2138e-02, -2.4676e-01,  1.5585e-02,\n",
              "        -3.3058e-02,  2.0962e-01,  6.2404e-02, -3.1010e-02, -7.3799e-02,\n",
              "         4.8273e-02, -3.2844e-02, -2.1845e-02,  1.7501e-01,  8.8452e-02,\n",
              "         9.2482e-03, -4.1900e-02, -3.3067e-02, -5.8463e-02, -8.6264e-03,\n",
              "         8.9541e-02,  2.2904e-02,  8.9761e-03, -8.5463e-02,  2.8644e-01,\n",
              "        -7.6531e-02,  1.2720e-01, -5.3904e-03,  9.7327e-02, -3.4813e-02,\n",
              "         1.9377e-01,  1.0384e-01,  2.2839e-02, -4.0272e-02, -5.4077e-02,\n",
              "        -2.6941e-02,  6.8492e-02,  8.4235e-02, -1.6474e-02,  2.4507e-03,\n",
              "         4.8518e-02, -8.0034e-02, -1.3903e-02, -6.8680e-02,  6.7671e-02,\n",
              "         3.1066e-02, -4.8812e-02, -1.7725e-01,  2.1187e-02,  6.5497e-02,\n",
              "         6.3887e-02, -9.9875e-03,  3.1070e-03], grad_fn=<EmbeddingBackward0>)"
            ]
          },
          "metadata": {},
          "execution_count": 22
        }
      ]
    },
    {
      "cell_type": "code",
      "metadata": {
        "id": "ZT5lmGVK60mJ",
        "colab": {
          "base_uri": "https://localhost:8080/"
        },
        "outputId": "07cebe32-7d57-4d75-a059-a46690899a32"
      },
      "source": [
        "text = \"What is 3 + 3?\"\n",
        "# Tokenize the input string\n",
        "input = tokenizer.encode(text, return_tensors=\"pt\")\n",
        "\n",
        "\n",
        "# activate beam search and early_stopping\n",
        "beam_output = model.generate(\n",
        "    input,  \n",
        "    max_length=100, \n",
        "    num_beams=5, \n",
        "    no_repeat_ngram_size=2,\n",
        "    early_stopping=True\n",
        ")\n",
        "\n",
        "# Run the model\n",
        "print(\"Output:\\n\" + 100 * '-')\n",
        "print(tokenizer.decode(beam_output[0], skip_special_tokens=True))"
      ],
      "execution_count": null,
      "outputs": [
        {
          "output_type": "stream",
          "name": "stdout",
          "text": [
            "Output:\n",
            "----------------------------------------------------------------------------------------------------\n",
            "What is 3 + 3?\n",
            "\n",
            "3 + 2 = 3.5 + 1.25 + 0.75 = 2.2 + 4.6 = 5.4 + 6.3 = 7.1 + 8.7 = 9.8 + 10.0 = 11.9 + 12.10 = 13.11 + 14.12 = 15.13 + 16.14 = 17.15 + 18.16 = 19.17 + 20.18 = 21.19 +\n"
          ]
        }
      ]
    },
    {
      "cell_type": "code",
      "metadata": {
        "id": "BstYQU6NkkDA",
        "colab": {
          "base_uri": "https://localhost:8080/"
        },
        "outputId": "a868ec9b-5f96-4c82-dcb7-85917766cfe3"
      },
      "source": [
        "import torch\n",
        "\n",
        "input_ids = tokenizer.encode(\"the cat sleeps on the bed\", return_tensors='pt')\n",
        "\n",
        "# Generate the logits for the input text\n",
        "with torch.no_grad():\n",
        "    logits, _ = model(input_ids)\n",
        "\n",
        "# Access the logits for the last token of the input text\n",
        "last_token_logits = logits[0][-1]\n",
        "\n",
        "# Display the logits\n",
        "print(last_token_logits)"
      ],
      "execution_count": 14,
      "outputs": [
        {
          "output_type": "stream",
          "name": "stdout",
          "text": [
            "l\n"
          ]
        }
      ]
    },
    {
      "cell_type": "code",
      "source": [
        "import torch\n",
        "\n",
        "# Encode the input text\n",
        "input_ids = torch.tensor(tokenizer.encode(\"oh my\")).unsqueeze(0)  # Batch size 1\n",
        "\n",
        "# Get the logits of the last token\n",
        "with torch.no_grad():\n",
        "    outputs = model(input_ids)\n",
        "    logits = outputs[0][0, -1, :]\n",
        "\n",
        "# Get the predicted token\n",
        "predicted_index = torch.argmax(logits).item()\n",
        "predicted_token = tokenizer.decode([predicted_index])\n",
        "\n",
        "# Get the probability of all logits\n",
        "probabilities = torch.softmax(logits, dim=0)\n",
        "\n",
        "# Print the logits of the last token\n",
        "print(\"Logits of the Last Token:\", logits)\n",
        "\n",
        "# Print the probability of all logits\n",
        "print(\"Probabilities of All Logits:\", probabilities)\n",
        "\n",
        "# Print the predicted token\n",
        "print(\"Predicted Token:\", predicted_token)\n",
        "\n",
        "# Get the probability of the predicted token\n",
        "predicted_probability = probabilities[predicted_index].item()\n",
        "\n",
        "# Print the probability of the predicted token\n",
        "print(\"Probability of the Predicted Token:\", predicted_probability)"
      ],
      "metadata": {
        "colab": {
          "base_uri": "https://localhost:8080/"
        },
        "id": "BKmuqw9y7IVa",
        "outputId": "bf538d48-034d-48ad-d4a1-fd9a76cd3ed1"
      },
      "execution_count": 34,
      "outputs": [
        {
          "output_type": "stream",
          "name": "stdout",
          "text": [
            "Logits of the Last Token: tensor([-73.8390, -74.1809, -79.3946,  ..., -80.1564, -81.5872, -78.0243])\n",
            "Probabilities of All Logits: tensor([2.1758e-03, 1.5456e-03, 8.4112e-06,  ..., 3.9264e-06, 9.3887e-07,\n",
            "        3.3110e-05])\n",
            "Predicted Token:  God\n",
            "Probability of the Predicted Token: 0.045782435685396194\n"
          ]
        }
      ]
    },
    {
      "cell_type": "code",
      "source": [],
      "metadata": {
        "id": "y0OVBsem94TE"
      },
      "execution_count": null,
      "outputs": []
    }
  ]
}