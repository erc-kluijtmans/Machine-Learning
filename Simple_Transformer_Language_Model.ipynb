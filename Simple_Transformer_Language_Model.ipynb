{
  "nbformat": 4,
  "nbformat_minor": 0,
  "metadata": {
    "colab": {
      "provenance": [],
      "include_colab_link": true
    },
    "kernelspec": {
      "name": "python3",
      "display_name": "Python 3"
    },
    "widgets": {
      "application/vnd.jupyter.widget-state+json": {
        "80f9e3c1be27463cb8af7fe30dd15117": {
          "model_module": "@jupyter-widgets/controls",
          "model_name": "HBoxModel",
          "model_module_version": "1.5.0",
          "state": {
            "_dom_classes": [],
            "_model_module": "@jupyter-widgets/controls",
            "_model_module_version": "1.5.0",
            "_model_name": "HBoxModel",
            "_view_count": null,
            "_view_module": "@jupyter-widgets/controls",
            "_view_module_version": "1.5.0",
            "_view_name": "HBoxView",
            "box_style": "",
            "children": [
              "IPY_MODEL_4d556c115f304a6795447f29987c5d35",
              "IPY_MODEL_b91e42df148d4db6a29d52e97069b0bf",
              "IPY_MODEL_5466000435ee4d2ba49a5ecba639ca33"
            ],
            "layout": "IPY_MODEL_ff5d79f943f64d1388c69bea1001ab16"
          }
        },
        "4d556c115f304a6795447f29987c5d35": {
          "model_module": "@jupyter-widgets/controls",
          "model_name": "HTMLModel",
          "model_module_version": "1.5.0",
          "state": {
            "_dom_classes": [],
            "_model_module": "@jupyter-widgets/controls",
            "_model_module_version": "1.5.0",
            "_model_name": "HTMLModel",
            "_view_count": null,
            "_view_module": "@jupyter-widgets/controls",
            "_view_module_version": "1.5.0",
            "_view_name": "HTMLView",
            "description": "",
            "description_tooltip": null,
            "layout": "IPY_MODEL_630b5b1d28684e8d9f8ef883e58d6196",
            "placeholder": "​",
            "style": "IPY_MODEL_f5e8e9b8fe4e4e0cbf8506586730aac6",
            "value": "Downloading: 100%"
          }
        },
        "b91e42df148d4db6a29d52e97069b0bf": {
          "model_module": "@jupyter-widgets/controls",
          "model_name": "FloatProgressModel",
          "model_module_version": "1.5.0",
          "state": {
            "_dom_classes": [],
            "_model_module": "@jupyter-widgets/controls",
            "_model_module_version": "1.5.0",
            "_model_name": "FloatProgressModel",
            "_view_count": null,
            "_view_module": "@jupyter-widgets/controls",
            "_view_module_version": "1.5.0",
            "_view_name": "ProgressView",
            "bar_style": "success",
            "description": "",
            "description_tooltip": null,
            "layout": "IPY_MODEL_f6930f62de3d4e0a996e183d49957de0",
            "max": 1042301,
            "min": 0,
            "orientation": "horizontal",
            "style": "IPY_MODEL_a4a9e1f4bc6a429babde90ea97fe5db4",
            "value": 1042301
          }
        },
        "5466000435ee4d2ba49a5ecba639ca33": {
          "model_module": "@jupyter-widgets/controls",
          "model_name": "HTMLModel",
          "model_module_version": "1.5.0",
          "state": {
            "_dom_classes": [],
            "_model_module": "@jupyter-widgets/controls",
            "_model_module_version": "1.5.0",
            "_model_name": "HTMLModel",
            "_view_count": null,
            "_view_module": "@jupyter-widgets/controls",
            "_view_module_version": "1.5.0",
            "_view_name": "HTMLView",
            "description": "",
            "description_tooltip": null,
            "layout": "IPY_MODEL_a8e2a2c8d9dc4a789ba33a30e7ca26d9",
            "placeholder": "​",
            "style": "IPY_MODEL_65e4c2723394478fa2fdd5460069e111",
            "value": " 1.04M/1.04M [00:00&lt;00:00, 981kB/s]"
          }
        },
        "ff5d79f943f64d1388c69bea1001ab16": {
          "model_module": "@jupyter-widgets/base",
          "model_name": "LayoutModel",
          "model_module_version": "1.2.0",
          "state": {
            "_model_module": "@jupyter-widgets/base",
            "_model_module_version": "1.2.0",
            "_model_name": "LayoutModel",
            "_view_count": null,
            "_view_module": "@jupyter-widgets/base",
            "_view_module_version": "1.2.0",
            "_view_name": "LayoutView",
            "align_content": null,
            "align_items": null,
            "align_self": null,
            "border": null,
            "bottom": null,
            "display": null,
            "flex": null,
            "flex_flow": null,
            "grid_area": null,
            "grid_auto_columns": null,
            "grid_auto_flow": null,
            "grid_auto_rows": null,
            "grid_column": null,
            "grid_gap": null,
            "grid_row": null,
            "grid_template_areas": null,
            "grid_template_columns": null,
            "grid_template_rows": null,
            "height": null,
            "justify_content": null,
            "justify_items": null,
            "left": null,
            "margin": null,
            "max_height": null,
            "max_width": null,
            "min_height": null,
            "min_width": null,
            "object_fit": null,
            "object_position": null,
            "order": null,
            "overflow": null,
            "overflow_x": null,
            "overflow_y": null,
            "padding": null,
            "right": null,
            "top": null,
            "visibility": null,
            "width": null
          }
        },
        "630b5b1d28684e8d9f8ef883e58d6196": {
          "model_module": "@jupyter-widgets/base",
          "model_name": "LayoutModel",
          "model_module_version": "1.2.0",
          "state": {
            "_model_module": "@jupyter-widgets/base",
            "_model_module_version": "1.2.0",
            "_model_name": "LayoutModel",
            "_view_count": null,
            "_view_module": "@jupyter-widgets/base",
            "_view_module_version": "1.2.0",
            "_view_name": "LayoutView",
            "align_content": null,
            "align_items": null,
            "align_self": null,
            "border": null,
            "bottom": null,
            "display": null,
            "flex": null,
            "flex_flow": null,
            "grid_area": null,
            "grid_auto_columns": null,
            "grid_auto_flow": null,
            "grid_auto_rows": null,
            "grid_column": null,
            "grid_gap": null,
            "grid_row": null,
            "grid_template_areas": null,
            "grid_template_columns": null,
            "grid_template_rows": null,
            "height": null,
            "justify_content": null,
            "justify_items": null,
            "left": null,
            "margin": null,
            "max_height": null,
            "max_width": null,
            "min_height": null,
            "min_width": null,
            "object_fit": null,
            "object_position": null,
            "order": null,
            "overflow": null,
            "overflow_x": null,
            "overflow_y": null,
            "padding": null,
            "right": null,
            "top": null,
            "visibility": null,
            "width": null
          }
        },
        "f5e8e9b8fe4e4e0cbf8506586730aac6": {
          "model_module": "@jupyter-widgets/controls",
          "model_name": "DescriptionStyleModel",
          "model_module_version": "1.5.0",
          "state": {
            "_model_module": "@jupyter-widgets/controls",
            "_model_module_version": "1.5.0",
            "_model_name": "DescriptionStyleModel",
            "_view_count": null,
            "_view_module": "@jupyter-widgets/base",
            "_view_module_version": "1.2.0",
            "_view_name": "StyleView",
            "description_width": ""
          }
        },
        "f6930f62de3d4e0a996e183d49957de0": {
          "model_module": "@jupyter-widgets/base",
          "model_name": "LayoutModel",
          "model_module_version": "1.2.0",
          "state": {
            "_model_module": "@jupyter-widgets/base",
            "_model_module_version": "1.2.0",
            "_model_name": "LayoutModel",
            "_view_count": null,
            "_view_module": "@jupyter-widgets/base",
            "_view_module_version": "1.2.0",
            "_view_name": "LayoutView",
            "align_content": null,
            "align_items": null,
            "align_self": null,
            "border": null,
            "bottom": null,
            "display": null,
            "flex": null,
            "flex_flow": null,
            "grid_area": null,
            "grid_auto_columns": null,
            "grid_auto_flow": null,
            "grid_auto_rows": null,
            "grid_column": null,
            "grid_gap": null,
            "grid_row": null,
            "grid_template_areas": null,
            "grid_template_columns": null,
            "grid_template_rows": null,
            "height": null,
            "justify_content": null,
            "justify_items": null,
            "left": null,
            "margin": null,
            "max_height": null,
            "max_width": null,
            "min_height": null,
            "min_width": null,
            "object_fit": null,
            "object_position": null,
            "order": null,
            "overflow": null,
            "overflow_x": null,
            "overflow_y": null,
            "padding": null,
            "right": null,
            "top": null,
            "visibility": null,
            "width": null
          }
        },
        "a4a9e1f4bc6a429babde90ea97fe5db4": {
          "model_module": "@jupyter-widgets/controls",
          "model_name": "ProgressStyleModel",
          "model_module_version": "1.5.0",
          "state": {
            "_model_module": "@jupyter-widgets/controls",
            "_model_module_version": "1.5.0",
            "_model_name": "ProgressStyleModel",
            "_view_count": null,
            "_view_module": "@jupyter-widgets/base",
            "_view_module_version": "1.2.0",
            "_view_name": "StyleView",
            "bar_color": null,
            "description_width": ""
          }
        },
        "a8e2a2c8d9dc4a789ba33a30e7ca26d9": {
          "model_module": "@jupyter-widgets/base",
          "model_name": "LayoutModel",
          "model_module_version": "1.2.0",
          "state": {
            "_model_module": "@jupyter-widgets/base",
            "_model_module_version": "1.2.0",
            "_model_name": "LayoutModel",
            "_view_count": null,
            "_view_module": "@jupyter-widgets/base",
            "_view_module_version": "1.2.0",
            "_view_name": "LayoutView",
            "align_content": null,
            "align_items": null,
            "align_self": null,
            "border": null,
            "bottom": null,
            "display": null,
            "flex": null,
            "flex_flow": null,
            "grid_area": null,
            "grid_auto_columns": null,
            "grid_auto_flow": null,
            "grid_auto_rows": null,
            "grid_column": null,
            "grid_gap": null,
            "grid_row": null,
            "grid_template_areas": null,
            "grid_template_columns": null,
            "grid_template_rows": null,
            "height": null,
            "justify_content": null,
            "justify_items": null,
            "left": null,
            "margin": null,
            "max_height": null,
            "max_width": null,
            "min_height": null,
            "min_width": null,
            "object_fit": null,
            "object_position": null,
            "order": null,
            "overflow": null,
            "overflow_x": null,
            "overflow_y": null,
            "padding": null,
            "right": null,
            "top": null,
            "visibility": null,
            "width": null
          }
        },
        "65e4c2723394478fa2fdd5460069e111": {
          "model_module": "@jupyter-widgets/controls",
          "model_name": "DescriptionStyleModel",
          "model_module_version": "1.5.0",
          "state": {
            "_model_module": "@jupyter-widgets/controls",
            "_model_module_version": "1.5.0",
            "_model_name": "DescriptionStyleModel",
            "_view_count": null,
            "_view_module": "@jupyter-widgets/base",
            "_view_module_version": "1.2.0",
            "_view_name": "StyleView",
            "description_width": ""
          }
        },
        "664a6fe6b8af4bb8bb48046b5c7ae0fc": {
          "model_module": "@jupyter-widgets/controls",
          "model_name": "HBoxModel",
          "model_module_version": "1.5.0",
          "state": {
            "_dom_classes": [],
            "_model_module": "@jupyter-widgets/controls",
            "_model_module_version": "1.5.0",
            "_model_name": "HBoxModel",
            "_view_count": null,
            "_view_module": "@jupyter-widgets/controls",
            "_view_module_version": "1.5.0",
            "_view_name": "HBoxView",
            "box_style": "",
            "children": [
              "IPY_MODEL_f168a81cc6104b5bbaff676ff634cbe3",
              "IPY_MODEL_c0039cbefdad45459e0a26ed81580365",
              "IPY_MODEL_6297619e4e3c4308a299108d0fe3baec"
            ],
            "layout": "IPY_MODEL_8e424cfc446a455bb19e881562d25224"
          }
        },
        "f168a81cc6104b5bbaff676ff634cbe3": {
          "model_module": "@jupyter-widgets/controls",
          "model_name": "HTMLModel",
          "model_module_version": "1.5.0",
          "state": {
            "_dom_classes": [],
            "_model_module": "@jupyter-widgets/controls",
            "_model_module_version": "1.5.0",
            "_model_name": "HTMLModel",
            "_view_count": null,
            "_view_module": "@jupyter-widgets/controls",
            "_view_module_version": "1.5.0",
            "_view_name": "HTMLView",
            "description": "",
            "description_tooltip": null,
            "layout": "IPY_MODEL_d21bda22e2a144c2ae3657ecf3c92410",
            "placeholder": "​",
            "style": "IPY_MODEL_badb5b0e12794b4ca3306bf9d7929ff5",
            "value": "Downloading: 100%"
          }
        },
        "c0039cbefdad45459e0a26ed81580365": {
          "model_module": "@jupyter-widgets/controls",
          "model_name": "FloatProgressModel",
          "model_module_version": "1.5.0",
          "state": {
            "_dom_classes": [],
            "_model_module": "@jupyter-widgets/controls",
            "_model_module_version": "1.5.0",
            "_model_name": "FloatProgressModel",
            "_view_count": null,
            "_view_module": "@jupyter-widgets/controls",
            "_view_module_version": "1.5.0",
            "_view_name": "ProgressView",
            "bar_style": "success",
            "description": "",
            "description_tooltip": null,
            "layout": "IPY_MODEL_a29876666d7f4a1384c7490d67b9831a",
            "max": 456318,
            "min": 0,
            "orientation": "horizontal",
            "style": "IPY_MODEL_5088aebf2e7e4bd9b1b5cdaa407ba3bd",
            "value": 456318
          }
        },
        "6297619e4e3c4308a299108d0fe3baec": {
          "model_module": "@jupyter-widgets/controls",
          "model_name": "HTMLModel",
          "model_module_version": "1.5.0",
          "state": {
            "_dom_classes": [],
            "_model_module": "@jupyter-widgets/controls",
            "_model_module_version": "1.5.0",
            "_model_name": "HTMLModel",
            "_view_count": null,
            "_view_module": "@jupyter-widgets/controls",
            "_view_module_version": "1.5.0",
            "_view_name": "HTMLView",
            "description": "",
            "description_tooltip": null,
            "layout": "IPY_MODEL_c11ceb995bc64120a719d41a7729d4d6",
            "placeholder": "​",
            "style": "IPY_MODEL_d0c794afb6f0461c9a221836e6491860",
            "value": " 456k/456k [00:00&lt;00:00, 508kB/s]"
          }
        },
        "8e424cfc446a455bb19e881562d25224": {
          "model_module": "@jupyter-widgets/base",
          "model_name": "LayoutModel",
          "model_module_version": "1.2.0",
          "state": {
            "_model_module": "@jupyter-widgets/base",
            "_model_module_version": "1.2.0",
            "_model_name": "LayoutModel",
            "_view_count": null,
            "_view_module": "@jupyter-widgets/base",
            "_view_module_version": "1.2.0",
            "_view_name": "LayoutView",
            "align_content": null,
            "align_items": null,
            "align_self": null,
            "border": null,
            "bottom": null,
            "display": null,
            "flex": null,
            "flex_flow": null,
            "grid_area": null,
            "grid_auto_columns": null,
            "grid_auto_flow": null,
            "grid_auto_rows": null,
            "grid_column": null,
            "grid_gap": null,
            "grid_row": null,
            "grid_template_areas": null,
            "grid_template_columns": null,
            "grid_template_rows": null,
            "height": null,
            "justify_content": null,
            "justify_items": null,
            "left": null,
            "margin": null,
            "max_height": null,
            "max_width": null,
            "min_height": null,
            "min_width": null,
            "object_fit": null,
            "object_position": null,
            "order": null,
            "overflow": null,
            "overflow_x": null,
            "overflow_y": null,
            "padding": null,
            "right": null,
            "top": null,
            "visibility": null,
            "width": null
          }
        },
        "d21bda22e2a144c2ae3657ecf3c92410": {
          "model_module": "@jupyter-widgets/base",
          "model_name": "LayoutModel",
          "model_module_version": "1.2.0",
          "state": {
            "_model_module": "@jupyter-widgets/base",
            "_model_module_version": "1.2.0",
            "_model_name": "LayoutModel",
            "_view_count": null,
            "_view_module": "@jupyter-widgets/base",
            "_view_module_version": "1.2.0",
            "_view_name": "LayoutView",
            "align_content": null,
            "align_items": null,
            "align_self": null,
            "border": null,
            "bottom": null,
            "display": null,
            "flex": null,
            "flex_flow": null,
            "grid_area": null,
            "grid_auto_columns": null,
            "grid_auto_flow": null,
            "grid_auto_rows": null,
            "grid_column": null,
            "grid_gap": null,
            "grid_row": null,
            "grid_template_areas": null,
            "grid_template_columns": null,
            "grid_template_rows": null,
            "height": null,
            "justify_content": null,
            "justify_items": null,
            "left": null,
            "margin": null,
            "max_height": null,
            "max_width": null,
            "min_height": null,
            "min_width": null,
            "object_fit": null,
            "object_position": null,
            "order": null,
            "overflow": null,
            "overflow_x": null,
            "overflow_y": null,
            "padding": null,
            "right": null,
            "top": null,
            "visibility": null,
            "width": null
          }
        },
        "badb5b0e12794b4ca3306bf9d7929ff5": {
          "model_module": "@jupyter-widgets/controls",
          "model_name": "DescriptionStyleModel",
          "model_module_version": "1.5.0",
          "state": {
            "_model_module": "@jupyter-widgets/controls",
            "_model_module_version": "1.5.0",
            "_model_name": "DescriptionStyleModel",
            "_view_count": null,
            "_view_module": "@jupyter-widgets/base",
            "_view_module_version": "1.2.0",
            "_view_name": "StyleView",
            "description_width": ""
          }
        },
        "a29876666d7f4a1384c7490d67b9831a": {
          "model_module": "@jupyter-widgets/base",
          "model_name": "LayoutModel",
          "model_module_version": "1.2.0",
          "state": {
            "_model_module": "@jupyter-widgets/base",
            "_model_module_version": "1.2.0",
            "_model_name": "LayoutModel",
            "_view_count": null,
            "_view_module": "@jupyter-widgets/base",
            "_view_module_version": "1.2.0",
            "_view_name": "LayoutView",
            "align_content": null,
            "align_items": null,
            "align_self": null,
            "border": null,
            "bottom": null,
            "display": null,
            "flex": null,
            "flex_flow": null,
            "grid_area": null,
            "grid_auto_columns": null,
            "grid_auto_flow": null,
            "grid_auto_rows": null,
            "grid_column": null,
            "grid_gap": null,
            "grid_row": null,
            "grid_template_areas": null,
            "grid_template_columns": null,
            "grid_template_rows": null,
            "height": null,
            "justify_content": null,
            "justify_items": null,
            "left": null,
            "margin": null,
            "max_height": null,
            "max_width": null,
            "min_height": null,
            "min_width": null,
            "object_fit": null,
            "object_position": null,
            "order": null,
            "overflow": null,
            "overflow_x": null,
            "overflow_y": null,
            "padding": null,
            "right": null,
            "top": null,
            "visibility": null,
            "width": null
          }
        },
        "5088aebf2e7e4bd9b1b5cdaa407ba3bd": {
          "model_module": "@jupyter-widgets/controls",
          "model_name": "ProgressStyleModel",
          "model_module_version": "1.5.0",
          "state": {
            "_model_module": "@jupyter-widgets/controls",
            "_model_module_version": "1.5.0",
            "_model_name": "ProgressStyleModel",
            "_view_count": null,
            "_view_module": "@jupyter-widgets/base",
            "_view_module_version": "1.2.0",
            "_view_name": "StyleView",
            "bar_color": null,
            "description_width": ""
          }
        },
        "c11ceb995bc64120a719d41a7729d4d6": {
          "model_module": "@jupyter-widgets/base",
          "model_name": "LayoutModel",
          "model_module_version": "1.2.0",
          "state": {
            "_model_module": "@jupyter-widgets/base",
            "_model_module_version": "1.2.0",
            "_model_name": "LayoutModel",
            "_view_count": null,
            "_view_module": "@jupyter-widgets/base",
            "_view_module_version": "1.2.0",
            "_view_name": "LayoutView",
            "align_content": null,
            "align_items": null,
            "align_self": null,
            "border": null,
            "bottom": null,
            "display": null,
            "flex": null,
            "flex_flow": null,
            "grid_area": null,
            "grid_auto_columns": null,
            "grid_auto_flow": null,
            "grid_auto_rows": null,
            "grid_column": null,
            "grid_gap": null,
            "grid_row": null,
            "grid_template_areas": null,
            "grid_template_columns": null,
            "grid_template_rows": null,
            "height": null,
            "justify_content": null,
            "justify_items": null,
            "left": null,
            "margin": null,
            "max_height": null,
            "max_width": null,
            "min_height": null,
            "min_width": null,
            "object_fit": null,
            "object_position": null,
            "order": null,
            "overflow": null,
            "overflow_x": null,
            "overflow_y": null,
            "padding": null,
            "right": null,
            "top": null,
            "visibility": null,
            "width": null
          }
        },
        "d0c794afb6f0461c9a221836e6491860": {
          "model_module": "@jupyter-widgets/controls",
          "model_name": "DescriptionStyleModel",
          "model_module_version": "1.5.0",
          "state": {
            "_model_module": "@jupyter-widgets/controls",
            "_model_module_version": "1.5.0",
            "_model_name": "DescriptionStyleModel",
            "_view_count": null,
            "_view_module": "@jupyter-widgets/base",
            "_view_module_version": "1.2.0",
            "_view_name": "StyleView",
            "description_width": ""
          }
        },
        "b33ba9ca54fb4a70a3b5482bc0399b48": {
          "model_module": "@jupyter-widgets/controls",
          "model_name": "HBoxModel",
          "model_module_version": "1.5.0",
          "state": {
            "_dom_classes": [],
            "_model_module": "@jupyter-widgets/controls",
            "_model_module_version": "1.5.0",
            "_model_name": "HBoxModel",
            "_view_count": null,
            "_view_module": "@jupyter-widgets/controls",
            "_view_module_version": "1.5.0",
            "_view_name": "HBoxView",
            "box_style": "",
            "children": [
              "IPY_MODEL_4bf724032b2f4482a02e8d89bd3fe7c6",
              "IPY_MODEL_9bfcb9d00980455c8fd5dd05a9a28167",
              "IPY_MODEL_58cf1c19d3a3443cb7dde3348e8c3df1"
            ],
            "layout": "IPY_MODEL_4bec1b8a2ed249dea53ff53c60d39a26"
          }
        },
        "4bf724032b2f4482a02e8d89bd3fe7c6": {
          "model_module": "@jupyter-widgets/controls",
          "model_name": "HTMLModel",
          "model_module_version": "1.5.0",
          "state": {
            "_dom_classes": [],
            "_model_module": "@jupyter-widgets/controls",
            "_model_module_version": "1.5.0",
            "_model_name": "HTMLModel",
            "_view_count": null,
            "_view_module": "@jupyter-widgets/controls",
            "_view_module_version": "1.5.0",
            "_view_name": "HTMLView",
            "description": "",
            "description_tooltip": null,
            "layout": "IPY_MODEL_0adfd5a5d1af418aa5e5f5a32815deb7",
            "placeholder": "​",
            "style": "IPY_MODEL_fa45d29f387546d5b256dfa187e02d7b",
            "value": "Downloading: 100%"
          }
        },
        "9bfcb9d00980455c8fd5dd05a9a28167": {
          "model_module": "@jupyter-widgets/controls",
          "model_name": "FloatProgressModel",
          "model_module_version": "1.5.0",
          "state": {
            "_dom_classes": [],
            "_model_module": "@jupyter-widgets/controls",
            "_model_module_version": "1.5.0",
            "_model_name": "FloatProgressModel",
            "_view_count": null,
            "_view_module": "@jupyter-widgets/controls",
            "_view_module_version": "1.5.0",
            "_view_name": "ProgressView",
            "bar_style": "success",
            "description": "",
            "description_tooltip": null,
            "layout": "IPY_MODEL_8a89398ce21a49c3962d2bbfcba1bf0f",
            "max": 665,
            "min": 0,
            "orientation": "horizontal",
            "style": "IPY_MODEL_2f32ddb70c86427ebce420335e513f0a",
            "value": 665
          }
        },
        "58cf1c19d3a3443cb7dde3348e8c3df1": {
          "model_module": "@jupyter-widgets/controls",
          "model_name": "HTMLModel",
          "model_module_version": "1.5.0",
          "state": {
            "_dom_classes": [],
            "_model_module": "@jupyter-widgets/controls",
            "_model_module_version": "1.5.0",
            "_model_name": "HTMLModel",
            "_view_count": null,
            "_view_module": "@jupyter-widgets/controls",
            "_view_module_version": "1.5.0",
            "_view_name": "HTMLView",
            "description": "",
            "description_tooltip": null,
            "layout": "IPY_MODEL_67ff05944cda44e0aafc4fab044ecb2d",
            "placeholder": "​",
            "style": "IPY_MODEL_8caff7eee735491891375caac4a6c083",
            "value": " 665/665 [00:00&lt;00:00, 16.8kB/s]"
          }
        },
        "4bec1b8a2ed249dea53ff53c60d39a26": {
          "model_module": "@jupyter-widgets/base",
          "model_name": "LayoutModel",
          "model_module_version": "1.2.0",
          "state": {
            "_model_module": "@jupyter-widgets/base",
            "_model_module_version": "1.2.0",
            "_model_name": "LayoutModel",
            "_view_count": null,
            "_view_module": "@jupyter-widgets/base",
            "_view_module_version": "1.2.0",
            "_view_name": "LayoutView",
            "align_content": null,
            "align_items": null,
            "align_self": null,
            "border": null,
            "bottom": null,
            "display": null,
            "flex": null,
            "flex_flow": null,
            "grid_area": null,
            "grid_auto_columns": null,
            "grid_auto_flow": null,
            "grid_auto_rows": null,
            "grid_column": null,
            "grid_gap": null,
            "grid_row": null,
            "grid_template_areas": null,
            "grid_template_columns": null,
            "grid_template_rows": null,
            "height": null,
            "justify_content": null,
            "justify_items": null,
            "left": null,
            "margin": null,
            "max_height": null,
            "max_width": null,
            "min_height": null,
            "min_width": null,
            "object_fit": null,
            "object_position": null,
            "order": null,
            "overflow": null,
            "overflow_x": null,
            "overflow_y": null,
            "padding": null,
            "right": null,
            "top": null,
            "visibility": null,
            "width": null
          }
        },
        "0adfd5a5d1af418aa5e5f5a32815deb7": {
          "model_module": "@jupyter-widgets/base",
          "model_name": "LayoutModel",
          "model_module_version": "1.2.0",
          "state": {
            "_model_module": "@jupyter-widgets/base",
            "_model_module_version": "1.2.0",
            "_model_name": "LayoutModel",
            "_view_count": null,
            "_view_module": "@jupyter-widgets/base",
            "_view_module_version": "1.2.0",
            "_view_name": "LayoutView",
            "align_content": null,
            "align_items": null,
            "align_self": null,
            "border": null,
            "bottom": null,
            "display": null,
            "flex": null,
            "flex_flow": null,
            "grid_area": null,
            "grid_auto_columns": null,
            "grid_auto_flow": null,
            "grid_auto_rows": null,
            "grid_column": null,
            "grid_gap": null,
            "grid_row": null,
            "grid_template_areas": null,
            "grid_template_columns": null,
            "grid_template_rows": null,
            "height": null,
            "justify_content": null,
            "justify_items": null,
            "left": null,
            "margin": null,
            "max_height": null,
            "max_width": null,
            "min_height": null,
            "min_width": null,
            "object_fit": null,
            "object_position": null,
            "order": null,
            "overflow": null,
            "overflow_x": null,
            "overflow_y": null,
            "padding": null,
            "right": null,
            "top": null,
            "visibility": null,
            "width": null
          }
        },
        "fa45d29f387546d5b256dfa187e02d7b": {
          "model_module": "@jupyter-widgets/controls",
          "model_name": "DescriptionStyleModel",
          "model_module_version": "1.5.0",
          "state": {
            "_model_module": "@jupyter-widgets/controls",
            "_model_module_version": "1.5.0",
            "_model_name": "DescriptionStyleModel",
            "_view_count": null,
            "_view_module": "@jupyter-widgets/base",
            "_view_module_version": "1.2.0",
            "_view_name": "StyleView",
            "description_width": ""
          }
        },
        "8a89398ce21a49c3962d2bbfcba1bf0f": {
          "model_module": "@jupyter-widgets/base",
          "model_name": "LayoutModel",
          "model_module_version": "1.2.0",
          "state": {
            "_model_module": "@jupyter-widgets/base",
            "_model_module_version": "1.2.0",
            "_model_name": "LayoutModel",
            "_view_count": null,
            "_view_module": "@jupyter-widgets/base",
            "_view_module_version": "1.2.0",
            "_view_name": "LayoutView",
            "align_content": null,
            "align_items": null,
            "align_self": null,
            "border": null,
            "bottom": null,
            "display": null,
            "flex": null,
            "flex_flow": null,
            "grid_area": null,
            "grid_auto_columns": null,
            "grid_auto_flow": null,
            "grid_auto_rows": null,
            "grid_column": null,
            "grid_gap": null,
            "grid_row": null,
            "grid_template_areas": null,
            "grid_template_columns": null,
            "grid_template_rows": null,
            "height": null,
            "justify_content": null,
            "justify_items": null,
            "left": null,
            "margin": null,
            "max_height": null,
            "max_width": null,
            "min_height": null,
            "min_width": null,
            "object_fit": null,
            "object_position": null,
            "order": null,
            "overflow": null,
            "overflow_x": null,
            "overflow_y": null,
            "padding": null,
            "right": null,
            "top": null,
            "visibility": null,
            "width": null
          }
        },
        "2f32ddb70c86427ebce420335e513f0a": {
          "model_module": "@jupyter-widgets/controls",
          "model_name": "ProgressStyleModel",
          "model_module_version": "1.5.0",
          "state": {
            "_model_module": "@jupyter-widgets/controls",
            "_model_module_version": "1.5.0",
            "_model_name": "ProgressStyleModel",
            "_view_count": null,
            "_view_module": "@jupyter-widgets/base",
            "_view_module_version": "1.2.0",
            "_view_name": "StyleView",
            "bar_color": null,
            "description_width": ""
          }
        },
        "67ff05944cda44e0aafc4fab044ecb2d": {
          "model_module": "@jupyter-widgets/base",
          "model_name": "LayoutModel",
          "model_module_version": "1.2.0",
          "state": {
            "_model_module": "@jupyter-widgets/base",
            "_model_module_version": "1.2.0",
            "_model_name": "LayoutModel",
            "_view_count": null,
            "_view_module": "@jupyter-widgets/base",
            "_view_module_version": "1.2.0",
            "_view_name": "LayoutView",
            "align_content": null,
            "align_items": null,
            "align_self": null,
            "border": null,
            "bottom": null,
            "display": null,
            "flex": null,
            "flex_flow": null,
            "grid_area": null,
            "grid_auto_columns": null,
            "grid_auto_flow": null,
            "grid_auto_rows": null,
            "grid_column": null,
            "grid_gap": null,
            "grid_row": null,
            "grid_template_areas": null,
            "grid_template_columns": null,
            "grid_template_rows": null,
            "height": null,
            "justify_content": null,
            "justify_items": null,
            "left": null,
            "margin": null,
            "max_height": null,
            "max_width": null,
            "min_height": null,
            "min_width": null,
            "object_fit": null,
            "object_position": null,
            "order": null,
            "overflow": null,
            "overflow_x": null,
            "overflow_y": null,
            "padding": null,
            "right": null,
            "top": null,
            "visibility": null,
            "width": null
          }
        },
        "8caff7eee735491891375caac4a6c083": {
          "model_module": "@jupyter-widgets/controls",
          "model_name": "DescriptionStyleModel",
          "model_module_version": "1.5.0",
          "state": {
            "_model_module": "@jupyter-widgets/controls",
            "_model_module_version": "1.5.0",
            "_model_name": "DescriptionStyleModel",
            "_view_count": null,
            "_view_module": "@jupyter-widgets/base",
            "_view_module_version": "1.2.0",
            "_view_name": "StyleView",
            "description_width": ""
          }
        },
        "e15a6ba6985b40a2bed0fa821c0645ee": {
          "model_module": "@jupyter-widgets/controls",
          "model_name": "HBoxModel",
          "model_module_version": "1.5.0",
          "state": {
            "_dom_classes": [],
            "_model_module": "@jupyter-widgets/controls",
            "_model_module_version": "1.5.0",
            "_model_name": "HBoxModel",
            "_view_count": null,
            "_view_module": "@jupyter-widgets/controls",
            "_view_module_version": "1.5.0",
            "_view_name": "HBoxView",
            "box_style": "",
            "children": [
              "IPY_MODEL_e059dcf610994278a409a6f2f45987a4",
              "IPY_MODEL_e43197eae343495fad2628bf7152098b",
              "IPY_MODEL_7a182d40a69b45e7abb64bea2b1e5baf"
            ],
            "layout": "IPY_MODEL_dbfaa36c691840339c543af134d61202"
          }
        },
        "e059dcf610994278a409a6f2f45987a4": {
          "model_module": "@jupyter-widgets/controls",
          "model_name": "HTMLModel",
          "model_module_version": "1.5.0",
          "state": {
            "_dom_classes": [],
            "_model_module": "@jupyter-widgets/controls",
            "_model_module_version": "1.5.0",
            "_model_name": "HTMLModel",
            "_view_count": null,
            "_view_module": "@jupyter-widgets/controls",
            "_view_module_version": "1.5.0",
            "_view_name": "HTMLView",
            "description": "",
            "description_tooltip": null,
            "layout": "IPY_MODEL_bc5f96be12d74da28312600b3a6162fd",
            "placeholder": "​",
            "style": "IPY_MODEL_9d47e2cdf0dd4908a34f7f6c757ebd03",
            "value": "Downloading: 100%"
          }
        },
        "e43197eae343495fad2628bf7152098b": {
          "model_module": "@jupyter-widgets/controls",
          "model_name": "FloatProgressModel",
          "model_module_version": "1.5.0",
          "state": {
            "_dom_classes": [],
            "_model_module": "@jupyter-widgets/controls",
            "_model_module_version": "1.5.0",
            "_model_name": "FloatProgressModel",
            "_view_count": null,
            "_view_module": "@jupyter-widgets/controls",
            "_view_module_version": "1.5.0",
            "_view_name": "ProgressView",
            "bar_style": "success",
            "description": "",
            "description_tooltip": null,
            "layout": "IPY_MODEL_0451aa7258f047c9b82b3e80e3a059ec",
            "max": 548118077,
            "min": 0,
            "orientation": "horizontal",
            "style": "IPY_MODEL_1b56700f39c645fd8ed0a1a66bfbba57",
            "value": 548118077
          }
        },
        "7a182d40a69b45e7abb64bea2b1e5baf": {
          "model_module": "@jupyter-widgets/controls",
          "model_name": "HTMLModel",
          "model_module_version": "1.5.0",
          "state": {
            "_dom_classes": [],
            "_model_module": "@jupyter-widgets/controls",
            "_model_module_version": "1.5.0",
            "_model_name": "HTMLModel",
            "_view_count": null,
            "_view_module": "@jupyter-widgets/controls",
            "_view_module_version": "1.5.0",
            "_view_name": "HTMLView",
            "description": "",
            "description_tooltip": null,
            "layout": "IPY_MODEL_4466d78b916348f68dcd70f820172d3e",
            "placeholder": "​",
            "style": "IPY_MODEL_b0a9f3b37448401fb6c65aecbdeb3c0e",
            "value": " 548M/548M [00:19&lt;00:00, 32.3MB/s]"
          }
        },
        "dbfaa36c691840339c543af134d61202": {
          "model_module": "@jupyter-widgets/base",
          "model_name": "LayoutModel",
          "model_module_version": "1.2.0",
          "state": {
            "_model_module": "@jupyter-widgets/base",
            "_model_module_version": "1.2.0",
            "_model_name": "LayoutModel",
            "_view_count": null,
            "_view_module": "@jupyter-widgets/base",
            "_view_module_version": "1.2.0",
            "_view_name": "LayoutView",
            "align_content": null,
            "align_items": null,
            "align_self": null,
            "border": null,
            "bottom": null,
            "display": null,
            "flex": null,
            "flex_flow": null,
            "grid_area": null,
            "grid_auto_columns": null,
            "grid_auto_flow": null,
            "grid_auto_rows": null,
            "grid_column": null,
            "grid_gap": null,
            "grid_row": null,
            "grid_template_areas": null,
            "grid_template_columns": null,
            "grid_template_rows": null,
            "height": null,
            "justify_content": null,
            "justify_items": null,
            "left": null,
            "margin": null,
            "max_height": null,
            "max_width": null,
            "min_height": null,
            "min_width": null,
            "object_fit": null,
            "object_position": null,
            "order": null,
            "overflow": null,
            "overflow_x": null,
            "overflow_y": null,
            "padding": null,
            "right": null,
            "top": null,
            "visibility": null,
            "width": null
          }
        },
        "bc5f96be12d74da28312600b3a6162fd": {
          "model_module": "@jupyter-widgets/base",
          "model_name": "LayoutModel",
          "model_module_version": "1.2.0",
          "state": {
            "_model_module": "@jupyter-widgets/base",
            "_model_module_version": "1.2.0",
            "_model_name": "LayoutModel",
            "_view_count": null,
            "_view_module": "@jupyter-widgets/base",
            "_view_module_version": "1.2.0",
            "_view_name": "LayoutView",
            "align_content": null,
            "align_items": null,
            "align_self": null,
            "border": null,
            "bottom": null,
            "display": null,
            "flex": null,
            "flex_flow": null,
            "grid_area": null,
            "grid_auto_columns": null,
            "grid_auto_flow": null,
            "grid_auto_rows": null,
            "grid_column": null,
            "grid_gap": null,
            "grid_row": null,
            "grid_template_areas": null,
            "grid_template_columns": null,
            "grid_template_rows": null,
            "height": null,
            "justify_content": null,
            "justify_items": null,
            "left": null,
            "margin": null,
            "max_height": null,
            "max_width": null,
            "min_height": null,
            "min_width": null,
            "object_fit": null,
            "object_position": null,
            "order": null,
            "overflow": null,
            "overflow_x": null,
            "overflow_y": null,
            "padding": null,
            "right": null,
            "top": null,
            "visibility": null,
            "width": null
          }
        },
        "9d47e2cdf0dd4908a34f7f6c757ebd03": {
          "model_module": "@jupyter-widgets/controls",
          "model_name": "DescriptionStyleModel",
          "model_module_version": "1.5.0",
          "state": {
            "_model_module": "@jupyter-widgets/controls",
            "_model_module_version": "1.5.0",
            "_model_name": "DescriptionStyleModel",
            "_view_count": null,
            "_view_module": "@jupyter-widgets/base",
            "_view_module_version": "1.2.0",
            "_view_name": "StyleView",
            "description_width": ""
          }
        },
        "0451aa7258f047c9b82b3e80e3a059ec": {
          "model_module": "@jupyter-widgets/base",
          "model_name": "LayoutModel",
          "model_module_version": "1.2.0",
          "state": {
            "_model_module": "@jupyter-widgets/base",
            "_model_module_version": "1.2.0",
            "_model_name": "LayoutModel",
            "_view_count": null,
            "_view_module": "@jupyter-widgets/base",
            "_view_module_version": "1.2.0",
            "_view_name": "LayoutView",
            "align_content": null,
            "align_items": null,
            "align_self": null,
            "border": null,
            "bottom": null,
            "display": null,
            "flex": null,
            "flex_flow": null,
            "grid_area": null,
            "grid_auto_columns": null,
            "grid_auto_flow": null,
            "grid_auto_rows": null,
            "grid_column": null,
            "grid_gap": null,
            "grid_row": null,
            "grid_template_areas": null,
            "grid_template_columns": null,
            "grid_template_rows": null,
            "height": null,
            "justify_content": null,
            "justify_items": null,
            "left": null,
            "margin": null,
            "max_height": null,
            "max_width": null,
            "min_height": null,
            "min_width": null,
            "object_fit": null,
            "object_position": null,
            "order": null,
            "overflow": null,
            "overflow_x": null,
            "overflow_y": null,
            "padding": null,
            "right": null,
            "top": null,
            "visibility": null,
            "width": null
          }
        },
        "1b56700f39c645fd8ed0a1a66bfbba57": {
          "model_module": "@jupyter-widgets/controls",
          "model_name": "ProgressStyleModel",
          "model_module_version": "1.5.0",
          "state": {
            "_model_module": "@jupyter-widgets/controls",
            "_model_module_version": "1.5.0",
            "_model_name": "ProgressStyleModel",
            "_view_count": null,
            "_view_module": "@jupyter-widgets/base",
            "_view_module_version": "1.2.0",
            "_view_name": "StyleView",
            "bar_color": null,
            "description_width": ""
          }
        },
        "4466d78b916348f68dcd70f820172d3e": {
          "model_module": "@jupyter-widgets/base",
          "model_name": "LayoutModel",
          "model_module_version": "1.2.0",
          "state": {
            "_model_module": "@jupyter-widgets/base",
            "_model_module_version": "1.2.0",
            "_model_name": "LayoutModel",
            "_view_count": null,
            "_view_module": "@jupyter-widgets/base",
            "_view_module_version": "1.2.0",
            "_view_name": "LayoutView",
            "align_content": null,
            "align_items": null,
            "align_self": null,
            "border": null,
            "bottom": null,
            "display": null,
            "flex": null,
            "flex_flow": null,
            "grid_area": null,
            "grid_auto_columns": null,
            "grid_auto_flow": null,
            "grid_auto_rows": null,
            "grid_column": null,
            "grid_gap": null,
            "grid_row": null,
            "grid_template_areas": null,
            "grid_template_columns": null,
            "grid_template_rows": null,
            "height": null,
            "justify_content": null,
            "justify_items": null,
            "left": null,
            "margin": null,
            "max_height": null,
            "max_width": null,
            "min_height": null,
            "min_width": null,
            "object_fit": null,
            "object_position": null,
            "order": null,
            "overflow": null,
            "overflow_x": null,
            "overflow_y": null,
            "padding": null,
            "right": null,
            "top": null,
            "visibility": null,
            "width": null
          }
        },
        "b0a9f3b37448401fb6c65aecbdeb3c0e": {
          "model_module": "@jupyter-widgets/controls",
          "model_name": "DescriptionStyleModel",
          "model_module_version": "1.5.0",
          "state": {
            "_model_module": "@jupyter-widgets/controls",
            "_model_module_version": "1.5.0",
            "_model_name": "DescriptionStyleModel",
            "_view_count": null,
            "_view_module": "@jupyter-widgets/base",
            "_view_module_version": "1.2.0",
            "_view_name": "StyleView",
            "description_width": ""
          }
        }
      }
    }
  },
  "cells": [
    {
      "cell_type": "markdown",
      "metadata": {
        "id": "view-in-github",
        "colab_type": "text"
      },
      "source": [
        "<a href=\"https://colab.research.google.com/github/erc-kluijtmans/Machine-Learning/blob/master/Simple_Transformer_Language_Model.ipynb\" target=\"_parent\"><img src=\"https://colab.research.google.com/assets/colab-badge.svg\" alt=\"Open In Colab\"/></a>"
      ]
    },
    {
      "cell_type": "markdown",
      "source": [
        "# Resources\n",
        "https://github.com/huggingface/blog/blob/main/notebooks/02_how_to_generate.ipynb\n",
        "\n",
        "\n",
        "\n",
        "\n",
        "\n",
        "https://www.youtube.com/watch?v=-QH8fRhqFHM&ab_channel=JayAlammar\n"
      ],
      "metadata": {
        "id": "8XHTgerq-8rb"
      }
    },
    {
      "cell_type": "code",
      "metadata": {
        "id": "SfaGYwr6QGl0",
        "colab": {
          "base_uri": "https://localhost:8080/"
        },
        "outputId": "c227d4fd-41b6-4724-ac3a-2164f5e76b0c"
      },
      "source": [
        "!pip install transformers"
      ],
      "execution_count": 1,
      "outputs": [
        {
          "output_type": "stream",
          "name": "stdout",
          "text": [
            "Looking in indexes: https://pypi.org/simple, https://us-python.pkg.dev/colab-wheels/public/simple/\n",
            "Collecting transformers\n",
            "  Downloading transformers-4.25.1-py3-none-any.whl (5.8 MB)\n",
            "\u001b[2K     \u001b[90m━━━━━━━━━━━━━━━━━━━━━━━━━━━━━━━━━━━━━━━━\u001b[0m \u001b[32m5.8/5.8 MB\u001b[0m \u001b[31m18.6 MB/s\u001b[0m eta \u001b[36m0:00:00\u001b[0m\n",
            "\u001b[?25hCollecting tokenizers!=0.11.3,<0.14,>=0.11.1\n",
            "  Downloading tokenizers-0.13.2-cp38-cp38-manylinux_2_17_x86_64.manylinux2014_x86_64.whl (7.6 MB)\n",
            "\u001b[2K     \u001b[90m━━━━━━━━━━━━━━━━━━━━━━━━━━━━━━━━━━━━━━━━\u001b[0m \u001b[32m7.6/7.6 MB\u001b[0m \u001b[31m46.1 MB/s\u001b[0m eta \u001b[36m0:00:00\u001b[0m\n",
            "\u001b[?25hRequirement already satisfied: packaging>=20.0 in /usr/local/lib/python3.8/dist-packages (from transformers) (21.3)\n",
            "Requirement already satisfied: numpy>=1.17 in /usr/local/lib/python3.8/dist-packages (from transformers) (1.21.6)\n",
            "Requirement already satisfied: requests in /usr/local/lib/python3.8/dist-packages (from transformers) (2.25.1)\n",
            "Requirement already satisfied: tqdm>=4.27 in /usr/local/lib/python3.8/dist-packages (from transformers) (4.64.1)\n",
            "Requirement already satisfied: regex!=2019.12.17 in /usr/local/lib/python3.8/dist-packages (from transformers) (2022.6.2)\n",
            "Requirement already satisfied: filelock in /usr/local/lib/python3.8/dist-packages (from transformers) (3.9.0)\n",
            "Requirement already satisfied: pyyaml>=5.1 in /usr/local/lib/python3.8/dist-packages (from transformers) (6.0)\n",
            "Collecting huggingface-hub<1.0,>=0.10.0\n",
            "  Downloading huggingface_hub-0.11.1-py3-none-any.whl (182 kB)\n",
            "\u001b[2K     \u001b[90m━━━━━━━━━━━━━━━━━━━━━━━━━━━━━━━━━━━━━━━\u001b[0m \u001b[32m182.4/182.4 KB\u001b[0m \u001b[31m7.9 MB/s\u001b[0m eta \u001b[36m0:00:00\u001b[0m\n",
            "\u001b[?25hRequirement already satisfied: typing-extensions>=3.7.4.3 in /usr/local/lib/python3.8/dist-packages (from huggingface-hub<1.0,>=0.10.0->transformers) (4.4.0)\n",
            "Requirement already satisfied: pyparsing!=3.0.5,>=2.0.2 in /usr/local/lib/python3.8/dist-packages (from packaging>=20.0->transformers) (3.0.9)\n",
            "Requirement already satisfied: certifi>=2017.4.17 in /usr/local/lib/python3.8/dist-packages (from requests->transformers) (2022.12.7)\n",
            "Requirement already satisfied: urllib3<1.27,>=1.21.1 in /usr/local/lib/python3.8/dist-packages (from requests->transformers) (1.24.3)\n",
            "Requirement already satisfied: chardet<5,>=3.0.2 in /usr/local/lib/python3.8/dist-packages (from requests->transformers) (4.0.0)\n",
            "Requirement already satisfied: idna<3,>=2.5 in /usr/local/lib/python3.8/dist-packages (from requests->transformers) (2.10)\n",
            "Installing collected packages: tokenizers, huggingface-hub, transformers\n",
            "Successfully installed huggingface-hub-0.11.1 tokenizers-0.13.2 transformers-4.25.1\n"
          ]
        }
      ]
    },
    {
      "cell_type": "code",
      "source": [
        "from transformers import GPT2Tokenizer, GPT2Model, GPT2LMHeadModel\n",
        "tokenizer = GPT2Tokenizer.from_pretrained('gpt2')\n",
        "model = GPT2LMHeadModel.from_pretrained('gpt2',pad_token_id=tokenizer.eos_token_id)\n"
      ],
      "metadata": {
        "id": "6TZtitTn0uZr",
        "colab": {
          "base_uri": "https://localhost:8080/",
          "height": 145,
          "referenced_widgets": [
            "80f9e3c1be27463cb8af7fe30dd15117",
            "4d556c115f304a6795447f29987c5d35",
            "b91e42df148d4db6a29d52e97069b0bf",
            "5466000435ee4d2ba49a5ecba639ca33",
            "ff5d79f943f64d1388c69bea1001ab16",
            "630b5b1d28684e8d9f8ef883e58d6196",
            "f5e8e9b8fe4e4e0cbf8506586730aac6",
            "f6930f62de3d4e0a996e183d49957de0",
            "a4a9e1f4bc6a429babde90ea97fe5db4",
            "a8e2a2c8d9dc4a789ba33a30e7ca26d9",
            "65e4c2723394478fa2fdd5460069e111",
            "664a6fe6b8af4bb8bb48046b5c7ae0fc",
            "f168a81cc6104b5bbaff676ff634cbe3",
            "c0039cbefdad45459e0a26ed81580365",
            "6297619e4e3c4308a299108d0fe3baec",
            "8e424cfc446a455bb19e881562d25224",
            "d21bda22e2a144c2ae3657ecf3c92410",
            "badb5b0e12794b4ca3306bf9d7929ff5",
            "a29876666d7f4a1384c7490d67b9831a",
            "5088aebf2e7e4bd9b1b5cdaa407ba3bd",
            "c11ceb995bc64120a719d41a7729d4d6",
            "d0c794afb6f0461c9a221836e6491860",
            "b33ba9ca54fb4a70a3b5482bc0399b48",
            "4bf724032b2f4482a02e8d89bd3fe7c6",
            "9bfcb9d00980455c8fd5dd05a9a28167",
            "58cf1c19d3a3443cb7dde3348e8c3df1",
            "4bec1b8a2ed249dea53ff53c60d39a26",
            "0adfd5a5d1af418aa5e5f5a32815deb7",
            "fa45d29f387546d5b256dfa187e02d7b",
            "8a89398ce21a49c3962d2bbfcba1bf0f",
            "2f32ddb70c86427ebce420335e513f0a",
            "67ff05944cda44e0aafc4fab044ecb2d",
            "8caff7eee735491891375caac4a6c083",
            "e15a6ba6985b40a2bed0fa821c0645ee",
            "e059dcf610994278a409a6f2f45987a4",
            "e43197eae343495fad2628bf7152098b",
            "7a182d40a69b45e7abb64bea2b1e5baf",
            "dbfaa36c691840339c543af134d61202",
            "bc5f96be12d74da28312600b3a6162fd",
            "9d47e2cdf0dd4908a34f7f6c757ebd03",
            "0451aa7258f047c9b82b3e80e3a059ec",
            "1b56700f39c645fd8ed0a1a66bfbba57",
            "4466d78b916348f68dcd70f820172d3e",
            "b0a9f3b37448401fb6c65aecbdeb3c0e"
          ]
        },
        "outputId": "7ab6ff53-5e13-4893-d1d1-2804b6890a1b"
      },
      "execution_count": 2,
      "outputs": [
        {
          "output_type": "display_data",
          "data": {
            "text/plain": [
              "Downloading:   0%|          | 0.00/1.04M [00:00<?, ?B/s]"
            ],
            "application/vnd.jupyter.widget-view+json": {
              "version_major": 2,
              "version_minor": 0,
              "model_id": "80f9e3c1be27463cb8af7fe30dd15117"
            }
          },
          "metadata": {}
        },
        {
          "output_type": "display_data",
          "data": {
            "text/plain": [
              "Downloading:   0%|          | 0.00/456k [00:00<?, ?B/s]"
            ],
            "application/vnd.jupyter.widget-view+json": {
              "version_major": 2,
              "version_minor": 0,
              "model_id": "664a6fe6b8af4bb8bb48046b5c7ae0fc"
            }
          },
          "metadata": {}
        },
        {
          "output_type": "display_data",
          "data": {
            "text/plain": [
              "Downloading:   0%|          | 0.00/665 [00:00<?, ?B/s]"
            ],
            "application/vnd.jupyter.widget-view+json": {
              "version_major": 2,
              "version_minor": 0,
              "model_id": "b33ba9ca54fb4a70a3b5482bc0399b48"
            }
          },
          "metadata": {}
        },
        {
          "output_type": "display_data",
          "data": {
            "text/plain": [
              "Downloading:   0%|          | 0.00/548M [00:00<?, ?B/s]"
            ],
            "application/vnd.jupyter.widget-view+json": {
              "version_major": 2,
              "version_minor": 0,
              "model_id": "e15a6ba6985b40a2bed0fa821c0645ee"
            }
          },
          "metadata": {}
        }
      ]
    },
    {
      "cell_type": "code",
      "metadata": {
        "id": "zdQBaZZcQ_Sa",
        "colab": {
          "base_uri": "https://localhost:8080/"
        },
        "outputId": "6d73ae4d-acaa-44e7-a0cf-f4d367cce8e9"
      },
      "source": [
        "text = \"I enjoy walking with my cute dog\"\n",
        "\n",
        "# Tokenize the input string\n",
        "input = tokenizer.encode(text, return_tensors=\"pt\")\n",
        "\n",
        "# Run the model\n",
        "output = model.generate(input, max_length=50, do_sample=False)\n",
        "\n",
        "# Print the output\n",
        "print('\\n',tokenizer.decode(output[0]))"
      ],
      "execution_count": 3,
      "outputs": [
        {
          "output_type": "stream",
          "name": "stdout",
          "text": [
            "\n",
            " I enjoy walking with my cute dog, but I'm not sure if I'll ever be able to walk with my dog. I'm not sure if I'll ever be able to walk with my dog.\n",
            "\n",
            "I'm not sure if I'll\n"
          ]
        }
      ]
    },
    {
      "cell_type": "code",
      "metadata": {
        "id": "m8m1rK3gNNW4",
        "colab": {
          "base_uri": "https://localhost:8080/"
        },
        "outputId": "ce5dcbbf-f519-453b-d60a-5cc64722075e"
      },
      "source": [
        "# Print the token ides (of the input and output)\n",
        "output"
      ],
      "execution_count": null,
      "outputs": [
        {
          "output_type": "execute_result",
          "data": {
            "text/plain": [
              "tensor([[18217,  4749, 19272,     1,   290]])"
            ]
          },
          "metadata": {},
          "execution_count": 7
        }
      ]
    },
    {
      "cell_type": "markdown",
      "metadata": {
        "id": "tProbSeTJATA"
      },
      "source": [
        "## From words to vectors and back"
      ]
    },
    {
      "cell_type": "code",
      "metadata": {
        "id": "Dy2Pjd--ROa5",
        "colab": {
          "base_uri": "https://localhost:8080/"
        },
        "outputId": "7c38b2f4-df44-42b1-9c0b-fd4a01052d60"
      },
      "source": [
        "# Print the input token ids\n",
        "text = \"The color of a banana is\"\n",
        "input = tokenizer(text, return_tensors=\"pt\")['input_ids']\n",
        "input"
      ],
      "execution_count": null,
      "outputs": [
        {
          "output_type": "execute_result",
          "data": {
            "text/plain": [
              "tensor([[  464,  3124,   286,   257, 25996,   318]])"
            ]
          },
          "metadata": {},
          "execution_count": 38
        }
      ]
    },
    {
      "cell_type": "code",
      "metadata": {
        "id": "sTGffdCOJbdo",
        "colab": {
          "base_uri": "https://localhost:8080/"
        },
        "outputId": "40ba6d2b-37e1-451f-d958-156fc7d6afd0"
      },
      "source": [
        "tokenizer.convert_ids_to_tokens(input[0])"
      ],
      "execution_count": null,
      "outputs": [
        {
          "output_type": "execute_result",
          "data": {
            "text/plain": [
              "['The', 'Ġcolor', 'Ġof', 'Ġa', 'Ġbanana', 'Ġis']"
            ]
          },
          "metadata": {},
          "execution_count": 39
        }
      ]
    },
    {
      "cell_type": "markdown",
      "metadata": {
        "id": "4lbn94y0P2UV"
      },
      "source": [
        "## Breathe meaning into numbers (Embedding)"
      ]
    },
    {
      "cell_type": "code",
      "metadata": {
        "id": "5QCFBcxZQIN8",
        "colab": {
          "base_uri": "https://localhost:8080/"
        },
        "outputId": "8bf5ae4d-2d2d-4c33-e25f-c71837cb04e6"
      },
      "source": [
        "# This is the embedding matrix of the model\n",
        "model.transformer.wte # Dimensions are: (Number of tokens in vocabulary, dimension of model)"
      ],
      "execution_count": null,
      "outputs": [
        {
          "output_type": "execute_result",
          "data": {
            "text/plain": [
              "Embedding(50257, 768)"
            ]
          },
          "metadata": {},
          "execution_count": 40
        }
      ]
    },
    {
      "cell_type": "code",
      "source": [
        "import torch"
      ],
      "metadata": {
        "id": "5XmAC1nJzAF3"
      },
      "execution_count": null,
      "outputs": []
    },
    {
      "cell_type": "code",
      "metadata": {
        "id": "0Ah9tc1gP7lX",
        "colab": {
          "base_uri": "https://localhost:8080/"
        },
        "outputId": "3ef72380-d6da-4840-9dea-d9915f5f3988"
      },
      "source": [
        "# Get the embedding vector of token # 464 ('The')\n",
        "model.transformer.wte(torch.tensor(464))"
      ],
      "execution_count": null,
      "outputs": [
        {
          "output_type": "execute_result",
          "data": {
            "text/plain": [
              "tensor([-6.8623e-02, -2.0298e-02,  6.4471e-02, -6.2085e-02, -1.1352e-01,\n",
              "        -6.2337e-02, -2.1719e-01, -2.9746e-02,  3.8659e-03, -1.0428e-02,\n",
              "        -3.7695e-02,  2.6119e-02,  7.6351e-02, -3.0347e-02,  1.0757e-01,\n",
              "        -1.8893e-02,  5.6020e-02,  5.1582e-02, -2.4212e-02,  1.3702e-01,\n",
              "        -4.6440e-02,  2.9035e-02, -5.2729e-02,  3.9311e-02, -5.7571e-03,\n",
              "        -3.4328e-02,  5.1317e-02, -2.7329e-02, -6.9629e-02,  1.7323e-02,\n",
              "        -3.6435e-02, -5.7844e-02, -5.8048e-02,  6.3479e-02, -4.3887e-02,\n",
              "        -3.6068e-02, -3.1934e-01,  7.1641e-02,  8.3253e-02, -2.7106e-02,\n",
              "         1.1349e-01, -8.6667e-02, -8.2599e-02, -6.6505e-02,  5.5040e-02,\n",
              "        -5.3986e-03,  1.3219e-02,  2.9831e-02,  6.5156e-02, -1.6650e-01,\n",
              "        -7.9967e-03,  3.0170e-02,  2.6669e-02,  7.5700e-02,  6.9849e-02,\n",
              "        -3.6223e-01, -4.4599e-02, -3.8639e-03, -1.1880e-02, -4.6784e-03,\n",
              "        -4.1325e-02, -3.8791e-02,  3.1904e-02, -2.1479e-02, -2.5077e-01,\n",
              "         1.7805e-02,  3.9195e-04, -3.6580e-02,  3.1057e-01,  8.5691e-02,\n",
              "         5.2127e-02,  8.8148e-02, -1.2688e-02,  6.7151e-02,  3.9102e-02,\n",
              "        -1.8991e-02, -3.3124e-02,  7.5523e-02, -5.7182e-02, -1.2219e-02,\n",
              "         7.8838e-02, -3.9990e-02,  6.7676e-02, -3.9604e-02,  4.3249e-01,\n",
              "        -8.3409e-02, -9.9149e-02, -3.0409e-01,  1.4615e-02, -1.8213e-02,\n",
              "        -4.0038e-02,  5.4154e-02, -7.7422e-02, -5.4353e-02,  7.1394e-02,\n",
              "         1.2841e-02,  1.2403e-02, -5.2010e-02,  5.0751e-02, -1.3468e-02,\n",
              "         9.1175e-02,  6.9685e-02, -7.4078e-02, -9.0596e-02, -5.9712e-02,\n",
              "        -5.4079e-02, -8.1770e-03, -1.2328e-01,  1.0959e-01, -2.2000e-02,\n",
              "        -2.3921e-02, -3.3662e-02, -5.2786e-02,  3.7965e-02, -3.2126e-02,\n",
              "         7.3098e-02,  1.3784e-01,  8.3682e-02,  8.3727e-02,  3.6698e-02,\n",
              "        -2.5932e-02,  3.8583e-02, -8.0940e-02, -2.8355e-02, -1.0381e-01,\n",
              "         8.4719e-02, -7.1032e-02, -3.7496e-02,  8.7221e-02, -1.4440e-02,\n",
              "         7.5941e-03, -5.7708e-02,  5.9355e-02,  1.5381e-01, -2.2144e-02,\n",
              "        -9.3865e-03, -3.3302e-02, -5.5412e-02,  5.3663e-01, -2.9427e-02,\n",
              "         5.6950e-02, -2.2298e-03,  8.0769e-02, -2.4722e-02,  2.7351e-02,\n",
              "        -1.5227e-01, -1.2192e-02, -2.2232e-02, -1.3494e-02,  5.1397e-02,\n",
              "         7.5633e-02,  1.7697e-02,  1.8230e-03, -1.2640e-01, -4.6218e-02,\n",
              "         9.1976e-02,  2.2707e-02, -8.5128e-02, -1.1685e-01, -2.3987e-01,\n",
              "        -4.2199e-02,  1.3321e-02, -1.0609e-01,  3.3384e-04,  4.0123e-02,\n",
              "         1.1095e-02, -1.2048e-01,  2.2850e-01,  9.5713e-03,  1.9392e-01,\n",
              "         5.9709e-02,  2.9227e-02, -5.9409e-02, -2.5859e-02,  1.1393e-01,\n",
              "         6.6367e-02,  2.5739e-01, -7.1607e-03,  4.4437e-02,  1.3672e-01,\n",
              "         3.0585e-02, -1.0525e-01,  5.6398e-02, -3.0458e-03,  9.5603e-02,\n",
              "         1.1153e-02, -1.0837e-01,  2.2595e-02, -2.6511e-02, -1.4412e-01,\n",
              "         3.9433e-02,  1.5725e-01, -3.1897e-03,  7.8058e-02, -1.5057e-01,\n",
              "         1.4287e-01,  3.5997e-02,  5.0074e-02, -6.9834e-02,  1.8372e-01,\n",
              "         1.6719e-02, -7.5166e-02, -5.0027e-02, -2.0925e-02,  8.4664e-02,\n",
              "         2.8955e-02, -9.3399e-04,  3.2629e-02,  1.0379e-01,  1.7241e-02,\n",
              "         9.7887e-02, -2.7289e-02, -8.5361e-03, -9.7566e-02,  7.5390e-02,\n",
              "        -8.5514e-03, -7.9879e-03,  3.5284e-02,  2.8483e-02, -6.2973e-02,\n",
              "         8.0845e-02, -9.8044e-03, -6.6752e-02, -1.0800e-02, -4.6213e-02,\n",
              "        -4.3827e-02, -5.1229e-02, -6.9385e-02,  5.2109e-02, -6.2518e-02,\n",
              "         7.1093e-02,  7.1432e-02, -2.4900e-01,  5.6524e-02, -1.0207e-01,\n",
              "        -5.0979e-03, -1.3468e-02, -7.9800e-02, -7.6763e-03,  2.1757e-02,\n",
              "         7.3696e-02,  1.0675e-02,  5.6905e-02,  1.8220e-02,  3.3063e-02,\n",
              "         1.1026e-02,  6.1885e-02, -3.5092e-02, -8.3738e-03,  8.1704e-02,\n",
              "         2.0942e-01, -2.7992e-02, -8.7287e-02, -5.1256e-02,  5.5008e-03,\n",
              "        -3.6654e-02,  5.4583e-02,  2.6525e-02,  9.3224e-02,  4.4550e-02,\n",
              "         2.8544e-02,  8.3506e-02,  5.0505e-02,  9.4504e-02,  1.5159e-02,\n",
              "        -7.4597e-02, -3.1129e-01,  1.3248e-02,  5.8856e-02, -1.0978e-01,\n",
              "         1.8697e-01, -1.2677e-01, -3.1044e-02, -4.7811e-02,  6.6250e-02,\n",
              "        -8.2474e-02, -4.9182e-02,  5.7829e-02, -3.7314e-02,  4.2414e-02,\n",
              "        -1.1988e-02, -2.7357e-02, -1.5783e-01, -4.5227e-03, -1.5965e-01,\n",
              "         3.8501e-02,  1.4284e-02, -5.5888e-02, -2.9892e-01,  7.5767e-02,\n",
              "        -4.2235e-02, -4.1510e-02,  9.5492e-02,  1.1993e-01, -2.3974e-02,\n",
              "        -3.2585e-02,  1.0763e-01,  5.0481e-02,  2.6213e-02,  1.2931e-01,\n",
              "        -2.7998e-02, -7.5261e-02, -3.9069e-02, -3.6490e-02,  4.9251e-02,\n",
              "         4.0798e-02,  1.0221e-02, -6.2340e-02,  2.2508e-01, -2.0782e-02,\n",
              "        -9.5293e-02,  1.5777e-01, -2.8973e-02, -8.7060e-04,  1.9482e-01,\n",
              "         3.9530e-02,  3.2790e-02, -9.1000e-02, -6.0614e-03, -1.6563e-01,\n",
              "         2.7631e-01, -2.2333e-02, -4.4973e-02,  1.4872e-02, -8.3736e-02,\n",
              "        -9.6046e-02, -3.2903e-01,  1.1410e-01, -4.8723e-02,  8.5375e-02,\n",
              "         6.1981e-02, -9.1619e-02, -3.6726e-03,  1.3806e-01,  1.1346e-02,\n",
              "         8.7848e-02,  7.0723e-02, -3.8127e-02, -5.5665e-02,  5.3429e-02,\n",
              "        -9.7221e-02,  5.0395e-02, -1.6990e-02, -4.3170e-02,  6.1871e-02,\n",
              "         2.0697e-02, -1.7618e-02,  4.4657e-02, -3.9086e-02, -3.5658e-02,\n",
              "        -3.7767e-02, -5.4346e-02, -1.3828e-01, -3.0423e-02, -9.3058e-02,\n",
              "         1.6022e-02,  5.9549e-03,  6.7625e-04, -5.7713e-02, -6.0492e-02,\n",
              "         8.0854e-02,  4.5121e-02, -5.4455e-01, -6.3216e-02, -6.9382e-02,\n",
              "         1.6146e-01,  1.3726e-02, -1.1470e-01,  2.7300e-02,  9.6292e-02,\n",
              "         8.6430e-02, -9.1408e-03, -5.3793e-03, -2.2404e-01,  1.8158e-01,\n",
              "         1.8222e-01, -2.0186e-02, -1.7900e-01, -3.9642e-03,  8.4399e-02,\n",
              "        -6.0925e-02, -1.2093e-01,  9.7358e-02, -9.7810e-02, -6.6952e-02,\n",
              "         9.2599e-02, -1.7816e-02,  5.8219e-02,  1.1547e-02,  4.0436e-02,\n",
              "         3.1962e-02, -3.7395e-02,  3.4956e-03, -2.1982e-01, -8.5091e-02,\n",
              "        -1.1133e-01,  7.9099e-02, -1.2469e-02,  9.7907e-02, -2.6678e-02,\n",
              "        -1.6152e-02,  4.9015e-02, -1.3875e-01, -3.5737e-02, -1.0128e-01,\n",
              "        -6.9699e-03, -1.0235e-01,  2.2091e-02, -3.5263e-01,  1.2751e-02,\n",
              "        -5.4153e-02, -8.7271e-02, -6.6799e-02, -1.4101e-02, -2.1927e-02,\n",
              "         4.5046e-05,  1.4770e-02,  9.2689e-02, -3.1419e-02, -8.2330e-03,\n",
              "         1.2226e-01,  1.6819e-02,  1.7709e-02,  5.9228e-02,  6.2671e-02,\n",
              "         2.8481e-02,  3.6947e-02, -6.5439e-02,  1.0527e-01, -8.7753e-02,\n",
              "        -2.5488e-01, -1.1735e-02,  1.1536e-01,  6.6443e-02,  1.6965e-02,\n",
              "        -4.8247e-02, -7.7858e-02,  4.2994e-03, -5.9020e-03, -1.2805e-01,\n",
              "        -5.8226e-02,  7.1960e-02, -1.4922e-01, -1.4378e-02,  8.1912e-03,\n",
              "        -7.9814e-02, -5.7430e-02,  2.5859e-01, -9.2741e-02, -6.8970e-03,\n",
              "         4.7301e-02, -4.7942e-02,  1.3333e-01,  1.2348e-01, -1.6985e-02,\n",
              "        -1.9947e-01,  1.3055e-01,  4.3836e-02, -1.0345e-01, -6.7170e-02,\n",
              "        -3.8792e-02, -4.2493e-02, -1.7248e-01,  3.5890e-02, -3.5882e-02,\n",
              "         9.9559e-02, -4.5369e-02,  4.6728e-02, -8.8564e-02,  1.2271e-02,\n",
              "        -3.4453e-02, -1.1843e-01,  1.4566e-01, -2.6659e-02,  1.8046e-02,\n",
              "        -2.6372e-02, -6.5194e-03,  5.7131e-02,  1.9295e-02,  2.6999e-01,\n",
              "        -3.5369e-01,  1.9706e-01,  3.2585e-02, -8.3133e-02, -1.4522e-02,\n",
              "        -1.0844e-02, -7.2937e-02,  7.0416e-02, -8.3407e-02,  2.1396e-02,\n",
              "        -1.2204e-02, -1.9528e-02,  3.9638e-03, -9.5943e-02,  3.3142e-02,\n",
              "        -1.1011e-01, -2.0557e-01,  1.7718e-01, -1.0297e-01, -1.7627e-01,\n",
              "         1.5115e-02,  1.1126e-01, -1.4759e-02,  1.6274e-01,  3.1574e-03,\n",
              "        -6.0239e-02, -2.8132e-02, -8.2605e-02,  1.0455e-02,  5.8391e-02,\n",
              "        -6.3920e-02,  1.0415e-01, -1.1998e-01, -2.8077e-03, -9.7362e-02,\n",
              "         7.3987e-02,  4.0261e-02, -6.1468e-02, -1.0228e-02,  6.8496e-03,\n",
              "        -1.0525e-01,  1.2095e-02,  4.4526e-02, -1.4158e-02, -6.2217e-02,\n",
              "        -3.9947e-02,  1.0824e-01,  2.5061e-01, -1.9184e-03, -5.5988e-02,\n",
              "         1.0759e-02,  1.5964e-02, -6.0067e-03,  9.7758e-02, -8.1894e-02,\n",
              "         1.1468e-02,  6.1651e-02, -5.3640e-02,  6.4687e-02,  5.4925e-02,\n",
              "        -7.0676e-02, -2.3409e-02, -8.2736e-02,  1.8677e-01,  5.6741e-02,\n",
              "        -4.2102e-02,  5.5771e-02, -7.7479e-03,  1.3047e-01,  3.0384e-01,\n",
              "        -4.4662e-02, -5.4083e-02,  7.5437e-03, -7.1916e-02,  1.9964e-01,\n",
              "        -2.7786e-02,  6.4183e-02,  1.2484e-01,  4.1424e-02,  1.4046e-01,\n",
              "        -6.0994e-02, -1.4448e-02, -8.5318e-02,  6.3510e-02, -3.5658e-02,\n",
              "        -1.0346e-01, -2.4517e-01,  1.4069e-02, -7.5778e-02, -3.5590e-02,\n",
              "        -1.2460e-01, -3.8891e-02, -1.4101e-02,  1.7555e-03, -5.3986e-02,\n",
              "        -7.4797e-02,  5.1904e-02, -1.1347e-02,  7.6741e-02, -8.7628e-03,\n",
              "        -6.9234e-02, -3.9281e-02,  1.2030e-02,  4.0003e-02, -4.8938e-02,\n",
              "        -2.0397e-02,  2.3274e-02,  2.8417e-02, -1.6330e-01,  1.1484e-01,\n",
              "        -5.2743e-02,  1.9032e-02, -2.8329e-03, -1.1654e-01, -1.5054e-01,\n",
              "        -1.2640e-02, -3.0154e-02, -3.0062e-03, -5.6200e-02,  1.1100e-02,\n",
              "         5.9378e-02, -4.2049e-02,  8.7224e-03,  1.3278e-02, -5.2205e-02,\n",
              "         2.6244e-02, -4.5364e-03,  8.1712e-02, -4.3524e-01, -3.5882e-03,\n",
              "        -3.9271e-02, -1.2046e-01,  7.4448e-02, -1.6054e-02,  4.1478e-02,\n",
              "         1.4192e-01, -2.3133e-01, -7.8764e-02,  1.4757e-01,  1.2099e-01,\n",
              "        -7.0634e-02, -2.1229e-02,  1.2877e-02,  2.9398e-03,  1.1511e-01,\n",
              "        -7.6628e-03,  8.6307e-04,  2.3780e-01, -1.0911e-01, -1.7745e-02,\n",
              "         2.2428e-02,  2.9291e-02,  6.6936e-03, -4.6183e-02, -3.4366e-02,\n",
              "         2.7242e-01,  1.5686e-01,  6.7790e-02,  4.5202e-02,  1.2756e-02,\n",
              "         8.8182e-03,  3.0541e-02, -5.4251e-02,  1.1707e-01,  1.0449e-02,\n",
              "         5.0182e-03,  9.0916e-02, -4.6453e-02, -3.9931e-02,  2.0090e-01,\n",
              "         6.3877e-02,  3.4473e-02,  7.7861e-02, -1.2660e-01, -8.7285e-02,\n",
              "        -9.5530e-02, -4.0998e-02, -2.9295e-02, -3.6855e-02, -3.5279e-01,\n",
              "         6.0732e-02,  7.1494e-02,  6.1172e-02, -5.5992e-02, -1.5505e-02,\n",
              "        -9.2628e-02, -5.3572e-02,  1.5966e-01, -9.4414e-02,  1.1122e-01,\n",
              "         1.0230e-01,  6.4257e-02, -1.0767e-01,  6.0961e-02, -2.4280e-02,\n",
              "         4.1139e-02, -1.5104e-02,  3.8341e-02, -1.2828e-01, -1.6542e-01,\n",
              "         5.8027e-02,  7.7647e-02, -3.6363e-02,  3.5008e-02,  4.8162e-02,\n",
              "        -1.7573e-02,  3.3993e-02, -1.0944e-02,  2.5501e-02, -8.1542e-03,\n",
              "         8.1330e-02, -7.4768e-02,  4.2958e-02,  1.0102e-01, -1.7638e-02,\n",
              "        -7.3250e-02, -2.3258e-02,  1.5137e-01, -1.2835e-01, -2.7155e-02,\n",
              "        -2.1799e-01, -1.6098e-01, -1.4341e-02,  1.4626e-01,  7.6781e-02,\n",
              "        -1.0024e-02,  1.9365e-01,  3.5521e-02,  1.5186e-02,  1.9112e-01,\n",
              "         2.2647e-02,  1.0570e-01,  9.8456e-03,  4.6359e-02,  1.8763e-03,\n",
              "        -8.5401e-02, -1.3681e-01,  2.2138e-02, -2.4676e-01,  1.5585e-02,\n",
              "        -3.3058e-02,  2.0962e-01,  6.2404e-02, -3.1010e-02, -7.3799e-02,\n",
              "         4.8273e-02, -3.2844e-02, -2.1845e-02,  1.7501e-01,  8.8452e-02,\n",
              "         9.2482e-03, -4.1900e-02, -3.3067e-02, -5.8463e-02, -8.6264e-03,\n",
              "         8.9541e-02,  2.2904e-02,  8.9761e-03, -8.5463e-02,  2.8644e-01,\n",
              "        -7.6531e-02,  1.2720e-01, -5.3904e-03,  9.7327e-02, -3.4813e-02,\n",
              "         1.9377e-01,  1.0384e-01,  2.2839e-02, -4.0272e-02, -5.4077e-02,\n",
              "        -2.6941e-02,  6.8492e-02,  8.4235e-02, -1.6474e-02,  2.4507e-03,\n",
              "         4.8518e-02, -8.0034e-02, -1.3903e-02, -6.8680e-02,  6.7671e-02,\n",
              "         3.1066e-02, -4.8812e-02, -1.7725e-01,  2.1187e-02,  6.5497e-02,\n",
              "         6.3887e-02, -9.9875e-03,  3.1070e-03], grad_fn=<EmbeddingBackward0>)"
            ]
          },
          "metadata": {},
          "execution_count": 41
        }
      ]
    },
    {
      "cell_type": "code",
      "metadata": {
        "id": "ZT5lmGVK60mJ",
        "colab": {
          "base_uri": "https://localhost:8080/"
        },
        "outputId": "48e1f862-5f64-40f5-907b-c4e3a696016c"
      },
      "source": [
        "text = \"Describe the best way to come to Avans Breda from Amsterdam\"\n",
        "# Tokenize the input string\n",
        "input = tokenizer.encode(text, return_tensors=\"pt\")\n",
        "\n",
        "\n",
        "# activate beam search and early_stopping\n",
        "beam_output = model.generate(\n",
        "    input,  \n",
        "    max_length=100, \n",
        "    num_beams=5, \n",
        "    no_repeat_ngram_size=2,\n",
        "    early_stopping=True\n",
        ")\n",
        "\n",
        "# Run the model\n",
        "print(\"Output:\\n\" + 100 * '-')\n",
        "print(tokenizer.decode(beam_output[0], skip_special_tokens=True))"
      ],
      "execution_count": 10,
      "outputs": [
        {
          "output_type": "stream",
          "name": "stdout",
          "text": [
            "Output:\n",
            "----------------------------------------------------------------------------------------------------\n",
            "Describe the best way to come to Avans Breda from Amsterdam.\n",
            "\n",
            "\"I've always wanted to go to Amsterdam, but I didn't know how to get there. I had no idea what I was going to be doing, so I decided to stay in Amsterdam for a while. It was a great experience, and I'm really glad I did it.\"\n"
          ]
        }
      ]
    },
    {
      "cell_type": "code",
      "metadata": {
        "id": "BstYQU6NkkDA"
      },
      "source": [],
      "execution_count": null,
      "outputs": []
    }
  ]
}